{
  "nbformat": 4,
  "nbformat_minor": 0,
  "metadata": {
    "colab": {
      "name": "graph_is_all_you_need_updated.ipynb",
      "provenance": [],
      "collapsed_sections": [
        "4b2_uNIPrYJV"
      ],
      "toc_visible": true
    },
    "kernelspec": {
      "name": "python3",
      "display_name": "Python 3"
    }
  },
  "cells": [
    {
      "cell_type": "markdown",
      "metadata": {
        "id": "AV_znZdXmPEM"
      },
      "source": [
        "Author    : Erkhembayar J.\n",
        "\n",
        "Purpose   : Advanced Training for AI Drug Discovery (Educational Purpose)\n",
        "\n",
        "Link      : \n",
        "\n",
        "<u>**Contents**</u>\n",
        "- Building Graph from stratch\n",
        "- Compound Representation to Graph\n",
        "\n",
        "Korea AI Center for Drug Discovery and Development (KAICD) 2020\n",
        "\n",
        "---\n",
        "\n"
      ]
    },
    {
      "cell_type": "markdown",
      "metadata": {
        "id": "eYepfdronlF6"
      },
      "source": [
        "# **Coding Session Environment Setting**\n",
        "## Libraries used in coding session\n",
        "* networkx, dgl - graph library\n",
        "* rdkit - library for chemistry\n",
        "* dgllife - graph library for chemistry and biology"
      ]
    },
    {
      "cell_type": "markdown",
      "metadata": {
        "id": "ITmrcg7TrwfH"
      },
      "source": [
        "## Graph Library Installation"
      ]
    },
    {
      "cell_type": "code",
      "metadata": {
        "colab": {
          "base_uri": "https://localhost:8080/"
        },
        "id": "jNVSJkbYmVg8",
        "outputId": "1f37d4f9-6047-4326-e64a-300030b015ca"
      },
      "source": [
        "!pip install networkx nx_altair dgl dgllife"
      ],
      "execution_count": 2,
      "outputs": [
        {
          "output_type": "stream",
          "text": [
            "Requirement already satisfied: networkx in /usr/local/lib/python3.6/dist-packages (2.5)\n",
            "Collecting nx_altair\n",
            "  Downloading https://files.pythonhosted.org/packages/61/01/6436e91bc44d0e65a40f46e99535def7ac02cabe34e7685c52b3e1f94e31/nx_altair-0.1.6-py3-none-any.whl\n",
            "Collecting dgl\n",
            "\u001b[?25l  Downloading https://files.pythonhosted.org/packages/4d/05/9627fd225854f9ab77984f79405e78def50eb673a962940ed30fc07e9ac6/dgl-0.5.2-cp36-cp36m-manylinux1_x86_64.whl (3.5MB)\n",
            "\u001b[K     |████████████████████████████████| 3.5MB 5.9MB/s \n",
            "\u001b[?25hCollecting dgllife\n",
            "\u001b[?25l  Downloading https://files.pythonhosted.org/packages/89/f3/04509470ce7fad6d647c8b41ffff8984b7691260eb78b305997104b09ebc/dgllife-0.2.6.tar.gz (130kB)\n",
            "\u001b[K     |████████████████████████████████| 133kB 43.2MB/s \n",
            "\u001b[?25hRequirement already satisfied: decorator>=4.3.0 in /usr/local/lib/python3.6/dist-packages (from networkx) (4.4.2)\n",
            "Requirement already satisfied: pandas in /usr/local/lib/python3.6/dist-packages (from nx_altair) (1.1.4)\n",
            "Requirement already satisfied: altair in /usr/local/lib/python3.6/dist-packages (from nx_altair) (4.1.0)\n",
            "Requirement already satisfied: requests>=2.19.0 in /usr/local/lib/python3.6/dist-packages (from dgl) (2.23.0)\n",
            "Requirement already satisfied: scipy>=1.1.0 in /usr/local/lib/python3.6/dist-packages (from dgl) (1.4.1)\n",
            "Requirement already satisfied: numpy>=1.14.0 in /usr/local/lib/python3.6/dist-packages (from dgl) (1.18.5)\n",
            "Requirement already satisfied: scikit-learn>=0.22.2 in /usr/local/lib/python3.6/dist-packages (from dgllife) (0.22.2.post1)\n",
            "Requirement already satisfied: tqdm in /usr/local/lib/python3.6/dist-packages (from dgllife) (4.41.1)\n",
            "Requirement already satisfied: hyperopt in /usr/local/lib/python3.6/dist-packages (from dgllife) (0.1.2)\n",
            "Requirement already satisfied: joblib in /usr/local/lib/python3.6/dist-packages (from dgllife) (0.17.0)\n",
            "Requirement already satisfied: pytz>=2017.2 in /usr/local/lib/python3.6/dist-packages (from pandas->nx_altair) (2018.9)\n",
            "Requirement already satisfied: python-dateutil>=2.7.3 in /usr/local/lib/python3.6/dist-packages (from pandas->nx_altair) (2.8.1)\n",
            "Requirement already satisfied: jinja2 in /usr/local/lib/python3.6/dist-packages (from altair->nx_altair) (2.11.2)\n",
            "Requirement already satisfied: toolz in /usr/local/lib/python3.6/dist-packages (from altair->nx_altair) (0.11.1)\n",
            "Requirement already satisfied: jsonschema in /usr/local/lib/python3.6/dist-packages (from altair->nx_altair) (2.6.0)\n",
            "Requirement already satisfied: entrypoints in /usr/local/lib/python3.6/dist-packages (from altair->nx_altair) (0.3)\n",
            "Requirement already satisfied: idna<3,>=2.5 in /usr/local/lib/python3.6/dist-packages (from requests>=2.19.0->dgl) (2.10)\n",
            "Requirement already satisfied: certifi>=2017.4.17 in /usr/local/lib/python3.6/dist-packages (from requests>=2.19.0->dgl) (2020.11.8)\n",
            "Requirement already satisfied: chardet<4,>=3.0.2 in /usr/local/lib/python3.6/dist-packages (from requests>=2.19.0->dgl) (3.0.4)\n",
            "Requirement already satisfied: urllib3!=1.25.0,!=1.25.1,<1.26,>=1.21.1 in /usr/local/lib/python3.6/dist-packages (from requests>=2.19.0->dgl) (1.24.3)\n",
            "Requirement already satisfied: six in /usr/local/lib/python3.6/dist-packages (from hyperopt->dgllife) (1.15.0)\n",
            "Requirement already satisfied: future in /usr/local/lib/python3.6/dist-packages (from hyperopt->dgllife) (0.16.0)\n",
            "Requirement already satisfied: pymongo in /usr/local/lib/python3.6/dist-packages (from hyperopt->dgllife) (3.11.1)\n",
            "Requirement already satisfied: MarkupSafe>=0.23 in /usr/local/lib/python3.6/dist-packages (from jinja2->altair->nx_altair) (1.1.1)\n",
            "Building wheels for collected packages: dgllife\n",
            "  Building wheel for dgllife (setup.py) ... \u001b[?25l\u001b[?25hdone\n",
            "  Created wheel for dgllife: filename=dgllife-0.2.6-cp36-none-any.whl size=205837 sha256=033ff25a69f10e9b37bdbbe8084e37d019ede3d120d7028f0a78a2a07649e22d\n",
            "  Stored in directory: /root/.cache/pip/wheels/cf/29/39/54bbf37c8999f605d347805d4dec838e9ca8a894c90b119600\n",
            "Successfully built dgllife\n",
            "Installing collected packages: nx-altair, dgl, dgllife\n",
            "Successfully installed dgl-0.5.2 dgllife-0.2.6 nx-altair-0.1.6\n"
          ],
          "name": "stdout"
        }
      ]
    },
    {
      "cell_type": "markdown",
      "metadata": {
        "id": "4b2_uNIPrYJV"
      },
      "source": [
        "## Miniconda and RDKIT installation"
      ]
    },
    {
      "cell_type": "code",
      "metadata": {
        "colab": {
          "base_uri": "https://localhost:8080/"
        },
        "id": "CEdE9eXTrYjt",
        "outputId": "5fd00b4b-d4f2-4fa3-c321-07410bdc490d"
      },
      "source": [
        "%%bash\n",
        "MINICONDA_INSTALLER_SCRIPT=Miniconda3-latest-Linux-x86_64.sh\n",
        "MINICONDA_PREFIX=/usr/local\n",
        "wget https://repo.continuum.io/miniconda/$MINICONDA_INSTALLER_SCRIPT\n",
        "chmod +x $MINICONDA_INSTALLER_SCRIPT\n",
        "./$MINICONDA_INSTALLER_SCRIPT -b -f -p $MINICONDA_PREFIX\n",
        "\n",
        "conda install -q -y --channel defaults conda python=3.7\n",
        "conda update -q -y --channel defaults --all --yes\n",
        "conda install -q -y -c conda-forge rdkit"
      ],
      "execution_count": 4,
      "outputs": [
        {
          "output_type": "stream",
          "text": [
            "PREFIX=/usr/local\n",
            "Unpacking payload ...\n",
            "Collecting package metadata (current_repodata.json): ...working... done\n",
            "Solving environment: ...working... failed with initial frozen solve. Retrying with flexible solve.\n",
            "Solving environment: ...working... failed with repodata from current_repodata.json, will retry with next repodata source.\n",
            "Collecting package metadata (repodata.json): ...working... done\n",
            "Solving environment: ...working... failed with initial frozen solve. Retrying with flexible solve.\n",
            "Solving environment: ...working... \n",
            "Found conflicts! Looking for incompatible packages.\n",
            "This can take several minutes.  Press CTRL-C to abort.\n",
            "failed\n",
            "Collecting package metadata (current_repodata.json): ...working... done\n",
            "Solving environment: ...working... done\n",
            "\n",
            "## Package Plan ##\n",
            "\n",
            "  environment location: /usr/local\n",
            "\n",
            "  added / updated specs:\n",
            "    - conda\n",
            "    - python=3.7\n",
            "\n",
            "\n",
            "The following packages will be SUPERSEDED by a higher-priority channel:\n",
            "\n",
            "  ca-certificates    conda-forge::ca-certificates-2020.11.~ --> pkgs/main::ca-certificates-2020.10.14-0\n",
            "  certifi            conda-forge::certifi-2020.11.8-py37h8~ --> pkgs/main::certifi-2020.11.8-py37h06a4308_0\n",
            "  conda              conda-forge::conda-4.9.2-py37h89c1867~ --> pkgs/main::conda-4.9.2-py37h06a4308_0\n",
            "  openssl            conda-forge::openssl-1.1.1h-h516909a_0 --> pkgs/main::openssl-1.1.1h-h7b6447c_0\n",
            "\n",
            "\n",
            "Preparing transaction: ...working... done\n",
            "Verifying transaction: ...working... done\n",
            "Executing transaction: ...working... done\n",
            "Collecting package metadata (current_repodata.json): ...working... done\n",
            "Solving environment: ...working... done\n",
            "\n",
            "## Package Plan ##\n",
            "\n",
            "  environment location: /usr/local\n",
            "\n",
            "\n",
            "The following packages will be REMOVED:\n",
            "\n",
            "  boost-1.74.0-py37he5a615d_2\n",
            "  boost-cpp-1.74.0-h9359b55_0\n",
            "  bzip2-1.0.8-h516909a_3\n",
            "  cairo-1.16.0-h3fc0475_1005\n",
            "  fontconfig-2.13.1-h7e3eb15_1002\n",
            "  freetype-2.10.4-h7ca028e_0\n",
            "  glib-2.66.1-h92f7085_0\n",
            "  icu-67.1-he1b5a44_0\n",
            "  jpeg-9d-h36c2ea0_0\n",
            "  lcms2-2.11-hcbb858e_1\n",
            "  libblas-3.9.0-3_openblas\n",
            "  libcblas-3.9.0-3_openblas\n",
            "  libgfortran-ng-7.5.0-hae1eefd_17\n",
            "  libgfortran4-7.5.0-hae1eefd_17\n",
            "  libiconv-1.16-h516909a_0\n",
            "  liblapack-3.9.0-3_openblas\n",
            "  libopenblas-0.3.12-pthreads_hb3c22a3_1\n",
            "  libpng-1.6.37-h21135ba_2\n",
            "  libtiff-4.1.0-h4f3a223_6\n",
            "  libuuid-2.32.1-h14c3975_1000\n",
            "  libwebp-base-1.1.0-h36c2ea0_3\n",
            "  libxcb-1.13-h14c3975_1002\n",
            "  libxml2-2.9.10-h68273f3_2\n",
            "  lz4-c-1.9.2-he1b5a44_3\n",
            "  numpy-1.19.4-py37h7e9df27_1\n",
            "  olefile-0.46-pyh9f0ad1d_1\n",
            "  pandas-1.1.4-py37h10a2094_0\n",
            "  pcre-8.44-he1b5a44_0\n",
            "  pillow-8.0.1-py37h63a5d19_0\n",
            "  pixman-0.38.0-h516909a_1003\n",
            "  pthread-stubs-0.4-h36c2ea0_1001\n",
            "  pycairo-1.20.0-py37h01af8b0_1\n",
            "  python-dateutil-2.8.1-py_0\n",
            "  python_abi-3.7-1_cp37m\n",
            "  pytz-2020.4-pyhd8ed1ab_0\n",
            "  rdkit-2020.09.1-py37h0c252aa_0\n",
            "  xorg-kbproto-1.0.7-h14c3975_1002\n",
            "  xorg-libice-1.0.10-h516909a_0\n",
            "  xorg-libsm-1.2.3-h84519dc_1000\n",
            "  xorg-libx11-1.6.12-h516909a_0\n",
            "  xorg-libxau-1.0.9-h14c3975_0\n",
            "  xorg-libxdmcp-1.1.3-h516909a_0\n",
            "  xorg-libxext-1.3.4-h516909a_0\n",
            "  xorg-libxrender-0.9.10-h516909a_1002\n",
            "  xorg-renderproto-0.11.1-h14c3975_1002\n",
            "  xorg-xextproto-7.3.0-h14c3975_1002\n",
            "  xorg-xproto-7.0.31-h14c3975_1007\n",
            "  zstd-1.4.5-h6597ccf_2\n",
            "\n",
            "\n",
            "Preparing transaction: ...working... done\n",
            "Verifying transaction: ...working... done\n",
            "Executing transaction: ...working... done\n",
            "Collecting package metadata (current_repodata.json): ...working... done\n",
            "Solving environment: ...working... done\n",
            "\n",
            "## Package Plan ##\n",
            "\n",
            "  environment location: /usr/local\n",
            "\n",
            "  added / updated specs:\n",
            "    - rdkit\n",
            "\n",
            "\n",
            "The following NEW packages will be INSTALLED:\n",
            "\n",
            "  boost              conda-forge/linux-64::boost-1.74.0-py37he5a615d_2\n",
            "  boost-cpp          conda-forge/linux-64::boost-cpp-1.74.0-h9359b55_0\n",
            "  bzip2              conda-forge/linux-64::bzip2-1.0.8-h516909a_3\n",
            "  cairo              conda-forge/linux-64::cairo-1.16.0-h3fc0475_1005\n",
            "  fontconfig         conda-forge/linux-64::fontconfig-2.13.1-h7e3eb15_1002\n",
            "  freetype           conda-forge/linux-64::freetype-2.10.4-h7ca028e_0\n",
            "  glib               pkgs/main/linux-64::glib-2.66.1-h92f7085_0\n",
            "  icu                conda-forge/linux-64::icu-67.1-he1b5a44_0\n",
            "  jpeg               conda-forge/linux-64::jpeg-9d-h36c2ea0_0\n",
            "  lcms2              conda-forge/linux-64::lcms2-2.11-hcbb858e_1\n",
            "  libblas            conda-forge/linux-64::libblas-3.9.0-3_openblas\n",
            "  libcblas           conda-forge/linux-64::libcblas-3.9.0-3_openblas\n",
            "  libgfortran-ng     conda-forge/linux-64::libgfortran-ng-7.5.0-hae1eefd_17\n",
            "  libgfortran4       conda-forge/linux-64::libgfortran4-7.5.0-hae1eefd_17\n",
            "  libiconv           conda-forge/linux-64::libiconv-1.16-h516909a_0\n",
            "  liblapack          conda-forge/linux-64::liblapack-3.9.0-3_openblas\n",
            "  libopenblas        conda-forge/linux-64::libopenblas-0.3.12-pthreads_hb3c22a3_1\n",
            "  libpng             conda-forge/linux-64::libpng-1.6.37-h21135ba_2\n",
            "  libtiff            conda-forge/linux-64::libtiff-4.1.0-h4f3a223_6\n",
            "  libuuid            conda-forge/linux-64::libuuid-2.32.1-h14c3975_1000\n",
            "  libwebp-base       conda-forge/linux-64::libwebp-base-1.1.0-h36c2ea0_3\n",
            "  libxcb             conda-forge/linux-64::libxcb-1.13-h14c3975_1002\n",
            "  libxml2            conda-forge/linux-64::libxml2-2.9.10-h68273f3_2\n",
            "  lz4-c              conda-forge/linux-64::lz4-c-1.9.2-he1b5a44_3\n",
            "  numpy              conda-forge/linux-64::numpy-1.19.4-py37h7e9df27_1\n",
            "  olefile            conda-forge/noarch::olefile-0.46-pyh9f0ad1d_1\n",
            "  pandas             conda-forge/linux-64::pandas-1.1.4-py37h10a2094_0\n",
            "  pcre               conda-forge/linux-64::pcre-8.44-he1b5a44_0\n",
            "  pillow             conda-forge/linux-64::pillow-8.0.1-py37h63a5d19_0\n",
            "  pixman             conda-forge/linux-64::pixman-0.38.0-h516909a_1003\n",
            "  pthread-stubs      conda-forge/linux-64::pthread-stubs-0.4-h36c2ea0_1001\n",
            "  pycairo            conda-forge/linux-64::pycairo-1.20.0-py37h01af8b0_1\n",
            "  python-dateutil    conda-forge/noarch::python-dateutil-2.8.1-py_0\n",
            "  python_abi         conda-forge/linux-64::python_abi-3.7-1_cp37m\n",
            "  pytz               conda-forge/noarch::pytz-2020.4-pyhd8ed1ab_0\n",
            "  rdkit              conda-forge/linux-64::rdkit-2020.09.1-py37h0c252aa_0\n",
            "  xorg-kbproto       conda-forge/linux-64::xorg-kbproto-1.0.7-h14c3975_1002\n",
            "  xorg-libice        conda-forge/linux-64::xorg-libice-1.0.10-h516909a_0\n",
            "  xorg-libsm         conda-forge/linux-64::xorg-libsm-1.2.3-h84519dc_1000\n",
            "  xorg-libx11        conda-forge/linux-64::xorg-libx11-1.6.12-h516909a_0\n",
            "  xorg-libxau        conda-forge/linux-64::xorg-libxau-1.0.9-h14c3975_0\n",
            "  xorg-libxdmcp      conda-forge/linux-64::xorg-libxdmcp-1.1.3-h516909a_0\n",
            "  xorg-libxext       conda-forge/linux-64::xorg-libxext-1.3.4-h516909a_0\n",
            "  xorg-libxrender    conda-forge/linux-64::xorg-libxrender-0.9.10-h516909a_1002\n",
            "  xorg-renderproto   conda-forge/linux-64::xorg-renderproto-0.11.1-h14c3975_1002\n",
            "  xorg-xextproto     conda-forge/linux-64::xorg-xextproto-7.3.0-h14c3975_1002\n",
            "  xorg-xproto        conda-forge/linux-64::xorg-xproto-7.0.31-h14c3975_1007\n",
            "  zstd               conda-forge/linux-64::zstd-1.4.5-h6597ccf_2\n",
            "\n",
            "The following packages will be UPDATED:\n",
            "\n",
            "  ca-certificates    pkgs/main::ca-certificates-2020.10.14~ --> conda-forge::ca-certificates-2020.11.8-ha878542_0\n",
            "\n",
            "The following packages will be SUPERSEDED by a higher-priority channel:\n",
            "\n",
            "  certifi            pkgs/main::certifi-2020.11.8-py37h06a~ --> conda-forge::certifi-2020.11.8-py37h89c1867_0\n",
            "  conda               pkgs/main::conda-4.9.2-py37h06a4308_0 --> conda-forge::conda-4.9.2-py37h89c1867_0\n",
            "  openssl              pkgs/main::openssl-1.1.1h-h7b6447c_0 --> conda-forge::openssl-1.1.1h-h516909a_0\n",
            "\n",
            "\n",
            "Preparing transaction: ...working... done\n",
            "Verifying transaction: ...working... done\n",
            "Executing transaction: ...working... done\n"
          ],
          "name": "stdout"
        },
        {
          "output_type": "stream",
          "text": [
            "--2020-11-24 01:16:28--  https://repo.continuum.io/miniconda/Miniconda3-latest-Linux-x86_64.sh\n",
            "Resolving repo.continuum.io (repo.continuum.io)... 104.18.200.79, 104.18.201.79, 2606:4700::6812:c84f, ...\n",
            "Connecting to repo.continuum.io (repo.continuum.io)|104.18.200.79|:443... connected.\n",
            "HTTP request sent, awaiting response... 301 Moved Permanently\n",
            "Location: https://repo.anaconda.com/miniconda/Miniconda3-latest-Linux-x86_64.sh [following]\n",
            "--2020-11-24 01:16:28--  https://repo.anaconda.com/miniconda/Miniconda3-latest-Linux-x86_64.sh\n",
            "Resolving repo.anaconda.com (repo.anaconda.com)... 104.16.130.3, 104.16.131.3, 2606:4700::6810:8303, ...\n",
            "Connecting to repo.anaconda.com (repo.anaconda.com)|104.16.130.3|:443... connected.\n",
            "HTTP request sent, awaiting response... 200 OK\n",
            "Length: 94235922 (90M) [application/x-sh]\n",
            "Saving to: ‘Miniconda3-latest-Linux-x86_64.sh.1’\n",
            "\n",
            "     0K .......... .......... .......... .......... ..........  0% 56.0M 2s\n",
            "    50K .......... .......... .......... .......... ..........  0% 7.43M 7s\n",
            "   100K .......... .......... .......... .......... ..........  0% 96.5M 5s\n",
            "   150K .......... .......... .......... .......... ..........  0% 14.6M 5s\n",
            "   200K .......... .......... .......... .......... ..........  0% 13.7M 5s\n",
            "   250K .......... .......... .......... .......... ..........  0%  174M 5s\n",
            "   300K .......... .......... .......... .......... ..........  0%  180M 4s\n",
            "   350K .......... .......... .......... .......... ..........  0% 16.5M 4s\n",
            "   400K .......... .......... .......... .......... ..........  0%  131M 4s\n",
            "   450K .......... .......... .......... .......... ..........  0%  120M 4s\n",
            "   500K .......... .......... .......... .......... ..........  0%  128M 3s\n",
            "   550K .......... .......... .......... .......... ..........  0%  190M 3s\n",
            "   600K .......... .......... .......... .......... ..........  0%  204M 3s\n",
            "   650K .......... .......... .......... .......... ..........  0%  215M 3s\n",
            "   700K .......... .......... .......... .......... ..........  0%  172M 3s\n",
            "   750K .......... .......... .......... .......... ..........  0%  166M 2s\n",
            "   800K .......... .......... .......... .......... ..........  0% 52.6M 2s\n",
            "   850K .......... .......... .......... .......... ..........  0%  150M 2s\n",
            "   900K .......... .......... .......... .......... ..........  1%  136M 2s\n",
            "   950K .......... .......... .......... .......... ..........  1%  130M 2s\n",
            "  1000K .......... .......... .......... .......... ..........  1%  157M 2s\n",
            "  1050K .......... .......... .......... .......... ..........  1%  164M 2s\n",
            "  1100K .......... .......... .......... .......... ..........  1%  149M 2s\n",
            "  1150K .......... .......... .......... .......... ..........  1%  146M 2s\n",
            "  1200K .......... .......... .......... .......... ..........  1%  138M 2s\n",
            "  1250K .......... .......... .......... .......... ..........  1%  158M 2s\n",
            "  1300K .......... .......... .......... .......... ..........  1%  184M 2s\n",
            "  1350K .......... .......... .......... .......... ..........  1%  123M 2s\n",
            "  1400K .......... .......... .......... .......... ..........  1%  118M 2s\n",
            "  1450K .......... .......... .......... .......... ..........  1%  146M 2s\n",
            "  1500K .......... .......... .......... .......... ..........  1%  151M 2s\n",
            "  1550K .......... .......... .......... .......... ..........  1% 93.0M 2s\n",
            "  1600K .......... .......... .......... .......... ..........  1%  145M 1s\n",
            "  1650K .......... .......... .......... .......... ..........  1%  167M 1s\n",
            "  1700K .......... .......... .......... .......... ..........  1%  112M 1s\n",
            "  1750K .......... .......... .......... .......... ..........  1%  138M 1s\n",
            "  1800K .......... .......... .......... .......... ..........  2%  142M 1s\n",
            "  1850K .......... .......... .......... .......... ..........  2%  209M 1s\n",
            "  1900K .......... .......... .......... .......... ..........  2%  127M 1s\n",
            "  1950K .......... .......... .......... .......... ..........  2%  126M 1s\n",
            "  2000K .......... .......... .......... .......... ..........  2%  136M 1s\n",
            "  2050K .......... .......... .......... .......... ..........  2%  131M 1s\n",
            "  2100K .......... .......... .......... .......... ..........  2%  206M 1s\n",
            "  2150K .......... .......... .......... .......... ..........  2%  171M 1s\n",
            "  2200K .......... .......... .......... .......... ..........  2%  202M 1s\n",
            "  2250K .......... .......... .......... .......... ..........  2%  142M 1s\n",
            "  2300K .......... .......... .......... .......... ..........  2%  137M 1s\n",
            "  2350K .......... .......... .......... .......... ..........  2%  124M 1s\n",
            "  2400K .......... .......... .......... .......... ..........  2%  195M 1s\n",
            "  2450K .......... .......... .......... .......... ..........  2%  120M 1s\n",
            "  2500K .......... .......... .......... .......... ..........  2%  136M 1s\n",
            "  2550K .......... .......... .......... .......... ..........  2% 91.7M 1s\n",
            "  2600K .......... .......... .......... .......... ..........  2%  134M 1s\n",
            "  2650K .......... .......... .......... .......... ..........  2%  126M 1s\n",
            "  2700K .......... .......... .......... .......... ..........  2%  125M 1s\n",
            "  2750K .......... .......... .......... .......... ..........  3% 91.5M 1s\n",
            "  2800K .......... .......... .......... .......... ..........  3%  111M 1s\n",
            "  2850K .......... .......... .......... .......... ..........  3%  115M 1s\n",
            "  2900K .......... .......... .......... .......... ..........  3%  139M 1s\n",
            "  2950K .......... .......... .......... .......... ..........  3%  119M 1s\n",
            "  3000K .......... .......... .......... .......... ..........  3%  111M 1s\n",
            "  3050K .......... .......... .......... .......... ..........  3%  152M 1s\n",
            "  3100K .......... .......... .......... .......... ..........  3% 90.8M 1s\n",
            "  3150K .......... .......... .......... .......... ..........  3%  120M 1s\n",
            "  3200K .......... .......... .......... .......... ..........  3%  122M 1s\n",
            "  3250K .......... .......... .......... .......... ..........  3%  176M 1s\n",
            "  3300K .......... .......... .......... .......... ..........  3%  177M 1s\n",
            "  3350K .......... .......... .......... .......... ..........  3%  128M 1s\n",
            "  3400K .......... .......... .......... .......... ..........  3%  186M 1s\n",
            "  3450K .......... .......... .......... .......... ..........  3%  203M 1s\n",
            "  3500K .......... .......... .......... .......... ..........  3% 94.6M 1s\n",
            "  3550K .......... .......... .......... .......... ..........  3%  111M 1s\n",
            "  3600K .......... .......... .......... .......... ..........  3%  126M 1s\n",
            "  3650K .......... .......... .......... .......... ..........  4%  138M 1s\n",
            "  3700K .......... .......... .......... .......... ..........  4% 91.2M 1s\n",
            "  3750K .......... .......... .......... .......... ..........  4%  111M 1s\n",
            "  3800K .......... .......... .......... .......... ..........  4%  137M 1s\n",
            "  3850K .......... .......... .......... .......... ..........  4%  141M 1s\n",
            "  3900K .......... .......... .......... .......... ..........  4%  135M 1s\n",
            "  3950K .......... .......... .......... .......... ..........  4% 92.8M 1s\n",
            "  4000K .......... .......... .......... .......... ..........  4%  114M 1s\n",
            "  4050K .......... .......... .......... .......... ..........  4%  115M 1s\n",
            "  4100K .......... .......... .......... .......... ..........  4%  109M 1s\n",
            "  4150K .......... .......... .......... .......... ..........  4%  149M 1s\n",
            "  4200K .......... .......... .......... .......... ..........  4%  206M 1s\n",
            "  4250K .......... .......... .......... .......... ..........  4%  205M 1s\n",
            "  4300K .......... .......... .......... .......... ..........  4%  192M 1s\n",
            "  4350K .......... .......... .......... .......... ..........  4%  188M 1s\n",
            "  4400K .......... .......... .......... .......... ..........  4%  127M 1s\n",
            "  4450K .......... .......... .......... .......... ..........  4%  119M 1s\n",
            "  4500K .......... .......... .......... .......... ..........  4%  103M 1s\n",
            "  4550K .......... .......... .......... .......... ..........  4%  124M 1s\n",
            "  4600K .......... .......... .......... .......... ..........  5%  136M 1s\n",
            "  4650K .......... .......... .......... .......... ..........  5%  121M 1s\n",
            "  4700K .......... .......... .......... .......... ..........  5%  122M 1s\n",
            "  4750K .......... .......... .......... .......... ..........  5%  178M 1s\n",
            "  4800K .......... .......... .......... .......... ..........  5%  209M 1s\n",
            "  4850K .......... .......... .......... .......... ..........  5%  207M 1s\n",
            "  4900K .......... .......... .......... .......... ..........  5%  195M 1s\n",
            "  4950K .......... .......... .......... .......... ..........  5%  169M 1s\n",
            "  5000K .......... .......... .......... .......... ..........  5%  117M 1s\n",
            "  5050K .......... .......... .......... .......... ..........  5%  138M 1s\n",
            "  5100K .......... .......... .......... .......... ..........  5%  166M 1s\n",
            "  5150K .......... .......... .......... .......... ..........  5%  162M 1s\n",
            "  5200K .......... .......... .......... .......... ..........  5%  168M 1s\n",
            "  5250K .......... .......... .......... .......... ..........  5%  103M 1s\n",
            "  5300K .......... .......... .......... .......... ..........  5%  177M 1s\n",
            "  5350K .......... .......... .......... .......... ..........  5%  158M 1s\n",
            "  5400K .......... .......... .......... .......... ..........  5%  210M 1s\n",
            "  5450K .......... .......... .......... .......... ..........  5%  218M 1s\n",
            "  5500K .......... .......... .......... .......... ..........  6%  207M 1s\n",
            "  5550K .......... .......... .......... .......... ..........  6%  133M 1s\n",
            "  5600K .......... .......... .......... .......... ..........  6%  200M 1s\n",
            "  5650K .......... .......... .......... .......... ..........  6%  200M 1s\n",
            "  5700K .......... .......... .......... .......... ..........  6%  216M 1s\n",
            "  5750K .......... .......... .......... .......... ..........  6%  159M 1s\n",
            "  5800K .......... .......... .......... .......... ..........  6%  160M 1s\n",
            "  5850K .......... .......... .......... .......... ..........  6%  142M 1s\n",
            "  5900K .......... .......... .......... .......... ..........  6%  132M 1s\n",
            "  5950K .......... .......... .......... .......... ..........  6%  109M 1s\n",
            "  6000K .......... .......... .......... .......... ..........  6%  140M 1s\n",
            "  6050K .......... .......... .......... .......... ..........  6%  172M 1s\n",
            "  6100K .......... .......... .......... .......... ..........  6%  210M 1s\n",
            "  6150K .......... .......... .......... .......... ..........  6%  104M 1s\n",
            "  6200K .......... .......... .......... .......... ..........  6%  177M 1s\n",
            "  6250K .......... .......... .......... .......... ..........  6%  191M 1s\n",
            "  6300K .......... .......... .......... .......... ..........  6%  202M 1s\n",
            "  6350K .......... .......... .......... .......... ..........  6%  146M 1s\n",
            "  6400K .......... .......... .......... .......... ..........  7%  145M 1s\n",
            "  6450K .......... .......... .......... .......... ..........  7% 82.3M 1s\n",
            "  6500K .......... .......... .......... .......... ..........  7%  133M 1s\n",
            "  6550K .......... .......... .......... .......... ..........  7%  163M 1s\n",
            "  6600K .......... .......... .......... .......... ..........  7%  138M 1s\n",
            "  6650K .......... .......... .......... .......... ..........  7%  158M 1s\n",
            "  6700K .......... .......... .......... .......... ..........  7%  190M 1s\n",
            "  6750K .......... .......... .......... .......... ..........  7%  166M 1s\n",
            "  6800K .......... .......... .......... .......... ..........  7%  188M 1s\n",
            "  6850K .......... .......... .......... .......... ..........  7%  197M 1s\n",
            "  6900K .......... .......... .......... .......... ..........  7%  193M 1s\n",
            "  6950K .......... .......... .......... .......... ..........  7%  110M 1s\n",
            "  7000K .......... .......... .......... .......... ..........  7%  197M 1s\n",
            "  7050K .......... .......... .......... .......... ..........  7%  180M 1s\n",
            "  7100K .......... .......... .......... .......... ..........  7%  135M 1s\n",
            "  7150K .......... .......... .......... .......... ..........  7%  165M 1s\n",
            "  7200K .......... .......... .......... .......... ..........  7%  152M 1s\n",
            "  7250K .......... .......... .......... .......... ..........  7%  186M 1s\n",
            "  7300K .......... .......... .......... .......... ..........  7%  194M 1s\n",
            "  7350K .......... .......... .......... .......... ..........  8%  168M 1s\n",
            "  7400K .......... .......... .......... .......... ..........  8%  193M 1s\n",
            "  7450K .......... .......... .......... .......... ..........  8%  199M 1s\n",
            "  7500K .......... .......... .......... .......... ..........  8%  197M 1s\n",
            "  7550K .......... .......... .......... .......... ..........  8%  118M 1s\n",
            "  7600K .......... .......... .......... .......... ..........  8%  159M 1s\n",
            "  7650K .......... .......... .......... .......... ..........  8%  127M 1s\n",
            "  7700K .......... .......... .......... .......... ..........  8%  171M 1s\n",
            "  7750K .......... .......... .......... .......... ..........  8% 95.9M 1s\n",
            "  7800K .......... .......... .......... .......... ..........  8%  167M 1s\n",
            "  7850K .......... .......... .......... .......... ..........  8%  200M 1s\n",
            "  7900K .......... .......... .......... .......... ..........  8%  196M 1s\n",
            "  7950K .......... .......... .......... .......... ..........  8%  147M 1s\n",
            "  8000K .......... .......... .......... .......... ..........  8% 96.7M 1s\n",
            "  8050K .......... .......... .......... .......... ..........  8% 81.9M 1s\n",
            "  8100K .......... .......... .......... .......... ..........  8%  203M 1s\n",
            "  8150K .......... .......... .......... .......... ..........  8%  142M 1s\n",
            "  8200K .......... .......... .......... .......... ..........  8%  193M 1s\n",
            "  8250K .......... .......... .......... .......... ..........  9%  117M 1s\n",
            "  8300K .......... .......... .......... .......... ..........  9%  133M 1s\n",
            "  8350K .......... .......... .......... .......... ..........  9%  124M 1s\n",
            "  8400K .......... .......... .......... .......... ..........  9%  145M 1s\n",
            "  8450K .......... .......... .......... .......... ..........  9%  130M 1s\n",
            "  8500K .......... .......... .......... .......... ..........  9%  197M 1s\n",
            "  8550K .......... .......... .......... .......... ..........  9%  142M 1s\n",
            "  8600K .......... .......... .......... .......... ..........  9% 89.6M 1s\n",
            "  8650K .......... .......... .......... .......... ..........  9%  167M 1s\n",
            "  8700K .......... .......... .......... .......... ..........  9%  203M 1s\n",
            "  8750K .......... .......... .......... .......... ..........  9%  166M 1s\n",
            "  8800K .......... .......... .......... .......... ..........  9%  146M 1s\n",
            "  8850K .......... .......... .......... .......... ..........  9%  203M 1s\n",
            "  8900K .......... .......... .......... .......... ..........  9%  203M 1s\n",
            "  8950K .......... .......... .......... .......... ..........  9%  165M 1s\n",
            "  9000K .......... .......... .......... .......... ..........  9%  204M 1s\n",
            "  9050K .......... .......... .......... .......... ..........  9%  201M 1s\n",
            "  9100K .......... .......... .......... .......... ..........  9%  199M 1s\n",
            "  9150K .......... .......... .......... .......... ..........  9%  138M 1s\n",
            "  9200K .......... .......... .......... .......... .......... 10%  156M 1s\n",
            "  9250K .......... .......... .......... .......... .......... 10%  133M 1s\n",
            "  9300K .......... .......... .......... .......... .......... 10%  162M 1s\n",
            "  9350K .......... .......... .......... .......... .......... 10%  170M 1s\n",
            "  9400K .......... .......... .......... .......... .......... 10%  203M 1s\n",
            "  9450K .......... .......... .......... .......... .......... 10%  198M 1s\n",
            "  9500K .......... .......... .......... .......... .......... 10%  197M 1s\n",
            "  9550K .......... .......... .......... .......... .......... 10%  181M 1s\n",
            "  9600K .......... .......... .......... .......... .......... 10%  212M 1s\n",
            "  9650K .......... .......... .......... .......... .......... 10%  209M 1s\n",
            "  9700K .......... .......... .......... .......... .......... 10%  146M 1s\n",
            "  9750K .......... .......... .......... .......... .......... 10%  119M 1s\n",
            "  9800K .......... .......... .......... .......... .......... 10%  145M 1s\n",
            "  9850K .......... .......... .......... .......... .......... 10%  200M 1s\n",
            "  9900K .......... .......... .......... .......... .......... 10%  202M 1s\n",
            "  9950K .......... .......... .......... .......... .......... 10%  110M 1s\n",
            " 10000K .......... .......... .......... .......... .......... 10%  198M 1s\n",
            " 10050K .......... .......... .......... .......... .......... 10%  202M 1s\n",
            " 10100K .......... .......... .......... .......... .......... 11%  198M 1s\n",
            " 10150K .......... .......... .......... .......... .......... 11%  156M 1s\n",
            " 10200K .......... .......... .......... .......... .......... 11%  203M 1s\n",
            " 10250K .......... .......... .......... .......... .......... 11%  128M 1s\n",
            " 10300K .......... .......... .......... .......... .......... 11%  128M 1s\n",
            " 10350K .......... .......... .......... .......... .......... 11%  116M 1s\n",
            " 10400K .......... .......... .......... .......... .......... 11%  165M 1s\n",
            " 10450K .......... .......... .......... .......... .......... 11%  194M 1s\n",
            " 10500K .......... .......... .......... .......... .......... 11%  207M 1s\n",
            " 10550K .......... .......... .......... .......... .......... 11%  126M 1s\n",
            " 10600K .......... .......... .......... .......... .......... 11%  145M 1s\n",
            " 10650K .......... .......... .......... .......... .......... 11%  188M 1s\n",
            " 10700K .......... .......... .......... .......... .......... 11%  199M 1s\n",
            " 10750K .......... .......... .......... .......... .......... 11%  159M 1s\n",
            " 10800K .......... .......... .......... .......... .......... 11%  181M 1s\n",
            " 10850K .......... .......... .......... .......... .......... 11%  205M 1s\n",
            " 10900K .......... .......... .......... .......... .......... 11%  155M 1s\n",
            " 10950K .......... .......... .......... .......... .......... 11%  115M 1s\n",
            " 11000K .......... .......... .......... .......... .......... 12%  187M 1s\n",
            " 11050K .......... .......... .......... .......... .......... 12%  195M 1s\n",
            " 11100K .......... .......... .......... .......... .......... 12%  203M 1s\n",
            " 11150K .......... .......... .......... .......... .......... 12%  143M 1s\n",
            " 11200K .......... .......... .......... .......... .......... 12%  171M 1s\n",
            " 11250K .......... .......... .......... .......... .......... 12%  157M 1s\n",
            " 11300K .......... .......... .......... .......... .......... 12%  186M 1s\n",
            " 11350K .......... .......... .......... .......... .......... 12%  167M 1s\n",
            " 11400K .......... .......... .......... .......... .......... 12%  201M 1s\n",
            " 11450K .......... .......... .......... .......... .......... 12%  207M 1s\n",
            " 11500K .......... .......... .......... .......... .......... 12%  170M 1s\n",
            " 11550K .......... .......... .......... .......... .......... 12% 99.3M 1s\n",
            " 11600K .......... .......... .......... .......... .......... 12%  126M 1s\n",
            " 11650K .......... .......... .......... .......... .......... 12%  189M 1s\n",
            " 11700K .......... .......... .......... .......... .......... 12%  201M 1s\n",
            " 11750K .......... .......... .......... .......... .......... 12%  129M 1s\n",
            " 11800K .......... .......... .......... .......... .......... 12%  135M 1s\n",
            " 11850K .......... .......... .......... .......... .......... 12% 96.4M 1s\n",
            " 11900K .......... .......... .......... .......... .......... 12%  186M 1s\n",
            " 11950K .......... .......... .......... .......... .......... 13%  121M 1s\n",
            " 12000K .......... .......... .......... .......... .......... 13%  155M 1s\n",
            " 12050K .......... .......... .......... .......... .......... 13%  147M 1s\n",
            " 12100K .......... .......... .......... .......... .......... 13%  129M 1s\n",
            " 12150K .......... .......... .......... .......... .......... 13%  168M 1s\n",
            " 12200K .......... .......... .......... .......... .......... 13%  209M 1s\n",
            " 12250K .......... .......... .......... .......... .......... 13%  190M 1s\n",
            " 12300K .......... .......... .......... .......... .......... 13%  131M 1s\n",
            " 12350K .......... .......... .......... .......... .......... 13%  134M 1s\n",
            " 12400K .......... .......... .......... .......... .......... 13%  177M 1s\n",
            " 12450K .......... .......... .......... .......... .......... 13%  198M 1s\n",
            " 12500K .......... .......... .......... .......... .......... 13%  117M 1s\n",
            " 12550K .......... .......... .......... .......... .......... 13%  127M 1s\n",
            " 12600K .......... .......... .......... .......... .......... 13%  179M 1s\n",
            " 12650K .......... .......... .......... .......... .......... 13%  188M 1s\n",
            " 12700K .......... .......... .......... .......... .......... 13%  176M 1s\n",
            " 12750K .......... .......... .......... .......... .......... 13%  181M 1s\n",
            " 12800K .......... .......... .......... .......... .......... 13%  202M 1s\n",
            " 12850K .......... .......... .......... .......... .......... 14%  166M 1s\n",
            " 12900K .......... .......... .......... .......... .......... 14%  150M 1s\n",
            " 12950K .......... .......... .......... .......... .......... 14%  133M 1s\n",
            " 13000K .......... .......... .......... .......... .......... 14%  217M 1s\n",
            " 13050K .......... .......... .......... .......... .......... 14%  203M 1s\n",
            " 13100K .......... .......... .......... .......... .......... 14%  195M 1s\n",
            " 13150K .......... .......... .......... .......... .......... 14%  101M 1s\n",
            " 13200K .......... .......... .......... .......... .......... 14%  141M 1s\n",
            " 13250K .......... .......... .......... .......... .......... 14%  208M 1s\n",
            " 13300K .......... .......... .......... .......... .......... 14%  155M 1s\n",
            " 13350K .......... .......... .......... .......... .......... 14%  177M 1s\n",
            " 13400K .......... .......... .......... .......... .......... 14%  193M 1s\n",
            " 13450K .......... .......... .......... .......... .......... 14%  155M 1s\n",
            " 13500K .......... .......... .......... .......... .......... 14%  190M 1s\n",
            " 13550K .......... .......... .......... .......... .......... 14%  128M 1s\n",
            " 13600K .......... .......... .......... .......... .......... 14%  146M 1s\n",
            " 13650K .......... .......... .......... .......... .......... 14%  207M 1s\n",
            " 13700K .......... .......... .......... .......... .......... 14%  196M 1s\n",
            " 13750K .......... .......... .......... .......... .......... 14%  128M 1s\n",
            " 13800K .......... .......... .......... .......... .......... 15%  195M 1s\n",
            " 13850K .......... .......... .......... .......... .......... 15%  207M 1s\n",
            " 13900K .......... .......... .......... .......... .......... 15%  169M 1s\n",
            " 13950K .......... .......... .......... .......... .......... 15%  175M 1s\n",
            " 14000K .......... .......... .......... .......... .......... 15%  182M 1s\n",
            " 14050K .......... .......... .......... .......... .......... 15%  170M 1s\n",
            " 14100K .......... .......... .......... .......... .......... 15%  162M 1s\n",
            " 14150K .......... .......... .......... .......... .......... 15%  129M 1s\n",
            " 14200K .......... .......... .......... .......... .......... 15%  152M 1s\n",
            " 14250K .......... .......... .......... .......... .......... 15%  158M 1s\n",
            " 14300K .......... .......... .......... .......... .......... 15%  183M 1s\n",
            " 14350K .......... .......... .......... .......... .......... 15%  130M 1s\n",
            " 14400K .......... .......... .......... .......... .......... 15%  181M 1s\n",
            " 14450K .......... .......... .......... .......... .......... 15%  205M 1s\n",
            " 14500K .......... .......... .......... .......... .......... 15%  204M 1s\n",
            " 14550K .......... .......... .......... .......... .......... 15%  138M 1s\n",
            " 14600K .......... .......... .......... .......... .......... 15%  193M 1s\n",
            " 14650K .......... .......... .......... .......... .......... 15%  177M 1s\n",
            " 14700K .......... .......... .......... .......... .......... 16%  153M 1s\n",
            " 14750K .......... .......... .......... .......... .......... 16%  138M 1s\n",
            " 14800K .......... .......... .......... .......... .......... 16%  183M 1s\n",
            " 14850K .......... .......... .......... .......... .......... 16%  173M 1s\n",
            " 14900K .......... .......... .......... .......... .......... 16%  200M 1s\n",
            " 14950K .......... .......... .......... .......... .......... 16%  141M 1s\n",
            " 15000K .......... .......... .......... .......... .......... 16%  149M 1s\n",
            " 15050K .......... .......... .......... .......... .......... 16%  198M 1s\n",
            " 15100K .......... .......... .......... .......... .......... 16%  194M 1s\n",
            " 15150K .......... .......... .......... .......... .......... 16%  156M 1s\n",
            " 15200K .......... .......... .......... .......... .......... 16%  208M 1s\n",
            " 15250K .......... .......... .......... .......... .......... 16%  125M 1s\n",
            " 15300K .......... .......... .......... .......... .......... 16%  137M 1s\n",
            " 15350K .......... .......... .......... .......... .......... 16%  143M 1s\n",
            " 15400K .......... .......... .......... .......... .......... 16%  170M 1s\n",
            " 15450K .......... .......... .......... .......... .......... 16%  193M 1s\n",
            " 15500K .......... .......... .......... .......... .......... 16%  208M 1s\n",
            " 15550K .......... .......... .......... .......... .......... 16%  188M 1s\n",
            " 15600K .......... .......... .......... .......... .......... 17%  137M 1s\n",
            " 15650K .......... .......... .......... .......... .......... 17%  174M 1s\n",
            " 15700K .......... .......... .......... .......... .......... 17%  202M 1s\n",
            " 15750K .......... .......... .......... .......... .......... 17%  130M 1s\n",
            " 15800K .......... .......... .......... .......... .......... 17%  200M 1s\n",
            " 15850K .......... .......... .......... .......... .......... 17%  207M 1s\n",
            " 15900K .......... .......... .......... .......... .......... 17%  148M 1s\n",
            " 15950K .......... .......... .......... .......... .......... 17%  156M 1s\n",
            " 16000K .......... .......... .......... .......... .......... 17%  209M 1s\n",
            " 16050K .......... .......... .......... .......... .......... 17%  208M 1s\n",
            " 16100K .......... .......... .......... .......... .......... 17%  166M 1s\n",
            " 16150K .......... .......... .......... .......... .......... 17%  164M 1s\n",
            " 16200K .......... .......... .......... .......... .......... 17%  160M 1s\n",
            " 16250K .......... .......... .......... .......... .......... 17%  152M 1s\n",
            " 16300K .......... .......... .......... .......... .......... 17%  199M 1s\n",
            " 16350K .......... .......... .......... .......... .......... 17%  188M 1s\n",
            " 16400K .......... .......... .......... .......... .......... 17%  138M 1s\n",
            " 16450K .......... .......... .......... .......... .......... 17%  162M 1s\n",
            " 16500K .......... .......... .......... .......... .......... 17%  150M 1s\n",
            " 16550K .......... .......... .......... .......... .......... 18%  171M 1s\n",
            " 16600K .......... .......... .......... .......... .......... 18%  195M 1s\n",
            " 16650K .......... .......... .......... .......... .......... 18%  193M 1s\n",
            " 16700K .......... .......... .......... .......... .......... 18%  155M 1s\n",
            " 16750K .......... .......... .......... .......... .......... 18%  139M 1s\n",
            " 16800K .......... .......... .......... .......... .......... 18%  149M 1s\n",
            " 16850K .......... .......... .......... .......... .......... 18%  159M 1s\n",
            " 16900K .......... .......... .......... .......... .......... 18%  176M 1s\n",
            " 16950K .......... .......... .......... .......... .......... 18%  159M 1s\n",
            " 17000K .......... .......... .......... .......... .......... 18%  154M 1s\n",
            " 17050K .......... .......... .......... .......... .......... 18%  172M 1s\n",
            " 17100K .......... .......... .......... .......... .......... 18%  193M 1s\n",
            " 17150K .......... .......... .......... .......... .......... 18%  172M 1s\n",
            " 17200K .......... .......... .......... .......... .......... 18%  207M 1s\n",
            " 17250K .......... .......... .......... .......... .......... 18%  208M 1s\n",
            " 17300K .......... .......... .......... .......... .......... 18%  190M 1s\n",
            " 17350K .......... .......... .......... .......... .......... 18%  115M 1s\n",
            " 17400K .......... .......... .......... .......... .......... 18%  142M 1s\n",
            " 17450K .......... .......... .......... .......... .......... 19%  163M 1s\n",
            " 17500K .......... .......... .......... .......... .......... 19%  161M 1s\n",
            " 17550K .......... .......... .......... .......... .......... 19%  185M 1s\n",
            " 17600K .......... .......... .......... .......... .......... 19%  153M 1s\n",
            " 17650K .......... .......... .......... .......... .......... 19%  147M 1s\n",
            " 17700K .......... .......... .......... .......... .......... 19%  209M 1s\n",
            " 17750K .......... .......... .......... .......... .......... 19%  170M 1s\n",
            " 17800K .......... .......... .......... .......... .......... 19%  198M 1s\n",
            " 17850K .......... .......... .......... .......... .......... 19%  194M 1s\n",
            " 17900K .......... .......... .......... .......... .......... 19%  211M 1s\n",
            " 17950K .......... .......... .......... .......... .......... 19%  189M 1s\n",
            " 18000K .......... .......... .......... .......... .......... 19%  135M 1s\n",
            " 18050K .......... .......... .......... .......... .......... 19%  171M 1s\n",
            " 18100K .......... .......... .......... .......... .......... 19%  171M 1s\n",
            " 18150K .......... .......... .......... .......... .......... 19%  142M 1s\n",
            " 18200K .......... .......... .......... .......... .......... 19%  159M 1s\n",
            " 18250K .......... .......... .......... .......... .......... 19%  160M 1s\n",
            " 18300K .......... .......... .......... .......... .......... 19%  133M 1s\n",
            " 18350K .......... .......... .......... .......... .......... 19%  194M 1s\n",
            " 18400K .......... .......... .......... .......... .......... 20%  247M 1s\n",
            " 18450K .......... .......... .......... .......... .......... 20%  243M 1s\n",
            " 18500K .......... .......... .......... .......... .......... 20%  240M 1s\n",
            " 18550K .......... .......... .......... .......... .......... 20%  181M 1s\n",
            " 18600K .......... .......... .......... .......... .......... 20% 26.3M 1s\n",
            " 18650K .......... .......... .......... .......... .......... 20%  156M 1s\n",
            " 18700K .......... .......... .......... .......... .......... 20%  170M 1s\n",
            " 18750K .......... .......... .......... .......... .......... 20%  184M 1s\n",
            " 18800K .......... .......... .......... .......... .......... 20%  189M 1s\n",
            " 18850K .......... .......... .......... .......... .......... 20%  204M 1s\n",
            " 18900K .......... .......... .......... .......... .......... 20%  210M 1s\n",
            " 18950K .......... .......... .......... .......... .......... 20%  171M 1s\n",
            " 19000K .......... .......... .......... .......... .......... 20%  146M 1s\n",
            " 19050K .......... .......... .......... .......... .......... 20%  139M 1s\n",
            " 19100K .......... .......... .......... .......... .......... 20%  170M 1s\n",
            " 19150K .......... .......... .......... .......... .......... 20%  169M 1s\n",
            " 19200K .......... .......... .......... .......... .......... 20%  145M 1s\n",
            " 19250K .......... .......... .......... .......... .......... 20%  169M 1s\n",
            " 19300K .......... .......... .......... .......... .......... 21%  198M 1s\n",
            " 19350K .......... .......... .......... .......... .......... 21%  123M 1s\n",
            " 19400K .......... .......... .......... .......... .......... 21%  210M 1s\n",
            " 19450K .......... .......... .......... .......... .......... 21%  206M 1s\n",
            " 19500K .......... .......... .......... .......... .......... 21%  189M 1s\n",
            " 19550K .......... .......... .......... .......... .......... 21%  180M 1s\n",
            " 19600K .......... .......... .......... .......... .......... 21%  173M 1s\n",
            " 19650K .......... .......... .......... .......... .......... 21%  170M 1s\n",
            " 19700K .......... .......... .......... .......... .......... 21%  150M 1s\n",
            " 19750K .......... .......... .......... .......... .......... 21%  164M 1s\n",
            " 19800K .......... .......... .......... .......... .......... 21%  204M 1s\n",
            " 19850K .......... .......... .......... .......... .......... 21%  149M 1s\n",
            " 19900K .......... .......... .......... .......... .......... 21%  151M 1s\n",
            " 19950K .......... .......... .......... .......... .......... 21%  151M 1s\n",
            " 20000K .......... .......... .......... .......... .......... 21%  200M 1s\n",
            " 20050K .......... .......... .......... .......... .......... 21%  195M 1s\n",
            " 20100K .......... .......... .......... .......... .......... 21%  172M 1s\n",
            " 20150K .......... .......... .......... .......... .......... 21%  138M 1s\n",
            " 20200K .......... .......... .......... .......... .......... 22%  194M 1s\n",
            " 20250K .......... .......... .......... .......... .......... 22% 99.7M 1s\n",
            " 20300K .......... .......... .......... .......... .......... 22%  152M 1s\n",
            " 20350K .......... .......... .......... .......... .......... 22%  175M 1s\n",
            " 20400K .......... .......... .......... .......... .......... 22%  209M 1s\n",
            " 20450K .......... .......... .......... .......... .......... 22%  144M 1s\n",
            " 20500K .......... .......... .......... .......... .......... 22%  166M 1s\n",
            " 20550K .......... .......... .......... .......... .......... 22%  178M 1s\n",
            " 20600K .......... .......... .......... .......... .......... 22%  189M 1s\n",
            " 20650K .......... .......... .......... .......... .......... 22%  200M 1s\n",
            " 20700K .......... .......... .......... .......... .......... 22%  138M 1s\n",
            " 20750K .......... .......... .......... .......... .......... 22%  162M 1s\n",
            " 20800K .......... .......... .......... .......... .......... 22%  189M 1s\n",
            " 20850K .......... .......... .......... .......... .......... 22%  170M 1s\n",
            " 20900K .......... .......... .......... .......... .......... 22%  211M 1s\n",
            " 20950K .......... .......... .......... .......... .......... 22%  124M 1s\n",
            " 21000K .......... .......... .......... .......... .......... 22%  177M 1s\n",
            " 21050K .......... .......... .......... .......... .......... 22%  158M 1s\n",
            " 21100K .......... .......... .......... .......... .......... 22%  165M 1s\n",
            " 21150K .......... .......... .......... .......... .......... 23%  146M 1s\n",
            " 21200K .......... .......... .......... .......... .......... 23%  195M 1s\n",
            " 21250K .......... .......... .......... .......... .......... 23%  204M 1s\n",
            " 21300K .......... .......... .......... .......... .......... 23%  180M 1s\n",
            " 21350K .......... .......... .......... .......... .......... 23%  136M 1s\n",
            " 21400K .......... .......... .......... .......... .......... 23%  170M 1s\n",
            " 21450K .......... .......... .......... .......... .......... 23%  170M 1s\n",
            " 21500K .......... .......... .......... .......... .......... 23%  175M 1s\n",
            " 21550K .......... .......... .......... .......... .......... 23%  174M 1s\n",
            " 21600K .......... .......... .......... .......... .......... 23%  212M 0s\n",
            " 21650K .......... .......... .......... .......... .......... 23%  152M 0s\n",
            " 21700K .......... .......... .......... .......... .......... 23%  158M 0s\n",
            " 21750K .......... .......... .......... .......... .......... 23%  131M 0s\n",
            " 21800K .......... .......... .......... .......... .......... 23%  171M 0s\n",
            " 21850K .......... .......... .......... .......... .......... 23%  197M 0s\n",
            " 21900K .......... .......... .......... .......... .......... 23%  196M 0s\n",
            " 21950K .......... .......... .......... .......... .......... 23%  160M 0s\n",
            " 22000K .......... .......... .......... .......... .......... 23%  204M 0s\n",
            " 22050K .......... .......... .......... .......... .......... 24%  144M 0s\n",
            " 22100K .......... .......... .......... .......... .......... 24%  209M 0s\n",
            " 22150K .......... .......... .......... .......... .......... 24%  133M 0s\n",
            " 22200K .......... .......... .......... .......... .......... 24%  198M 0s\n",
            " 22250K .......... .......... .......... .......... .......... 24%  168M 0s\n",
            " 22300K .......... .......... .......... .......... .......... 24%  155M 0s\n",
            " 22350K .......... .......... .......... .......... .......... 24%  149M 0s\n",
            " 22400K .......... .......... .......... .......... .......... 24%  160M 0s\n",
            " 22450K .......... .......... .......... .......... .......... 24%  195M 0s\n",
            " 22500K .......... .......... .......... .......... .......... 24%  201M 0s\n",
            " 22550K .......... .......... .......... .......... .......... 24%  152M 0s\n",
            " 22600K .......... .......... .......... .......... .......... 24%  146M 0s\n",
            " 22650K .......... .......... .......... .......... .......... 24%  175M 0s\n",
            " 22700K .......... .......... .......... .......... .......... 24%  176M 0s\n",
            " 22750K .......... .......... .......... .......... .......... 24%  165M 0s\n",
            " 22800K .......... .......... .......... .......... .......... 24%  166M 0s\n",
            " 22850K .......... .......... .......... .......... .......... 24%  207M 0s\n",
            " 22900K .......... .......... .......... .......... .......... 24%  150M 0s\n",
            " 22950K .......... .......... .......... .......... .......... 24%  166M 0s\n",
            " 23000K .......... .......... .......... .......... .......... 25%  162M 0s\n",
            " 23050K .......... .......... .......... .......... .......... 25%  172M 0s\n",
            " 23100K .......... .......... .......... .......... .......... 25%  188M 0s\n",
            " 23150K .......... .......... .......... .......... .......... 25%  177M 0s\n",
            " 23200K .......... .......... .......... .......... .......... 25%  152M 0s\n",
            " 23250K .......... .......... .......... .......... .......... 25%  147M 0s\n",
            " 23300K .......... .......... .......... .......... .......... 25%  176M 0s\n",
            " 23350K .......... .......... .......... .......... .......... 25%  173M 0s\n",
            " 23400K .......... .......... .......... .......... .......... 25%  175M 0s\n",
            " 23450K .......... .......... .......... .......... .......... 25%  193M 0s\n",
            " 23500K .......... .......... .......... .......... .......... 25%  160M 0s\n",
            " 23550K .......... .......... .......... .......... .......... 25%  153M 0s\n",
            " 23600K .......... .......... .......... .......... .......... 25%  183M 0s\n",
            " 23650K .......... .......... .......... .......... .......... 25%  209M 0s\n",
            " 23700K .......... .......... .......... .......... .......... 25%  155M 0s\n",
            " 23750K .......... .......... .......... .......... .......... 25%  169M 0s\n",
            " 23800K .......... .......... .......... .......... .......... 25%  150M 0s\n",
            " 23850K .......... .......... .......... .......... .......... 25%  171M 0s\n",
            " 23900K .......... .......... .......... .......... .......... 26%  181M 0s\n",
            " 23950K .......... .......... .......... .......... .......... 26%  172M 0s\n",
            " 24000K .......... .......... .......... .......... .......... 26%  207M 0s\n",
            " 24050K .......... .......... .......... .......... .......... 26%  160M 0s\n",
            " 24100K .......... .......... .......... .......... .......... 26%  157M 0s\n",
            " 24150K .......... .......... .......... .......... .......... 26%  140M 0s\n",
            " 24200K .......... .......... .......... .......... .......... 26%  166M 0s\n",
            " 24250K .......... .......... .......... .......... .......... 26%  208M 0s\n",
            " 24300K .......... .......... .......... .......... .......... 26%  138M 0s\n",
            " 24350K .......... .......... .......... .......... .......... 26%  184M 0s\n",
            " 24400K .......... .......... .......... .......... .......... 26%  170M 0s\n",
            " 24450K .......... .......... .......... .......... .......... 26%  165M 0s\n",
            " 24500K .......... .......... .......... .......... .......... 26%  169M 0s\n",
            " 24550K .......... .......... .......... .......... .......... 26%  167M 0s\n",
            " 24600K .......... .......... .......... .......... .......... 26%  205M 0s\n",
            " 24650K .......... .......... .......... .......... .......... 26%  191M 0s\n",
            " 24700K .......... .......... .......... .......... .......... 26%  134M 0s\n",
            " 24750K .......... .......... .......... .......... .......... 26%  152M 0s\n",
            " 24800K .......... .......... .......... .......... .......... 27%  143M 0s\n",
            " 24850K .......... .......... .......... .......... .......... 27%  170M 0s\n",
            " 24900K .......... .......... .......... .......... .......... 27%  128M 0s\n",
            " 24950K .......... .......... .......... .......... .......... 27% 82.3M 0s\n",
            " 25000K .......... .......... .......... .......... .......... 27%  170M 0s\n",
            " 25050K .......... .......... .......... .......... .......... 27%  149M 0s\n",
            " 25100K .......... .......... .......... .......... .......... 27%  192M 0s\n",
            " 25150K .......... .......... .......... .......... .......... 27%  182M 0s\n",
            " 25200K .......... .......... .......... .......... .......... 27%  174M 0s\n",
            " 25250K .......... .......... .......... .......... .......... 27%  166M 0s\n",
            " 25300K .......... .......... .......... .......... .......... 27%  154M 0s\n",
            " 25350K .......... .......... .......... .......... .......... 27%  154M 0s\n",
            " 25400K .......... .......... .......... .......... .......... 27%  147M 0s\n",
            " 25450K .......... .......... .......... .......... .......... 27%  159M 0s\n",
            " 25500K .......... .......... .......... .......... .......... 27%  203M 0s\n",
            " 25550K .......... .......... .......... .......... .......... 27%  182M 0s\n",
            " 25600K .......... .......... .......... .......... .......... 27%  162M 0s\n",
            " 25650K .......... .......... .......... .......... .......... 27%  174M 0s\n",
            " 25700K .......... .......... .......... .......... .......... 27%  153M 0s\n",
            " 25750K .......... .......... .......... .......... .......... 28%  156M 0s\n",
            " 25800K .......... .......... .......... .......... .......... 28%  166M 0s\n",
            " 25850K .......... .......... .......... .......... .......... 28%  176M 0s\n",
            " 25900K .......... .......... .......... .......... .......... 28%  176M 0s\n",
            " 25950K .......... .......... .......... .......... .......... 28%  172M 0s\n",
            " 26000K .......... .......... .......... .......... .......... 28%  210M 0s\n",
            " 26050K .......... .......... .......... .......... .......... 28%  173M 0s\n",
            " 26100K .......... .......... .......... .......... .......... 28%  193M 0s\n",
            " 26150K .......... .......... .......... .......... .......... 28%  161M 0s\n",
            " 26200K .......... .......... .......... .......... .......... 28%  159M 0s\n",
            " 26250K .......... .......... .......... .......... .......... 28%  138M 0s\n",
            " 26300K .......... .......... .......... .......... .......... 28%  146M 0s\n",
            " 26350K .......... .......... .......... .......... .......... 28%  140M 0s\n",
            " 26400K .......... .......... .......... .......... .......... 28%  161M 0s\n",
            " 26450K .......... .......... .......... .......... .......... 28%  150M 0s\n",
            " 26500K .......... .......... .......... .......... .......... 28%  184M 0s\n",
            " 26550K .......... .......... .......... .......... .......... 28%  172M 0s\n",
            " 26600K .......... .......... .......... .......... .......... 28%  189M 0s\n",
            " 26650K .......... .......... .......... .......... .......... 29%  158M 0s\n",
            " 26700K .......... .......... .......... .......... .......... 29%  205M 0s\n",
            " 26750K .......... .......... .......... .......... .......... 29%  186M 0s\n",
            " 26800K .......... .......... .......... .......... .......... 29%  153M 0s\n",
            " 26850K .......... .......... .......... .......... .......... 29%  202M 0s\n",
            " 26900K .......... .......... .......... .......... .......... 29%  211M 0s\n",
            " 26950K .......... .......... .......... .......... .......... 29%  127M 0s\n",
            " 27000K .......... .......... .......... .......... .......... 29%  159M 0s\n",
            " 27050K .......... .......... .......... .......... .......... 29%  187M 0s\n",
            " 27100K .......... .......... .......... .......... .......... 29%  201M 0s\n",
            " 27150K .......... .......... .......... .......... .......... 29%  136M 0s\n",
            " 27200K .......... .......... .......... .......... .......... 29%  174M 0s\n",
            " 27250K .......... .......... .......... .......... .......... 29%  183M 0s\n",
            " 27300K .......... .......... .......... .......... .......... 29%  202M 0s\n",
            " 27350K .......... .......... .......... .......... .......... 29%  164M 0s\n",
            " 27400K .......... .......... .......... .......... .......... 29%  213M 0s\n",
            " 27450K .......... .......... .......... .......... .......... 29%  135M 0s\n",
            " 27500K .......... .......... .......... .......... .......... 29%  163M 0s\n",
            " 27550K .......... .......... .......... .......... .......... 29%  154M 0s\n",
            " 27600K .......... .......... .......... .......... .......... 30%  175M 0s\n",
            " 27650K .......... .......... .......... .......... .......... 30%  160M 0s\n",
            " 27700K .......... .......... .......... .......... .......... 30%  195M 0s\n",
            " 27750K .......... .......... .......... .......... .......... 30%  175M 0s\n",
            " 27800K .......... .......... .......... .......... .......... 30%  205M 0s\n",
            " 27850K .......... .......... .......... .......... .......... 30%  213M 0s\n",
            " 27900K .......... .......... .......... .......... .......... 30%  206M 0s\n",
            " 27950K .......... .......... .......... .......... .......... 30%  124M 0s\n",
            " 28000K .......... .......... .......... .......... .......... 30%  156M 0s\n",
            " 28050K .......... .......... .......... .......... .......... 30% 89.5M 0s\n",
            " 28100K .......... .......... .......... .......... .......... 30%  153M 0s\n",
            " 28150K .......... .......... .......... .......... .......... 30%  142M 0s\n",
            " 28200K .......... .......... .......... .......... .......... 30%  160M 0s\n",
            " 28250K .......... .......... .......... .......... .......... 30%  193M 0s\n",
            " 28300K .......... .......... .......... .......... .......... 30%  188M 0s\n",
            " 28350K .......... .......... .......... .......... .......... 30%  180M 0s\n",
            " 28400K .......... .......... .......... .......... .......... 30%  199M 0s\n",
            " 28450K .......... .......... .......... .......... .......... 30%  205M 0s\n",
            " 28500K .......... .......... .......... .......... .......... 31% 89.4M 0s\n",
            " 28550K .......... .......... .......... .......... .......... 31% 89.0M 0s\n",
            " 28600K .......... .......... .......... .......... .......... 31%  150M 0s\n",
            " 28650K .......... .......... .......... .......... .......... 31%  200M 0s\n",
            " 28700K .......... .......... .......... .......... .......... 31%  205M 0s\n",
            " 28750K .......... .......... .......... .......... .......... 31%  184M 0s\n",
            " 28800K .......... .......... .......... .......... .......... 31%  193M 0s\n",
            " 28850K .......... .......... .......... .......... .......... 31%  203M 0s\n",
            " 28900K .......... .......... .......... .......... .......... 31%  150M 0s\n",
            " 28950K .......... .......... .......... .......... .......... 31%  121M 0s\n",
            " 29000K .......... .......... .......... .......... .......... 31%  195M 0s\n",
            " 29050K .......... .......... .......... .......... .......... 31%  175M 0s\n",
            " 29100K .......... .......... .......... .......... .......... 31%  161M 0s\n",
            " 29150K .......... .......... .......... .......... .......... 31%  136M 0s\n",
            " 29200K .......... .......... .......... .......... .......... 31%  178M 0s\n",
            " 29250K .......... .......... .......... .......... .......... 31%  173M 0s\n",
            " 29300K .......... .......... .......... .......... .......... 31%  186M 0s\n",
            " 29350K .......... .......... .......... .......... .......... 31%  166M 0s\n",
            " 29400K .......... .......... .......... .......... .......... 32%  210M 0s\n",
            " 29450K .......... .......... .......... .......... .......... 32%  203M 0s\n",
            " 29500K .......... .......... .......... .......... .......... 32%  193M 0s\n",
            " 29550K .......... .......... .......... .......... .......... 32%  129M 0s\n",
            " 29600K .......... .......... .......... .......... .......... 32%  164M 0s\n",
            " 29650K .......... .......... .......... .......... .......... 32%  163M 0s\n",
            " 29700K .......... .......... .......... .......... .......... 32%  153M 0s\n",
            " 29750K .......... .......... .......... .......... .......... 32%  153M 0s\n",
            " 29800K .......... .......... .......... .......... .......... 32%  152M 0s\n",
            " 29850K .......... .......... .......... .......... .......... 32%  205M 0s\n",
            " 29900K .......... .......... .......... .......... .......... 32%  137M 0s\n",
            " 29950K .......... .......... .......... .......... .......... 32%  106M 0s\n",
            " 30000K .......... .......... .......... .......... .......... 32%  199M 0s\n",
            " 30050K .......... .......... .......... .......... .......... 32% 90.2M 0s\n",
            " 30100K .......... .......... .......... .......... .......... 32%  126M 0s\n",
            " 30150K .......... .......... .......... .......... .......... 32%  142M 0s\n",
            " 30200K .......... .......... .......... .......... .......... 32%  163M 0s\n",
            " 30250K .......... .......... .......... .......... .......... 32%  171M 0s\n",
            " 30300K .......... .......... .......... .......... .......... 32%  167M 0s\n",
            " 30350K .......... .......... .......... .......... .......... 33%  154M 0s\n",
            " 30400K .......... .......... .......... .......... .......... 33%  188M 0s\n",
            " 30450K .......... .......... .......... .......... .......... 33%  208M 0s\n",
            " 30500K .......... .......... .......... .......... .......... 33%  206M 0s\n",
            " 30550K .......... .......... .......... .......... .......... 33%  166M 0s\n",
            " 30600K .......... .......... .......... .......... .......... 33%  201M 0s\n",
            " 30650K .......... .......... .......... .......... .......... 33%  200M 0s\n",
            " 30700K .......... .......... .......... .......... .......... 33%  143M 0s\n",
            " 30750K .......... .......... .......... .......... .......... 33%  133M 0s\n",
            " 30800K .......... .......... .......... .......... .......... 33%  156M 0s\n",
            " 30850K .......... .......... .......... .......... .......... 33%  209M 0s\n",
            " 30900K .......... .......... .......... .......... .......... 33%  159M 0s\n",
            " 30950K .......... .......... .......... .......... .......... 33%  146M 0s\n",
            " 31000K .......... .......... .......... .......... .......... 33%  205M 0s\n",
            " 31050K .......... .......... .......... .......... .......... 33%  213M 0s\n",
            " 31100K .......... .......... .......... .......... .......... 33%  193M 0s\n",
            " 31150K .......... .......... .......... .......... .......... 33%  116M 0s\n",
            " 31200K .......... .......... .......... .......... .......... 33%  180M 0s\n",
            " 31250K .......... .......... .......... .......... .......... 34%  166M 0s\n",
            " 31300K .......... .......... .......... .......... .......... 34%  122M 0s\n",
            " 31350K .......... .......... .......... .......... .......... 34% 76.5M 0s\n",
            " 31400K .......... .......... .......... .......... .......... 34%  140M 0s\n",
            " 31450K .......... .......... .......... .......... .......... 34%  161M 0s\n",
            " 31500K .......... .......... .......... .......... .......... 34%  133M 0s\n",
            " 31550K .......... .......... .......... .......... .......... 34%  111M 0s\n",
            " 31600K .......... .......... .......... .......... .......... 34%  145M 0s\n",
            " 31650K .......... .......... .......... .......... .......... 34%  151M 0s\n",
            " 31700K .......... .......... .......... .......... .......... 34%  159M 0s\n",
            " 31750K .......... .......... .......... .......... .......... 34%  174M 0s\n",
            " 31800K .......... .......... .......... .......... .......... 34%  146M 0s\n",
            " 31850K .......... .......... .......... .......... .......... 34% 98.7M 0s\n",
            " 31900K .......... .......... .......... .......... .......... 34%  139M 0s\n",
            " 31950K .......... .......... .......... .......... .......... 34% 96.4M 0s\n",
            " 32000K .......... .......... .......... .......... .......... 34%  112M 0s\n",
            " 32050K .......... .......... .......... .......... .......... 34%  118M 0s\n",
            " 32100K .......... .......... .......... .......... .......... 34% 84.6M 0s\n",
            " 32150K .......... .......... .......... .......... .......... 34% 94.1M 0s\n",
            " 32200K .......... .......... .......... .......... .......... 35%  102M 0s\n",
            " 32250K .......... .......... .......... .......... .......... 35% 95.9M 0s\n",
            " 32300K .......... .......... .......... .......... .......... 35%  147M 0s\n",
            " 32350K .......... .......... .......... .......... .......... 35%  105M 0s\n",
            " 32400K .......... .......... .......... .......... .......... 35%  109M 0s\n",
            " 32450K .......... .......... .......... .......... .......... 35% 88.7M 0s\n",
            " 32500K .......... .......... .......... .......... .......... 35% 89.1M 0s\n",
            " 32550K .......... .......... .......... .......... .......... 35%  145M 0s\n",
            " 32600K .......... .......... .......... .......... .......... 35%  208M 0s\n",
            " 32650K .......... .......... .......... .......... .......... 35%  170M 0s\n",
            " 32700K .......... .......... .......... .......... .......... 35%  168M 0s\n",
            " 32750K .......... .......... .......... .......... .......... 35%  154M 0s\n",
            " 32800K .......... .......... .......... .......... .......... 35%  208M 0s\n",
            " 32850K .......... .......... .......... .......... .......... 35%  204M 0s\n",
            " 32900K .......... .......... .......... .......... .......... 35%  201M 0s\n",
            " 32950K .......... .......... .......... .......... .......... 35%  160M 0s\n",
            " 33000K .......... .......... .......... .......... .......... 35%  233M 0s\n",
            " 33050K .......... .......... .......... .......... .......... 35%  148M 0s\n",
            " 33100K .......... .......... .......... .......... .......... 36%  159M 0s\n",
            " 33150K .......... .......... .......... .......... .......... 36%  181M 0s\n",
            " 33200K .......... .......... .......... .......... .......... 36%  209M 0s\n",
            " 33250K .......... .......... .......... .......... .......... 36%  206M 0s\n",
            " 33300K .......... .......... .......... .......... .......... 36%  144M 0s\n",
            " 33350K .......... .......... .......... .......... .......... 36%  104M 0s\n",
            " 33400K .......... .......... .......... .......... .......... 36% 85.0M 0s\n",
            " 33450K .......... .......... .......... .......... .......... 36%  111M 0s\n",
            " 33500K .......... .......... .......... .......... .......... 36%  112M 0s\n",
            " 33550K .......... .......... .......... .......... .......... 36%  135M 0s\n",
            " 33600K .......... .......... .......... .......... .......... 36%  130M 0s\n",
            " 33650K .......... .......... .......... .......... .......... 36%  111M 0s\n",
            " 33700K .......... .......... .......... .......... .......... 36% 93.9M 0s\n",
            " 33750K .......... .......... .......... .......... .......... 36% 98.9M 0s\n",
            " 33800K .......... .......... .......... .......... .......... 36%  184M 0s\n",
            " 33850K .......... .......... .......... .......... .......... 36%  182M 0s\n",
            " 33900K .......... .......... .......... .......... .......... 36% 92.8M 0s\n",
            " 33950K .......... .......... .......... .......... .......... 36% 82.2M 0s\n",
            " 34000K .......... .......... .......... .......... .......... 36%  128M 0s\n",
            " 34050K .......... .......... .......... .......... .......... 37%  165M 0s\n",
            " 34100K .......... .......... .......... .......... .......... 37%  117M 0s\n",
            " 34150K .......... .......... .......... .......... .......... 37%  126M 0s\n",
            " 34200K .......... .......... .......... .......... .......... 37% 97.1M 0s\n",
            " 34250K .......... .......... .......... .......... .......... 37%  113M 0s\n",
            " 34300K .......... .......... .......... .......... .......... 37%  177M 0s\n",
            " 34350K .......... .......... .......... .......... .......... 37% 85.0M 0s\n",
            " 34400K .......... .......... .......... .......... .......... 37%  102M 0s\n",
            " 34450K .......... .......... .......... .......... .......... 37%  109M 0s\n",
            " 34500K .......... .......... .......... .......... .......... 37%  116M 0s\n",
            " 34550K .......... .......... .......... .......... .......... 37% 79.8M 0s\n",
            " 34600K .......... .......... .......... .......... .......... 37% 99.0M 0s\n",
            " 34650K .......... .......... .......... .......... .......... 37%  164M 0s\n",
            " 34700K .......... .......... .......... .......... .......... 37%  191M 0s\n",
            " 34750K .......... .......... .......... .......... .......... 37%  131M 0s\n",
            " 34800K .......... .......... .......... .......... .......... 37%  147M 0s\n",
            " 34850K .......... .......... .......... .......... .......... 37%  160M 0s\n",
            " 34900K .......... .......... .......... .......... .......... 37%  193M 0s\n",
            " 34950K .......... .......... .......... .......... .......... 38%  125M 0s\n",
            " 35000K .......... .......... .......... .......... .......... 38%  121M 0s\n",
            " 35050K .......... .......... .......... .......... .......... 38%  150M 0s\n",
            " 35100K .......... .......... .......... .......... .......... 38%  200M 0s\n",
            " 35150K .......... .......... .......... .......... .......... 38%  168M 0s\n",
            " 35200K .......... .......... .......... .......... .......... 38%  207M 0s\n",
            " 35250K .......... .......... .......... .......... .......... 38%  207M 0s\n",
            " 35300K .......... .......... .......... .......... .......... 38%  166M 0s\n",
            " 35350K .......... .......... .......... .......... .......... 38%  134M 0s\n",
            " 35400K .......... .......... .......... .......... .......... 38%  111M 0s\n",
            " 35450K .......... .......... .......... .......... .......... 38%  108M 0s\n",
            " 35500K .......... .......... .......... .......... .......... 38%  114M 0s\n",
            " 35550K .......... .......... .......... .......... .......... 38% 60.9M 0s\n",
            " 35600K .......... .......... .......... .......... .......... 38%  115M 0s\n",
            " 35650K .......... .......... .......... .......... .......... 38%  108M 0s\n",
            " 35700K .......... .......... .......... .......... .......... 38% 81.5M 0s\n",
            " 35750K .......... .......... .......... .......... .......... 38% 81.6M 0s\n",
            " 35800K .......... .......... .......... .......... .......... 38%  163M 0s\n",
            " 35850K .......... .......... .......... .......... .......... 39%  140M 0s\n",
            " 35900K .......... .......... .......... .......... .......... 39%  102M 0s\n",
            " 35950K .......... .......... .......... .......... .......... 39% 76.3M 0s\n",
            " 36000K .......... .......... .......... .......... .......... 39%  154M 0s\n",
            " 36050K .......... .......... .......... .......... .......... 39%  183M 0s\n",
            " 36100K .......... .......... .......... .......... .......... 39%  155M 0s\n",
            " 36150K .......... .......... .......... .......... .......... 39% 84.5M 0s\n",
            " 36200K .......... .......... .......... .......... .......... 39%  191M 0s\n",
            " 36250K .......... .......... .......... .......... .......... 39%  119M 0s\n",
            " 36300K .......... .......... .......... .......... .......... 39%  143M 0s\n",
            " 36350K .......... .......... .......... .......... .......... 39%  138M 0s\n",
            " 36400K .......... .......... .......... .......... .......... 39% 93.1M 0s\n",
            " 36450K .......... .......... .......... .......... .......... 39% 89.2M 0s\n",
            " 36500K .......... .......... .......... .......... .......... 39%  120M 0s\n",
            " 36550K .......... .......... .......... .......... .......... 39%  129M 0s\n",
            " 36600K .......... .......... .......... .......... .......... 39%  100M 0s\n",
            " 36650K .......... .......... .......... .......... .......... 39%  205M 0s\n",
            " 36700K .......... .......... .......... .......... .......... 39%  193M 0s\n",
            " 36750K .......... .......... .......... .......... .......... 39%  119M 0s\n",
            " 36800K .......... .......... .......... .......... .......... 40%  133M 0s\n",
            " 36850K .......... .......... .......... .......... .......... 40%  167M 0s\n",
            " 36900K .......... .......... .......... .......... .......... 40%  122M 0s\n",
            " 36950K .......... .......... .......... .......... .......... 40%  139M 0s\n",
            " 37000K .......... .......... .......... .......... .......... 40%  197M 0s\n",
            " 37050K .......... .......... .......... .......... .......... 40%  167M 0s\n",
            " 37100K .......... .......... .......... .......... .......... 40%  203M 0s\n",
            " 37150K .......... .......... .......... .......... .......... 40%  144M 0s\n",
            " 37200K .......... .......... .......... .......... .......... 40%  107M 0s\n",
            " 37250K .......... .......... .......... .......... .......... 40%  129M 0s\n",
            " 37300K .......... .......... .......... .......... .......... 40%  195M 0s\n",
            " 37350K .......... .......... .......... .......... .......... 40%  102M 0s\n",
            " 37400K .......... .......... .......... .......... .......... 40%  129M 0s\n",
            " 37450K .......... .......... .......... .......... .......... 40%  156M 0s\n",
            " 37500K .......... .......... .......... .......... .......... 40%  148M 0s\n",
            " 37550K .......... .......... .......... .......... .......... 40% 83.3M 0s\n",
            " 37600K .......... .......... .......... .......... .......... 40%  162M 0s\n",
            " 37650K .......... .......... .......... .......... .......... 40%  130M 0s\n",
            " 37700K .......... .......... .......... .......... .......... 41%  111M 0s\n",
            " 37750K .......... .......... .......... .......... .......... 41% 83.4M 0s\n",
            " 37800K .......... .......... .......... .......... .......... 41%  100M 0s\n",
            " 37850K .......... .......... .......... .......... .......... 41% 96.5M 0s\n",
            " 37900K .......... .......... .......... .......... .......... 41% 95.6M 0s\n",
            " 37950K .......... .......... .......... .......... .......... 41% 82.5M 0s\n",
            " 38000K .......... .......... .......... .......... .......... 41% 89.1M 0s\n",
            " 38050K .......... .......... .......... .......... .......... 41%  110M 0s\n",
            " 38100K .......... .......... .......... .......... .......... 41%  140M 0s\n",
            " 38150K .......... .......... .......... .......... .......... 41%  130M 0s\n",
            " 38200K .......... .......... .......... .......... .......... 41% 89.7M 0s\n",
            " 38250K .......... .......... .......... .......... .......... 41%  168M 0s\n",
            " 38300K .......... .......... .......... .......... .......... 41%  102M 0s\n",
            " 38350K .......... .......... .......... .......... .......... 41%  107M 0s\n",
            " 38400K .......... .......... .......... .......... .......... 41%  203M 0s\n",
            " 38450K .......... .......... .......... .......... .......... 41%  187M 0s\n",
            " 38500K .......... .......... .......... .......... .......... 41%  150M 0s\n",
            " 38550K .......... .......... .......... .......... .......... 41%  181M 0s\n",
            " 38600K .......... .......... .......... .......... .......... 41%  224M 0s\n",
            " 38650K .......... .......... .......... .......... .......... 42%  207M 0s\n",
            " 38700K .......... .......... .......... .......... .......... 42%  187M 0s\n",
            " 38750K .......... .......... .......... .......... .......... 42%  154M 0s\n",
            " 38800K .......... .......... .......... .......... .......... 42%  206M 0s\n",
            " 38850K .......... .......... .......... .......... .......... 42%  146M 0s\n",
            " 38900K .......... .......... .......... .......... .......... 42% 91.4M 0s\n",
            " 38950K .......... .......... .......... .......... .......... 42% 71.6M 0s\n",
            " 39000K .......... .......... .......... .......... .......... 42%  142M 0s\n",
            " 39050K .......... .......... .......... .......... .......... 42%  172M 0s\n",
            " 39100K .......... .......... .......... .......... .......... 42%  194M 0s\n",
            " 39150K .......... .......... .......... .......... .......... 42%  183M 0s\n",
            " 39200K .......... .......... .......... .......... .......... 42% 90.1M 0s\n",
            " 39250K .......... .......... .......... .......... .......... 42%  115M 0s\n",
            " 39300K .......... .......... .......... .......... .......... 42%  200M 0s\n",
            " 39350K .......... .......... .......... .......... .......... 42%  168M 0s\n",
            " 39400K .......... .......... .......... .......... .......... 42%  142M 0s\n",
            " 39450K .......... .......... .......... .......... .......... 42%  180M 0s\n",
            " 39500K .......... .......... .......... .......... .......... 42%  157M 0s\n",
            " 39550K .......... .......... .......... .......... .......... 43%  172M 0s\n",
            " 39600K .......... .......... .......... .......... .......... 43%  175M 0s\n",
            " 39650K .......... .......... .......... .......... .......... 43%  204M 0s\n",
            " 39700K .......... .......... .......... .......... .......... 43%  203M 0s\n",
            " 39750K .......... .......... .......... .......... .......... 43%  165M 0s\n",
            " 39800K .......... .......... .......... .......... .......... 43%  168M 0s\n",
            " 39850K .......... .......... .......... .......... .......... 43%  178M 0s\n",
            " 39900K .......... .......... .......... .......... .......... 43%  157M 0s\n",
            " 39950K .......... .......... .......... .......... .......... 43%  172M 0s\n",
            " 40000K .......... .......... .......... .......... .......... 43%  128M 0s\n",
            " 40050K .......... .......... .......... .......... .......... 43%  104M 0s\n",
            " 40100K .......... .......... .......... .......... .......... 43%  136M 0s\n",
            " 40150K .......... .......... .......... .......... .......... 43%  145M 0s\n",
            " 40200K .......... .......... .......... .......... .......... 43%  176M 0s\n",
            " 40250K .......... .......... .......... .......... .......... 43%  211M 0s\n",
            " 40300K .......... .......... .......... .......... .......... 43%  204M 0s\n",
            " 40350K .......... .......... .......... .......... .......... 43%  161M 0s\n",
            " 40400K .......... .......... .......... .......... .......... 43%  169M 0s\n",
            " 40450K .......... .......... .......... .......... .......... 44%  181M 0s\n",
            " 40500K .......... .......... .......... .......... .......... 44%  187M 0s\n",
            " 40550K .......... .......... .......... .......... .......... 44%  146M 0s\n",
            " 40600K .......... .......... .......... .......... .......... 44%  174M 0s\n",
            " 40650K .......... .......... .......... .......... .......... 44%  204M 0s\n",
            " 40700K .......... .......... .......... .......... .......... 44%  167M 0s\n",
            " 40750K .......... .......... .......... .......... .......... 44%  175M 0s\n",
            " 40800K .......... .......... .......... .......... .......... 44%  185M 0s\n",
            " 40850K .......... .......... .......... .......... .......... 44%  181M 0s\n",
            " 40900K .......... .......... .......... .......... .......... 44%  170M 0s\n",
            " 40950K .......... .......... .......... .......... .......... 44%  166M 0s\n",
            " 41000K .......... .......... .......... .......... .......... 44%  160M 0s\n",
            " 41050K .......... .......... .......... .......... .......... 44%  204M 0s\n",
            " 41100K .......... .......... .......... .......... .......... 44%  196M 0s\n",
            " 41150K .......... .......... .......... .......... .......... 44%  185M 0s\n",
            " 41200K .......... .......... .......... .......... .......... 44%  204M 0s\n",
            " 41250K .......... .......... .......... .......... .......... 44%  213M 0s\n",
            " 41300K .......... .......... .......... .......... .......... 44%  190M 0s\n",
            " 41350K .......... .......... .......... .......... .......... 44%  172M 0s\n",
            " 41400K .......... .......... .......... .......... .......... 45%  212M 0s\n",
            " 41450K .......... .......... .......... .......... .......... 45%  211M 0s\n",
            " 41500K .......... .......... .......... .......... .......... 45%  198M 0s\n",
            " 41550K .......... .......... .......... .......... .......... 45%  185M 0s\n",
            " 41600K .......... .......... .......... .......... .......... 45%  211M 0s\n",
            " 41650K .......... .......... .......... .......... .......... 45%  181M 0s\n",
            " 41700K .......... .......... .......... .......... .......... 45%  138M 0s\n",
            " 41750K .......... .......... .......... .......... .......... 45%  144M 0s\n",
            " 41800K .......... .......... .......... .......... .......... 45%  176M 0s\n",
            " 41850K .......... .......... .......... .......... .......... 45%  161M 0s\n",
            " 41900K .......... .......... .......... .......... .......... 45%  167M 0s\n",
            " 41950K .......... .......... .......... .......... .......... 45%  162M 0s\n",
            " 42000K .......... .......... .......... .......... .......... 45%  173M 0s\n",
            " 42050K .......... .......... .......... .......... .......... 45%  171M 0s\n",
            " 42100K .......... .......... .......... .......... .......... 45%  182M 0s\n",
            " 42150K .......... .......... .......... .......... .......... 45%  160M 0s\n",
            " 42200K .......... .......... .......... .......... .......... 45%  191M 0s\n",
            " 42250K .......... .......... .......... .......... .......... 45%  168M 0s\n",
            " 42300K .......... .......... .......... .......... .......... 46%  180M 0s\n",
            " 42350K .......... .......... .......... .......... .......... 46%  135M 0s\n",
            " 42400K .......... .......... .......... .......... .......... 46%  160M 0s\n",
            " 42450K .......... .......... .......... .......... .......... 46%  158M 0s\n",
            " 42500K .......... .......... .......... .......... .......... 46%  198M 0s\n",
            " 42550K .......... .......... .......... .......... .......... 46%  140M 0s\n",
            " 42600K .......... .......... .......... .......... .......... 46%  171M 0s\n",
            " 42650K .......... .......... .......... .......... .......... 46%  178M 0s\n",
            " 42700K .......... .......... .......... .......... .......... 46%  202M 0s\n",
            " 42750K .......... .......... .......... .......... .......... 46%  137M 0s\n",
            " 42800K .......... .......... .......... .......... .......... 46%  171M 0s\n",
            " 42850K .......... .......... .......... .......... .......... 46%  179M 0s\n",
            " 42900K .......... .......... .......... .......... .......... 46%  168M 0s\n",
            " 42950K .......... .......... .......... .......... .......... 46%  145M 0s\n",
            " 43000K .......... .......... .......... .......... .......... 46%  179M 0s\n",
            " 43050K .......... .......... .......... .......... .......... 46%  149M 0s\n",
            " 43100K .......... .......... .......... .......... .......... 46%  185M 0s\n",
            " 43150K .......... .......... .......... .......... .......... 46%  153M 0s\n",
            " 43200K .......... .......... .......... .......... .......... 46%  168M 0s\n",
            " 43250K .......... .......... .......... .......... .......... 47%  155M 0s\n",
            " 43300K .......... .......... .......... .......... .......... 47%  212M 0s\n",
            " 43350K .......... .......... .......... .......... .......... 47%  150M 0s\n",
            " 43400K .......... .......... .......... .......... .......... 47%  168M 0s\n",
            " 43450K .......... .......... .......... .......... .......... 47%  166M 0s\n",
            " 43500K .......... .......... .......... .......... .......... 47%  161M 0s\n",
            " 43550K .......... .......... .......... .......... .......... 47% 78.8M 0s\n",
            " 43600K .......... .......... .......... .......... .......... 47%  176M 0s\n",
            " 43650K .......... .......... .......... .......... .......... 47%  181M 0s\n",
            " 43700K .......... .......... .......... .......... .......... 47%  197M 0s\n",
            " 43750K .......... .......... .......... .......... .......... 47%  159M 0s\n",
            " 43800K .......... .......... .......... .......... .......... 47%  179M 0s\n",
            " 43850K .......... .......... .......... .......... .......... 47%  170M 0s\n",
            " 43900K .......... .......... .......... .......... .......... 47%  188M 0s\n",
            " 43950K .......... .......... .......... .......... .......... 47%  175M 0s\n",
            " 44000K .......... .......... .......... .......... .......... 47% 76.8M 0s\n",
            " 44050K .......... .......... .......... .......... .......... 47% 99.3M 0s\n",
            " 44100K .......... .......... .......... .......... .......... 47%  103M 0s\n",
            " 44150K .......... .......... .......... .......... .......... 48%  166M 0s\n",
            " 44200K .......... .......... .......... .......... .......... 48%  205M 0s\n",
            " 44250K .......... .......... .......... .......... .......... 48%  203M 0s\n",
            " 44300K .......... .......... .......... .......... .......... 48%  151M 0s\n",
            " 44350K .......... .......... .......... .......... .......... 48%  162M 0s\n",
            " 44400K .......... .......... .......... .......... .......... 48%  181M 0s\n",
            " 44450K .......... .......... .......... .......... .......... 48%  155M 0s\n",
            " 44500K .......... .......... .......... .......... .......... 48%  208M 0s\n",
            " 44550K .......... .......... .......... .......... .......... 48%  173M 0s\n",
            " 44600K .......... .......... .......... .......... .......... 48%  223M 0s\n",
            " 44650K .......... .......... .......... .......... .......... 48%  152M 0s\n",
            " 44700K .......... .......... .......... .......... .......... 48%  183M 0s\n",
            " 44750K .......... .......... .......... .......... .......... 48%  186M 0s\n",
            " 44800K .......... .......... .......... .......... .......... 48%  202M 0s\n",
            " 44850K .......... .......... .......... .......... .......... 48%  199M 0s\n",
            " 44900K .......... .......... .......... .......... .......... 48%  214M 0s\n",
            " 44950K .......... .......... .......... .......... .......... 48%  134M 0s\n",
            " 45000K .......... .......... .......... .......... .......... 48%  142M 0s\n",
            " 45050K .......... .......... .......... .......... .......... 49%  158M 0s\n",
            " 45100K .......... .......... .......... .......... .......... 49%  151M 0s\n",
            " 45150K .......... .......... .......... .......... .......... 49%  173M 0s\n",
            " 45200K .......... .......... .......... .......... .......... 49%  212M 0s\n",
            " 45250K .......... .......... .......... .......... .......... 49%  213M 0s\n",
            " 45300K .......... .......... .......... .......... .......... 49%  154M 0s\n",
            " 45350K .......... .......... .......... .......... .......... 49%  137M 0s\n",
            " 45400K .......... .......... .......... .......... .......... 49%  207M 0s\n",
            " 45450K .......... .......... .......... .......... .......... 49%  208M 0s\n",
            " 45500K .......... .......... .......... .......... .......... 49%  203M 0s\n",
            " 45550K .......... .......... .......... .......... .......... 49%  152M 0s\n",
            " 45600K .......... .......... .......... .......... .......... 49%  148M 0s\n",
            " 45650K .......... .......... .......... .......... .......... 49%  159M 0s\n",
            " 45700K .......... .......... .......... .......... .......... 49%  160M 0s\n",
            " 45750K .......... .......... .......... .......... .......... 49%  162M 0s\n",
            " 45800K .......... .......... .......... .......... .......... 49%  206M 0s\n",
            " 45850K .......... .......... .......... .......... .......... 49%  203M 0s\n",
            " 45900K .......... .......... .......... .......... .......... 49%  194M 0s\n",
            " 45950K .......... .......... .......... .......... .......... 49%  144M 0s\n",
            " 46000K .......... .......... .......... .......... .......... 50%  149M 0s\n",
            " 46050K .......... .......... .......... .......... .......... 50%  159M 0s\n",
            " 46100K .......... .......... .......... .......... .......... 50%  208M 0s\n",
            " 46150K .......... .......... .......... .......... .......... 50%  173M 0s\n",
            " 46200K .......... .......... .......... .......... .......... 50%  146M 0s\n",
            " 46250K .......... .......... .......... .......... .......... 50%  203M 0s\n",
            " 46300K .......... .......... .......... .......... .......... 50%  135M 0s\n",
            " 46350K .......... .......... .......... .......... .......... 50%  170M 0s\n",
            " 46400K .......... .......... .......... .......... .......... 50%  197M 0s\n",
            " 46450K .......... .......... .......... .......... .......... 50%  212M 0s\n",
            " 46500K .......... .......... .......... .......... .......... 50%  208M 0s\n",
            " 46550K .......... .......... .......... .......... .......... 50%  129M 0s\n",
            " 46600K .......... .......... .......... .......... .......... 50%  175M 0s\n",
            " 46650K .......... .......... .......... .......... .......... 50%  162M 0s\n",
            " 46700K .......... .......... .......... .......... .......... 50%  175M 0s\n",
            " 46750K .......... .......... .......... .......... .......... 50%  174M 0s\n",
            " 46800K .......... .......... .......... .......... .......... 50%  206M 0s\n",
            " 46850K .......... .......... .......... .......... .......... 50%  204M 0s\n",
            " 46900K .......... .......... .......... .......... .......... 51%  212M 0s\n",
            " 46950K .......... .......... .......... .......... .......... 51%  161M 0s\n",
            " 47000K .......... .......... .......... .......... .......... 51%  202M 0s\n",
            " 47050K .......... .......... .......... .......... .......... 51%  208M 0s\n",
            " 47100K .......... .......... .......... .......... .......... 51%  205M 0s\n",
            " 47150K .......... .......... .......... .......... .......... 51%  179M 0s\n",
            " 47200K .......... .......... .......... .......... .......... 51%  209M 0s\n",
            " 47250K .......... .......... .......... .......... .......... 51%  205M 0s\n",
            " 47300K .......... .......... .......... .......... .......... 51%  201M 0s\n",
            " 47350K .......... .......... .......... .......... .......... 51%  161M 0s\n",
            " 47400K .......... .......... .......... .......... .......... 51%  210M 0s\n",
            " 47450K .......... .......... .......... .......... .......... 51%  204M 0s\n",
            " 47500K .......... .......... .......... .......... .......... 51%  128M 0s\n",
            " 47550K .......... .......... .......... .......... .......... 51%  106M 0s\n",
            " 47600K .......... .......... .......... .......... .......... 51%  200M 0s\n",
            " 47650K .......... .......... .......... .......... .......... 51%  110M 0s\n",
            " 47700K .......... .......... .......... .......... .......... 51%  107M 0s\n",
            " 47750K .......... .......... .......... .......... .......... 51%  105M 0s\n",
            " 47800K .......... .......... .......... .......... .......... 51%  208M 0s\n",
            " 47850K .......... .......... .......... .......... .......... 52%  210M 0s\n",
            " 47900K .......... .......... .......... .......... .......... 52%  211M 0s\n",
            " 47950K .......... .......... .......... .......... .......... 52%  153M 0s\n",
            " 48000K .......... .......... .......... .......... .......... 52%  212M 0s\n",
            " 48050K .......... .......... .......... .......... .......... 52%  247M 0s\n",
            " 48100K .......... .......... .......... .......... .......... 52%  216M 0s\n",
            " 48150K .......... .......... .......... .......... .......... 52%  152M 0s\n",
            " 48200K .......... .......... .......... .......... .......... 52%  201M 0s\n",
            " 48250K .......... .......... .......... .......... .......... 52%  205M 0s\n",
            " 48300K .......... .......... .......... .......... .......... 52%  204M 0s\n",
            " 48350K .......... .......... .......... .......... .......... 52%  178M 0s\n",
            " 48400K .......... .......... .......... .......... .......... 52%  208M 0s\n",
            " 48450K .......... .......... .......... .......... .......... 52%  206M 0s\n",
            " 48500K .......... .......... .......... .......... .......... 52%  211M 0s\n",
            " 48550K .......... .......... .......... .......... .......... 52%  159M 0s\n",
            " 48600K .......... .......... .......... .......... .......... 52%  208M 0s\n",
            " 48650K .......... .......... .......... .......... .......... 52%  198M 0s\n",
            " 48700K .......... .......... .......... .......... .......... 52%  195M 0s\n",
            " 48750K .......... .......... .......... .......... .......... 53%  183M 0s\n",
            " 48800K .......... .......... .......... .......... .......... 53%  240M 0s\n",
            " 48850K .......... .......... .......... .......... .......... 53%  238M 0s\n",
            " 48900K .......... .......... .......... .......... .......... 53%  241M 0s\n",
            " 48950K .......... .......... .......... .......... .......... 53%  191M 0s\n",
            " 49000K .......... .......... .......... .......... .......... 53% 86.0M 0s\n",
            " 49050K .......... .......... .......... .......... .......... 53%  154M 0s\n",
            " 49100K .......... .......... .......... .......... .......... 53%  171M 0s\n",
            " 49150K .......... .......... .......... .......... .......... 53%  162M 0s\n",
            " 49200K .......... .......... .......... .......... .......... 53%  161M 0s\n",
            " 49250K .......... .......... .......... .......... .......... 53%  142M 0s\n",
            " 49300K .......... .......... .......... .......... .......... 53%  204M 0s\n",
            " 49350K .......... .......... .......... .......... .......... 53%  147M 0s\n",
            " 49400K .......... .......... .......... .......... .......... 53%  196M 0s\n",
            " 49450K .......... .......... .......... .......... .......... 53%  205M 0s\n",
            " 49500K .......... .......... .......... .......... .......... 53%  173M 0s\n",
            " 49550K .......... .......... .......... .......... .......... 53%  172M 0s\n",
            " 49600K .......... .......... .......... .......... .......... 53%  181M 0s\n",
            " 49650K .......... .......... .......... .......... .......... 54%  164M 0s\n",
            " 49700K .......... .......... .......... .......... .......... 54%  190M 0s\n",
            " 49750K .......... .......... .......... .......... .......... 54%  141M 0s\n",
            " 49800K .......... .......... .......... .......... .......... 54%  162M 0s\n",
            " 49850K .......... .......... .......... .......... .......... 54%  163M 0s\n",
            " 49900K .......... .......... .......... .......... .......... 54%  188M 0s\n",
            " 49950K .......... .......... .......... .......... .......... 54%  135M 0s\n",
            " 50000K .......... .......... .......... .......... .......... 54%  169M 0s\n",
            " 50050K .......... .......... .......... .......... .......... 54%  193M 0s\n",
            " 50100K .......... .......... .......... .......... .......... 54%  159M 0s\n",
            " 50150K .......... .......... .......... .......... .......... 54%  135M 0s\n",
            " 50200K .......... .......... .......... .......... .......... 54%  199M 0s\n",
            " 50250K .......... .......... .......... .......... .......... 54%  164M 0s\n",
            " 50300K .......... .......... .......... .......... .......... 54%  163M 0s\n",
            " 50350K .......... .......... .......... .......... .......... 54%  164M 0s\n",
            " 50400K .......... .......... .......... .......... .......... 54%  167M 0s\n",
            " 50450K .......... .......... .......... .......... .......... 54%  144M 0s\n",
            " 50500K .......... .......... .......... .......... .......... 54%  156M 0s\n",
            " 50550K .......... .......... .......... .......... .......... 54%  130M 0s\n",
            " 50600K .......... .......... .......... .......... .......... 55%  181M 0s\n",
            " 50650K .......... .......... .......... .......... .......... 55%  178M 0s\n",
            " 50700K .......... .......... .......... .......... .......... 55%  162M 0s\n",
            " 50750K .......... .......... .......... .......... .......... 55%  117M 0s\n",
            " 50800K .......... .......... .......... .......... .......... 55%  150M 0s\n",
            " 50850K .......... .......... .......... .......... .......... 55%  160M 0s\n",
            " 50900K .......... .......... .......... .......... .......... 55%  118M 0s\n",
            " 50950K .......... .......... .......... .......... .......... 55%  107M 0s\n",
            " 51000K .......... .......... .......... .......... .......... 55% 36.2M 0s\n",
            " 51050K .......... .......... .......... .......... .......... 55%  138M 0s\n",
            " 51100K .......... .......... .......... .......... .......... 55%  210M 0s\n",
            " 51150K .......... .......... .......... .......... .......... 55%  157M 0s\n",
            " 51200K .......... .......... .......... .......... .......... 55% 92.4M 0s\n",
            " 51250K .......... .......... .......... .......... .......... 55%  215M 0s\n",
            " 51300K .......... .......... .......... .......... .......... 55%  167M 0s\n",
            " 51350K .......... .......... .......... .......... .......... 55%  143M 0s\n",
            " 51400K .......... .......... .......... .......... .......... 55%  173M 0s\n",
            " 51450K .......... .......... .......... .......... .......... 55%  185M 0s\n",
            " 51500K .......... .......... .......... .......... .......... 56%  202M 0s\n",
            " 51550K .......... .......... .......... .......... .......... 56%  181M 0s\n",
            " 51600K .......... .......... .......... .......... .......... 56%  165M 0s\n",
            " 51650K .......... .......... .......... .......... .......... 56%  154M 0s\n",
            " 51700K .......... .......... .......... .......... .......... 56%  199M 0s\n",
            " 51750K .......... .......... .......... .......... .......... 56%  147M 0s\n",
            " 51800K .......... .......... .......... .......... .......... 56%  155M 0s\n",
            " 51850K .......... .......... .......... .......... .......... 56%  207M 0s\n",
            " 51900K .......... .......... .......... .......... .......... 56%  196M 0s\n",
            " 51950K .......... .......... .......... .......... .......... 56%  193M 0s\n",
            " 52000K .......... .......... .......... .......... .......... 56%  164M 0s\n",
            " 52050K .......... .......... .......... .......... .......... 56%  166M 0s\n",
            " 52100K .......... .......... .......... .......... .......... 56%  213M 0s\n",
            " 52150K .......... .......... .......... .......... .......... 56%  174M 0s\n",
            " 52200K .......... .......... .......... .......... .......... 56%  213M 0s\n",
            " 52250K .......... .......... .......... .......... .......... 56%  156M 0s\n",
            " 52300K .......... .......... .......... .......... .......... 56%  141M 0s\n",
            " 52350K .......... .......... .......... .......... .......... 56%  149M 0s\n",
            " 52400K .......... .......... .......... .......... .......... 56%  143M 0s\n",
            " 52450K .......... .......... .......... .......... .......... 57%  211M 0s\n",
            " 52500K .......... .......... .......... .......... .......... 57%  220M 0s\n",
            " 52550K .......... .......... .......... .......... .......... 57%  175M 0s\n",
            " 52600K .......... .......... .......... .......... .......... 57%  175M 0s\n",
            " 52650K .......... .......... .......... .......... .......... 57%  140M 0s\n",
            " 52700K .......... .......... .......... .......... .......... 57%  210M 0s\n",
            " 52750K .......... .......... .......... .......... .......... 57%  182M 0s\n",
            " 52800K .......... .......... .......... .......... .......... 57%  194M 0s\n",
            " 52850K .......... .......... .......... .......... .......... 57%  208M 0s\n",
            " 52900K .......... .......... .......... .......... .......... 57%  157M 0s\n",
            " 52950K .......... .......... .......... .......... .......... 57%  117M 0s\n",
            " 53000K .......... .......... .......... .......... .......... 57%  174M 0s\n",
            " 53050K .......... .......... .......... .......... .......... 57%  175M 0s\n",
            " 53100K .......... .......... .......... .......... .......... 57%  174M 0s\n",
            " 53150K .......... .......... .......... .......... .......... 57%  187M 0s\n",
            " 53200K .......... .......... .......... .......... .......... 57%  213M 0s\n",
            " 53250K .......... .......... .......... .......... .......... 57%  214M 0s\n",
            " 53300K .......... .......... .......... .......... .......... 57%  130M 0s\n",
            " 53350K .......... .......... .......... .......... .......... 58%  147M 0s\n",
            " 53400K .......... .......... .......... .......... .......... 58%  205M 0s\n",
            " 53450K .......... .......... .......... .......... .......... 58%  210M 0s\n",
            " 53500K .......... .......... .......... .......... .......... 58%  194M 0s\n",
            " 53550K .......... .......... .......... .......... .......... 58%  133M 0s\n",
            " 53600K .......... .......... .......... .......... .......... 58%  169M 0s\n",
            " 53650K .......... .......... .......... .......... .......... 58%  193M 0s\n",
            " 53700K .......... .......... .......... .......... .......... 58%  146M 0s\n",
            " 53750K .......... .......... .......... .......... .......... 58%  172M 0s\n",
            " 53800K .......... .......... .......... .......... .......... 58%  207M 0s\n",
            " 53850K .......... .......... .......... .......... .......... 58%  189M 0s\n",
            " 53900K .......... .......... .......... .......... .......... 58%  182M 0s\n",
            " 53950K .......... .......... .......... .......... .......... 58%  128M 0s\n",
            " 54000K .......... .......... .......... .......... .......... 58%  194M 0s\n",
            " 54050K .......... .......... .......... .......... .......... 58%  207M 0s\n",
            " 54100K .......... .......... .......... .......... .......... 58%  208M 0s\n",
            " 54150K .......... .......... .......... .......... .......... 58%  148M 0s\n",
            " 54200K .......... .......... .......... .......... .......... 58%  127M 0s\n",
            " 54250K .......... .......... .......... .......... .......... 59%  161M 0s\n",
            " 54300K .......... .......... .......... .......... .......... 59%  154M 0s\n",
            " 54350K .......... .......... .......... .......... .......... 59%  176M 0s\n",
            " 54400K .......... .......... .......... .......... .......... 59%  208M 0s\n",
            " 54450K .......... .......... .......... .......... .......... 59%  213M 0s\n",
            " 54500K .......... .......... .......... .......... .......... 59%  200M 0s\n",
            " 54550K .......... .......... .......... .......... .......... 59%  124M 0s\n",
            " 54600K .......... .......... .......... .......... .......... 59%  169M 0s\n",
            " 54650K .......... .......... .......... .......... .......... 59%  197M 0s\n",
            " 54700K .......... .......... .......... .......... .......... 59%  193M 0s\n",
            " 54750K .......... .......... .......... .......... .......... 59%  194M 0s\n",
            " 54800K .......... .......... .......... .......... .......... 59%  155M 0s\n",
            " 54850K .......... .......... .......... .......... .......... 59%  123M 0s\n",
            " 54900K .......... .......... .......... .......... .......... 59%  133M 0s\n",
            " 54950K .......... .......... .......... .......... .......... 59%  137M 0s\n",
            " 55000K .......... .......... .......... .......... .......... 59%  191M 0s\n",
            " 55050K .......... .......... .......... .......... .......... 59%  202M 0s\n",
            " 55100K .......... .......... .......... .......... .......... 59%  209M 0s\n",
            " 55150K .......... .......... .......... .......... .......... 59%  129M 0s\n",
            " 55200K .......... .......... .......... .......... .......... 60%  166M 0s\n",
            " 55250K .......... .......... .......... .......... .......... 60%  203M 0s\n",
            " 55300K .......... .......... .......... .......... .......... 60%  192M 0s\n",
            " 55350K .......... .......... .......... .......... .......... 60%  169M 0s\n",
            " 55400K .......... .......... .......... .......... .......... 60%  136M 0s\n",
            " 55450K .......... .......... .......... .......... .......... 60%  166M 0s\n",
            " 55500K .......... .......... .......... .......... .......... 60%  174M 0s\n",
            " 55550K .......... .......... .......... .......... .......... 60%  150M 0s\n",
            " 55600K .......... .......... .......... .......... .......... 60%  208M 0s\n",
            " 55650K .......... .......... .......... .......... .......... 60%  206M 0s\n",
            " 55700K .......... .......... .......... .......... .......... 60%  200M 0s\n",
            " 55750K .......... .......... .......... .......... .......... 60%  130M 0s\n",
            " 55800K .......... .......... .......... .......... .......... 60%  172M 0s\n",
            " 55850K .......... .......... .......... .......... .......... 60%  203M 0s\n",
            " 55900K .......... .......... .......... .......... .......... 60%  192M 0s\n",
            " 55950K .......... .......... .......... .......... .......... 60%  188M 0s\n",
            " 56000K .......... .......... .......... .......... .......... 60%  187M 0s\n",
            " 56050K .......... .......... .......... .......... .......... 60%  150M 0s\n",
            " 56100K .......... .......... .......... .......... .......... 61%  142M 0s\n",
            " 56150K .......... .......... .......... .......... .......... 61%  141M 0s\n",
            " 56200K .......... .......... .......... .......... .......... 61%  199M 0s\n",
            " 56250K .......... .......... .......... .......... .......... 61%  199M 0s\n",
            " 56300K .......... .......... .......... .......... .......... 61%  206M 0s\n",
            " 56350K .......... .......... .......... .......... .......... 61%  188M 0s\n",
            " 56400K .......... .......... .......... .......... .......... 61%  149M 0s\n",
            " 56450K .......... .......... .......... .......... .......... 61%  175M 0s\n",
            " 56500K .......... .......... .......... .......... .......... 61%  199M 0s\n",
            " 56550K .......... .......... .......... .......... .......... 61%  172M 0s\n",
            " 56600K .......... .......... .......... .......... .......... 61%  192M 0s\n",
            " 56650K .......... .......... .......... .......... .......... 61%  153M 0s\n",
            " 56700K .......... .......... .......... .......... .......... 61%  132M 0s\n",
            " 56750K .......... .......... .......... .......... .......... 61%  147M 0s\n",
            " 56800K .......... .......... .......... .......... .......... 61%  206M 0s\n",
            " 56850K .......... .......... .......... .......... .......... 61%  207M 0s\n",
            " 56900K .......... .......... .......... .......... .......... 61%  210M 0s\n",
            " 56950K .......... .......... .......... .......... .......... 61%  159M 0s\n",
            " 57000K .......... .......... .......... .......... .......... 61%  196M 0s\n",
            " 57050K .......... .......... .......... .......... .......... 62%  139M 0s\n",
            " 57100K .......... .......... .......... .......... .......... 62%  150M 0s\n",
            " 57150K .......... .......... .......... .......... .......... 62%  174M 0s\n",
            " 57200K .......... .......... .......... .......... .......... 62%  211M 0s\n",
            " 57250K .......... .......... .......... .......... .......... 62%  204M 0s\n",
            " 57300K .......... .......... .......... .......... .......... 62%  131M 0s\n",
            " 57350K .......... .......... .......... .......... .......... 62%  144M 0s\n",
            " 57400K .......... .......... .......... .......... .......... 62%  205M 0s\n",
            " 57450K .......... .......... .......... .......... .......... 62%  200M 0s\n",
            " 57500K .......... .......... .......... .......... .......... 62%  195M 0s\n",
            " 57550K .......... .......... .......... .......... .......... 62%  189M 0s\n",
            " 57600K .......... .......... .......... .......... .......... 62%  200M 0s\n",
            " 57650K .......... .......... .......... .......... .......... 62%  194M 0s\n",
            " 57700K .......... .......... .......... .......... .......... 62%  139M 0s\n",
            " 57750K .......... .......... .......... .......... .......... 62%  113M 0s\n",
            " 57800K .......... .......... .......... .......... .......... 62%  200M 0s\n",
            " 57850K .......... .......... .......... .......... .......... 62%  195M 0s\n",
            " 57900K .......... .......... .......... .......... .......... 62%  153M 0s\n",
            " 57950K .......... .......... .......... .......... .......... 63%  157M 0s\n",
            " 58000K .......... .......... .......... .......... .......... 63%  200M 0s\n",
            " 58050K .......... .......... .......... .......... .......... 63%  208M 0s\n",
            " 58100K .......... .......... .......... .......... .......... 63%  207M 0s\n",
            " 58150K .......... .......... .......... .......... .......... 63%  167M 0s\n",
            " 58200K .......... .......... .......... .......... .......... 63%  194M 0s\n",
            " 58250K .......... .......... .......... .......... .......... 63%  206M 0s\n",
            " 58300K .......... .......... .......... .......... .......... 63%  175M 0s\n",
            " 58350K .......... .......... .......... .......... .......... 63%  150M 0s\n",
            " 58400K .......... .......... .......... .......... .......... 63%  161M 0s\n",
            " 58450K .......... .......... .......... .......... .......... 63%  165M 0s\n",
            " 58500K .......... .......... .......... .......... .......... 63%  157M 0s\n",
            " 58550K .......... .......... .......... .......... .......... 63%  127M 0s\n",
            " 58600K .......... .......... .......... .......... .......... 63%  164M 0s\n",
            " 58650K .......... .......... .......... .......... .......... 63%  161M 0s\n",
            " 58700K .......... .......... .......... .......... .......... 63%  187M 0s\n",
            " 58750K .......... .......... .......... .......... .......... 63%  182M 0s\n",
            " 58800K .......... .......... .......... .......... .......... 63%  192M 0s\n",
            " 58850K .......... .......... .......... .......... .......... 64%  196M 0s\n",
            " 58900K .......... .......... .......... .......... .......... 64%  152M 0s\n",
            " 58950K .......... .......... .......... .......... .......... 64% 95.5M 0s\n",
            " 59000K .......... .......... .......... .......... .......... 64%  145M 0s\n",
            " 59050K .......... .......... .......... .......... .......... 64%  161M 0s\n",
            " 59100K .......... .......... .......... .......... .......... 64%  174M 0s\n",
            " 59150K .......... .......... .......... .......... .......... 64%  147M 0s\n",
            " 59200K .......... .......... .......... .......... .......... 64%  148M 0s\n",
            " 59250K .......... .......... .......... .......... .......... 64%  205M 0s\n",
            " 59300K .......... .......... .......... .......... .......... 64%  204M 0s\n",
            " 59350K .......... .......... .......... .......... .......... 64%  158M 0s\n",
            " 59400K .......... .......... .......... .......... .......... 64%  206M 0s\n",
            " 59450K .......... .......... .......... .......... .......... 64%  204M 0s\n",
            " 59500K .......... .......... .......... .......... .......... 64%  134M 0s\n",
            " 59550K .......... .......... .......... .......... .......... 64%  143M 0s\n",
            " 59600K .......... .......... .......... .......... .......... 64%  158M 0s\n",
            " 59650K .......... .......... .......... .......... .......... 64%  204M 0s\n",
            " 59700K .......... .......... .......... .......... .......... 64%  134M 0s\n",
            " 59750K .......... .......... .......... .......... .......... 64%  168M 0s\n",
            " 59800K .......... .......... .......... .......... .......... 65%  153M 0s\n",
            " 59850K .......... .......... .......... .......... .......... 65%  148M 0s\n",
            " 59900K .......... .......... .......... .......... .......... 65%  201M 0s\n",
            " 59950K .......... .......... .......... .......... .......... 65%  184M 0s\n",
            " 60000K .......... .......... .......... .......... .......... 65%  206M 0s\n",
            " 60050K .......... .......... .......... .......... .......... 65%  199M 0s\n",
            " 60100K .......... .......... .......... .......... .......... 65%  152M 0s\n",
            " 60150K .......... .......... .......... .......... .......... 65%  137M 0s\n",
            " 60200K .......... .......... .......... .......... .......... 65%  166M 0s\n",
            " 60250K .......... .......... .......... .......... .......... 65%  205M 0s\n",
            " 60300K .......... .......... .......... .......... .......... 65%  181M 0s\n",
            " 60350K .......... .......... .......... .......... .......... 65%  137M 0s\n",
            " 60400K .......... .......... .......... .......... .......... 65%  169M 0s\n",
            " 60450K .......... .......... .......... .......... .......... 65%  205M 0s\n",
            " 60500K .......... .......... .......... .......... .......... 65%  164M 0s\n",
            " 60550K .......... .......... .......... .......... .......... 65%  163M 0s\n",
            " 60600K .......... .......... .......... .......... .......... 65%  208M 0s\n",
            " 60650K .......... .......... .......... .......... .......... 65%  190M 0s\n",
            " 60700K .......... .......... .......... .......... .......... 66%  161M 0s\n",
            " 60750K .......... .......... .......... .......... .......... 66%  157M 0s\n",
            " 60800K .......... .......... .......... .......... .......... 66%  169M 0s\n",
            " 60850K .......... .......... .......... .......... .......... 66%  161M 0s\n",
            " 60900K .......... .......... .......... .......... .......... 66%  168M 0s\n",
            " 60950K .......... .......... .......... .......... .......... 66%  134M 0s\n",
            " 61000K .......... .......... .......... .......... .......... 66%  161M 0s\n",
            " 61050K .......... .......... .......... .......... .......... 66%  200M 0s\n",
            " 61100K .......... .......... .......... .......... .......... 66%  176M 0s\n",
            " 61150K .......... .......... .......... .......... .......... 66%  178M 0s\n",
            " 61200K .......... .......... .......... .......... .......... 66%  220M 0s\n",
            " 61250K .......... .......... .......... .......... .......... 66%  198M 0s\n",
            " 61300K .......... .......... .......... .......... .......... 66%  200M 0s\n",
            " 61350K .......... .......... .......... .......... .......... 66%  134M 0s\n",
            " 61400K .......... .......... .......... .......... .......... 66%  131M 0s\n",
            " 61450K .......... .......... .......... .......... .......... 66%  149M 0s\n",
            " 61500K .......... .......... .......... .......... .......... 66%  183M 0s\n",
            " 61550K .......... .......... .......... .......... .......... 66%  148M 0s\n",
            " 61600K .......... .......... .......... .......... .......... 66%  189M 0s\n",
            " 61650K .......... .......... .......... .......... .......... 67%  181M 0s\n",
            " 61700K .......... .......... .......... .......... .......... 67%  205M 0s\n",
            " 61750K .......... .......... .......... .......... .......... 67%  128M 0s\n",
            " 61800K .......... .......... .......... .......... .......... 67%  187M 0s\n",
            " 61850K .......... .......... .......... .......... .......... 67%  212M 0s\n",
            " 61900K .......... .......... .......... .......... .......... 67%  212M 0s\n",
            " 61950K .......... .......... .......... .......... .......... 67%  142M 0s\n",
            " 62000K .......... .......... .......... .......... .......... 67%  181M 0s\n",
            " 62050K .......... .......... .......... .......... .......... 67%  179M 0s\n",
            " 62100K .......... .......... .......... .......... .......... 67%  173M 0s\n",
            " 62150K .......... .......... .......... .......... .......... 67%  137M 0s\n",
            " 62200K .......... .......... .......... .......... .......... 67%  138M 0s\n",
            " 62250K .......... .......... .......... .......... .......... 67%  144M 0s\n",
            " 62300K .......... .......... .......... .......... .......... 67%  190M 0s\n",
            " 62350K .......... .......... .......... .......... .......... 67%  145M 0s\n",
            " 62400K .......... .......... .......... .......... .......... 67%  211M 0s\n",
            " 62450K .......... .......... .......... .......... .......... 67%  183M 0s\n",
            " 62500K .......... .......... .......... .......... .......... 67%  210M 0s\n",
            " 62550K .......... .......... .......... .......... .......... 68%  185M 0s\n",
            " 62600K .......... .......... .......... .......... .......... 68%  149M 0s\n",
            " 62650K .......... .......... .......... .......... .......... 68%  145M 0s\n",
            " 62700K .......... .......... .......... .......... .......... 68%  175M 0s\n",
            " 62750K .......... .......... .......... .......... .......... 68%  162M 0s\n",
            " 62800K .......... .......... .......... .......... .......... 68%  167M 0s\n",
            " 62850K .......... .......... .......... .......... .......... 68%  178M 0s\n",
            " 62900K .......... .......... .......... .......... .......... 68%  194M 0s\n",
            " 62950K .......... .......... .......... .......... .......... 68%  168M 0s\n",
            " 63000K .......... .......... .......... .......... .......... 68%  147M 0s\n",
            " 63050K .......... .......... .......... .......... .......... 68%  206M 0s\n",
            " 63100K .......... .......... .......... .......... .......... 68%  209M 0s\n",
            " 63150K .......... .......... .......... .......... .......... 68%  189M 0s\n",
            " 63200K .......... .......... .......... .......... .......... 68%  149M 0s\n",
            " 63250K .......... .......... .......... .......... .......... 68%  165M 0s\n",
            " 63300K .......... .......... .......... .......... .......... 68%  154M 0s\n",
            " 63350K .......... .......... .......... .......... .......... 68%  133M 0s\n",
            " 63400K .......... .......... .......... .......... .......... 68%  183M 0s\n",
            " 63450K .......... .......... .......... .......... .......... 69%  207M 0s\n",
            " 63500K .......... .......... .......... .......... .......... 69%  152M 0s\n",
            " 63550K .......... .......... .......... .......... .......... 69%  167M 0s\n",
            " 63600K .......... .......... .......... .......... .......... 69%  209M 0s\n",
            " 63650K .......... .......... .......... .......... .......... 69%  204M 0s\n",
            " 63700K .......... .......... .......... .......... .......... 69%  193M 0s\n",
            " 63750K .......... .......... .......... .......... .......... 69%  173M 0s\n",
            " 63800K .......... .......... .......... .......... .......... 69%  229M 0s\n",
            " 63850K .......... .......... .......... .......... .......... 69%  141M 0s\n",
            " 63900K .......... .......... .......... .......... .......... 69%  156M 0s\n",
            " 63950K .......... .......... .......... .......... .......... 69%  168M 0s\n",
            " 64000K .......... .......... .......... .......... .......... 69%  201M 0s\n",
            " 64050K .......... .......... .......... .......... .......... 69%  160M 0s\n",
            " 64100K .......... .......... .......... .......... .......... 69%  136M 0s\n",
            " 64150K .......... .......... .......... .......... .......... 69%  146M 0s\n",
            " 64200K .......... .......... .......... .......... .......... 69%  131M 0s\n",
            " 64250K .......... .......... .......... .......... .......... 69%  156M 0s\n",
            " 64300K .......... .......... .......... .......... .......... 69%  176M 0s\n",
            " 64350K .......... .......... .......... .......... .......... 69%  167M 0s\n",
            " 64400K .......... .......... .......... .......... .......... 70%  172M 0s\n",
            " 64450K .......... .......... .......... .......... .......... 70%  176M 0s\n",
            " 64500K .......... .......... .......... .......... .......... 70%  161M 0s\n",
            " 64550K .......... .......... .......... .......... .......... 70%  160M 0s\n",
            " 64600K .......... .......... .......... .......... .......... 70%  202M 0s\n",
            " 64650K .......... .......... .......... .......... .......... 70%  159M 0s\n",
            " 64700K .......... .......... .......... .......... .......... 70%  186M 0s\n",
            " 64750K .......... .......... .......... .......... .......... 70%  154M 0s\n",
            " 64800K .......... .......... .......... .......... .......... 70%  161M 0s\n",
            " 64850K .......... .......... .......... .......... .......... 70%  196M 0s\n",
            " 64900K .......... .......... .......... .......... .......... 70%  162M 0s\n",
            " 64950K .......... .......... .......... .......... .......... 70%  156M 0s\n",
            " 65000K .......... .......... .......... .......... .......... 70%  206M 0s\n",
            " 65050K .......... .......... .......... .......... .......... 70%  148M 0s\n",
            " 65100K .......... .......... .......... .......... .......... 70%  183M 0s\n",
            " 65150K .......... .......... .......... .......... .......... 70%  174M 0s\n",
            " 65200K .......... .......... .......... .......... .......... 70%  165M 0s\n",
            " 65250K .......... .......... .......... .......... .......... 70%  161M 0s\n",
            " 65300K .......... .......... .......... .......... .......... 71%  176M 0s\n",
            " 65350K .......... .......... .......... .......... .......... 71%  137M 0s\n",
            " 65400K .......... .......... .......... .......... .......... 71%  192M 0s\n",
            " 65450K .......... .......... .......... .......... .......... 71%  170M 0s\n",
            " 65500K .......... .......... .......... .......... .......... 71%  185M 0s\n",
            " 65550K .......... .......... .......... .......... .......... 71%  145M 0s\n",
            " 65600K .......... .......... .......... .......... .......... 71%  206M 0s\n",
            " 65650K .......... .......... .......... .......... .......... 71%  158M 0s\n",
            " 65700K .......... .......... .......... .......... .......... 71%  157M 0s\n",
            " 65750K .......... .......... .......... .......... .......... 71%  164M 0s\n",
            " 65800K .......... .......... .......... .......... .......... 71%  211M 0s\n",
            " 65850K .......... .......... .......... .......... .......... 71%  210M 0s\n",
            " 65900K .......... .......... .......... .......... .......... 71%  155M 0s\n",
            " 65950K .......... .......... .......... .......... .......... 71%  152M 0s\n",
            " 66000K .......... .......... .......... .......... .......... 71%  179M 0s\n",
            " 66050K .......... .......... .......... .......... .......... 71%  158M 0s\n",
            " 66100K .......... .......... .......... .......... .......... 71%  187M 0s\n",
            " 66150K .......... .......... .......... .......... .......... 71%  172M 0s\n",
            " 66200K .......... .......... .......... .......... .......... 71%  208M 0s\n",
            " 66250K .......... .......... .......... .......... .......... 72%  198M 0s\n",
            " 66300K .......... .......... .......... .......... .......... 72%  156M 0s\n",
            " 66350K .......... .......... .......... .......... .......... 72%  143M 0s\n",
            " 66400K .......... .......... .......... .......... .......... 72%  205M 0s\n",
            " 66450K .......... .......... .......... .......... .......... 72%  187M 0s\n",
            " 66500K .......... .......... .......... .......... .......... 72%  178M 0s\n",
            " 66550K .......... .......... .......... .......... .......... 72%  133M 0s\n",
            " 66600K .......... .......... .......... .......... .......... 72%  103M 0s\n",
            " 66650K .......... .......... .......... .......... .......... 72%  162M 0s\n",
            " 66700K .......... .......... .......... .......... .......... 72%  170M 0s\n",
            " 66750K .......... .......... .......... .......... .......... 72%  161M 0s\n",
            " 66800K .......... .......... .......... .......... .......... 72%  210M 0s\n",
            " 66850K .......... .......... .......... .......... .......... 72%  218M 0s\n",
            " 66900K .......... .......... .......... .......... .......... 72%  164M 0s\n",
            " 66950K .......... .......... .......... .......... .......... 72%  145M 0s\n",
            " 67000K .......... .......... .......... .......... .......... 72%  208M 0s\n",
            " 67050K .......... .......... .......... .......... .......... 72%  220M 0s\n",
            " 67100K .......... .......... .......... .......... .......... 72%  196M 0s\n",
            " 67150K .......... .......... .......... .......... .......... 73%  117M 0s\n",
            " 67200K .......... .......... .......... .......... .......... 73%  157M 0s\n",
            " 67250K .......... .......... .......... .......... .......... 73%  161M 0s\n",
            " 67300K .......... .......... .......... .......... .......... 73%  157M 0s\n",
            " 67350K .......... .......... .......... .......... .......... 73%  166M 0s\n",
            " 67400K .......... .......... .......... .......... .......... 73%  201M 0s\n",
            " 67450K .......... .......... .......... .......... .......... 73%  200M 0s\n",
            " 67500K .......... .......... .......... .......... .......... 73%  142M 0s\n",
            " 67550K .......... .......... .......... .......... .......... 73%  148M 0s\n",
            " 67600K .......... .......... .......... .......... .......... 73%  170M 0s\n",
            " 67650K .......... .......... .......... .......... .......... 73%  195M 0s\n",
            " 67700K .......... .......... .......... .......... .......... 73%  209M 0s\n",
            " 67750K .......... .......... .......... .......... .......... 73%  132M 0s\n",
            " 67800K .......... .......... .......... .......... .......... 73%  144M 0s\n",
            " 67850K .......... .......... .......... .......... .......... 73%  154M 0s\n",
            " 67900K .......... .......... .......... .......... .......... 73%  177M 0s\n",
            " 67950K .......... .......... .......... .......... .......... 73%  133M 0s\n",
            " 68000K .......... .......... .......... .......... .......... 73%  201M 0s\n",
            " 68050K .......... .......... .......... .......... .......... 73%  190M 0s\n",
            " 68100K .......... .......... .......... .......... .......... 74%  151M 0s\n",
            " 68150K .......... .......... .......... .......... .......... 74%  128M 0s\n",
            " 68200K .......... .......... .......... .......... .......... 74%  202M 0s\n",
            " 68250K .......... .......... .......... .......... .......... 74%  204M 0s\n",
            " 68300K .......... .......... .......... .......... .......... 74%  194M 0s\n",
            " 68350K .......... .......... .......... .......... .......... 74%  140M 0s\n",
            " 68400K .......... .......... .......... .......... .......... 74%  178M 0s\n",
            " 68450K .......... .......... .......... .......... .......... 74%  151M 0s\n",
            " 68500K .......... .......... .......... .......... .......... 74%  192M 0s\n",
            " 68550K .......... .......... .......... .......... .......... 74%  152M 0s\n",
            " 68600K .......... .......... .......... .......... .......... 74%  206M 0s\n",
            " 68650K .......... .......... .......... .......... .......... 74%  176M 0s\n",
            " 68700K .......... .......... .......... .......... .......... 74%  166M 0s\n",
            " 68750K .......... .......... .......... .......... .......... 74%  178M 0s\n",
            " 68800K .......... .......... .......... .......... .......... 74%  176M 0s\n",
            " 68850K .......... .......... .......... .......... .......... 74%  160M 0s\n",
            " 68900K .......... .......... .......... .......... .......... 74%  206M 0s\n",
            " 68950K .......... .......... .......... .......... .......... 74%  172M 0s\n",
            " 69000K .......... .......... .......... .......... .......... 75%  147M 0s\n",
            " 69050K .......... .......... .......... .......... .......... 75%  187M 0s\n",
            " 69100K .......... .......... .......... .......... .......... 75%  167M 0s\n",
            " 69150K .......... .......... .......... .......... .......... 75%  150M 0s\n",
            " 69200K .......... .......... .......... .......... .......... 75%  185M 0s\n",
            " 69250K .......... .......... .......... .......... .......... 75%  196M 0s\n",
            " 69300K .......... .......... .......... .......... .......... 75%  167M 0s\n",
            " 69350K .......... .......... .......... .......... .......... 75%  141M 0s\n",
            " 69400K .......... .......... .......... .......... .......... 75%  204M 0s\n",
            " 69450K .......... .......... .......... .......... .......... 75%  157M 0s\n",
            " 69500K .......... .......... .......... .......... .......... 75%  163M 0s\n",
            " 69550K .......... .......... .......... .......... .......... 75%  174M 0s\n",
            " 69600K .......... .......... .......... .......... .......... 75%  155M 0s\n",
            " 69650K .......... .......... .......... .......... .......... 75%  173M 0s\n",
            " 69700K .......... .......... .......... .......... .......... 75%  188M 0s\n",
            " 69750K .......... .......... .......... .......... .......... 75%  172M 0s\n",
            " 69800K .......... .......... .......... .......... .......... 75%  157M 0s\n",
            " 69850K .......... .......... .......... .......... .......... 75%  204M 0s\n",
            " 69900K .......... .......... .......... .......... .......... 76%  147M 0s\n",
            " 69950K .......... .......... .......... .......... .......... 76%  163M 0s\n",
            " 70000K .......... .......... .......... .......... .......... 76%  206M 0s\n",
            " 70050K .......... .......... .......... .......... .......... 76%  165M 0s\n",
            " 70100K .......... .......... .......... .......... .......... 76%  179M 0s\n",
            " 70150K .......... .......... .......... .......... .......... 76%  174M 0s\n",
            " 70200K .......... .......... .......... .......... .......... 76%  198M 0s\n",
            " 70250K .......... .......... .......... .......... .......... 76%  140M 0s\n",
            " 70300K .......... .......... .......... .......... .......... 76%  153M 0s\n",
            " 70350K .......... .......... .......... .......... .......... 76%  185M 0s\n",
            " 70400K .......... .......... .......... .......... .......... 76%  191M 0s\n",
            " 70450K .......... .......... .......... .......... .......... 76%  182M 0s\n",
            " 70500K .......... .......... .......... .......... .......... 76%  176M 0s\n",
            " 70550K .......... .......... .......... .......... .......... 76%  135M 0s\n",
            " 70600K .......... .......... .......... .......... .......... 76%  192M 0s\n",
            " 70650K .......... .......... .......... .......... .......... 76%  201M 0s\n",
            " 70700K .......... .......... .......... .......... .......... 76%  159M 0s\n",
            " 70750K .......... .......... .......... .......... .......... 76%  152M 0s\n",
            " 70800K .......... .......... .......... .......... .......... 76%  181M 0s\n",
            " 70850K .......... .......... .......... .......... .......... 77%  158M 0s\n",
            " 70900K .......... .......... .......... .......... .......... 77%  182M 0s\n",
            " 70950K .......... .......... .......... .......... .......... 77%  133M 0s\n",
            " 71000K .......... .......... .......... .......... .......... 77%  202M 0s\n",
            " 71050K .......... .......... .......... .......... .......... 77%  210M 0s\n",
            " 71100K .......... .......... .......... .......... .......... 77%  198M 0s\n",
            " 71150K .......... .......... .......... .......... .......... 77%  138M 0s\n",
            " 71200K .......... .......... .......... .......... .......... 77%  173M 0s\n",
            " 71250K .......... .......... .......... .......... .......... 77%  204M 0s\n",
            " 71300K .......... .......... .......... .......... .......... 77%  196M 0s\n",
            " 71350K .......... .......... .......... .......... .......... 77%  137M 0s\n",
            " 71400K .......... .......... .......... .......... .......... 77%  174M 0s\n",
            " 71450K .......... .......... .......... .......... .......... 77%  165M 0s\n",
            " 71500K .......... .......... .......... .......... .......... 77%  161M 0s\n",
            " 71550K .......... .......... .......... .......... .......... 77%  182M 0s\n",
            " 71600K .......... .......... .......... .......... .......... 77%  176M 0s\n",
            " 71650K .......... .......... .......... .......... .......... 77%  195M 0s\n",
            " 71700K .......... .......... .......... .......... .......... 77%  206M 0s\n",
            " 71750K .......... .......... .......... .......... .......... 78%  143M 0s\n",
            " 71800K .......... .......... .......... .......... .......... 78%  155M 0s\n",
            " 71850K .......... .......... .......... .......... .......... 78%  181M 0s\n",
            " 71900K .......... .......... .......... .......... .......... 78%  213M 0s\n",
            " 71950K .......... .......... .......... .......... .......... 78%  157M 0s\n",
            " 72000K .......... .......... .......... .......... .......... 78%  149M 0s\n",
            " 72050K .......... .......... .......... .......... .......... 78%  183M 0s\n",
            " 72100K .......... .......... .......... .......... .......... 78%  193M 0s\n",
            " 72150K .......... .......... .......... .......... .......... 78%  153M 0s\n",
            " 72200K .......... .......... .......... .......... .......... 78%  210M 0s\n",
            " 72250K .......... .......... .......... .......... .......... 78%  157M 0s\n",
            " 72300K .......... .......... .......... .......... .......... 78%  165M 0s\n",
            " 72350K .......... .......... .......... .......... .......... 78%  179M 0s\n",
            " 72400K .......... .......... .......... .......... .......... 78%  160M 0s\n",
            " 72450K .......... .......... .......... .......... .......... 78%  150M 0s\n",
            " 72500K .......... .......... .......... .......... .......... 78%  170M 0s\n",
            " 72550K .......... .......... .......... .......... .......... 78%  158M 0s\n",
            " 72600K .......... .......... .......... .......... .......... 78%  144M 0s\n",
            " 72650K .......... .......... .......... .......... .......... 78%  162M 0s\n",
            " 72700K .......... .......... .......... .......... .......... 79%  207M 0s\n",
            " 72750K .......... .......... .......... .......... .......... 79%  197M 0s\n",
            " 72800K .......... .......... .......... .......... .......... 79%  209M 0s\n",
            " 72850K .......... .......... .......... .......... .......... 79%  169M 0s\n",
            " 72900K .......... .......... .......... .......... .......... 79%  153M 0s\n",
            " 72950K .......... .......... .......... .......... .......... 79%  126M 0s\n",
            " 73000K .......... .......... .......... .......... .......... 79%  157M 0s\n",
            " 73050K .......... .......... .......... .......... .......... 79%  178M 0s\n",
            " 73100K .......... .......... .......... .......... .......... 79%  167M 0s\n",
            " 73150K .......... .......... .......... .......... .......... 79%  181M 0s\n",
            " 73200K .......... .......... .......... .......... .......... 79%  152M 0s\n",
            " 73250K .......... .......... .......... .......... .......... 79%  210M 0s\n",
            " 73300K .......... .......... .......... .......... .......... 79%  214M 0s\n",
            " 73350K .......... .......... .......... .......... .......... 79%  175M 0s\n",
            " 73400K .......... .......... .......... .......... .......... 79%  199M 0s\n",
            " 73450K .......... .......... .......... .......... .......... 79%  214M 0s\n",
            " 73500K .......... .......... .......... .......... .......... 79%  159M 0s\n",
            " 73550K .......... .......... .......... .......... .......... 79%  152M 0s\n",
            " 73600K .......... .......... .......... .......... .......... 80%  160M 0s\n",
            " 73650K .......... .......... .......... .......... .......... 80%  186M 0s\n",
            " 73700K .......... .......... .......... .......... .......... 80%  193M 0s\n",
            " 73750K .......... .......... .......... .......... .......... 80%  134M 0s\n",
            " 73800K .......... .......... .......... .......... .......... 80%  206M 0s\n",
            " 73850K .......... .......... .......... .......... .......... 80%  176M 0s\n",
            " 73900K .......... .......... .......... .......... .......... 80%  191M 0s\n",
            " 73950K .......... .......... .......... .......... .......... 80%  184M 0s\n",
            " 74000K .......... .......... .......... .......... .......... 80%  212M 0s\n",
            " 74050K .......... .......... .......... .......... .......... 80%  209M 0s\n",
            " 74100K .......... .......... .......... .......... .......... 80%  206M 0s\n",
            " 74150K .......... .......... .......... .......... .......... 80%  126M 0s\n",
            " 74200K .......... .......... .......... .......... .......... 80%  160M 0s\n",
            " 74250K .......... .......... .......... .......... .......... 80%  165M 0s\n",
            " 74300K .......... .......... .......... .......... .......... 80%  144M 0s\n",
            " 74350K .......... .......... .......... .......... .......... 80%  154M 0s\n",
            " 74400K .......... .......... .......... .......... .......... 80%  106M 0s\n",
            " 74450K .......... .......... .......... .......... .......... 80%  161M 0s\n",
            " 74500K .......... .......... .......... .......... .......... 81%  187M 0s\n",
            " 74550K .......... .......... .......... .......... .......... 81%  165M 0s\n",
            " 74600K .......... .......... .......... .......... .......... 81%  197M 0s\n",
            " 74650K .......... .......... .......... .......... .......... 81%  210M 0s\n",
            " 74700K .......... .......... .......... .......... .......... 81%  205M 0s\n",
            " 74750K .......... .......... .......... .......... .......... 81%  115M 0s\n",
            " 74800K .......... .......... .......... .......... .......... 81%  163M 0s\n",
            " 74850K .......... .......... .......... .......... .......... 81%  173M 0s\n",
            " 74900K .......... .......... .......... .......... .......... 81%  164M 0s\n",
            " 74950K .......... .......... .......... .......... .......... 81%  135M 0s\n",
            " 75000K .......... .......... .......... .......... .......... 81%  205M 0s\n",
            " 75050K .......... .......... .......... .......... .......... 81%  163M 0s\n",
            " 75100K .......... .......... .......... .......... .......... 81%  156M 0s\n",
            " 75150K .......... .......... .......... .......... .......... 81%  181M 0s\n",
            " 75200K .......... .......... .......... .......... .......... 81%  205M 0s\n",
            " 75250K .......... .......... .......... .......... .......... 81%  182M 0s\n",
            " 75300K .......... .......... .......... .......... .......... 81%  193M 0s\n",
            " 75350K .......... .......... .......... .......... .......... 81%  128M 0s\n",
            " 75400K .......... .......... .......... .......... .......... 81%  171M 0s\n",
            " 75450K .......... .......... .......... .......... .......... 82% 78.5M 0s\n",
            " 75500K .......... .......... .......... .......... .......... 82%  130M 0s\n",
            " 75550K .......... .......... .......... .......... .......... 82%  131M 0s\n",
            " 75600K .......... .......... .......... .......... .......... 82%  153M 0s\n",
            " 75650K .......... .......... .......... .......... .......... 82%  158M 0s\n",
            " 75700K .......... .......... .......... .......... .......... 82%  161M 0s\n",
            " 75750K .......... .......... .......... .......... .......... 82%  172M 0s\n",
            " 75800K .......... .......... .......... .......... .......... 82%  205M 0s\n",
            " 75850K .......... .......... .......... .......... .......... 82%  198M 0s\n",
            " 75900K .......... .......... .......... .......... .......... 82%  150M 0s\n",
            " 75950K .......... .......... .......... .......... .......... 82%  151M 0s\n",
            " 76000K .......... .......... .......... .......... .......... 82%  140M 0s\n",
            " 76050K .......... .......... .......... .......... .......... 82%  196M 0s\n",
            " 76100K .......... .......... .......... .......... .......... 82%  208M 0s\n",
            " 76150K .......... .......... .......... .......... .......... 82%  176M 0s\n",
            " 76200K .......... .......... .......... .......... .......... 82%  157M 0s\n",
            " 76250K .......... .......... .......... .......... .......... 82%  151M 0s\n",
            " 76300K .......... .......... .......... .......... .......... 82%  176M 0s\n",
            " 76350K .......... .......... .......... .......... .......... 83%  179M 0s\n",
            " 76400K .......... .......... .......... .......... .......... 83%  192M 0s\n",
            " 76450K .......... .......... .......... .......... .......... 83%  206M 0s\n",
            " 76500K .......... .......... .......... .......... .......... 83%  164M 0s\n",
            " 76550K .......... .......... .......... .......... .......... 83%  124M 0s\n",
            " 76600K .......... .......... .......... .......... .......... 83%  201M 0s\n",
            " 76650K .......... .......... .......... .......... .......... 83%  161M 0s\n",
            " 76700K .......... .......... .......... .......... .......... 83%  163M 0s\n",
            " 76750K .......... .......... .......... .......... .......... 83%  174M 0s\n",
            " 76800K .......... .......... .......... .......... .......... 83%  202M 0s\n",
            " 76850K .......... .......... .......... .......... .......... 83%  149M 0s\n",
            " 76900K .......... .......... .......... .......... .......... 83%  157M 0s\n",
            " 76950K .......... .......... .......... .......... .......... 83%  165M 0s\n",
            " 77000K .......... .......... .......... .......... .......... 83%  212M 0s\n",
            " 77050K .......... .......... .......... .......... .......... 83%  202M 0s\n",
            " 77100K .......... .......... .......... .......... .......... 83%  168M 0s\n",
            " 77150K .......... .......... .......... .......... .......... 83%  138M 0s\n",
            " 77200K .......... .......... .......... .......... .......... 83%  180M 0s\n",
            " 77250K .......... .......... .......... .......... .......... 83%  158M 0s\n",
            " 77300K .......... .......... .......... .......... .......... 84%  167M 0s\n",
            " 77350K .......... .......... .......... .......... .......... 84%  145M 0s\n",
            " 77400K .......... .......... .......... .......... .......... 84%  190M 0s\n",
            " 77450K .......... .......... .......... .......... .......... 84%  176M 0s\n",
            " 77500K .......... .......... .......... .......... .......... 84%  168M 0s\n",
            " 77550K .......... .......... .......... .......... .......... 84%  181M 0s\n",
            " 77600K .......... .......... .......... .......... .......... 84%  188M 0s\n",
            " 77650K .......... .......... .......... .......... .......... 84%  211M 0s\n",
            " 77700K .......... .......... .......... .......... .......... 84%  208M 0s\n",
            " 77750K .......... .......... .......... .......... .......... 84%  133M 0s\n",
            " 77800K .......... .......... .......... .......... .......... 84%  166M 0s\n",
            " 77850K .......... .......... .......... .......... .......... 84%  177M 0s\n",
            " 77900K .......... .......... .......... .......... .......... 84%  158M 0s\n",
            " 77950K .......... .......... .......... .......... .......... 84%  151M 0s\n",
            " 78000K .......... .......... .......... .......... .......... 84%  184M 0s\n",
            " 78050K .......... .......... .......... .......... .......... 84%  188M 0s\n",
            " 78100K .......... .......... .......... .......... .......... 84%  163M 0s\n",
            " 78150K .......... .......... .......... .......... .......... 84%  169M 0s\n",
            " 78200K .......... .......... .......... .......... .......... 85%  207M 0s\n",
            " 78250K .......... .......... .......... .......... .......... 85%  212M 0s\n",
            " 78300K .......... .......... .......... .......... .......... 85%  204M 0s\n",
            " 78350K .......... .......... .......... .......... .......... 85%  148M 0s\n",
            " 78400K .......... .......... .......... .......... .......... 85%  168M 0s\n",
            " 78450K .......... .......... .......... .......... .......... 85%  156M 0s\n",
            " 78500K .......... .......... .......... .......... .......... 85%  181M 0s\n",
            " 78550K .......... .......... .......... .......... .......... 85%  140M 0s\n",
            " 78600K .......... .......... .......... .......... .......... 85%  174M 0s\n",
            " 78650K .......... .......... .......... .......... .......... 85%  161M 0s\n",
            " 78700K .......... .......... .......... .......... .......... 85%  150M 0s\n",
            " 78750K .......... .......... .......... .......... .......... 85%  214M 0s\n",
            " 78800K .......... .......... .......... .......... .......... 85%  216M 0s\n",
            " 78850K .......... .......... .......... .......... .......... 85%  188M 0s\n",
            " 78900K .......... .......... .......... .......... .......... 85%  209M 0s\n",
            " 78950K .......... .......... .......... .......... .......... 85%  175M 0s\n",
            " 79000K .......... .......... .......... .......... .......... 85%  161M 0s\n",
            " 79050K .......... .......... .......... .......... .......... 85%  150M 0s\n",
            " 79100K .......... .......... .......... .......... .......... 86%  159M 0s\n",
            " 79150K .......... .......... .......... .......... .......... 86%  160M 0s\n",
            " 79200K .......... .......... .......... .......... .......... 86%  152M 0s\n",
            " 79250K .......... .......... .......... .......... .......... 86%  200M 0s\n",
            " 79300K .......... .......... .......... .......... .......... 86%  167M 0s\n",
            " 79350K .......... .......... .......... .......... .......... 86%  126M 0s\n",
            " 79400K .......... .......... .......... .......... .......... 86%  206M 0s\n",
            " 79450K .......... .......... .......... .......... .......... 86%  198M 0s\n",
            " 79500K .......... .......... .......... .......... .......... 86%  196M 0s\n",
            " 79550K .......... .......... .......... .......... .......... 86%  179M 0s\n",
            " 79600K .......... .......... .......... .......... .......... 86%  174M 0s\n",
            " 79650K .......... .......... .......... .......... .......... 86%  175M 0s\n",
            " 79700K .......... .......... .......... .......... .......... 86%  172M 0s\n",
            " 79750K .......... .......... .......... .......... .......... 86%  138M 0s\n",
            " 79800K .......... .......... .......... .......... .......... 86%  138M 0s\n",
            " 79850K .......... .......... .......... .......... .......... 86%  174M 0s\n",
            " 79900K .......... .......... .......... .......... .......... 86%  190M 0s\n",
            " 79950K .......... .......... .......... .......... .......... 86%  130M 0s\n",
            " 80000K .......... .......... .......... .......... .......... 86%  154M 0s\n",
            " 80050K .......... .......... .......... .......... .......... 87%  194M 0s\n",
            " 80100K .......... .......... .......... .......... .......... 87%  205M 0s\n",
            " 80150K .......... .......... .......... .......... .......... 87%  174M 0s\n",
            " 80200K .......... .......... .......... .......... .......... 87%  207M 0s\n",
            " 80250K .......... .......... .......... .......... .......... 87%  140M 0s\n",
            " 80300K .......... .......... .......... .......... .......... 87%  211M 0s\n",
            " 80350K .......... .......... .......... .......... .......... 87%  133M 0s\n",
            " 80400K .......... .......... .......... .......... .......... 87%  157M 0s\n",
            " 80450K .......... .......... .......... .......... .......... 87%  188M 0s\n",
            " 80500K .......... .......... .......... .......... .......... 87%  230M 0s\n",
            " 80550K .......... .......... .......... .......... .......... 87%  122M 0s\n",
            " 80600K .......... .......... .......... .......... .......... 87%  179M 0s\n",
            " 80650K .......... .......... .......... .......... .......... 87%  165M 0s\n",
            " 80700K .......... .......... .......... .......... .......... 87%  197M 0s\n",
            " 80750K .......... .......... .......... .......... .......... 87%  174M 0s\n",
            " 80800K .......... .......... .......... .......... .......... 87%  115M 0s\n",
            " 80850K .......... .......... .......... .......... .......... 87% 80.3M 0s\n",
            " 80900K .......... .......... .......... .......... .......... 87% 95.5M 0s\n",
            " 80950K .......... .......... .......... .......... .......... 88% 76.0M 0s\n",
            " 81000K .......... .......... .......... .......... .......... 88% 83.1M 0s\n",
            " 81050K .......... .......... .......... .......... .......... 88%  107M 0s\n",
            " 81100K .......... .......... .......... .......... .......... 88%  196M 0s\n",
            " 81150K .......... .......... .......... .......... .......... 88%  178M 0s\n",
            " 81200K .......... .......... .......... .......... .......... 88%  144M 0s\n",
            " 81250K .......... .......... .......... .......... .......... 88%  180M 0s\n",
            " 81300K .......... .......... .......... .......... .......... 88%  196M 0s\n",
            " 81350K .......... .......... .......... .......... .......... 88%  140M 0s\n",
            " 81400K .......... .......... .......... .......... .......... 88%  200M 0s\n",
            " 81450K .......... .......... .......... .......... .......... 88%  157M 0s\n",
            " 81500K .......... .......... .......... .......... .......... 88%  183M 0s\n",
            " 81550K .......... .......... .......... .......... .......... 88%  150M 0s\n",
            " 81600K .......... .......... .......... .......... .......... 88%  194M 0s\n",
            " 81650K .......... .......... .......... .......... .......... 88%  211M 0s\n",
            " 81700K .......... .......... .......... .......... .......... 88%  208M 0s\n",
            " 81750K .......... .......... .......... .......... .......... 88%  159M 0s\n",
            " 81800K .......... .......... .......... .......... .......... 88%  206M 0s\n",
            " 81850K .......... .......... .......... .......... .......... 88%  167M 0s\n",
            " 81900K .......... .......... .......... .......... .......... 89%  152M 0s\n",
            " 81950K .......... .......... .......... .......... .......... 89% 96.5M 0s\n",
            " 82000K .......... .......... .......... .......... .......... 89%  100M 0s\n",
            " 82050K .......... .......... .......... .......... .......... 89% 72.7M 0s\n",
            " 82100K .......... .......... .......... .......... .......... 89% 99.2M 0s\n",
            " 82150K .......... .......... .......... .......... .......... 89% 82.7M 0s\n",
            " 82200K .......... .......... .......... .......... .......... 89%  106M 0s\n",
            " 82250K .......... .......... .......... .......... .......... 89%  151M 0s\n",
            " 82300K .......... .......... .......... .......... .......... 89%  152M 0s\n",
            " 82350K .......... .......... .......... .......... .......... 89%  139M 0s\n",
            " 82400K .......... .......... .......... .......... .......... 89%  162M 0s\n",
            " 82450K .......... .......... .......... .......... .......... 89%  192M 0s\n",
            " 82500K .......... .......... .......... .......... .......... 89%  152M 0s\n",
            " 82550K .......... .......... .......... .......... .......... 89%  168M 0s\n",
            " 82600K .......... .......... .......... .......... .......... 89%  203M 0s\n",
            " 82650K .......... .......... .......... .......... .......... 89%  198M 0s\n",
            " 82700K .......... .......... .......... .......... .......... 89%  194M 0s\n",
            " 82750K .......... .......... .......... .......... .......... 89%  141M 0s\n",
            " 82800K .......... .......... .......... .......... .......... 90%  204M 0s\n",
            " 82850K .......... .......... .......... .......... .......... 90%  190M 0s\n",
            " 82900K .......... .......... .......... .......... .......... 90%  157M 0s\n",
            " 82950K .......... .......... .......... .......... .......... 90%  145M 0s\n",
            " 83000K .......... .......... .......... .......... .......... 90%  199M 0s\n",
            " 83050K .......... .......... .......... .......... .......... 90%  169M 0s\n",
            " 83100K .......... .......... .......... .......... .......... 90%  172M 0s\n",
            " 83150K .......... .......... .......... .......... .......... 90%  154M 0s\n",
            " 83200K .......... .......... .......... .......... .......... 90%  194M 0s\n",
            " 83250K .......... .......... .......... .......... .......... 90%  209M 0s\n",
            " 83300K .......... .......... .......... .......... .......... 90%  208M 0s\n",
            " 83350K .......... .......... .......... .......... .......... 90%  150M 0s\n",
            " 83400K .......... .......... .......... .......... .......... 90%  148M 0s\n",
            " 83450K .......... .......... .......... .......... .......... 90%  176M 0s\n",
            " 83500K .......... .......... .......... .......... .......... 90%  172M 0s\n",
            " 83550K .......... .......... .......... .......... .......... 90%  142M 0s\n",
            " 83600K .......... .......... .......... .......... .......... 90%  183M 0s\n",
            " 83650K .......... .......... .......... .......... .......... 90%  194M 0s\n",
            " 83700K .......... .......... .......... .......... .......... 91%  208M 0s\n",
            " 83750K .......... .......... .......... .......... .......... 91%  130M 0s\n",
            " 83800K .......... .......... .......... .......... .......... 91%  173M 0s\n",
            " 83850K .......... .......... .......... .......... .......... 91%  207M 0s\n",
            " 83900K .......... .......... .......... .......... .......... 91%  189M 0s\n",
            " 83950K .......... .......... .......... .......... .......... 91%  184M 0s\n",
            " 84000K .......... .......... .......... .......... .......... 91%  164M 0s\n",
            " 84050K .......... .......... .......... .......... .......... 91%  201M 0s\n",
            " 84100K .......... .......... .......... .......... .......... 91%  158M 0s\n",
            " 84150K .......... .......... .......... .......... .......... 91%  168M 0s\n",
            " 84200K .......... .......... .......... .......... .......... 91%  202M 0s\n",
            " 84250K .......... .......... .......... .......... .......... 91%  205M 0s\n",
            " 84300K .......... .......... .......... .......... .......... 91%  149M 0s\n",
            " 84350K .......... .......... .......... .......... .......... 91%  119M 0s\n",
            " 84400K .......... .......... .......... .......... .......... 91%  157M 0s\n",
            " 84450K .......... .......... .......... .......... .......... 91%  170M 0s\n",
            " 84500K .......... .......... .......... .......... .......... 91%  163M 0s\n",
            " 84550K .......... .......... .......... .......... .......... 91%  146M 0s\n",
            " 84600K .......... .......... .......... .......... .......... 91%  146M 0s\n",
            " 84650K .......... .......... .......... .......... .......... 92%  180M 0s\n",
            " 84700K .......... .......... .......... .......... .......... 92%  183M 0s\n",
            " 84750K .......... .......... .......... .......... .......... 92%  160M 0s\n",
            " 84800K .......... .......... .......... .......... .......... 92%  206M 0s\n",
            " 84850K .......... .......... .......... .......... .......... 92%  210M 0s\n",
            " 84900K .......... .......... .......... .......... .......... 92%  156M 0s\n",
            " 84950K .......... .......... .......... .......... .......... 92%  145M 0s\n",
            " 85000K .......... .......... .......... .......... .......... 92%  178M 0s\n",
            " 85050K .......... .......... .......... .......... .......... 92%  165M 0s\n",
            " 85100K .......... .......... .......... .......... .......... 92%  189M 0s\n",
            " 85150K .......... .......... .......... .......... .......... 92%  151M 0s\n",
            " 85200K .......... .......... .......... .......... .......... 92%  202M 0s\n",
            " 85250K .......... .......... .......... .......... .......... 92%  141M 0s\n",
            " 85300K .......... .......... .......... .......... .......... 92%  192M 0s\n",
            " 85350K .......... .......... .......... .......... .......... 92%  132M 0s\n",
            " 85400K .......... .......... .......... .......... .......... 92%  167M 0s\n",
            " 85450K .......... .......... .......... .......... .......... 92%  192M 0s\n",
            " 85500K .......... .......... .......... .......... .......... 92%  173M 0s\n",
            " 85550K .......... .......... .......... .......... .......... 93%  160M 0s\n",
            " 85600K .......... .......... .......... .......... .......... 93%  173M 0s\n",
            " 85650K .......... .......... .......... .......... .......... 93%  190M 0s\n",
            " 85700K .......... .......... .......... .......... .......... 93%  205M 0s\n",
            " 85750K .......... .......... .......... .......... .......... 93%  145M 0s\n",
            " 85800K .......... .......... .......... .......... .......... 93%  140M 0s\n",
            " 85850K .......... .......... .......... .......... .......... 93%  200M 0s\n",
            " 85900K .......... .......... .......... .......... .......... 93%  144M 0s\n",
            " 85950K .......... .......... .......... .......... .......... 93%  123M 0s\n",
            " 86000K .......... .......... .......... .......... .......... 93%  178M 0s\n",
            " 86050K .......... .......... .......... .......... .......... 93%  188M 0s\n",
            " 86100K .......... .......... .......... .......... .......... 93%  202M 0s\n",
            " 86150K .......... .......... .......... .......... .......... 93%  161M 0s\n",
            " 86200K .......... .......... .......... .......... .......... 93%  212M 0s\n",
            " 86250K .......... .......... .......... .......... .......... 93%  168M 0s\n",
            " 86300K .......... .......... .......... .......... .......... 93%  199M 0s\n",
            " 86350K .......... .......... .......... .......... .......... 93%  149M 0s\n",
            " 86400K .......... .......... .......... .......... .......... 93%  168M 0s\n",
            " 86450K .......... .......... .......... .......... .......... 93%  171M 0s\n",
            " 86500K .......... .......... .......... .......... .......... 94%  174M 0s\n",
            " 86550K .......... .......... .......... .......... .......... 94%  156M 0s\n",
            " 86600K .......... .......... .......... .......... .......... 94%  160M 0s\n",
            " 86650K .......... .......... .......... .......... .......... 94%  163M 0s\n",
            " 86700K .......... .......... .......... .......... .......... 94%  209M 0s\n",
            " 86750K .......... .......... .......... .......... .......... 94%  187M 0s\n",
            " 86800K .......... .......... .......... .......... .......... 94%  209M 0s\n",
            " 86850K .......... .......... .......... .......... .......... 94%  187M 0s\n",
            " 86900K .......... .......... .......... .......... .......... 94%  151M 0s\n",
            " 86950K .......... .......... .......... .......... .......... 94%  149M 0s\n",
            " 87000K .......... .......... .......... .......... .......... 94%  148M 0s\n",
            " 87050K .......... .......... .......... .......... .......... 94%  202M 0s\n",
            " 87100K .......... .......... .......... .......... .......... 94%  203M 0s\n",
            " 87150K .......... .......... .......... .......... .......... 94%  183M 0s\n",
            " 87200K .......... .......... .......... .......... .......... 94%  190M 0s\n",
            " 87250K .......... .......... .......... .......... .......... 94%  201M 0s\n",
            " 87300K .......... .......... .......... .......... .......... 94%  205M 0s\n",
            " 87350K .......... .......... .......... .......... .......... 94%  167M 0s\n",
            " 87400K .......... .......... .......... .......... .......... 95%  140M 0s\n",
            " 87450K .......... .......... .......... .......... .......... 95%  158M 0s\n",
            " 87500K .......... .......... .......... .......... .......... 95%  143M 0s\n",
            " 87550K .......... .......... .......... .......... .......... 95%  113M 0s\n",
            " 87600K .......... .......... .......... .......... .......... 95%  157M 0s\n",
            " 87650K .......... .......... .......... .......... .......... 95%  167M 0s\n",
            " 87700K .......... .......... .......... .......... .......... 95%  145M 0s\n",
            " 87750K .......... .......... .......... .......... .......... 95%  149M 0s\n",
            " 87800K .......... .......... .......... .......... .......... 95%  200M 0s\n",
            " 87850K .......... .......... .......... .......... .......... 95%  187M 0s\n",
            " 87900K .......... .......... .......... .......... .......... 95%  200M 0s\n",
            " 87950K .......... .......... .......... .......... .......... 95%  183M 0s\n",
            " 88000K .......... .......... .......... .......... .......... 95%  198M 0s\n",
            " 88050K .......... .......... .......... .......... .......... 95%  186M 0s\n",
            " 88100K .......... .......... .......... .......... .......... 95%  206M 0s\n",
            " 88150K .......... .......... .......... .......... .......... 95%  168M 0s\n",
            " 88200K .......... .......... .......... .......... .......... 95%  207M 0s\n",
            " 88250K .......... .......... .......... .......... .......... 95%  191M 0s\n",
            " 88300K .......... .......... .......... .......... .......... 96%  203M 0s\n",
            " 88350K .......... .......... .......... .......... .......... 96%  176M 0s\n",
            " 88400K .......... .......... .......... .......... .......... 96%  204M 0s\n",
            " 88450K .......... .......... .......... .......... .......... 96%  189M 0s\n",
            " 88500K .......... .......... .......... .......... .......... 96%  202M 0s\n",
            " 88550K .......... .......... .......... .......... .......... 96%  170M 0s\n",
            " 88600K .......... .......... .......... .......... .......... 96%  199M 0s\n",
            " 88650K .......... .......... .......... .......... .......... 96%  190M 0s\n",
            " 88700K .......... .......... .......... .......... .......... 96%  203M 0s\n",
            " 88750K .......... .......... .......... .......... .......... 96%  182M 0s\n",
            " 88800K .......... .......... .......... .......... .......... 96%  196M 0s\n",
            " 88850K .......... .......... .......... .......... .......... 96%  192M 0s\n",
            " 88900K .......... .......... .......... .......... .......... 96%  206M 0s\n",
            " 88950K .......... .......... .......... .......... .......... 96%  150M 0s\n",
            " 89000K .......... .......... .......... .......... .......... 96%  199M 0s\n",
            " 89050K .......... .......... .......... .......... .......... 96%  198M 0s\n",
            " 89100K .......... .......... .......... .......... .......... 96%  205M 0s\n",
            " 89150K .......... .......... .......... .......... .......... 96%  191M 0s\n",
            " 89200K .......... .......... .......... .......... .......... 96%  205M 0s\n",
            " 89250K .......... .......... .......... .......... .......... 97%  194M 0s\n",
            " 89300K .......... .......... .......... .......... .......... 97%  208M 0s\n",
            " 89350K .......... .......... .......... .......... .......... 97%  177M 0s\n",
            " 89400K .......... .......... .......... .......... .......... 97%  206M 0s\n",
            " 89450K .......... .......... .......... .......... .......... 97%  196M 0s\n",
            " 89500K .......... .......... .......... .......... .......... 97%  210M 0s\n",
            " 89550K .......... .......... .......... .......... .......... 97%  175M 0s\n",
            " 89600K .......... .......... .......... .......... .......... 97%  208M 0s\n",
            " 89650K .......... .......... .......... .......... .......... 97%  201M 0s\n",
            " 89700K .......... .......... .......... .......... .......... 97%  224M 0s\n",
            " 89750K .......... .......... .......... .......... .......... 97%  171M 0s\n",
            " 89800K .......... .......... .......... .......... .......... 97%  206M 0s\n",
            " 89850K .......... .......... .......... .......... .......... 97%  194M 0s\n",
            " 89900K .......... .......... .......... .......... .......... 97%  210M 0s\n",
            " 89950K .......... .......... .......... .......... .......... 97%  187M 0s\n",
            " 90000K .......... .......... .......... .......... .......... 97%  207M 0s\n",
            " 90050K .......... .......... .......... .......... .......... 97%  192M 0s\n",
            " 90100K .......... .......... .......... .......... .......... 97%  210M 0s\n",
            " 90150K .......... .......... .......... .......... .......... 98%  175M 0s\n",
            " 90200K .......... .......... .......... .......... .......... 98%  200M 0s\n",
            " 90250K .......... .......... .......... .......... .......... 98%  203M 0s\n",
            " 90300K .......... .......... .......... .......... .......... 98%  212M 0s\n",
            " 90350K .......... .......... .......... .......... .......... 98%  183M 0s\n",
            " 90400K .......... .......... .......... .......... .......... 98%  207M 0s\n",
            " 90450K .......... .......... .......... .......... .......... 98%  200M 0s\n",
            " 90500K .......... .......... .......... .......... .......... 98%  208M 0s\n",
            " 90550K .......... .......... .......... .......... .......... 98%  171M 0s\n",
            " 90600K .......... .......... .......... .......... .......... 98%  201M 0s\n",
            " 90650K .......... .......... .......... .......... .......... 98%  194M 0s\n",
            " 90700K .......... .......... .......... .......... .......... 98%  205M 0s\n",
            " 90750K .......... .......... .......... .......... .......... 98%  191M 0s\n",
            " 90800K .......... .......... .......... .......... .......... 98%  207M 0s\n",
            " 90850K .......... .......... .......... .......... .......... 98%  199M 0s\n",
            " 90900K .......... .......... .......... .......... .......... 98%  207M 0s\n",
            " 90950K .......... .......... .......... .......... .......... 98%  177M 0s\n",
            " 91000K .......... .......... .......... .......... .......... 98%  204M 0s\n",
            " 91050K .......... .......... .......... .......... .......... 98%  197M 0s\n",
            " 91100K .......... .......... .......... .......... .......... 99%  210M 0s\n",
            " 91150K .......... .......... .......... .......... .......... 99%  191M 0s\n",
            " 91200K .......... .......... .......... .......... .......... 99%  212M 0s\n",
            " 91250K .......... .......... .......... .......... .......... 99%  193M 0s\n",
            " 91300K .......... .......... .......... .......... .......... 99%  211M 0s\n",
            " 91350K .......... .......... .......... .......... .......... 99%  177M 0s\n",
            " 91400K .......... .......... .......... .......... .......... 99%  212M 0s\n",
            " 91450K .......... .......... .......... .......... .......... 99%  197M 0s\n",
            " 91500K .......... .......... .......... .......... .......... 99%  211M 0s\n",
            " 91550K .......... .......... .......... .......... .......... 99%  189M 0s\n",
            " 91600K .......... .......... .......... .......... .......... 99%  202M 0s\n",
            " 91650K .......... .......... .......... .......... .......... 99%  193M 0s\n",
            " 91700K .......... .......... .......... .......... .......... 99%  202M 0s\n",
            " 91750K .......... .......... .......... .......... .......... 99%  172M 0s\n",
            " 91800K .......... .......... .......... .......... .......... 99%  205M 0s\n",
            " 91850K .......... .......... .......... .......... .......... 99%  191M 0s\n",
            " 91900K .......... .......... .......... .......... .......... 99%  211M 0s\n",
            " 91950K .......... .......... .......... .......... .......... 99%  185M 0s\n",
            " 92000K .......... .......... .......                         100%  217M=0.6s\n",
            "\n",
            "2020-11-24 01:16:28 (155 MB/s) - ‘Miniconda3-latest-Linux-x86_64.sh.1’ saved [94235922/94235922]\n",
            "\n",
            "\r  0%|          | 0/102 [00:00<?, ?it/s]\rExtracting : tqdm-4.51.0-pyhd3eb1b0_0.conda:   0%|          | 0/102 [00:00<?, ?it/s]\rExtracting : conda-4.9.2-py38h06a4308_0.conda:   1%|          | 1/102 [00:00<00:22,  4.47it/s]\rExtracting : conda-4.9.2-py38h06a4308_0.conda:   2%|▏         | 2/102 [00:00<00:11,  8.93it/s]\rExtracting : openssl-1.1.1h-h7b6447c_0.conda:   2%|▏         | 2/102 [00:00<00:11,  8.93it/s] \rExtracting : glib-2.66.1-h92f7085_0.conda:   3%|▎         | 3/102 [00:00<00:11,  8.93it/s]   \rExtracting : glib-2.66.1-h92f7085_0.conda:   4%|▍         | 4/102 [00:00<00:09, 10.27it/s]\rExtracting : readline-8.0-h7b6447c_0.conda:   4%|▍         | 4/102 [00:00<00:09, 10.27it/s]\rExtracting : wheel-0.35.1-pyhd3eb1b0_0.conda:   5%|▍         | 5/102 [00:00<00:09, 10.27it/s]\rExtracting : six-1.15.0-py38h06a4308_0.conda:   6%|▌         | 6/102 [00:00<00:09, 10.27it/s]\rExtracting : pycosat-0.6.3-py38h7b6447c_1.conda:   7%|▋         | 7/102 [00:00<00:09, 10.27it/s]\rExtracting : setuptools-50.3.1-py37h06a4308_1.conda:   8%|▊         | 8/102 [00:00<00:09, 10.27it/s]\rExtracting : setuptools-50.3.1-py37h06a4308_1.conda:   9%|▉         | 9/102 [00:00<00:08, 11.40it/s]\rExtracting : python-3.7.9-h7579374_0.conda:   9%|▉         | 9/102 [00:01<00:08, 11.40it/s]         \rExtracting : python-3.7.9-h7579374_0.conda:  10%|▉         | 10/102 [00:01<00:25,  3.62it/s]\rExtracting : ruamel_yaml-0.15.87-py38h7b6447c_1.conda:  10%|▉         | 10/102 [00:01<00:25,  3.62it/s]\rExtracting : cffi-1.14.3-py38h261ae71_2.conda:  11%|█         | 11/102 [00:01<00:25,  3.62it/s]        \rExtracting : cryptography-3.2.1-py38h3c74f83_1.conda:  12%|█▏        | 12/102 [00:01<00:24,  3.62it/s]\rExtracting : urllib3-1.25.11-py_0.conda:  13%|█▎        | 13/102 [00:01<00:24,  3.62it/s]             \rExtracting : pip-20.2.4-py38h06a4308_0.conda:  14%|█▎        | 14/102 [00:01<00:24,  3.62it/s]\rExtracting : _libgcc_mutex-0.1-main.conda:  15%|█▍        | 15/102 [00:01<00:24,  3.62it/s]   \rExtracting : certifi-2020.6.20-pyhd3eb1b0_3.conda:  16%|█▌        | 16/102 [00:01<00:23,  3.62it/s]\rExtracting : conda-4.9.2-py37h06a4308_0.conda:  17%|█▋        | 17/102 [00:01<00:23,  3.62it/s]    \rExtracting : pycparser-2.20-py_2.conda:  18%|█▊        | 18/102 [00:01<00:23,  3.62it/s]       \rExtracting : pycparser-2.20-py_2.conda:  19%|█▊        | 19/102 [00:01<00:16,  5.02it/s]\rExtracting : setuptools-50.3.1-py38h06a4308_1.conda:  19%|█▊        | 19/102 [00:01<00:16,  5.02it/s]\rExtracting : brotlipy-0.7.0-py38h27cfd23_1003.conda:  20%|█▉        | 20/102 [00:01<00:16,  5.02it/s]\rExtracting : six-1.15.0-py37h06a4308_0.conda:  21%|██        | 21/102 [00:01<00:16,  5.02it/s]       \rExtracting : six-1.15.0-py37h06a4308_0.conda:  22%|██▏       | 22/102 [00:01<00:12,  6.55it/s]\rExtracting : cryptography-3.2.1-py37h3c74f83_1.conda:  22%|██▏       | 22/102 [00:01<00:12,  6.55it/s]\rExtracting : ld_impl_linux-64-2.33.1-h53a641e_7.conda:  23%|██▎       | 23/102 [00:01<00:12,  6.55it/s]\rExtracting : libgcc-ng-9.1.0-hdf63c60_0.conda:  24%|██▎       | 24/102 [00:01<00:11,  6.55it/s]        \rExtracting : libgcc-ng-9.1.0-hdf63c60_0.conda:  25%|██▍       | 25/102 [00:01<00:09,  8.07it/s]\rExtracting : pyopenssl-19.1.0-pyhd3eb1b0_1.conda:  25%|██▍       | 25/102 [00:01<00:09,  8.07it/s]\rExtracting : pysocks-1.7.1-py37_1.conda:  25%|██▌       | 26/102 [00:01<00:09,  8.07it/s]         \rExtracting : zlib-1.2.11-h7b6447c_3.conda:  26%|██▋       | 27/102 [00:01<00:09,  8.07it/s]\rExtracting : tk-8.6.10-hbc83047_0.conda:  27%|██▋       | 28/102 [00:01<00:09,  8.07it/s]  \rExtracting : conda-package-handling-1.7.2-py37h03888b9_0.conda:  28%|██▊       | 29/102 [00:01<00:09,  8.07it/s]\rExtracting : idna-2.10-py_0.conda:  29%|██▉       | 30/102 [00:01<00:08,  8.07it/s]                             \rExtracting : ncurses-6.2-he6710b0_1.conda:  30%|███       | 31/102 [00:02<00:08,  8.07it/s]\rExtracting : ncurses-6.2-he6710b0_1.conda:  31%|███▏      | 32/102 [00:02<00:08,  8.54it/s]\rExtracting : ruamel_yaml-0.15.87-py37h7b6447c_1.conda:  31%|███▏      | 32/102 [00:02<00:08,  8.54it/s]\rExtracting : libffi-3.3-he6710b0_2.conda:  32%|███▏      | 33/102 [00:02<00:08,  8.54it/s]             \rExtracting : python-3.8.5-h7579374_1.conda:  33%|███▎      | 34/102 [00:03<00:07,  8.54it/s]\rExtracting : python-3.8.5-h7579374_1.conda:  34%|███▍      | 35/102 [00:03<00:10,  6.49it/s]\rExtracting : chardet-3.0.4-py37h06a4308_1003.conda:  34%|███▍      | 35/102 [00:03<00:10,  6.49it/s]\rExtracting : conda-package-handling-1.7.2-py38h03888b9_0.conda:  35%|███▌      | 36/102 [00:03<00:10,  6.49it/s]\rExtracting : libedit-3.1.20191231-h14c3975_1.conda:  36%|███▋      | 37/102 [00:03<00:10,  6.49it/s]            \rExtracting : requests-2.24.0-py_0.conda:  37%|███▋      | 38/102 [00:03<00:09,  6.49it/s]           \rExtracting : xz-5.2.5-h7b6447c_0.conda:  38%|███▊      | 39/102 [00:03<00:09,  6.49it/s] \rExtracting : chardet-3.0.4-py38h06a4308_1003.conda:  39%|███▉      | 40/102 [00:03<00:09,  6.49it/s]\rExtracting : sqlite-3.33.0-h62c20be_0.conda:  40%|████      | 41/102 [00:03<00:09,  6.49it/s]       \rExtracting : brotlipy-0.7.0-py37h27cfd23_1003.conda:  41%|████      | 42/102 [00:03<00:09,  6.49it/s]\rExtracting : certifi-2020.11.8-py37h06a4308_0.conda:  42%|████▏     | 43/102 [00:03<00:09,  6.49it/s]\rExtracting : pip-20.2.4-py37h06a4308_0.conda:  43%|████▎     | 44/102 [00:03<00:08,  6.49it/s]       \rExtracting : libstdcxx-ng-9.1.0-hdf63c60_0.conda:  44%|████▍     | 45/102 [00:03<00:08,  6.49it/s]\rExtracting : pysocks-1.7.1-py38h06a4308_0.conda:  45%|████▌     | 46/102 [00:03<00:08,  6.49it/s] \rExtracting : yaml-0.2.5-h7b6447c_0.conda:  46%|████▌     | 47/102 [00:03<00:08,  6.49it/s]       \rExtracting : yaml-0.2.5-h7b6447c_0.conda:  47%|████▋     | 48/102 [00:03<00:05,  9.04it/s]\rExtracting : cffi-1.14.3-py37h261ae71_2.conda:  47%|████▋     | 48/102 [00:03<00:05,  9.04it/s]\rExtracting : ca-certificates-2020.10.14-0.conda:  48%|████▊     | 49/102 [00:03<00:05,  9.04it/s]\rExtracting : pycosat-0.6.3-py37h27cfd23_0.conda:  49%|████▉     | 50/102 [00:03<00:05,  9.04it/s]\rExtracting : lz4-c-1.9.2-he1b5a44_3.tar.bz2:  50%|█████     | 51/102 [00:03<00:05,  9.04it/s]    \rExtracting : olefile-0.46-pyh9f0ad1d_1.tar.bz2:  51%|█████     | 52/102 [00:03<00:05,  9.04it/s]\rExtracting : olefile-0.46-pyh9f0ad1d_1.tar.bz2:  52%|█████▏    | 53/102 [00:03<00:04, 11.83it/s]\rExtracting : rdkit-2020.09.1-py37h0c252aa_0.tar.bz2:  52%|█████▏    | 53/102 [00:09<00:04, 11.83it/s]\rExtracting : xorg-libxau-1.0.9-h14c3975_0.tar.bz2:  53%|█████▎    | 54/102 [00:09<00:04, 11.83it/s]  \rExtracting : xorg-libsm-1.2.3-h84519dc_1000.tar.bz2:  54%|█████▍    | 55/102 [00:09<00:03, 11.83it/s]\rExtracting : libblas-3.9.0-3_openblas.tar.bz2:  55%|█████▍    | 56/102 [00:09<00:03, 11.83it/s]      \rExtracting : zstd-1.4.5-h6597ccf_2.tar.bz2:  56%|█████▌    | 57/102 [00:09<00:03, 11.83it/s]   \rExtracting : zstd-1.4.5-h6597ccf_2.tar.bz2:  57%|█████▋    | 58/102 [00:09<00:18,  2.38it/s]\rExtracting : python-dateutil-2.8.1-py_0.tar.bz2:  57%|█████▋    | 58/102 [00:09<00:18,  2.38it/s]\rExtracting : lcms2-2.11-hcbb858e_1.tar.bz2:  58%|█████▊    | 59/102 [00:09<00:18,  2.38it/s]     \rExtracting : icu-67.1-he1b5a44_0.tar.bz2:  59%|█████▉    | 60/102 [00:09<00:17,  2.38it/s]  \rExtracting : xorg-libxdmcp-1.1.3-h516909a_0.tar.bz2:  60%|█████▉    | 61/102 [00:09<00:17,  2.38it/s]\rExtracting : pillow-8.0.1-py37h63a5d19_0.tar.bz2:  61%|██████    | 62/102 [00:09<00:16,  2.38it/s]   \rExtracting : xorg-libxext-1.3.4-h516909a_0.tar.bz2:  62%|██████▏   | 63/102 [00:09<00:16,  2.38it/s]\rExtracting : libxml2-2.9.10-h68273f3_2.tar.bz2:  63%|██████▎   | 64/102 [00:09<00:15,  2.38it/s]    \rExtracting : libiconv-1.16-h516909a_0.tar.bz2:  64%|██████▎   | 65/102 [00:09<00:15,  2.38it/s] \rExtracting : bzip2-1.0.8-h516909a_3.tar.bz2:  65%|██████▍   | 66/102 [00:09<00:15,  2.38it/s]  \rExtracting : liblapack-3.9.0-3_openblas.tar.bz2:  66%|██████▌   | 67/102 [00:09<00:14,  2.38it/s]\rExtracting : fontconfig-2.13.1-h7e3eb15_1002.tar.bz2:  67%|██████▋   | 68/102 [00:09<00:14,  2.38it/s]\rExtracting : pytz-2020.4-pyhd8ed1ab_0.tar.bz2:  68%|██████▊   | 69/102 [00:09<00:13,  2.38it/s]       \rExtracting : pandas-1.1.4-py37h10a2094_0.tar.bz2:  69%|██████▊   | 70/102 [00:11<00:13,  2.38it/s]\rExtracting : pandas-1.1.4-py37h10a2094_0.tar.bz2:  70%|██████▉   | 71/102 [00:11<00:10,  2.93it/s]\rExtracting : xorg-libice-1.0.10-h516909a_0.tar.bz2:  70%|██████▉   | 71/102 [00:11<00:10,  2.93it/s]\rExtracting : xorg-libxrender-0.9.10-h516909a_1002.tar.bz2:  71%|███████   | 72/102 [00:11<00:10,  2.93it/s]\rExtracting : libuuid-2.32.1-h14c3975_1000.tar.bz2:  72%|███████▏  | 73/102 [00:11<00:09,  2.93it/s]        \rExtracting : xorg-renderproto-0.11.1-h14c3975_1002.tar.bz2:  73%|███████▎  | 74/102 [00:11<00:09,  2.93it/s]\rExtracting : boost-cpp-1.74.0-h9359b55_0.tar.bz2:  74%|███████▎  | 75/102 [00:18<00:09,  2.93it/s]          \rExtracting : boost-cpp-1.74.0-h9359b55_0.tar.bz2:  75%|███████▍  | 76/102 [00:18<00:17,  1.48it/s]\rExtracting : libtiff-4.1.0-h4f3a223_6.tar.bz2:  75%|███████▍  | 76/102 [00:18<00:17,  1.48it/s]   \rExtracting : pcre-8.44-he1b5a44_0.tar.bz2:  75%|███████▌  | 77/102 [00:18<00:16,  1.48it/s]    \rExtracting : python_abi-3.7-1_cp37m.tar.bz2:  76%|███████▋  | 78/102 [00:18<00:16,  1.48it/s]\rExtracting : libwebp-base-1.1.0-h36c2ea0_3.tar.bz2:  77%|███████▋  | 79/102 [00:18<00:15,  1.48it/s]\rExtracting : libgfortran-ng-7.5.0-hae1eefd_17.tar.bz2:  78%|███████▊  | 80/102 [00:18<00:14,  1.48it/s]\rExtracting : libgfortran4-7.5.0-hae1eefd_17.tar.bz2:  79%|███████▉  | 81/102 [00:18<00:14,  1.48it/s]  \rExtracting : pycairo-1.20.0-py37h01af8b0_1.tar.bz2:  80%|████████  | 82/102 [00:18<00:13,  1.48it/s] \rExtracting : libpng-1.6.37-h21135ba_2.tar.bz2:  81%|████████▏ | 83/102 [00:18<00:12,  1.48it/s]     \rExtracting : pthread-stubs-0.4-h36c2ea0_1001.tar.bz2:  82%|████████▏ | 84/102 [00:18<00:12,  1.48it/s]\rExtracting : xorg-xextproto-7.3.0-h14c3975_1002.tar.bz2:  83%|████████▎ | 85/102 [00:18<00:11,  1.48it/s]\rExtracting : openssl-1.1.1h-h516909a_0.tar.bz2:  84%|████████▍ | 86/102 [00:18<00:10,  1.48it/s]         \rExtracting : jpeg-9d-h36c2ea0_0.tar.bz2:  85%|████████▌ | 87/102 [00:18<00:10,  1.48it/s]       \rExtracting : xorg-kbproto-1.0.7-h14c3975_1002.tar.bz2:  86%|████████▋ | 88/102 [00:18<00:09,  1.48it/s]\rExtracting : pixman-0.38.0-h516909a_1003.tar.bz2:  87%|████████▋ | 89/102 [00:18<00:08,  1.48it/s]     \rExtracting : xorg-libx11-1.6.12-h516909a_0.tar.bz2:  88%|████████▊ | 90/102 [00:18<00:08,  1.48it/s]\rExtracting : libxcb-1.13-h14c3975_1002.tar.bz2:  89%|████████▉ | 91/102 [00:18<00:07,  1.48it/s]    \rExtracting : freetype-2.10.4-h7ca028e_0.tar.bz2:  90%|█████████ | 92/102 [00:18<00:06,  1.48it/s]\rExtracting : numpy-1.19.4-py37h7e9df27_1.tar.bz2:  91%|█████████ | 93/102 [00:18<00:06,  1.48it/s]\rExtracting : boost-1.74.0-py37he5a615d_2.tar.bz2:  92%|█████████▏| 94/102 [00:18<00:05,  1.48it/s]\rExtracting : libopenblas-0.3.12-pthreads_hb3c22a3_1.tar.bz2:  93%|█████████▎| 95/102 [00:18<00:04,  1.48it/s]\rExtracting : libcblas-3.9.0-3_openblas.tar.bz2:  94%|█████████▍| 96/102 [00:18<00:04,  1.48it/s]             \rExtracting : certifi-2020.11.8-py37h89c1867_0.tar.bz2:  95%|█████████▌| 97/102 [00:18<00:03,  1.48it/s]\rExtracting : ca-certificates-2020.11.8-ha878542_0.tar.bz2:  96%|█████████▌| 98/102 [00:18<00:02,  1.48it/s]\rExtracting : xorg-xproto-7.0.31-h14c3975_1007.tar.bz2:  97%|█████████▋| 99/102 [00:18<00:02,  1.48it/s]    \rExtracting : cairo-1.16.0-h3fc0475_1005.tar.bz2:  98%|█████████▊| 100/102 [00:18<00:01,  1.48it/s]     \rExtracting : conda-4.9.2-py37h89c1867_0.tar.bz2:  99%|█████████▉| 101/102 [00:19<00:00,  1.48it/s]\rExtracting : conda-4.9.2-py37h89c1867_0.tar.bz2: 100%|██████████| 102/102 [00:19<00:00,  2.09it/s]\r                                                                                                  \r\rBuilding graph of deps:   0%|          | 0/87 [00:00<?, ?it/s]\rExamining pip==20.2.4=py38h06a4308_0:   0%|          | 0/87 [00:00<?, ?it/s]\rExamining libuuid:   1%|          | 1/87 [00:00<00:00, 1290.95it/s]         \rExamining libgcc-ng==9.1.0=hdf63c60_0:   2%|▏         | 2/87 [00:00<00:00, 1855.89it/s]\rExamining pycparser==2.20=py_2:   3%|▎         | 3/87 [00:00<00:00, 2296.15it/s]       \rExamining @/linux-64::__archspec==1=x86_64:   5%|▍         | 4/87 [00:00<00:00, 1964.32it/s]\rExamining xorg-kbproto:   6%|▌         | 5/87 [00:00<00:00, 2256.70it/s]                    \rExamining xorg-libxext:   7%|▋         | 6/87 [00:00<00:00, 2453.29it/s]\rExamining _libgcc_mutex==0.1=main:   8%|▊         | 7/87 [00:00<00:00, 2448.72it/s]\rExamining libiconv:   9%|▉         | 8/87 [00:00<00:00, 2619.19it/s]               \rExamining jpeg:  10%|█         | 9/87 [00:00<00:00, 2739.98it/s]    \rExamining pycosat==0.6.3=py38h7b6447c_1:  11%|█▏        | 10/87 [00:00<00:00, 2828.64it/s]\rExamining xz==5.2.5=h7b6447c_0:  13%|█▎        | 11/87 [00:00<00:00, 2700.46it/s]         \rExamining xorg-libx11:  14%|█▍        | 12/87 [00:00<00:00, 2782.60it/s]         \rExamining libpng:  15%|█▍        | 13/87 [00:00<00:00, 2727.52it/s]     \rExamining idna==2.10=py_0:  16%|█▌        | 14/87 [00:00<00:00, 2741.12it/s]\rExamining tk==8.6.10=hbc83047_0:  17%|█▋        | 15/87 [00:00<00:00, 2601.39it/s]\rExamining libwebp-base:  18%|█▊        | 16/87 [00:00<00:00, 2624.82it/s]         \rExamining xorg-libice:  20%|█▉        | 17/87 [00:00<00:00, 2688.45it/s] \rExamining ld_impl_linux-64==2.33.1=h53a641e_7:  21%|██        | 18/87 [00:00<00:00, 2746.86it/s]\rExamining boost:  22%|██▏       | 19/87 [00:00<00:00, 2835.80it/s]                              \rExamining pytz:  23%|██▎       | 20/87 [00:00<00:00, 2564.46it/s] \rExamining certifi==2020.6.20=pyhd3eb1b0_3:  24%|██▍       | 21/87 [00:00<00:00, 2465.51it/s]\rExamining python-dateutil:  25%|██▌       | 22/87 [00:00<00:00, 2390.23it/s]                \rExamining boost-cpp:  26%|██▋       | 23/87 [00:00<00:00, 2310.86it/s]      \rExamining pcre:  28%|██▊       | 24/87 [00:00<00:00, 2267.45it/s]     \rExamining liblapack:  29%|██▊       | 25/87 [00:00<00:00, 2304.31it/s]\rExamining readline==8.0=h7b6447c_0:  30%|██▉       | 26/87 [00:00<00:00, 2336.76it/s]\rExamining ncurses==6.2=he6710b0_1:  31%|███       | 27/87 [00:00<00:00, 2360.48it/s] \rExamining libcblas:  32%|███▏      | 28/87 [00:00<00:00, 2391.33it/s]               \rExamining libxml2:  33%|███▎      | 29/87 [00:00<00:00, 2419.10it/s] \rExamining libffi==3.3=he6710b0_2:  34%|███▍      | 30/87 [00:00<00:00, 2392.83it/s]\rExamining zstd:  36%|███▌      | 31/87 [00:00<00:00, 2421.70it/s]                  \rExamining pandas:  37%|███▋      | 32/87 [00:00<00:00, 2401.68it/s]\rExamining python_abi:  38%|███▊      | 33/87 [00:00<00:00, 2293.07it/s]\rExamining six==1.15.0=py38h06a4308_0:  39%|███▉      | 34/87 [00:00<00:00, 2293.63it/s]\rExamining brotlipy==0.7.0=py38h27cfd23_1003:  40%|████      | 35/87 [00:00<00:00, 2292.54it/s]\rExamining tqdm==4.51.0=pyhd3eb1b0_0:  41%|████▏     | 36/87 [00:00<00:00, 2250.77it/s]        \rExamining lcms2:  43%|████▎     | 37/87 [00:00<00:00, 2220.73it/s]                    \rExamining conda-package-handling==1.7.2=py38h03888b9_0:  44%|████▎     | 38/87 [00:00<00:00, 2213.54it/s]\rExamining requests==2.24.0=py_0:  45%|████▍     | 39/87 [00:00<00:00, 2195.09it/s]                       \rExamining sqlite==3.33.0=h62c20be_0:  46%|████▌     | 40/87 [00:00<00:00, 2103.81it/s]\rExamining fontconfig:  47%|████▋     | 41/87 [00:00<00:00, 2102.41it/s]               \rExamining libtiff:  48%|████▊     | 42/87 [00:00<00:00, 2074.48it/s]   \rExamining ca-certificates==2020.10.14=0:  49%|████▉     | 43/87 [00:00<00:00, 2057.53it/s]\rExamining xorg-libxdmcp:  51%|█████     | 44/87 [00:00<00:00, 2086.25it/s]                \rExamining lz4-c:  52%|█████▏    | 45/87 [00:00<00:00, 2110.02it/s]        \rExamining xorg-xextproto:  53%|█████▎    | 46/87 [00:00<00:00, 2128.48it/s]\rExamining libopenblas:  54%|█████▍    | 47/87 [00:00<00:00, 2153.60it/s]   \rExamining rdkit:  55%|█████▌    | 48/87 [00:00<00:00, 2165.71it/s]      \rExamining pixman:  56%|█████▋    | 49/87 [00:00<00:00, 2025.22it/s]\rExamining numpy:  57%|█████▋    | 50/87 [00:00<00:00, 2034.55it/s] \rExamining yaml==0.2.5=h7b6447c_0:  59%|█████▊    | 51/87 [00:00<00:00, 2008.07it/s]\rExamining libgfortran-ng:  60%|█████▉    | 52/87 [00:00<00:00, 2027.48it/s]        \rExamining cairo:  61%|██████    | 53/87 [00:00<00:00, 2049.93it/s]         \rExamining ruamel_yaml==0.15.87=py38h7b6447c_1:  62%|██████▏   | 54/87 [00:00<00:00, 1971.71it/s]\rExamining wheel==0.35.1=pyhd3eb1b0_0:  63%|██████▎   | 55/87 [00:00<00:00, 1967.98it/s]         \rExamining pthread-stubs:  64%|██████▍   | 56/87 [00:00<00:00, 1945.99it/s]             \rExamining bzip2:  66%|██████▌   | 57/87 [00:00<00:00, 1962.56it/s]        \rExamining pillow:  67%|██████▋   | 58/87 [00:00<00:00, 1980.04it/s]\rExamining cffi==1.14.3=py38h261ae71_2:  68%|██████▊   | 59/87 [00:00<00:00, 1932.44it/s]\rExamining pysocks==1.7.1=py38h06a4308_0:  69%|██████▉   | 60/87 [00:00<00:00, 1924.21it/s]\rExamining chardet==3.0.4=py38h06a4308_1003:  70%|███████   | 61/87 [00:00<00:00, 1929.04it/s]\rExamining libxcb:  71%|███████▏  | 62/87 [00:00<00:00, 1933.55it/s]                          \rExamining xorg-libxau:  72%|███████▏  | 63/87 [00:00<00:00, 1940.18it/s]\rExamining setuptools==50.3.1=py38h06a4308_1:  74%|███████▎  | 64/87 [00:00<00:00, 1956.64it/s]\rExamining icu:  75%|███████▍  | 65/87 [00:00<00:00, 1954.49it/s]                              \rExamining olefile:  76%|███████▌  | 66/87 [00:00<00:00, 1968.40it/s]\rExamining libblas:  77%|███████▋  | 67/87 [00:00<00:00, 1958.14it/s]\rExamining xorg-libsm:  78%|███████▊  | 68/87 [00:00<00:00, 1956.06it/s]\rExamining pycairo:  79%|███████▉  | 69/87 [00:00<00:00, 1962.35it/s]   \rExamining cryptography==3.2.1=py38h3c74f83_1:  80%|████████  | 70/87 [00:00<00:00, 1943.66it/s]\rExamining xorg-xproto:  82%|████████▏ | 71/87 [00:00<00:00, 1922.35it/s]                       \rExamining libedit==3.1.20191231=h14c3975_1:  83%|████████▎ | 72/87 [00:00<00:00, 1936.25it/s]\rExamining xorg-libxrender:  84%|████████▍ | 73/87 [00:00<00:00, 1945.20it/s]                 \rExamining @/linux-64::__unix==0=0:  85%|████████▌ | 74/87 [00:00<00:00, 1947.12it/s]\rExamining xorg-renderproto:  86%|████████▌ | 75/87 [00:00<00:00, 1964.40it/s]       \rExamining libgfortran4:  87%|████████▋ | 76/87 [00:00<00:00, 1979.00it/s]    \rExamining freetype:  89%|████████▊ | 77/87 [00:00<00:00, 1997.35it/s]    \rExamining pyopenssl==19.1.0=pyhd3eb1b0_1:  90%|████████▉ | 78/87 [00:00<00:00, 2002.39it/s]\rExamining @/linux-64::__glibc==2.27=0:  91%|█████████ | 79/87 [00:00<00:00, 1975.36it/s]   \rExamining openssl==1.1.1h=h7b6447c_0:  92%|█████████▏| 80/87 [00:00<00:00, 1990.55it/s] \rExamining glib:  93%|█████████▎| 81/87 [00:00<00:00, 2002.14it/s]                      \rExamining python==3.8.5=h7579374_1:  94%|█████████▍| 82/87 [00:00<00:00, 1997.16it/s]\rExamining urllib3==1.25.11=py_0:  95%|█████████▌| 83/87 [00:00<00:00, 1973.45it/s]   \rExamining libstdcxx-ng==9.1.0=hdf63c60_0:  97%|█████████▋| 84/87 [00:00<00:00, 1928.32it/s]\rExamining zlib==1.2.11=h7b6447c_3:  98%|█████████▊| 85/87 [00:00<00:00, 1943.60it/s]       \rExamining conda==4.9.2=py38h06a4308_0:  99%|█████████▉| 86/87 [00:00<00:00, 1954.98it/s]\r                                                                                        \r\rDetermining conflicts:   0%|          | 0/87 [00:00<?, ?it/s]\rExamining conflict for pip olefile pytz certifi pycairo python-dateutil requests pycparser rdkit numpy wheel pyopenssl pillow idna pandas urllib3 python_abi boost tqdm:   0%|          | 0/87 [00:00<?, ?it/s]\rExamining conflict for pip setuptools urllib3 certifi requests conda:   1%|          | 1/87 [00:00<00:02, 32.38it/s]                                                                                           \rExamining conflict for pip setuptools olefile conda-package-handling pytz certifi pycairo python-dateutil requests cryptography sqlite pycparser rdkit numpy ruamel_yaml wheel pycosat pyopenssl brotlipy pillow cffi pysocks python idna pandas urllib3 python_abi chardet six conda boost tqdm:   2%|▏         | 2/87 [00:00<00:01, 52.31it/s]\rExamining conflict for pip setuptools olefile conda-package-handling pytz certifi pycairo python-dateutil requests cryptography pycparser rdkit numpy cairo ruamel_yaml libffi wheel pycosat pyopenssl brotlipy glib pillow cffi pysocks python idna pandas urllib3 python_abi chardet six conda boost tqdm:   3%|▎         | 3/87 [00:00<00:02, 35.79it/s]\rExamining conflict for pip setuptools olefile conda-package-handling pytz certifi pycairo python-dateutil requests cryptography pycparser rdkit numpy ruamel_yaml wheel pycosat pyopenssl brotlipy pillow cffi pysocks python idna pandas urllib3 python_abi chardet six conda boost tqdm:   5%|▍         | 4/87 [00:00<00:02, 29.83it/s]                  \rExamining conflict for pip setuptools olefile conda-package-handling pytz certifi pycairo python-dateutil requests cryptography pycparser rdkit numpy ruamel_yaml wheel pycosat pyopenssl brotlipy pillow cffi pysocks python idna pandas urllib3 python_abi chardet six conda boost tqdm:   6%|▌         | 5/87 [00:00<00:02, 37.23it/s]\rExamining conflict for pip setuptools olefile conda-package-handling pytz certifi pycairo python-dateutil requests cryptography pycparser rdkit numpy ruamel_yaml wheel pycosat pyopenssl brotlipy openssl pillow cffi pysocks python idna pandas urllib3 python_abi chardet six conda boost tqdm:   6%|▌         | 5/87 [00:00<00:02, 37.23it/s]\rExamining conflict for pip setuptools olefile conda-package-handling pytz certifi pycairo python-dateutil requests cryptography pycparser rdkit readline numpy ruamel_yaml wheel pycosat pyopenssl brotlipy pillow cffi pysocks python idna pandas urllib3 python_abi chardet six conda boost tqdm:   7%|▋         | 6/87 [00:00<00:02, 37.23it/s]\rExamining conflict for pip xorg-libxau setuptools icu olefile libblas glib conda-package-handling pytz certifi xorg-libsm pycairo python-dateutil requests cryptography sqlite fontconfig boost-cpp xorg-xproto conda pcre libtiff libedit libuuid libgcc-ng pycparser xorg-libxdmcp lz4-c xorg-xextproto libopenblas xorg-kbproto rdkit pixman readline numpy xorg-libxext yaml xorg-libxrender xorg-renderproto ncurses cairo libiconv ruamel_yaml libffi libxml2 jpeg pycosat zstd wheel pthread-stubs bzip2 freetype brotlipy pyopenssl xz pillow xorg-libx11 cffi pysocks libpng idna pandas openssl tk python python_abi libwebp-base urllib3 zlib chardet xorg-libice six lcms2 libxcb boost tqdm:   8%|▊         | 7/87 [00:00<00:02, 37.23it/s]\rExamining conflict for pip xorg-libxau setuptools icu olefile libblas glib conda-package-handling pytz certifi xorg-libsm pycairo python-dateutil requests cryptography sqlite fontconfig boost-cpp xorg-xproto conda pcre libtiff libedit libuuid libgcc-ng pycparser xorg-libxdmcp lz4-c xorg-xextproto libopenblas xorg-kbproto rdkit pixman readline numpy xorg-libxext yaml xorg-libxrender xorg-renderproto ncurses cairo libiconv ruamel_yaml libffi libxml2 jpeg pycosat zstd wheel pthread-stubs bzip2 freetype brotlipy pyopenssl xz pillow xorg-libx11 cffi pysocks libpng idna pandas openssl tk python python_abi libwebp-base urllib3 zlib chardet xorg-libice six lcms2 libxcb boost tqdm:   9%|▉         | 8/87 [00:00<00:02, 31.40it/s]\rExamining conflict for pip setuptools olefile conda-package-handling pytz certifi pycairo python-dateutil requests cryptography sqlite fontconfig boost-cpp libtiff pycparser rdkit numpy cairo ruamel_yaml zstd libxml2 wheel pycosat freetype pyopenssl brotlipy glib pillow cffi pysocks python libpng idna pandas urllib3 tk zlib python_abi chardet six lcms2 conda boost tqdm:   9%|▉         | 8/87 [00:00<00:02, 31.40it/s]                                                                                                                                                                                                                                                                                                                     \rExamining conflict for pip setuptools olefile conda-package-handling pytz certifi pycairo python-dateutil requests cryptography pycparser rdkit numpy ruamel_yaml wheel pycosat pyopenssl brotlipy pillow cffi pysocks python idna pandas urllib3 python_abi chardet six ld_impl_linux-64 conda boost tqdm:  10%|█         | 9/87 [00:00<00:02, 31.40it/s]                                                                         \rExamining conflict for pip setuptools olefile conda-package-handling pytz certifi pycairo python-dateutil requests cryptography pycparser rdkit numpy ruamel_yaml wheel pycosat pyopenssl brotlipy pillow cffi pysocks python idna pandas urllib3 python_abi chardet six ld_impl_linux-64 conda boost tqdm:  11%|█▏        | 10/87 [00:00<00:03, 23.61it/s]\rExamining conflict for pip setuptools olefile conda-package-handling pytz certifi pycairo python-dateutil requests cryptography sqlite libedit pycparser rdkit readline numpy ncurses ruamel_yaml wheel pycosat pyopenssl brotlipy pillow cffi pysocks python idna pandas urllib3 python_abi chardet six conda boost tqdm:  11%|█▏        | 10/87 [00:00<00:03, 23.61it/s]\rExamining conflict for pip setuptools olefile conda-package-handling pytz certifi pycairo python-dateutil requests cryptography fontconfig boost-cpp libtiff pycparser rdkit numpy ruamel_yaml zstd libxml2 wheel pycosat pyopenssl brotlipy xz pillow cffi pysocks python idna pandas urllib3 python_abi chardet six lcms2 conda boost tqdm:  13%|█▎        | 11/87 [00:00<00:03, 23.61it/s]\rExamining conflict for pip wheel:  14%|█▍        | 12/87 [00:00<00:03, 23.61it/s]                                                                                                                                                                                                                                                                                                            \rExamining conflict for pip wheel:  15%|█▍        | 13/87 [00:00<00:03, 23.08it/s]\rExamining conflict for pip setuptools olefile conda-package-handling pytz certifi pycairo python-dateutil requests cryptography pycparser rdkit numpy ruamel_yaml wheel pycosat pyopenssl brotlipy pillow cffi pysocks python idna pandas urllib3 tk python_abi chardet six conda boost tqdm:  15%|█▍        | 13/87 [00:00<00:03, 23.08it/s]\rExamining conflict for pip conda setuptools:  16%|█▌        | 14/87 [00:00<00:03, 23.08it/s]                                                                                                                                                                                                                                                 \rExamining conflict for fontconfig libuuid xorg-libsm cairo:  17%|█▋        | 15/87 [00:00<00:03, 23.08it/s]\rExamining conflict for xorg-libxau icu conda-package-handling xorg-libsm pycairo cryptography sqlite fontconfig boost-cpp xorg-xproto pcre libtiff libedit libuuid libgcc-ng xorg-libxdmcp lz4-c xorg-xextproto libopenblas xorg-kbproto rdkit pixman readline numpy xorg-libxext yaml xorg-libxrender xorg-renderproto ncurses _libgcc_mutex cairo libiconv ruamel_yaml libffi libxml2 jpeg pycosat zstd pthread-stubs bzip2 freetype brotlipy xz pillow xorg-libx11 cffi openssl libpng pandas glib python tk zlib libwebp-base xorg-libice libxcb boost lcms2:  18%|█▊        | 16/87 [00:00<00:03, 23.08it/s]\rExamining conflict for cryptography pycparser cffi brotlipy:  20%|█▉        | 17/87 [00:00<00:03, 23.08it/s]                                                                                                                                                                                                                                                                                                                                                                                                                                                                                                     \rExamining conflict for xorg-kbproto xorg-libx11 xorg-libxrender xorg-libxext cairo:  21%|██        | 18/87 [00:00<00:02, 23.08it/s]\rExamining conflict for xorg-kbproto xorg-libx11 xorg-libxrender xorg-libxext cairo:  22%|██▏       | 19/87 [00:00<00:02, 28.24it/s]\rExamining conflict for cairo xorg-libxext pycairo rdkit:  22%|██▏       | 19/87 [00:00<00:02, 28.24it/s]                           \rExamining conflict for rdkit xorg-libx11 xorg-libxrender xorg-libxext cairo pycairo libxcb:  23%|██▎       | 20/87 [00:00<00:02, 28.24it/s]\rExamining conflict for xorg-libx11 xorg-libxrender xorg-libxext cairo xorg-xproto:  24%|██▍       | 21/87 [00:00<00:02, 28.24it/s]         \rExamining conflict for xorg-xextproto xorg-libxext cairo:  25%|██▌       | 22/87 [00:00<00:02, 28.24it/s]                         \rExamining conflict for rdkit xorg-libx11 xorg-libxrender xorg-libxext cairo pycairo:  26%|██▋       | 23/87 [00:00<00:02, 28.24it/s]\rExamining conflict for fontconfig libiconv libxml2:  28%|██▊       | 24/87 [00:00<00:02, 28.24it/s]                                 \rExamining conflict for libtiff rdkit pillow jpeg lcms2:  29%|██▊       | 25/87 [00:00<00:02, 28.24it/s]\rExamining conflict for pycosat conda:  30%|██▉       | 26/87 [00:00<00:02, 28.24it/s]                  \rExamining conflict for pthread-stubs cairo xorg-libx11 libxcb:  31%|███       | 27/87 [00:00<00:02, 28.24it/s]\rExamining conflict for cairo xorg-libxau xorg-libx11 libxcb:  32%|███▏      | 28/87 [00:00<00:02, 28.24it/s]  \rExamining conflict for cairo xorg-libx11 xorg-libxdmcp libxcb:  33%|███▎      | 29/87 [00:00<00:02, 28.24it/s]\rExamining conflict for rdkit pillow libpng cairo pycairo fontconfig freetype:  34%|███▍      | 30/87 [00:00<00:02, 28.24it/s]\rExamining conflict for idna urllib3 conda requests:  36%|███▌      | 31/87 [00:00<00:01, 28.24it/s]                          \rExamining conflict for libtiff pillow lcms2 libwebp-base:  37%|███▋      | 32/87 [00:00<00:01, 28.24it/s]\rExamining conflict for rdkit xorg-libsm cairo xorg-libice pycairo:  38%|███▊      | 33/87 [00:00<00:01, 28.24it/s]\rExamining conflict for rdkit boost:  39%|███▉      | 34/87 [00:00<00:01, 28.24it/s]                               \rExamining conflict for rdkit boost:  40%|████      | 35/87 [00:00<00:01, 37.19it/s]\rExamining conflict for rdkit boost boost-cpp:  40%|████      | 35/87 [00:00<00:01, 37.19it/s]\rExamining conflict for bzip2 boost boost-cpp:  41%|████▏     | 36/87 [00:00<00:01, 37.19it/s]\rExamining conflict for libtiff pillow lcms2 zstd boost boost-cpp:  43%|████▎     | 37/87 [00:00<00:01, 37.19it/s]\rExamining conflict for pandas rdkit boost numpy:  44%|████▎     | 38/87 [00:00<00:01, 37.19it/s]                 \rExamining conflict for rdkit pillow setuptools numpy pandas urllib3 python_abi pycairo requests boost:  45%|████▍     | 39/87 [00:00<00:01, 37.19it/s]\rExamining conflict for rdkit icu cairo pycairo libxml2 fontconfig boost boost-cpp:  46%|████▌     | 40/87 [00:00<00:01, 37.19it/s]                    \rExamining conflict for rdkit numpy pandas libcblas boost:  47%|████▋     | 41/87 [00:00<00:01, 37.19it/s]                         \rExamining conflict for rdkit numpy pandas libblas libcblas boost liblapack:  48%|████▊     | 42/87 [00:00<00:01, 37.19it/s]\rExamining conflict for icu fontconfig sqlite boost-cpp pcre libtiff libedit lz4-c rdkit readline ncurses cairo libffi libxml2 zstd glib pillow cffi python pandas libstdcxx-ng boost lcms2:  49%|████▉     | 43/87 [00:00<00:01, 37.19it/s]\rExamining conflict for rdkit numpy pandas boost liblapack:  51%|█████     | 44/87 [00:00<00:01, 37.19it/s]                                                                                                                                 \rExamining conflict for pandas rdkit pytz:  52%|█████▏    | 45/87 [00:00<00:01, 37.19it/s]                 \rExamining conflict for pandas rdkit python-dateutil:  53%|█████▎    | 46/87 [00:00<00:01, 37.19it/s]\rExamining conflict for rdkit pandas urllib3 conda-package-handling python-dateutil six cryptography conda pyopenssl:  54%|█████▍    | 47/87 [00:00<00:01, 37.19it/s]\rExamining conflict for rdkit pandas urllib3 conda-package-handling python-dateutil six cryptography conda pyopenssl:  55%|█████▌    | 48/87 [00:00<00:00, 47.16it/s]\rExamining conflict for libtiff boost-cpp zstd lz4-c:  55%|█████▌    | 48/87 [00:00<00:00, 47.16it/s]                                                                \rExamining conflict for pcre cairo glib:  56%|█████▋    | 49/87 [00:00<00:00, 47.16it/s]             \rExamining conflict for numpy libblas libcblas liblapack libopenblas:  57%|█████▋    | 50/87 [00:00<00:00, 47.16it/s]\rExamining conflict for fontconfig cairo libxml2:  59%|█████▊    | 51/87 [00:00<00:00, 47.16it/s]                    \rExamining conflict for pandas rdkit:  60%|█████▉    | 52/87 [00:00<00:00, 47.16it/s]            \rExamining conflict for urllib3 brotlipy requests:  61%|██████    | 53/87 [00:00<00:00, 47.16it/s]\rExamining conflict for cffi urllib3 cryptography pyopenssl brotlipy:  62%|██████▏   | 54/87 [00:00<00:00, 47.16it/s]\rExamining conflict for conda tqdm conda-package-handling:  63%|██████▎   | 55/87 [00:00<00:00, 47.16it/s]           \rExamining conflict for rdkit lcms2 pillow:  64%|██████▍   | 56/87 [00:00<00:00, 47.16it/s]               \rExamining conflict for libtiff rdkit lcms2 pillow:  66%|██████▌   | 57/87 [00:00<00:00, 47.16it/s]\rExamining conflict for conda conda-package-handling:  67%|██████▋   | 58/87 [00:00<00:00, 47.16it/s]\rExamining conflict for conda requests:  68%|██████▊   | 59/87 [00:00<00:00, 47.16it/s]              \rExamining conflict for urllib3 requests cryptography conda pyopenssl:  69%|██████▉   | 60/87 [00:00<00:00, 47.16it/s]\rExamining conflict for urllib3 pyopenssl conda requests:  70%|███████   | 61/87 [00:00<00:00, 47.16it/s]             \rExamining conflict for urllib3 conda requests:  71%|███████▏  | 62/87 [00:00<00:00, 47.16it/s]          \rExamining conflict for urllib3 pysocks requests:  72%|███████▏  | 63/87 [00:00<00:00, 47.16it/s]\rExamining conflict for chardet conda requests:  74%|███████▎  | 64/87 [00:00<00:00, 47.16it/s]  \rExamining conflict for sqlite python libedit:  75%|███████▍  | 65/87 [00:00<00:00, 47.16it/s] \rExamining conflict for fontconfig cairo pycairo rdkit:  76%|███████▌  | 66/87 [00:00<00:00, 47.16it/s]\rExamining conflict for rdkit pillow cairo pycairo fontconfig freetype:  77%|███████▋  | 67/87 [00:00<00:00, 47.16it/s]\rExamining conflict for ca-certificates openssl python cryptography:  78%|███████▊  | 68/87 [00:00<00:00, 47.16it/s]   \rExamining conflict for libblas libgfortran-ng libgfortran4 libopenblas:  79%|███████▉  | 69/87 [00:00<00:00, 47.16it/s]\rExamining conflict for libblas libgfortran-ng libopenblas:  80%|████████  | 70/87 [00:00<00:00, 47.16it/s]             \rExamining conflict for pycairo rdkit:  82%|████████▏ | 71/87 [00:00<00:00, 47.16it/s]                     \rExamining conflict for pycairo rdkit:  83%|████████▎ | 72/87 [00:00<00:00, 62.12it/s]\rExamining conflict for olefile rdkit pillow:  83%|████████▎ | 72/87 [00:00<00:00, 62.12it/s]\rExamining conflict for cairo pycairo rdkit pixman:  84%|████████▍ | 73/87 [00:00<00:00, 62.12it/s]\rExamining conflict for cairo pycairo rdkit glib:  85%|████████▌ | 74/87 [00:00<00:00, 62.12it/s]  \rExamining conflict for cairo pycairo rdkit xorg-libsm:  86%|████████▌ | 75/87 [00:00<00:00, 62.12it/s]\rExamining conflict for cairo pycairo rdkit:  87%|████████▋ | 76/87 [00:00<00:00, 62.12it/s]           \rExamining conflict for rdkit pillow:  89%|████████▊ | 77/87 [00:00<00:00, 62.12it/s]       \rExamining conflict for xorg-libxrender cairo pycairo rdkit:  90%|████████▉ | 78/87 [00:00<00:00, 62.12it/s]\rExamining conflict for yaml ruamel_yaml conda:  91%|█████████ | 79/87 [00:01<00:00, 62.12it/s]             \rExamining conflict for xorg-libxrender cairo xorg-renderproto:  92%|█████████▏| 80/87 [00:01<00:00, 62.12it/s]\rExamining conflict for conda ruamel_yaml:  93%|█████████▎| 81/87 [00:01<00:00, 62.12it/s]                     \r                                                                                         \r\n",
            "UnsatisfiableError: The following specifications were found to be incompatible with each other:\n",
            "\n",
            "Output in format: Requested package -> Available versions\n",
            "\n",
            "Package liblapack conflicts for:\n",
            "rdkit -> numpy[version='>=1.16.5,<2.0a0'] -> liblapack[version='>=3.8.0,<4.0a0']\n",
            "numpy -> liblapack[version='>=3.8.0,<4.0a0']\n",
            "boost -> numpy[version='>=1.16.5,<2.0a0'] -> liblapack[version='>=3.8.0,<4.0a0']\n",
            "pandas -> numpy[version='>=1.16.5,<2.0a0'] -> liblapack[version='>=3.8.0,<4.0a0']\n",
            "liblapack\n",
            "\n",
            "Package xz conflicts for:\n",
            "libtiff -> xz[version='>=5.2.5,<5.3.0a0']\n",
            "tqdm==4.51.0=pyhd3eb1b0_0 -> python -> xz[version='>=5.2.5,<6.0a0']\n",
            "zstd -> xz[version='>=5.2.5,<5.3.0a0']\n",
            "cffi==1.14.3=py38h261ae71_2 -> python[version='>=3.8,<3.9.0a0'] -> xz[version='>=5.2.5,<6.0a0']\n",
            "lcms2 -> libtiff[version='>=4.1.0,<5.0a0'] -> xz[version='>=5.2.5,<5.3.0a0']\n",
            "ruamel_yaml==0.15.87=py38h7b6447c_1 -> python[version='>=3.8,<3.9.0a0'] -> xz[version='>=5.2.5,<6.0a0']\n",
            "fontconfig -> libxml2[version='>=2.9.10,<2.10.0a0'] -> xz[version='>=5.2.5,<5.3.0a0']\n",
            "python-dateutil -> python -> xz[version='>=5.2.5,<6.0a0']\n",
            "pytz -> python[version='>=3'] -> xz[version='>=5.2.5,<6.0a0']\n",
            "pycairo -> python[version='>=3.7,<3.8.0a0'] -> xz[version='>=5.2.5,<6.0a0']\n",
            "olefile -> python -> xz[version='>=5.2.5,<6.0a0']\n",
            "python==3.8.5=h7579374_1 -> xz[version='>=5.2.5,<6.0a0']\n",
            "pillow -> libtiff[version='>=4.1.0,<5.0a0'] -> xz[version='>=5.2.5,<5.3.0a0|>=5.2.5,<6.0a0']\n",
            "setuptools==50.3.1=py38h06a4308_1 -> python[version='>=3.8,<3.9.0a0'] -> xz[version='>=5.2.5,<6.0a0']\n",
            "wheel==0.35.1=pyhd3eb1b0_0 -> python -> xz[version='>=5.2.5,<6.0a0']\n",
            "boost -> boost-cpp=1.74.0 -> xz[version='>=5.2.5,<5.3.0a0|>=5.2.5,<6.0a0']\n",
            "chardet==3.0.4=py38h06a4308_1003 -> python[version='>=3.8,<3.9.0a0'] -> xz[version='>=5.2.5,<6.0a0']\n",
            "pandas -> python[version='>=3.7,<3.8.0a0'] -> xz[version='>=5.2.5,<6.0a0']\n",
            "python_abi -> python=3.7 -> xz[version='>=5.2.5,<6.0a0']\n",
            "idna==2.10=py_0 -> python -> xz[version='>=5.2.5,<6.0a0']\n",
            "numpy -> python[version='>=3.7,<3.8.0a0'] -> xz[version='>=5.2.5,<6.0a0']\n",
            "rdkit -> python[version='>=3.7,<3.8.0a0'] -> xz[version='>=5.2.5,<6.0a0']\n",
            "conda-package-handling==1.7.2=py38h03888b9_0 -> python[version='>=3.8,<3.9.0a0'] -> xz[version='>=5.2.5,<6.0a0']\n",
            "pycosat==0.6.3=py38h7b6447c_1 -> python[version='>=3.8,<3.9.0a0'] -> xz[version='>=5.2.5,<6.0a0']\n",
            "conda==4.9.2=py38h06a4308_0 -> python[version='>=3.8,<3.9.0a0'] -> xz[version='>=5.2.5,<6.0a0']\n",
            "brotlipy==0.7.0=py38h27cfd23_1003 -> python[version='>=3.8,<3.9.0a0'] -> xz[version='>=5.2.5,<6.0a0']\n",
            "urllib3==1.25.11=py_0 -> python[version='<4.0'] -> xz[version='>=5.2.5,<6.0a0']\n",
            "libxml2 -> xz[version='>=5.2.5,<5.3.0a0']\n",
            "pyopenssl==19.1.0=pyhd3eb1b0_1 -> python -> xz[version='>=5.2.5,<6.0a0']\n",
            "xz==5.2.5=h7b6447c_0\n",
            "pysocks==1.7.1=py38h06a4308_0 -> python[version='>=3.8,<3.9.0a0'] -> xz[version='>=5.2.5,<6.0a0']\n",
            "pycparser==2.20=py_2 -> python -> xz[version='>=5.2.5,<6.0a0']\n",
            "cryptography==3.2.1=py38h3c74f83_1 -> python[version='>=3.8,<3.9.0a0'] -> xz[version='>=5.2.5,<6.0a0']\n",
            "boost-cpp -> xz[version='>=5.2.5,<5.3.0a0']\n",
            "certifi==2020.6.20=pyhd3eb1b0_3 -> python -> xz[version='>=5.2.5,<6.0a0']\n",
            "six==1.15.0=py38h06a4308_0 -> python[version='>=3.8,<3.9.0a0'] -> xz[version='>=5.2.5,<6.0a0']\n",
            "requests==2.24.0=py_0 -> python -> xz[version='>=5.2.5,<6.0a0']\n",
            "\n",
            "Package pycparser conflicts for:\n",
            "pycparser==2.20=py_2\n",
            "brotlipy==0.7.0=py38h27cfd23_1003 -> cffi[version='>=1.0.0'] -> pycparser\n",
            "cryptography==3.2.1=py38h3c74f83_1 -> cffi[version='!=1.11.3,>=1.8'] -> pycparser\n",
            "cffi==1.14.3=py38h261ae71_2 -> pycparser\n",
            "\n",
            "Package pip conflicts for:\n",
            "pyopenssl==19.1.0=pyhd3eb1b0_1 -> python -> pip\n",
            "python-dateutil -> python -> pip\n",
            "olefile -> python -> pip\n",
            "tqdm==4.51.0=pyhd3eb1b0_0 -> python -> pip\n",
            "boost -> python[version='>=3.7,<3.8.0a0'] -> pip\n",
            "idna==2.10=py_0 -> python -> pip\n",
            "python_abi -> python=3.7 -> pip\n",
            "requests==2.24.0=py_0 -> python -> pip\n",
            "pycairo -> python[version='>=3.7,<3.8.0a0'] -> pip\n",
            "pillow -> python[version='>=3.7,<3.8.0a0'] -> pip\n",
            "urllib3==1.25.11=py_0 -> python[version='<4.0'] -> pip\n",
            "wheel==0.35.1=pyhd3eb1b0_0 -> python -> pip\n",
            "pip==20.2.4=py38h06a4308_0\n",
            "pycparser==2.20=py_2 -> python -> pip\n",
            "numpy -> python[version='>=3.7,<3.8.0a0'] -> pip\n",
            "pandas -> python[version='>=3.7,<3.8.0a0'] -> pip\n",
            "rdkit -> python[version='>=3.7,<3.8.0a0'] -> pip\n",
            "certifi==2020.6.20=pyhd3eb1b0_3 -> python -> pip\n",
            "pytz -> python[version='>=3'] -> pip\n",
            "\n",
            "Package zlib conflicts for:\n",
            "python==3.8.5=h7579374_1 -> zlib[version='>=1.2.11,<1.3.0a0']\n",
            "setuptools==50.3.1=py38h06a4308_1 -> python[version='>=3.8,<3.9.0a0'] -> zlib[version='>=1.2.11,<1.3.0a0']\n",
            "wheel==0.35.1=pyhd3eb1b0_0 -> python -> zlib[version='>=1.2.11,<1.3.0a0']\n",
            "pytz -> python[version='>=3'] -> zlib[version='>=1.2.11,<1.3.0a0']\n",
            "tk==8.6.10=hbc83047_0 -> zlib[version='>=1.2.11,<1.3.0a0']\n",
            "brotlipy==0.7.0=py38h27cfd23_1003 -> python[version='>=3.8,<3.9.0a0'] -> zlib[version='>=1.2.11,<1.3.0a0']\n",
            "urllib3==1.25.11=py_0 -> python[version='<4.0'] -> zlib[version='>=1.2.11,<1.3.0a0']\n",
            "boost -> python[version='>=3.7,<3.8.0a0'] -> zlib[version='>=1.2.11,<1.3.0a0']\n",
            "chardet==3.0.4=py38h06a4308_1003 -> python[version='>=3.8,<3.9.0a0'] -> zlib[version='>=1.2.11,<1.3.0a0']\n",
            "boost-cpp -> zstd[version='>=1.4.5,<1.5.0a0'] -> zlib[version='>=1.2.11,<1.3.0a0']\n",
            "lcms2 -> libtiff[version='>=4.1.0,<5.0a0'] -> zlib[version='>=1.2.11,<1.3.0a0']\n",
            "idna==2.10=py_0 -> python -> zlib[version='>=1.2.11,<1.3.0a0']\n",
            "conda-package-handling==1.7.2=py38h03888b9_0 -> python[version='>=3.8,<3.9.0a0'] -> zlib[version='>=1.2.11,<1.3.0a0']\n",
            "pycosat==0.6.3=py38h7b6447c_1 -> python[version='>=3.8,<3.9.0a0'] -> zlib[version='>=1.2.11,<1.3.0a0']\n",
            "fontconfig -> freetype[version='>=2.10.4,<3.0a0'] -> zlib[version='>=1.2.11,<1.3.0a0']\n",
            "numpy -> python[version='>=3.7,<3.8.0a0'] -> zlib[version='>=1.2.11,<1.3.0a0']\n",
            "libxml2 -> zlib[version='>=1.2.11,<1.3.0a0']\n",
            "libpng -> zlib[version='>=1.2.11,<1.3.0a0']\n",
            "six==1.15.0=py38h06a4308_0 -> python[version='>=3.8,<3.9.0a0'] -> zlib[version='>=1.2.11,<1.3.0a0']\n",
            "pysocks==1.7.1=py38h06a4308_0 -> python[version='>=3.8,<3.9.0a0'] -> zlib[version='>=1.2.11,<1.3.0a0']\n",
            "pyopenssl==19.1.0=pyhd3eb1b0_1 -> python -> zlib[version='>=1.2.11,<1.3.0a0']\n",
            "pillow -> zlib[version='>=1.2.11,<1.3.0a0']\n",
            "pycparser==2.20=py_2 -> python -> zlib[version='>=1.2.11,<1.3.0a0']\n",
            "pandas -> python[version='>=3.7,<3.8.0a0'] -> zlib[version='>=1.2.11,<1.3.0a0']\n",
            "pycairo -> cairo[version='>=1.16.0,<1.17.0a0'] -> zlib[version='>=1.2.11,<1.3.0a0']\n",
            "freetype -> zlib[version='>=1.2.11,<1.3.0a0']\n",
            "cryptography==3.2.1=py38h3c74f83_1 -> python[version='>=3.8,<3.9.0a0'] -> zlib[version='>=1.2.11,<1.3.0a0']\n",
            "python_abi -> python=3.7 -> zlib[version='>=1.2.11,<1.3.0a0']\n",
            "cairo -> zlib[version='>=1.2.11,<1.3.0a0']\n",
            "certifi==2020.6.20=pyhd3eb1b0_3 -> python -> zlib[version='>=1.2.11,<1.3.0a0']\n",
            "cffi==1.14.3=py38h261ae71_2 -> python[version='>=3.8,<3.9.0a0'] -> zlib[version='>=1.2.11,<1.3.0a0']\n",
            "glib -> zlib[version='>=1.2.11,<1.3.0a0']\n",
            "requests==2.24.0=py_0 -> python -> zlib[version='>=1.2.11,<1.3.0a0']\n",
            "rdkit -> cairo[version='>=1.16.0,<1.17.0a0'] -> zlib[version='>=1.2.11,<1.3.0a0']\n",
            "libtiff -> zlib[version='>=1.2.11,<1.3.0a0']\n",
            "tqdm==4.51.0=pyhd3eb1b0_0 -> python -> zlib[version='>=1.2.11,<1.3.0a0']\n",
            "zlib==1.2.11=h7b6447c_3\n",
            "zstd -> zlib[version='>=1.2.11,<1.3.0a0']\n",
            "sqlite==3.33.0=h62c20be_0 -> zlib[version='>=1.2.11,<1.3.0a0']\n",
            "ruamel_yaml==0.15.87=py38h7b6447c_1 -> python[version='>=3.8,<3.9.0a0'] -> zlib[version='>=1.2.11,<1.3.0a0']\n",
            "conda==4.9.2=py38h06a4308_0 -> python[version='>=3.8,<3.9.0a0'] -> zlib[version='>=1.2.11,<1.3.0a0']\n",
            "python-dateutil -> python -> zlib[version='>=1.2.11,<1.3.0a0']\n",
            "olefile -> python -> zlib[version='>=1.2.11,<1.3.0a0']\n",
            "\n",
            "Package python conflicts for:\n",
            "rdkit -> python[version='>=3.7,<3.8.0a0']\n",
            "numpy -> python[version='>=3.7,<3.8.0a0']\n",
            "cryptography==3.2.1=py38h3c74f83_1 -> python[version='>=3.8,<3.9.0a0']\n",
            "certifi==2020.6.20=pyhd3eb1b0_3 -> python\n",
            "conda-package-handling==1.7.2=py38h03888b9_0 -> python[version='>=3.8,<3.9.0a0']\n",
            "boost -> python_abi=3.7[build=*_cp37m] -> python=3.7\n",
            "idna==2.10=py_0 -> python\n",
            "wheel==0.35.1=pyhd3eb1b0_0 -> python\n",
            "cffi==1.14.3=py38h261ae71_2 -> pycparser -> python\n",
            "pyopenssl==19.1.0=pyhd3eb1b0_1 -> cryptography[version='>=2.8'] -> python[version='>=3.7,<3.8.0a0|>=3.8,<3.9.0a0']\n",
            "pytz -> python[version='>=3']\n",
            "boost -> python[version='>=3.7,<3.8.0a0']\n",
            "brotlipy==0.7.0=py38h27cfd23_1003 -> python[version='>=3.8,<3.9.0a0']\n",
            "pysocks==1.7.1=py38h06a4308_0 -> python[version='>=3.8,<3.9.0a0']\n",
            "conda==4.9.2=py38h06a4308_0 -> conda-package-handling[version='>=1.3.0'] -> python[version='>=3.7,<3.8.0a0']\n",
            "brotlipy==0.7.0=py38h27cfd23_1003 -> cffi[version='>=1.0.0'] -> python[version='>=3.7,<3.8.0a0']\n",
            "pillow -> python[version='>=3.7,<3.8.0a0']\n",
            "olefile -> python\n",
            "requests==2.24.0=py_0 -> certifi[version='>=2017.4.17'] -> python[version='<4.0|>=3.7,<3.8.0a0|>=3.8,<3.9.0a0']\n",
            "pandas -> python[version='>=3.7,<3.8.0a0']\n",
            "pycparser==2.20=py_2 -> python\n",
            "python-dateutil -> python\n",
            "chardet==3.0.4=py38h06a4308_1003 -> python[version='>=3.8,<3.9.0a0']\n",
            "pycosat==0.6.3=py38h7b6447c_1 -> python[version='>=3.8,<3.9.0a0']\n",
            "python-dateutil -> six -> python[version='>=3.7,<3.8.0a0|>=3.8,<3.9.0a0']\n",
            "cffi==1.14.3=py38h261ae71_2 -> python[version='>=3.8,<3.9.0a0']\n",
            "tqdm==4.51.0=pyhd3eb1b0_0 -> python\n",
            "six==1.15.0=py38h06a4308_0 -> python[version='>=3.8,<3.9.0a0']\n",
            "requests==2.24.0=py_0 -> python\n",
            "setuptools==50.3.1=py38h06a4308_1 -> python[version='>=3.8,<3.9.0a0']\n",
            "ruamel_yaml==0.15.87=py38h7b6447c_1 -> python[version='>=3.8,<3.9.0a0']\n",
            "pycairo -> python_abi=3.7[build=*_cp37m] -> python=3.7\n",
            "conda-package-handling==1.7.2=py38h03888b9_0 -> six -> python[version='>=3.7,<3.8.0a0']\n",
            "python_abi -> python=3.7\n",
            "setuptools==50.3.1=py38h06a4308_1 -> certifi[version='>=2016.9.26'] -> python[version='>=3.7,<3.8.0a0']\n",
            "rdkit -> python_abi=3.7[build=*_cp37m] -> python[version='3.7.*|>=3.8,<3.9.0a0']\n",
            "numpy -> python_abi=3.7[build=*_cp37m] -> python=3.7\n",
            "pillow -> olefile -> python=3.7\n",
            "python==3.8.5=h7579374_1\n",
            "urllib3==1.25.11=py_0 -> python[version='<4.0']\n",
            "pyopenssl==19.1.0=pyhd3eb1b0_1 -> python\n",
            "urllib3==1.25.11=py_0 -> brotlipy[version='>=0.6.0'] -> python[version='>=3.7,<3.8.0a0|>=3.8,<3.9.0a0']\n",
            "cryptography==3.2.1=py38h3c74f83_1 -> cffi[version='!=1.11.3,>=1.8'] -> python[version='>=3.7,<3.8.0a0']\n",
            "pandas -> python-dateutil[version='>=2.7.3'] -> python[version='3.7.*|>=3']\n",
            "conda==4.9.2=py38h06a4308_0 -> python[version='>=3.8,<3.9.0a0']\n",
            "pycairo -> python[version='>=3.7,<3.8.0a0']\n",
            "\n",
            "Package ncurses conflicts for:\n",
            "certifi==2020.6.20=pyhd3eb1b0_3 -> python -> ncurses[version='>=6.2,<7.0a0']\n",
            "brotlipy==0.7.0=py38h27cfd23_1003 -> python[version='>=3.8,<3.9.0a0'] -> ncurses[version='>=6.2,<7.0a0']\n",
            "pyopenssl==19.1.0=pyhd3eb1b0_1 -> python -> ncurses[version='>=6.2,<7.0a0']\n",
            "tqdm==4.51.0=pyhd3eb1b0_0 -> python -> ncurses[version='>=6.2,<7.0a0']\n",
            "cffi==1.14.3=py38h261ae71_2 -> python[version='>=3.8,<3.9.0a0'] -> ncurses[version='>=6.2,<7.0a0']\n",
            "six==1.15.0=py38h06a4308_0 -> python[version='>=3.8,<3.9.0a0'] -> ncurses[version='>=6.2,<7.0a0']\n",
            "sqlite==3.33.0=h62c20be_0 -> ncurses[version='>=6.2,<7.0a0']\n",
            "python==3.8.5=h7579374_1 -> readline[version='>=8.0,<9.0a0'] -> ncurses[version='>=6.1,<7.0a0']\n",
            "requests==2.24.0=py_0 -> python -> ncurses[version='>=6.2,<7.0a0']\n",
            "python-dateutil -> python -> ncurses[version='>=6.2,<7.0a0']\n",
            "olefile -> python -> ncurses[version='>=6.2,<7.0a0']\n",
            "setuptools==50.3.1=py38h06a4308_1 -> python[version='>=3.8,<3.9.0a0'] -> ncurses[version='>=6.2,<7.0a0']\n",
            "pillow -> python[version='>=3.7,<3.8.0a0'] -> ncurses[version='>=6.2,<7.0a0']\n",
            "boost -> python[version='>=3.7,<3.8.0a0'] -> ncurses[version='>=6.2,<7.0a0']\n",
            "idna==2.10=py_0 -> python -> ncurses[version='>=6.2,<7.0a0']\n",
            "python_abi -> python=3.7 -> ncurses[version='>=6.2,<7.0a0']\n",
            "numpy -> python[version='>=3.7,<3.8.0a0'] -> ncurses[version='>=6.2,<7.0a0']\n",
            "chardet==3.0.4=py38h06a4308_1003 -> python[version='>=3.8,<3.9.0a0'] -> ncurses[version='>=6.2,<7.0a0']\n",
            "pycosat==0.6.3=py38h7b6447c_1 -> python[version='>=3.8,<3.9.0a0'] -> ncurses[version='>=6.2,<7.0a0']\n",
            "ruamel_yaml==0.15.87=py38h7b6447c_1 -> python[version='>=3.8,<3.9.0a0'] -> ncurses[version='>=6.2,<7.0a0']\n",
            "conda==4.9.2=py38h06a4308_0 -> python[version='>=3.8,<3.9.0a0'] -> ncurses[version='>=6.2,<7.0a0']\n",
            "pycairo -> python[version='>=3.7,<3.8.0a0'] -> ncurses[version='>=6.2,<7.0a0']\n",
            "urllib3==1.25.11=py_0 -> python[version='<4.0'] -> ncurses[version='>=6.2,<7.0a0']\n",
            "python==3.8.5=h7579374_1 -> ncurses[version='>=6.2,<7.0a0']\n",
            "pysocks==1.7.1=py38h06a4308_0 -> python[version='>=3.8,<3.9.0a0'] -> ncurses[version='>=6.2,<7.0a0']\n",
            "pytz -> python[version='>=3'] -> ncurses[version='>=6.2,<7.0a0']\n",
            "libedit==3.1.20191231=h14c3975_1 -> ncurses[version='>=6.2,<7.0a0']\n",
            "pycparser==2.20=py_2 -> python -> ncurses[version='>=6.2,<7.0a0']\n",
            "wheel==0.35.1=pyhd3eb1b0_0 -> python -> ncurses[version='>=6.2,<7.0a0']\n",
            "pandas -> python[version='>=3.7,<3.8.0a0'] -> ncurses[version='>=6.2,<7.0a0']\n",
            "ncurses==6.2=he6710b0_1\n",
            "rdkit -> python[version='>=3.7,<3.8.0a0'] -> ncurses[version='>=6.2,<7.0a0']\n",
            "conda-package-handling==1.7.2=py38h03888b9_0 -> python[version='>=3.8,<3.9.0a0'] -> ncurses[version='>=6.2,<7.0a0']\n",
            "cryptography==3.2.1=py38h3c74f83_1 -> python[version='>=3.8,<3.9.0a0'] -> ncurses[version='>=6.2,<7.0a0']\n",
            "readline==8.0=h7b6447c_0 -> ncurses[version='>=6.1,<7.0a0']\n",
            "\n",
            "Package icu conflicts for:\n",
            "icu\n",
            "rdkit -> cairo[version='>=1.16.0,<1.17.0a0'] -> icu[version='>=67.1,<68.0a0']\n",
            "fontconfig -> icu[version='>=67.1,<68.0a0']\n",
            "libxml2 -> icu[version='>=67.1,<68.0a0']\n",
            "boost-cpp -> icu[version='>=67.1,<68.0a0']\n",
            "cairo -> icu[version='>=67.1,<68.0a0']\n",
            "boost -> boost-cpp=1.74.0 -> icu[version='>=67.1,<68.0a0']\n",
            "pycairo -> cairo[version='>=1.16.0,<1.17.0a0'] -> icu[version='>=67.1,<68.0a0']\n",
            "\n",
            "Package pysocks conflicts for:\n",
            "urllib3==1.25.11=py_0 -> pysocks[version='>=1.5.6,<2.0,!=1.5.7']\n",
            "requests==2.24.0=py_0 -> urllib3[version='>=1.21.1,<1.26,!=1.25.0,!=1.25.1'] -> pysocks[version='>=1.5.6,<2.0,!=1.5.7']\n",
            "pysocks==1.7.1=py38h06a4308_0\n",
            "\n",
            "Package readline conflicts for:\n",
            "readline==8.0=h7b6447c_0\n",
            "pycairo -> python[version='>=3.7,<3.8.0a0'] -> readline[version='>=8.0,<9.0a0']\n",
            "conda==4.9.2=py38h06a4308_0 -> python[version='>=3.8,<3.9.0a0'] -> readline[version='>=8.0,<9.0a0']\n",
            "python-dateutil -> python -> readline[version='>=8.0,<9.0a0']\n",
            "python==3.8.5=h7579374_1 -> readline[version='>=8.0,<9.0a0']\n",
            "pillow -> python[version='>=3.7,<3.8.0a0'] -> readline[version='>=8.0,<9.0a0']\n",
            "brotlipy==0.7.0=py38h27cfd23_1003 -> python[version='>=3.8,<3.9.0a0'] -> readline[version='>=8.0,<9.0a0']\n",
            "olefile -> python -> readline[version='>=8.0,<9.0a0']\n",
            "pytz -> python[version='>=3'] -> readline[version='>=8.0,<9.0a0']\n",
            "boost -> python[version='>=3.7,<3.8.0a0'] -> readline[version='>=8.0,<9.0a0']\n",
            "pycparser==2.20=py_2 -> python -> readline[version='>=8.0,<9.0a0']\n",
            "wheel==0.35.1=pyhd3eb1b0_0 -> python -> readline[version='>=8.0,<9.0a0']\n",
            "idna==2.10=py_0 -> python -> readline[version='>=8.0,<9.0a0']\n",
            "numpy -> python[version='>=3.7,<3.8.0a0'] -> readline[version='>=8.0,<9.0a0']\n",
            "chardet==3.0.4=py38h06a4308_1003 -> python[version='>=3.8,<3.9.0a0'] -> readline[version='>=8.0,<9.0a0']\n",
            "conda-package-handling==1.7.2=py38h03888b9_0 -> python[version='>=3.8,<3.9.0a0'] -> readline[version='>=8.0,<9.0a0']\n",
            "rdkit -> python[version='>=3.7,<3.8.0a0'] -> readline[version='>=8.0,<9.0a0']\n",
            "six==1.15.0=py38h06a4308_0 -> python[version='>=3.8,<3.9.0a0'] -> readline[version='>=8.0,<9.0a0']\n",
            "urllib3==1.25.11=py_0 -> python[version='<4.0'] -> readline[version='>=8.0,<9.0a0']\n",
            "pyopenssl==19.1.0=pyhd3eb1b0_1 -> python -> readline[version='>=8.0,<9.0a0']\n",
            "pysocks==1.7.1=py38h06a4308_0 -> python[version='>=3.8,<3.9.0a0'] -> readline[version='>=8.0,<9.0a0']\n",
            "pandas -> python[version='>=3.7,<3.8.0a0'] -> readline[version='>=8.0,<9.0a0']\n",
            "cryptography==3.2.1=py38h3c74f83_1 -> python[version='>=3.8,<3.9.0a0'] -> readline[version='>=8.0,<9.0a0']\n",
            "requests==2.24.0=py_0 -> python -> readline[version='>=8.0,<9.0a0']\n",
            "python_abi -> python=3.7 -> readline[version='>=8.0,<9.0a0']\n",
            "certifi==2020.6.20=pyhd3eb1b0_3 -> python -> readline[version='>=8.0,<9.0a0']\n",
            "tqdm==4.51.0=pyhd3eb1b0_0 -> python -> readline[version='>=8.0,<9.0a0']\n",
            "setuptools==50.3.1=py38h06a4308_1 -> python[version='>=3.8,<3.9.0a0'] -> readline[version='>=8.0,<9.0a0']\n",
            "cffi==1.14.3=py38h261ae71_2 -> python[version='>=3.8,<3.9.0a0'] -> readline[version='>=8.0,<9.0a0']\n",
            "pycosat==0.6.3=py38h7b6447c_1 -> python[version='>=3.8,<3.9.0a0'] -> readline[version='>=8.0,<9.0a0']\n",
            "ruamel_yaml==0.15.87=py38h7b6447c_1 -> python[version='>=3.8,<3.9.0a0'] -> readline[version='>=8.0,<9.0a0']\n",
            "\n",
            "Package tk conflicts for:\n",
            "pysocks==1.7.1=py38h06a4308_0 -> python[version='>=3.8,<3.9.0a0'] -> tk[version='>=8.6.10,<8.7.0a0']\n",
            "pycparser==2.20=py_2 -> python -> tk[version='>=8.6.10,<8.7.0a0']\n",
            "wheel==0.35.1=pyhd3eb1b0_0 -> python -> tk[version='>=8.6.10,<8.7.0a0']\n",
            "boost -> python[version='>=3.7,<3.8.0a0'] -> tk[version='>=8.6.10,<8.7.0a0']\n",
            "idna==2.10=py_0 -> python -> tk[version='>=8.6.10,<8.7.0a0']\n",
            "numpy -> python[version='>=3.7,<3.8.0a0'] -> tk[version='>=8.6.10,<8.7.0a0']\n",
            "conda-package-handling==1.7.2=py38h03888b9_0 -> python[version='>=3.8,<3.9.0a0'] -> tk[version='>=8.6.10,<8.7.0a0']\n",
            "pandas -> python[version='>=3.7,<3.8.0a0'] -> tk[version='>=8.6.10,<8.7.0a0']\n",
            "conda==4.9.2=py38h06a4308_0 -> python[version='>=3.8,<3.9.0a0'] -> tk[version='>=8.6.10,<8.7.0a0']\n",
            "cryptography==3.2.1=py38h3c74f83_1 -> python[version='>=3.8,<3.9.0a0'] -> tk[version='>=8.6.10,<8.7.0a0']\n",
            "urllib3==1.25.11=py_0 -> python[version='<4.0'] -> tk[version='>=8.6.10,<8.7.0a0']\n",
            "pytz -> python[version='>=3'] -> tk[version='>=8.6.10,<8.7.0a0']\n",
            "python==3.8.5=h7579374_1 -> tk[version='>=8.6.10,<8.7.0a0']\n",
            "brotlipy==0.7.0=py38h27cfd23_1003 -> python[version='>=3.8,<3.9.0a0'] -> tk[version='>=8.6.10,<8.7.0a0']\n",
            "pyopenssl==19.1.0=pyhd3eb1b0_1 -> python -> tk[version='>=8.6.10,<8.7.0a0']\n",
            "pillow -> tk[version='>=8.6.10,<8.7.0a0']\n",
            "chardet==3.0.4=py38h06a4308_1003 -> python[version='>=3.8,<3.9.0a0'] -> tk[version='>=8.6.10,<8.7.0a0']\n",
            "rdkit -> pillow -> tk[version='>=8.6.10,<8.7.0a0']\n",
            "six==1.15.0=py38h06a4308_0 -> python[version='>=3.8,<3.9.0a0'] -> tk[version='>=8.6.10,<8.7.0a0']\n",
            "certifi==2020.6.20=pyhd3eb1b0_3 -> python -> tk[version='>=8.6.10,<8.7.0a0']\n",
            "tqdm==4.51.0=pyhd3eb1b0_0 -> python -> tk[version='>=8.6.10,<8.7.0a0']\n",
            "tk==8.6.10=hbc83047_0\n",
            "setuptools==50.3.1=py38h06a4308_1 -> python[version='>=3.8,<3.9.0a0'] -> tk[version='>=8.6.10,<8.7.0a0']\n",
            "python_abi -> python=3.7 -> tk[version='>=8.6.10,<8.7.0a0']\n",
            "requests==2.24.0=py_0 -> python -> tk[version='>=8.6.10,<8.7.0a0']\n",
            "cffi==1.14.3=py38h261ae71_2 -> python[version='>=3.8,<3.9.0a0'] -> tk[version='>=8.6.10,<8.7.0a0']\n",
            "pycosat==0.6.3=py38h7b6447c_1 -> python[version='>=3.8,<3.9.0a0'] -> tk[version='>=8.6.10,<8.7.0a0']\n",
            "ruamel_yaml==0.15.87=py38h7b6447c_1 -> python[version='>=3.8,<3.9.0a0'] -> tk[version='>=8.6.10,<8.7.0a0']\n",
            "python-dateutil -> python -> tk[version='>=8.6.10,<8.7.0a0']\n",
            "pycairo -> python[version='>=3.7,<3.8.0a0'] -> tk[version='>=8.6.10,<8.7.0a0']\n",
            "olefile -> python -> tk[version='>=8.6.10,<8.7.0a0']\n",
            "\n",
            "Package libffi conflicts for:\n",
            "cairo -> glib[version='>=2.58.3,<3.0a0'] -> libffi[version='>=3.3,<3.4.0a0']\n",
            "pycosat==0.6.3=py38h7b6447c_1 -> python[version='>=3.8,<3.9.0a0'] -> libffi[version='>=3.3,<3.4.0a0']\n",
            "conda==4.9.2=py38h06a4308_0 -> python[version='>=3.8,<3.9.0a0'] -> libffi[version='>=3.3,<3.4.0a0']\n",
            "python-dateutil -> python -> libffi[version='>=3.3,<3.4.0a0']\n",
            "python==3.8.5=h7579374_1 -> libffi[version='>=3.3,<3.4.0a0']\n",
            "pillow -> python[version='>=3.7,<3.8.0a0'] -> libffi[version='>=3.3,<3.4.0a0']\n",
            "glib -> libffi[version='>=3.3,<3.4.0a0']\n",
            "urllib3==1.25.11=py_0 -> python[version='<4.0'] -> libffi[version='>=3.3,<3.4.0a0']\n",
            "wheel==0.35.1=pyhd3eb1b0_0 -> python -> libffi[version='>=3.3,<3.4.0a0']\n",
            "pytz -> python[version='>=3'] -> libffi[version='>=3.3,<3.4.0a0']\n",
            "brotlipy==0.7.0=py38h27cfd23_1003 -> cffi[version='>=1.0.0'] -> libffi[version='>=3.3,<3.4.0a0']\n",
            "pysocks==1.7.1=py38h06a4308_0 -> python[version='>=3.8,<3.9.0a0'] -> libffi[version='>=3.3,<3.4.0a0']\n",
            "pycparser==2.20=py_2 -> python -> libffi[version='>=3.3,<3.4.0a0']\n",
            "chardet==3.0.4=py38h06a4308_1003 -> python[version='>=3.8,<3.9.0a0'] -> libffi[version='>=3.3,<3.4.0a0']\n",
            "six==1.15.0=py38h06a4308_0 -> python[version='>=3.8,<3.9.0a0'] -> libffi[version='>=3.3,<3.4.0a0']\n",
            "pandas -> python[version='>=3.7,<3.8.0a0'] -> libffi[version='>=3.3,<3.4.0a0']\n",
            "conda-package-handling==1.7.2=py38h03888b9_0 -> python[version='>=3.8,<3.9.0a0'] -> libffi[version='>=3.3,<3.4.0a0']\n",
            "certifi==2020.6.20=pyhd3eb1b0_3 -> python -> libffi[version='>=3.3,<3.4.0a0']\n",
            "pyopenssl==19.1.0=pyhd3eb1b0_1 -> python -> libffi[version='>=3.3,<3.4.0a0']\n",
            "rdkit -> python[version='>=3.7,<3.8.0a0'] -> libffi[version='>=3.3,<3.4.0a0']\n",
            "requests==2.24.0=py_0 -> python -> libffi[version='>=3.3,<3.4.0a0']\n",
            "cryptography==3.2.1=py38h3c74f83_1 -> cffi[version='!=1.11.3,>=1.8'] -> libffi[version='>=3.3,<3.4.0a0']\n",
            "ruamel_yaml==0.15.87=py38h7b6447c_1 -> python[version='>=3.8,<3.9.0a0'] -> libffi[version='>=3.3,<3.4.0a0']\n",
            "tqdm==4.51.0=pyhd3eb1b0_0 -> python -> libffi[version='>=3.3,<3.4.0a0']\n",
            "pycairo -> python[version='>=3.7,<3.8.0a0'] -> libffi[version='>=3.3,<3.4.0a0']\n",
            "setuptools==50.3.1=py38h06a4308_1 -> python[version='>=3.8,<3.9.0a0'] -> libffi[version='>=3.3,<3.4.0a0']\n",
            "olefile -> python -> libffi[version='>=3.3,<3.4.0a0']\n",
            "boost -> python[version='>=3.7,<3.8.0a0'] -> libffi[version='>=3.3,<3.4.0a0']\n",
            "idna==2.10=py_0 -> python -> libffi[version='>=3.3,<3.4.0a0']\n",
            "cffi==1.14.3=py38h261ae71_2 -> libffi[version='>=3.3,<3.4.0a0']\n",
            "libffi==3.3=he6710b0_2\n",
            "python_abi -> python=3.7 -> libffi[version='>=3.3,<3.4.0a0']\n",
            "numpy -> python[version='>=3.7,<3.8.0a0'] -> libffi[version='>=3.3,<3.4.0a0']\n",
            "\n",
            "Package _libgcc_mutex conflicts for:\n",
            "readline==8.0=h7b6447c_0 -> libgcc-ng[version='>=7.3.0'] -> _libgcc_mutex=[build=main]\n",
            "icu -> libgcc-ng[version='>=7.3.0'] -> _libgcc_mutex=[build=main]\n",
            "pthread-stubs -> libgcc-ng[version='>=7.5.0'] -> _libgcc_mutex=[build=main]\n",
            "jpeg -> libgcc-ng[version='>=7.5.0'] -> _libgcc_mutex=[build=main]\n",
            "cffi==1.14.3=py38h261ae71_2 -> libgcc-ng[version='>=7.3.0'] -> _libgcc_mutex=[build=main]\n",
            "tk==8.6.10=hbc83047_0 -> libgcc-ng[version='>=7.3.0'] -> _libgcc_mutex=[build=main]\n",
            "xorg-kbproto -> libgcc-ng[version='>=7.3.0'] -> _libgcc_mutex=[build=main]\n",
            "libpng -> libgcc-ng[version='>=7.5.0'] -> _libgcc_mutex=[build=main]\n",
            "lcms2 -> libgcc-ng[version='>=7.5.0'] -> _libgcc_mutex=[build=main]\n",
            "freetype -> libgcc-ng[version='>=7.5.0'] -> _libgcc_mutex=[build=main]\n",
            "libgcc-ng==9.1.0=hdf63c60_0 -> _libgcc_mutex=[build=main]\n",
            "pandas -> libgcc-ng[version='>=7.5.0'] -> _libgcc_mutex=[build=main]\n",
            "cairo -> libgcc-ng[version='>=7.5.0'] -> _libgcc_mutex=[build=main]\n",
            "sqlite==3.33.0=h62c20be_0 -> libgcc-ng[version='>=7.3.0'] -> _libgcc_mutex=[build=main]\n",
            "libffi==3.3=he6710b0_2 -> libgcc-ng[version='>=7.3.0'] -> _libgcc_mutex=[build=main]\n",
            "libopenblas -> libgcc-ng[version='>=7.5.0'] -> _libgcc_mutex=[build=main]\n",
            "pixman -> libgcc-ng[version='>=7.3.0'] -> _libgcc_mutex=[build=main]\n",
            "lz4-c -> libgcc-ng[version='>=7.5.0'] -> _libgcc_mutex=[build=main]\n",
            "libtiff -> libgcc-ng[version='>=7.5.0'] -> _libgcc_mutex=[build=main]\n",
            "libiconv -> libgcc-ng[version='>=7.5.0'] -> _libgcc_mutex=[build=main]\n",
            "xorg-libx11 -> libgcc-ng[version='>=7.5.0'] -> _libgcc_mutex=[build=main]\n",
            "xorg-libxext -> libgcc-ng[version='>=7.3.0'] -> _libgcc_mutex=[build=main]\n",
            "xorg-libxrender -> libgcc-ng[version='>=7.3.0'] -> _libgcc_mutex=[build=main]\n",
            "brotlipy==0.7.0=py38h27cfd23_1003 -> libgcc-ng[version='>=7.3.0'] -> _libgcc_mutex=[build=main]\n",
            "pycairo -> libgcc-ng[version='>=7.5.0'] -> _libgcc_mutex=[build=main]\n",
            "fontconfig -> libgcc-ng[version='>=7.5.0'] -> _libgcc_mutex=[build=main]\n",
            "_libgcc_mutex==0.1=main\n",
            "zstd -> libgcc-ng[version='>=7.5.0'] -> _libgcc_mutex=[build=main]\n",
            "boost-cpp -> libgcc-ng[version='>=7.5.0'] -> _libgcc_mutex=[build=main]\n",
            "xorg-libxau -> libgcc-ng[version='>=7.3.0'] -> _libgcc_mutex=[build=main]\n",
            "yaml==0.2.5=h7b6447c_0 -> libgcc-ng[version='>=7.3.0'] -> _libgcc_mutex=[build=main]\n",
            "xz==5.2.5=h7b6447c_0 -> libgcc-ng[version='>=7.3.0'] -> _libgcc_mutex=[build=main]\n",
            "openssl==1.1.1h=h7b6447c_0 -> libgcc-ng[version='>=7.3.0'] -> _libgcc_mutex=[build=main]\n",
            "rdkit -> libgcc-ng[version='>=7.5.0'] -> _libgcc_mutex=[build=main]\n",
            "pycosat==0.6.3=py38h7b6447c_1 -> libgcc-ng[version='>=7.3.0'] -> _libgcc_mutex=[build=main]\n",
            "ncurses==6.2=he6710b0_1 -> libgcc-ng[version='>=7.3.0'] -> _libgcc_mutex=[build=main]\n",
            "xorg-libxdmcp -> libgcc-ng[version='>=7.3.0'] -> _libgcc_mutex=[build=main]\n",
            "xorg-renderproto -> libgcc-ng[version='>=7.3.0'] -> _libgcc_mutex=[build=main]\n",
            "ruamel_yaml==0.15.87=py38h7b6447c_1 -> libgcc-ng[version='>=7.3.0'] -> _libgcc_mutex=[build=main]\n",
            "xorg-libice -> libgcc-ng[version='>=7.3.0'] -> _libgcc_mutex=[build=main]\n",
            "libuuid -> libgcc-ng[version='>=7.3.0'] -> _libgcc_mutex=[build=main]\n",
            "pillow -> libgcc-ng[version='>=7.5.0'] -> _libgcc_mutex=[build=main]\n",
            "xorg-libsm -> libgcc-ng[version='>=7.3.0'] -> _libgcc_mutex=[build=main]\n",
            "bzip2 -> libgcc-ng[version='>=7.5.0'] -> _libgcc_mutex=[build=main]\n",
            "libxml2 -> libgcc-ng[version='>=7.5.0'] -> _libgcc_mutex=[build=main]\n",
            "xorg-xproto -> libgcc-ng[version='>=7.3.0'] -> _libgcc_mutex=[build=main]\n",
            "libedit==3.1.20191231=h14c3975_1 -> libgcc-ng[version='>=7.3.0'] -> _libgcc_mutex=[build=main]\n",
            "xorg-xextproto -> libgcc-ng[version='>=7.3.0'] -> _libgcc_mutex=[build=main]\n",
            "boost -> libgcc-ng[version='>=7.5.0'] -> _libgcc_mutex=[build=main]\n",
            "zlib==1.2.11=h7b6447c_3 -> libgcc-ng[version='>=7.3.0'] -> _libgcc_mutex=[build=main]\n",
            "pcre -> libgcc-ng[version='>=7.3.0'] -> _libgcc_mutex=[build=main]\n",
            "numpy -> libgcc-ng[version='>=7.5.0'] -> _libgcc_mutex=[build=main]\n",
            "libxcb -> libgcc-ng[version='>=7.3.0'] -> _libgcc_mutex=[build=main]\n",
            "glib -> libgcc-ng[version='>=7.3.0'] -> _libgcc_mutex=[build=main]\n",
            "libwebp-base -> libgcc-ng[version='>=7.5.0'] -> _libgcc_mutex=[build=main]\n",
            "conda-package-handling==1.7.2=py38h03888b9_0 -> libgcc-ng[version='>=7.3.0'] -> _libgcc_mutex=[build=main]\n",
            "python==3.8.5=h7579374_1 -> libgcc-ng[version='>=7.3.0'] -> _libgcc_mutex=[build=main]\n",
            "cryptography==3.2.1=py38h3c74f83_1 -> libgcc-ng[version='>=7.3.0'] -> _libgcc_mutex=[build=main]\n",
            "\n",
            "Package libgcc-ng conflicts for:\n",
            "cryptography==3.2.1=py38h3c74f83_1 -> openssl[version='>=1.1.1h,<1.1.2a'] -> libgcc-ng[version='>=7.5.0']\n",
            "numpy -> libgcc-ng[version='>=7.5.0']\n",
            "libpng -> libgcc-ng[version='>=7.5.0']\n",
            "pyopenssl==19.1.0=pyhd3eb1b0_1 -> cryptography[version='>=2.8'] -> libgcc-ng[version='>=7.3.0']\n",
            "lcms2 -> libgcc-ng[version='>=7.5.0']\n",
            "conda-package-handling==1.7.2=py38h03888b9_0 -> libgcc-ng[version='>=7.3.0']\n",
            "xorg-libxext -> libgcc-ng[version='>=7.3.0']\n",
            "xorg-kbproto -> libgcc-ng[version='>=7.3.0']\n",
            "six==1.15.0=py38h06a4308_0 -> python[version='>=3.8,<3.9.0a0'] -> libgcc-ng[version='>=7.3.0']\n",
            "certifi==2020.6.20=pyhd3eb1b0_3 -> python -> libgcc-ng[version='>=7.3.0']\n",
            "readline==8.0=h7b6447c_0 -> libgcc-ng[version='>=7.3.0']\n",
            "xorg-libxau -> libgcc-ng[version='>=7.3.0']\n",
            "sqlite==3.33.0=h62c20be_0 -> libgcc-ng[version='>=7.3.0']\n",
            "bzip2 -> libgcc-ng[version='>=7.5.0']\n",
            "libxml2 -> icu[version='>=67.1,<68.0a0'] -> libgcc-ng[version='>=7.3.0']\n",
            "libxcb -> libgcc-ng[version='>=7.3.0']\n",
            "tqdm==4.51.0=pyhd3eb1b0_0 -> python -> libgcc-ng[version='>=7.3.0']\n",
            "olefile -> python -> libgcc-ng[version='>=7.3.0']\n",
            "boost-cpp -> icu[version='>=67.1,<68.0a0'] -> libgcc-ng[version='>=7.3.0']\n",
            "xorg-libice -> libgcc-ng[version='>=7.3.0']\n",
            "xorg-libx11 -> libxcb=1 -> libgcc-ng[version='>=7.3.0']\n",
            "boost-cpp -> libgcc-ng[version='>=7.5.0']\n",
            "pycosat==0.6.3=py38h7b6447c_1 -> libgcc-ng[version='>=7.3.0']\n",
            "jpeg -> libgcc-ng[version='>=7.5.0']\n",
            "python_abi -> python=3.7 -> libgcc-ng[version='>=7.3.0']\n",
            "cffi==1.14.3=py38h261ae71_2 -> libgcc-ng[version='>=7.3.0']\n",
            "tk==8.6.10=hbc83047_0 -> libgcc-ng[version='>=7.3.0']\n",
            "ruamel_yaml==0.15.87=py38h7b6447c_1 -> libgcc-ng[version='>=7.3.0']\n",
            "requests==2.24.0=py_0 -> python -> libgcc-ng[version='>=7.3.0']\n",
            "pillow -> libgcc-ng[version='>=7.5.0']\n",
            "xorg-xproto -> libgcc-ng[version='>=7.3.0']\n",
            "lz4-c -> libgcc-ng[version='>=7.5.0']\n",
            "ncurses==6.2=he6710b0_1 -> libgcc-ng[version='>=7.3.0']\n",
            "libiconv -> libgcc-ng[version='>=7.5.0']\n",
            "glib -> libgcc-ng[version='>=7.3.0']\n",
            "fontconfig -> libgcc-ng[version='>=7.5.0']\n",
            "python==3.8.5=h7579374_1 -> libgcc-ng[version='>=7.3.0']\n",
            "xz==5.2.5=h7b6447c_0 -> libgcc-ng[version='>=7.3.0']\n",
            "libopenblas -> libgcc-ng[version='>=7.5.0']\n",
            "pillow -> python[version='>=3.7,<3.8.0a0'] -> libgcc-ng[version='>=7.3.0']\n",
            "python-dateutil -> python -> libgcc-ng[version='>=7.3.0']\n",
            "pandas -> libgcc-ng[version='>=7.5.0']\n",
            "icu -> libgcc-ng[version='>=7.3.0']\n",
            "setuptools==50.3.1=py38h06a4308_1 -> python[version='>=3.8,<3.9.0a0'] -> libgcc-ng[version='>=7.3.0']\n",
            "yaml==0.2.5=h7b6447c_0 -> libgcc-ng[version='>=7.3.0']\n",
            "freetype -> zlib[version='>=1.2.11,<1.3.0a0'] -> libgcc-ng[version='>=7.3.0']\n",
            "freetype -> libgcc-ng[version='>=7.5.0']\n",
            "boost -> libgcc-ng[version='>=7.5.0']\n",
            "xorg-libxrender -> xorg-libx11=1.6 -> libgcc-ng[version='>=7.5.0']\n",
            "chardet==3.0.4=py38h06a4308_1003 -> python[version='>=3.8,<3.9.0a0'] -> libgcc-ng[version='>=7.3.0']\n",
            "boost -> python[version='>=3.7,<3.8.0a0'] -> libgcc-ng[version='>=7.3.0']\n",
            "xorg-libxdmcp -> libgcc-ng[version='>=7.3.0']\n",
            "cairo -> libgcc-ng[version='>=7.5.0']\n",
            "pysocks==1.7.1=py38h06a4308_0 -> python[version='>=3.8,<3.9.0a0'] -> libgcc-ng[version='>=7.3.0']\n",
            "pycparser==2.20=py_2 -> python -> libgcc-ng[version='>=7.3.0']\n",
            "xorg-libx11 -> libgcc-ng[version='>=7.5.0']\n",
            "xorg-renderproto -> libgcc-ng[version='>=7.3.0']\n",
            "xorg-xextproto -> libgcc-ng[version='>=7.3.0']\n",
            "libtiff -> libgcc-ng[version='>=7.5.0']\n",
            "openssl==1.1.1h=h7b6447c_0 -> libgcc-ng[version='>=7.3.0']\n",
            "libedit==3.1.20191231=h14c3975_1 -> libgcc-ng[version='>=7.3.0']\n",
            "cryptography==3.2.1=py38h3c74f83_1 -> libgcc-ng[version='>=7.3.0']\n",
            "urllib3==1.25.11=py_0 -> brotlipy[version='>=0.6.0'] -> libgcc-ng[version='>=7.3.0']\n",
            "xorg-libxext -> xorg-libx11=1.6 -> libgcc-ng[version='>=7.5.0']\n",
            "pcre -> libgcc-ng[version='>=7.3.0']\n",
            "pandas -> python[version='>=3.7,<3.8.0a0'] -> libgcc-ng[version='>=7.3.0']\n",
            "libblas -> libopenblas[version='>=0.3.12,<0.3.13.0a0'] -> libgcc-ng[version='>=7.5.0']\n",
            "pixman -> libgcc-ng[version='>=7.3.0']\n",
            "xorg-libxrender -> libgcc-ng[version='>=7.3.0']\n",
            "pycairo -> libgcc-ng[version='>=7.5.0']\n",
            "pycairo -> python[version='>=3.7,<3.8.0a0'] -> libgcc-ng[version='>=7.3.0']\n",
            "libuuid -> libgcc-ng[version='>=7.3.0']\n",
            "cairo -> glib[version='>=2.58.3,<3.0a0'] -> libgcc-ng[version='>=7.3.0']\n",
            "libgcc-ng==9.1.0=hdf63c60_0\n",
            "libtiff -> xz[version='>=5.2.5,<5.3.0a0'] -> libgcc-ng[version='>=7.3.0']\n",
            "pthread-stubs -> libgcc-ng[version='>=7.5.0']\n",
            "libpng -> zlib[version='>=1.2.11,<1.3.0a0'] -> libgcc-ng[version='>=7.3.0']\n",
            "pytz -> python[version='>=3'] -> libgcc-ng[version='>=7.3.0']\n",
            "zstd -> libgcc-ng[version='>=7.5.0']\n",
            "conda==4.9.2=py38h06a4308_0 -> conda-package-handling[version='>=1.3.0'] -> libgcc-ng[version='>=7.3.0']\n",
            "rdkit -> libgcc-ng[version='>=7.5.0']\n",
            "zlib==1.2.11=h7b6447c_3 -> libgcc-ng[version='>=7.3.0']\n",
            "libxcb -> pthread-stubs -> libgcc-ng[version='>=7.5.0']\n",
            "fontconfig -> icu[version='>=67.1,<68.0a0'] -> libgcc-ng[version='>=7.3.0']\n",
            "libwebp-base -> libgcc-ng[version='>=7.5.0']\n",
            "wheel==0.35.1=pyhd3eb1b0_0 -> python -> libgcc-ng[version='>=7.3.0']\n",
            "xorg-libsm -> libgcc-ng[version='>=7.3.0']\n",
            "brotlipy==0.7.0=py38h27cfd23_1003 -> libgcc-ng[version='>=7.3.0']\n",
            "numpy -> python[version='>=3.7,<3.8.0a0'] -> libgcc-ng[version='>=7.3.0']\n",
            "rdkit -> python[version='>=3.7,<3.8.0a0'] -> libgcc-ng[version='>=7.3.0']\n",
            "idna==2.10=py_0 -> python -> libgcc-ng[version='>=7.3.0']\n",
            "libffi==3.3=he6710b0_2 -> libgcc-ng[version='>=7.3.0']\n",
            "zstd -> xz[version='>=5.2.5,<5.3.0a0'] -> libgcc-ng[version='>=7.3.0']\n",
            "libxml2 -> libgcc-ng[version='>=7.5.0']\n",
            "python==3.8.5=h7579374_1 -> openssl[version='>=1.1.1g,<1.1.2a'] -> libgcc-ng[version='>=7.5.0']\n",
            "\n",
            "Package fontconfig conflicts for:\n",
            "fontconfig\n",
            "rdkit -> cairo[version='>=1.16.0,<1.17.0a0'] -> fontconfig[version='>=2.13.1,<3.0a0']\n",
            "cairo -> fontconfig[version='>=2.13.1,<3.0a0']\n",
            "pycairo -> cairo[version='>=1.16.0,<1.17.0a0'] -> fontconfig[version='>=2.13.1,<3.0a0']\n",
            "\n",
            "Package libpng conflicts for:\n",
            "pycairo -> cairo[version='>=1.16.0,<1.17.0a0'] -> libpng[version='>=1.6.37,<1.7.0a0']\n",
            "rdkit -> cairo[version='>=1.16.0,<1.17.0a0'] -> libpng[version='>=1.6.37,<1.7.0a0']\n",
            "fontconfig -> libpng[version='>=1.6.37,<1.7.0a0']\n",
            "libpng\n",
            "pillow -> freetype[version='>=2.10.4,<3.0a0'] -> libpng[version='>=1.6.37,<1.7.0a0']\n",
            "freetype -> libpng[version='>=1.6.37,<1.7.0a0']\n",
            "cairo -> libpng[version='>=1.6.37,<1.7.0a0']\n",
            "\n",
            "Package pillow conflicts for:\n",
            "pillow\n",
            "rdkit -> pillow\n",
            "\n",
            "Package libtiff conflicts for:\n",
            "libtiff\n",
            "lcms2 -> libtiff[version='>=4.1.0,<5.0a0']\n",
            "pillow -> libtiff[version='>=4.1.0,<5.0a0']\n",
            "rdkit -> pillow -> libtiff[version='>=4.1.0,<5.0a0']\n",
            "\n",
            "Package libopenblas conflicts for:\n",
            "numpy -> libblas[version='>=3.8.0,<4.0a0'] -> libopenblas[version='>=0.3.12,<0.3.13.0a0|>=0.3.12,<1.0a0']\n",
            "libcblas -> libblas==3.9.0=3_openblas -> libopenblas[version='>=0.3.12,<0.3.13.0a0|>=0.3.12,<1.0a0']\n",
            "liblapack -> libblas==3.9.0=3_openblas -> libopenblas[version='>=0.3.12,<0.3.13.0a0|>=0.3.12,<1.0a0']\n",
            "libblas -> libopenblas[version='>=0.3.12,<0.3.13.0a0|>=0.3.12,<1.0a0']\n",
            "libopenblas\n",
            "\n",
            "Package six conflicts for:\n",
            "rdkit -> six\n",
            "conda==4.9.2=py38h06a4308_0 -> conda-package-handling[version='>=1.3.0'] -> six[version='>=1.5.2']\n",
            "six==1.15.0=py38h06a4308_0\n",
            "pyopenssl==19.1.0=pyhd3eb1b0_1 -> cryptography[version='>=2.8'] -> six[version='>=1.4.1']\n",
            "pandas -> python-dateutil[version='>=2.7.3'] -> six\n",
            "python-dateutil -> six\n",
            "cryptography==3.2.1=py38h3c74f83_1 -> six[version='>=1.4.1']\n",
            "urllib3==1.25.11=py_0 -> cryptography[version='>=1.3.4'] -> six[version='>=1.4.1|>=1.5.2']\n",
            "conda-package-handling==1.7.2=py38h03888b9_0 -> six\n",
            "pyopenssl==19.1.0=pyhd3eb1b0_1 -> six[version='>=1.5.2']\n",
            "\n",
            "Package pthread-stubs conflicts for:\n",
            "libxcb -> pthread-stubs\n",
            "pthread-stubs\n",
            "cairo -> libxcb -> pthread-stubs\n",
            "xorg-libx11 -> libxcb=1 -> pthread-stubs\n",
            "\n",
            "Package certifi conflicts for:\n",
            "conda==4.9.2=py38h06a4308_0 -> requests[version='>=2.18.4,<3'] -> certifi[version='>=2016.9.26|>=2017.4.17']\n",
            "urllib3==1.25.11=py_0 -> certifi\n",
            "requests==2.24.0=py_0 -> certifi[version='>=2017.4.17']\n",
            "certifi==2020.6.20=pyhd3eb1b0_3\n",
            "requests==2.24.0=py_0 -> urllib3[version='>=1.21.1,<1.26,!=1.25.0,!=1.25.1'] -> certifi\n",
            "setuptools==50.3.1=py38h06a4308_1 -> certifi[version='>=2016.9.26']\n",
            "\n",
            "Package olefile conflicts for:\n",
            "olefile\n",
            "rdkit -> pillow -> olefile\n",
            "pillow -> olefile\n",
            "\n",
            "Package sqlite conflicts for:\n",
            "cffi==1.14.3=py38h261ae71_2 -> python[version='>=3.8,<3.9.0a0'] -> sqlite[version='>=3.33.0,<4.0a0']\n",
            "sqlite==3.33.0=h62c20be_0\n",
            "ruamel_yaml==0.15.87=py38h7b6447c_1 -> python[version='>=3.8,<3.9.0a0'] -> sqlite[version='>=3.33.0,<4.0a0']\n",
            "olefile -> python -> sqlite[version='>=3.33.0,<4.0a0']\n",
            "tqdm==4.51.0=pyhd3eb1b0_0 -> python -> sqlite[version='>=3.33.0,<4.0a0']\n",
            "pycosat==0.6.3=py38h7b6447c_1 -> python[version='>=3.8,<3.9.0a0'] -> sqlite[version='>=3.33.0,<4.0a0']\n",
            "idna==2.10=py_0 -> python -> sqlite[version='>=3.33.0,<4.0a0']\n",
            "python_abi -> python=3.7 -> sqlite[version='>=3.33.0,<4.0a0']\n",
            "numpy -> python[version='>=3.7,<3.8.0a0'] -> sqlite[version='>=3.33.0,<4.0a0']\n",
            "pycairo -> python[version='>=3.7,<3.8.0a0'] -> sqlite[version='>=3.33.0,<4.0a0']\n",
            "conda==4.9.2=py38h06a4308_0 -> python[version='>=3.8,<3.9.0a0'] -> sqlite[version='>=3.33.0,<4.0a0']\n",
            "python==3.8.5=h7579374_1 -> sqlite[version='>=3.33.0,<4.0a0']\n",
            "pillow -> python[version='>=3.7,<3.8.0a0'] -> sqlite[version='>=3.33.0,<4.0a0']\n",
            "brotlipy==0.7.0=py38h27cfd23_1003 -> python[version='>=3.8,<3.9.0a0'] -> sqlite[version='>=3.33.0,<4.0a0']\n",
            "urllib3==1.25.11=py_0 -> python[version='<4.0'] -> sqlite[version='>=3.33.0,<4.0a0']\n",
            "python-dateutil -> python -> sqlite[version='>=3.33.0,<4.0a0']\n",
            "setuptools==50.3.1=py38h06a4308_1 -> python[version='>=3.8,<3.9.0a0'] -> sqlite[version='>=3.33.0,<4.0a0']\n",
            "boost -> python[version='>=3.7,<3.8.0a0'] -> sqlite[version='>=3.33.0,<4.0a0']\n",
            "pysocks==1.7.1=py38h06a4308_0 -> python[version='>=3.8,<3.9.0a0'] -> sqlite[version='>=3.33.0,<4.0a0']\n",
            "pyopenssl==19.1.0=pyhd3eb1b0_1 -> python -> sqlite[version='>=3.33.0,<4.0a0']\n",
            "pycparser==2.20=py_2 -> python -> sqlite[version='>=3.33.0,<4.0a0']\n",
            "wheel==0.35.1=pyhd3eb1b0_0 -> python -> sqlite[version='>=3.33.0,<4.0a0']\n",
            "chardet==3.0.4=py38h06a4308_1003 -> python[version='>=3.8,<3.9.0a0'] -> sqlite[version='>=3.33.0,<4.0a0']\n",
            "conda-package-handling==1.7.2=py38h03888b9_0 -> python[version='>=3.8,<3.9.0a0'] -> sqlite[version='>=3.33.0,<4.0a0']\n",
            "pandas -> python[version='>=3.7,<3.8.0a0'] -> sqlite[version='>=3.33.0,<4.0a0']\n",
            "rdkit -> python[version='>=3.7,<3.8.0a0'] -> sqlite[version='>=3.33.0,<4.0a0']\n",
            "six==1.15.0=py38h06a4308_0 -> python[version='>=3.8,<3.9.0a0'] -> sqlite[version='>=3.33.0,<4.0a0']\n",
            "cryptography==3.2.1=py38h3c74f83_1 -> python[version='>=3.8,<3.9.0a0'] -> sqlite[version='>=3.33.0,<4.0a0']\n",
            "certifi==2020.6.20=pyhd3eb1b0_3 -> python -> sqlite[version='>=3.33.0,<4.0a0']\n",
            "pytz -> python[version='>=3'] -> sqlite[version='>=3.33.0,<4.0a0']\n",
            "requests==2.24.0=py_0 -> python -> sqlite[version='>=3.33.0,<4.0a0']\n",
            "\n",
            "Package libstdcxx-ng conflicts for:\n",
            "libtiff -> libstdcxx-ng[version='>=7.5.0']\n",
            "zstd -> libstdcxx-ng[version='>=7.5.0']\n",
            "rdkit -> libstdcxx-ng[version='>=7.5.0']\n",
            "cairo -> glib[version='>=2.58.3,<3.0a0'] -> libstdcxx-ng[version='>=7.3.0']\n",
            "icu -> libstdcxx-ng[version='>=7.3.0']\n",
            "libedit==3.1.20191231=h14c3975_1 -> ncurses[version='>=6.2,<7.0a0'] -> libstdcxx-ng[version='>=7.3.0']\n",
            "boost -> libstdcxx-ng[version='>=7.5.0']\n",
            "fontconfig -> icu[version='>=67.1,<68.0a0'] -> libstdcxx-ng[version='>=7.3.0']\n",
            "libstdcxx-ng==9.1.0=hdf63c60_0\n",
            "pcre -> libstdcxx-ng[version='>=7.3.0']\n",
            "lz4-c -> libstdcxx-ng[version='>=7.5.0']\n",
            "lcms2 -> libtiff[version='>=4.1.0,<5.0a0'] -> libstdcxx-ng[version='>=7.5.0']\n",
            "readline==8.0=h7b6447c_0 -> ncurses[version='>=6.1,<7.0a0'] -> libstdcxx-ng[version='>=7.3.0']\n",
            "pandas -> libstdcxx-ng[version='>=7.5.0']\n",
            "boost-cpp -> libstdcxx-ng[version='>=7.5.0']\n",
            "libxml2 -> icu[version='>=67.1,<68.0a0'] -> libstdcxx-ng[version='>=7.3.0']\n",
            "boost-cpp -> icu[version='>=67.1,<68.0a0'] -> libstdcxx-ng[version='>=7.3.0']\n",
            "cffi==1.14.3=py38h261ae71_2 -> libffi[version='>=3.3,<3.4.0a0'] -> libstdcxx-ng[version='>=7.3.0']\n",
            "libffi==3.3=he6710b0_2 -> libstdcxx-ng[version='>=7.3.0']\n",
            "pillow -> libtiff[version='>=4.1.0,<5.0a0'] -> libstdcxx-ng[version='>=7.5.0']\n",
            "sqlite==3.33.0=h62c20be_0 -> ncurses[version='>=6.2,<7.0a0'] -> libstdcxx-ng[version='>=7.3.0']\n",
            "ncurses==6.2=he6710b0_1 -> libstdcxx-ng[version='>=7.3.0']\n",
            "glib -> libstdcxx-ng[version='>=7.3.0']\n",
            "python==3.8.5=h7579374_1 -> libffi[version='>=3.3,<3.4.0a0'] -> libstdcxx-ng[version='>=7.3.0']\n",
            "\n",
            "Package lz4-c conflicts for:\n",
            "zstd -> lz4-c[version='>=1.9.2,<1.9.3.0a0']\n",
            "libtiff -> zstd[version='>=1.4.5,<1.5.0a0'] -> lz4-c[version='>=1.9.2,<1.9.3.0a0']\n",
            "boost-cpp -> zstd[version='>=1.4.5,<1.5.0a0'] -> lz4-c[version='>=1.9.2,<1.9.3.0a0']\n",
            "lz4-c\n",
            "\n",
            "Package ld_impl_linux-64 conflicts for:\n",
            "tqdm==4.51.0=pyhd3eb1b0_0 -> python -> ld_impl_linux-64\n",
            "pyopenssl==19.1.0=pyhd3eb1b0_1 -> python -> ld_impl_linux-64\n",
            "cffi==1.14.3=py38h261ae71_2 -> python[version='>=3.8,<3.9.0a0'] -> ld_impl_linux-64\n",
            "python_abi -> python=3.7 -> ld_impl_linux-64\n",
            "requests==2.24.0=py_0 -> python -> ld_impl_linux-64\n",
            "olefile -> python -> ld_impl_linux-64\n",
            "pillow -> python[version='>=3.7,<3.8.0a0'] -> ld_impl_linux-64\n",
            "boost -> python[version='>=3.7,<3.8.0a0'] -> ld_impl_linux-64\n",
            "setuptools==50.3.1=py38h06a4308_1 -> python[version='>=3.8,<3.9.0a0'] -> ld_impl_linux-64\n",
            "pycosat==0.6.3=py38h7b6447c_1 -> python[version='>=3.8,<3.9.0a0'] -> ld_impl_linux-64\n",
            "chardet==3.0.4=py38h06a4308_1003 -> python[version='>=3.8,<3.9.0a0'] -> ld_impl_linux-64\n",
            "idna==2.10=py_0 -> python -> ld_impl_linux-64\n",
            "ld_impl_linux-64==2.33.1=h53a641e_7\n",
            "ruamel_yaml==0.15.87=py38h7b6447c_1 -> python[version='>=3.8,<3.9.0a0'] -> ld_impl_linux-64\n",
            "brotlipy==0.7.0=py38h27cfd23_1003 -> python[version='>=3.8,<3.9.0a0'] -> ld_impl_linux-64\n",
            "conda==4.9.2=py38h06a4308_0 -> python[version='>=3.8,<3.9.0a0'] -> ld_impl_linux-64\n",
            "python-dateutil -> python -> ld_impl_linux-64\n",
            "pycairo -> python[version='>=3.7,<3.8.0a0'] -> ld_impl_linux-64\n",
            "pysocks==1.7.1=py38h06a4308_0 -> python[version='>=3.8,<3.9.0a0'] -> ld_impl_linux-64\n",
            "python==3.8.5=h7579374_1 -> ld_impl_linux-64\n",
            "wheel==0.35.1=pyhd3eb1b0_0 -> python -> ld_impl_linux-64\n",
            "pytz -> python[version='>=3'] -> ld_impl_linux-64\n",
            "pycparser==2.20=py_2 -> python -> ld_impl_linux-64\n",
            "pandas -> python[version='>=3.7,<3.8.0a0'] -> ld_impl_linux-64\n",
            "rdkit -> python[version='>=3.7,<3.8.0a0'] -> ld_impl_linux-64\n",
            "numpy -> python[version='>=3.7,<3.8.0a0'] -> ld_impl_linux-64\n",
            "conda-package-handling==1.7.2=py38h03888b9_0 -> python[version='>=3.8,<3.9.0a0'] -> ld_impl_linux-64\n",
            "cryptography==3.2.1=py38h3c74f83_1 -> python[version='>=3.8,<3.9.0a0'] -> ld_impl_linux-64\n",
            "six==1.15.0=py38h06a4308_0 -> python[version='>=3.8,<3.9.0a0'] -> ld_impl_linux-64\n",
            "urllib3==1.25.11=py_0 -> python[version='<4.0'] -> ld_impl_linux-64\n",
            "certifi==2020.6.20=pyhd3eb1b0_3 -> python -> ld_impl_linux-64\n",
            "\n",
            "Package tqdm conflicts for:\n",
            "tqdm==4.51.0=pyhd3eb1b0_0\n",
            "conda==4.9.2=py38h06a4308_0 -> conda-package-handling[version='>=1.3.0'] -> tqdm\n",
            "conda-package-handling==1.7.2=py38h03888b9_0 -> tqdm\n",
            "\n",
            "Package pixman conflicts for:\n",
            "pycairo -> cairo[version='>=1.16.0,<1.17.0a0'] -> pixman[version='>=0.38.0,<0.39.0a0']\n",
            "cairo -> pixman[version='>=0.38.0,<0.39.0a0']\n",
            "rdkit -> cairo[version='>=1.16.0,<1.17.0a0'] -> pixman[version='>=0.38.0,<0.39.0a0']\n",
            "pixman\n",
            "\n",
            "Package python_abi conflicts for:\n",
            "setuptools==50.3.1=py38h06a4308_1 -> certifi[version='>=2016.9.26'] -> python_abi=3.7[build=*_cp37m]\n",
            "numpy -> python_abi=3.7[build=*_cp37m]\n",
            "urllib3==1.25.11=py_0 -> certifi -> python_abi=3.7[build=*_cp37m]\n",
            "rdkit -> python_abi=3.7[build=*_cp37m]\n",
            "boost -> python_abi=3.7[build=*_cp37m]\n",
            "requests==2.24.0=py_0 -> certifi[version='>=2017.4.17'] -> python_abi=3.7[build=*_cp37m]\n",
            "pillow -> python_abi=3.7[build=*_cp37m]\n",
            "pycairo -> python_abi=3.7[build=*_cp37m]\n",
            "pandas -> python_abi=3.7[build=*_cp37m]\n",
            "python_abi\n",
            "\n",
            "Package lcms2 conflicts for:\n",
            "rdkit -> pillow -> lcms2[version='>=2.11,<3.0a0']\n",
            "pillow -> lcms2[version='>=2.11,<3.0a0']\n",
            "lcms2\n",
            "\n",
            "Package bzip2 conflicts for:\n",
            "boost -> boost-cpp=1.74.0 -> bzip2[version='>=1.0.8,<2.0a0']\n",
            "bzip2\n",
            "boost-cpp -> bzip2[version='>=1.0.8,<2.0a0']\n",
            "\n",
            "Package libxml2 conflicts for:\n",
            "cairo -> fontconfig[version='>=2.13.1,<3.0a0'] -> libxml2[version='>=2.9.10,<2.10.0a0']\n",
            "fontconfig -> libxml2[version='>=2.9.10,<2.10.0a0']\n",
            "libxml2\n",
            "\n",
            "Package freetype conflicts for:\n",
            "rdkit -> freetype[version='>=2.9.1,<3.0a0']\n",
            "pillow -> freetype[version='>=2.10.4,<3.0a0']\n",
            "freetype\n",
            "cairo -> fontconfig[version='>=2.13.1,<3.0a0'] -> freetype[version='>=2.10.4,<3.0a0']\n",
            "rdkit -> pillow -> freetype[version='>=2.10.4,<3.0a0']\n",
            "pycairo -> cairo[version='>=1.16.0,<1.17.0a0'] -> freetype[version='>=2.9.1,<3.0a0']\n",
            "fontconfig -> freetype[version='>=2.10.4,<3.0a0']\n",
            "cairo -> freetype[version='>=2.9.1,<3.0a0']\n",
            "\n",
            "Package libxcb conflicts for:\n",
            "xorg-libxext -> xorg-libx11=1.6 -> libxcb=1\n",
            "cairo -> xorg-libx11 -> libxcb=1\n",
            "cairo -> libxcb\n",
            "pycairo -> cairo[version='>=1.16.0,<1.17.0a0'] -> libxcb\n",
            "xorg-libxrender -> xorg-libx11=1.6 -> libxcb=1\n",
            "rdkit -> cairo[version='>=1.16.0,<1.17.0a0'] -> libxcb\n",
            "libxcb\n",
            "xorg-libx11 -> libxcb=1\n",
            "\n",
            "Package python-dateutil conflicts for:\n",
            "python-dateutil\n",
            "rdkit -> pandas -> python-dateutil[version='>=2.7.3']\n",
            "pandas -> python-dateutil[version='>=2.7.3']\n",
            "\n",
            "Package cffi conflicts for:\n",
            "pyopenssl==19.1.0=pyhd3eb1b0_1 -> cryptography[version='>=2.8'] -> cffi[version='!=1.11.3,>=1.8']\n",
            "cffi==1.14.3=py38h261ae71_2\n",
            "cryptography==3.2.1=py38h3c74f83_1 -> cffi[version='!=1.11.3,>=1.8']\n",
            "brotlipy==0.7.0=py38h27cfd23_1003 -> cffi[version='>=1.0.0']\n",
            "urllib3==1.25.11=py_0 -> brotlipy[version='>=0.6.0'] -> cffi[version='!=1.11.3,>=1.8|>=1.0.0']\n",
            "\n",
            "Package chardet conflicts for:\n",
            "chardet==3.0.4=py38h06a4308_1003\n",
            "conda==4.9.2=py38h06a4308_0 -> requests[version='>=2.18.4,<3'] -> chardet[version='>=3.0.2,<4']\n",
            "requests==2.24.0=py_0 -> chardet[version='>=3.0.2,<4']\n",
            "\n",
            "Package openssl conflicts for:\n",
            "requests==2.24.0=py_0 -> python -> openssl[version='>=1.1.1g,<1.1.2a']\n",
            "python_abi -> python=3.7 -> openssl[version='>=1.1.1g,<1.1.2a']\n",
            "pycosat==0.6.3=py38h7b6447c_1 -> python[version='>=3.8,<3.9.0a0'] -> openssl[version='>=1.1.1g,<1.1.2a']\n",
            "certifi==2020.6.20=pyhd3eb1b0_3 -> python -> openssl[version='>=1.1.1g,<1.1.2a']\n",
            "python-dateutil -> python -> openssl[version='>=1.1.1g,<1.1.2a']\n",
            "setuptools==50.3.1=py38h06a4308_1 -> python[version='>=3.8,<3.9.0a0'] -> openssl[version='>=1.1.1g,<1.1.2a']\n",
            "pysocks==1.7.1=py38h06a4308_0 -> python[version='>=3.8,<3.9.0a0'] -> openssl[version='>=1.1.1g,<1.1.2a']\n",
            "urllib3==1.25.11=py_0 -> cryptography[version='>=1.3.4'] -> openssl[version='>=1.1.1g,<1.1.2a|>=1.1.1h,<1.1.2a']\n",
            "boost -> python[version='>=3.7,<3.8.0a0'] -> openssl[version='>=1.1.1g,<1.1.2a']\n",
            "idna==2.10=py_0 -> python -> openssl[version='>=1.1.1g,<1.1.2a']\n",
            "ruamel_yaml==0.15.87=py38h7b6447c_1 -> python[version='>=3.8,<3.9.0a0'] -> openssl[version='>=1.1.1g,<1.1.2a']\n",
            "pyopenssl==19.1.0=pyhd3eb1b0_1 -> cryptography[version='>=2.8'] -> openssl[version='>=1.1.1g,<1.1.2a|>=1.1.1h,<1.1.2a']\n",
            "pandas -> python[version='>=3.7,<3.8.0a0'] -> openssl[version='>=1.1.1g,<1.1.2a']\n",
            "conda==4.9.2=py38h06a4308_0 -> python[version='>=3.8,<3.9.0a0'] -> openssl[version='>=1.1.1g,<1.1.2a']\n",
            "cryptography==3.2.1=py38h3c74f83_1 -> openssl[version='>=1.1.1h,<1.1.2a']\n",
            "pycairo -> python[version='>=3.7,<3.8.0a0'] -> openssl[version='>=1.1.1g,<1.1.2a']\n",
            "cryptography==3.2.1=py38h3c74f83_1 -> python[version='>=3.8,<3.9.0a0'] -> openssl[version='>=1.1.1g,<1.1.2a']\n",
            "python==3.8.5=h7579374_1 -> openssl[version='>=1.1.1g,<1.1.2a']\n",
            "brotlipy==0.7.0=py38h27cfd23_1003 -> python[version='>=3.8,<3.9.0a0'] -> openssl[version='>=1.1.1g,<1.1.2a']\n",
            "olefile -> python -> openssl[version='>=1.1.1g,<1.1.2a']\n",
            "openssl==1.1.1h=h7b6447c_0\n",
            "wheel==0.35.1=pyhd3eb1b0_0 -> python -> openssl[version='>=1.1.1g,<1.1.2a']\n",
            "pytz -> python[version='>=3'] -> openssl[version='>=1.1.1g,<1.1.2a']\n",
            "pycparser==2.20=py_2 -> python -> openssl[version='>=1.1.1g,<1.1.2a']\n",
            "pillow -> python[version='>=3.7,<3.8.0a0'] -> openssl[version='>=1.1.1g,<1.1.2a']\n",
            "numpy -> python[version='>=3.7,<3.8.0a0'] -> openssl[version='>=1.1.1g,<1.1.2a']\n",
            "chardet==3.0.4=py38h06a4308_1003 -> python[version='>=3.8,<3.9.0a0'] -> openssl[version='>=1.1.1g,<1.1.2a']\n",
            "conda-package-handling==1.7.2=py38h03888b9_0 -> python[version='>=3.8,<3.9.0a0'] -> openssl[version='>=1.1.1g,<1.1.2a']\n",
            "rdkit -> python[version='>=3.7,<3.8.0a0'] -> openssl[version='>=1.1.1g,<1.1.2a']\n",
            "six==1.15.0=py38h06a4308_0 -> python[version='>=3.8,<3.9.0a0'] -> openssl[version='>=1.1.1g,<1.1.2a']\n",
            "cffi==1.14.3=py38h261ae71_2 -> python[version='>=3.8,<3.9.0a0'] -> openssl[version='>=1.1.1g,<1.1.2a']\n",
            "tqdm==4.51.0=pyhd3eb1b0_0 -> python -> openssl[version='>=1.1.1g,<1.1.2a']\n",
            "\n",
            "Package setuptools conflicts for:\n",
            "setuptools==50.3.1=py38h06a4308_1\n",
            "conda==4.9.2=py38h06a4308_0 -> setuptools[version='>=31.0.1']\n",
            "\n",
            "Package boost conflicts for:\n",
            "rdkit -> boost[version='>=1.74.0,<1.74.1.0a0']\n",
            "boost\n",
            "\n",
            "Package xorg-libxext conflicts for:\n",
            "cairo -> xorg-libxext\n",
            "pycairo -> cairo[version='>=1.16.0,<1.17.0a0'] -> xorg-libxext\n",
            "rdkit -> cairo[version='>=1.16.0,<1.17.0a0'] -> xorg-libxext\n",
            "xorg-libxext\n",
            "\n",
            "Package pyopenssl conflicts for:\n",
            "urllib3==1.25.11=py_0 -> pyopenssl[version='>=0.14']\n",
            "conda==4.9.2=py38h06a4308_0 -> pyopenssl[version='>=16.2.0']\n",
            "requests==2.24.0=py_0 -> urllib3[version='>=1.21.1,<1.26,!=1.25.0,!=1.25.1'] -> pyopenssl[version='>=0.14']\n",
            "pyopenssl==19.1.0=pyhd3eb1b0_1\n",
            "\n",
            "Package libuuid conflicts for:\n",
            "xorg-libsm -> libuuid[version='>=2.32.1,<3.0a0']\n",
            "libuuid\n",
            "cairo -> fontconfig[version='>=2.13.1,<3.0a0'] -> libuuid[version='>=2.32.1,<3.0a0']\n",
            "fontconfig -> libuuid[version='>=2.32.1,<3.0a0']\n",
            "\n",
            "Package libblas conflicts for:\n",
            "libcblas -> libblas==3.9.0=3_openblas\n",
            "numpy -> libcblas[version='>=3.8.0,<4.0a0'] -> libblas==3.9.0=3_openblas\n",
            "liblapack -> libblas==3.9.0=3_openblas\n",
            "numpy -> libblas[version='>=3.8.0,<4.0a0']\n",
            "libblas\n",
            "pandas -> numpy[version='>=1.16.5,<2.0a0'] -> libblas[version='>=3.8.0,<4.0a0']\n",
            "rdkit -> numpy[version='>=1.16.5,<2.0a0'] -> libblas[version='>=3.8.0,<4.0a0']\n",
            "boost -> numpy[version='>=1.16.5,<2.0a0'] -> libblas[version='>=3.8.0,<4.0a0']\n",
            "\n",
            "Package libcblas conflicts for:\n",
            "numpy -> libcblas[version='>=3.8.0,<4.0a0']\n",
            "rdkit -> numpy[version='>=1.16.5,<2.0a0'] -> libcblas[version='>=3.8.0,<4.0a0']\n",
            "boost -> numpy[version='>=1.16.5,<2.0a0'] -> libcblas[version='>=3.8.0,<4.0a0']\n",
            "pandas -> numpy[version='>=1.16.5,<2.0a0'] -> libcblas[version='>=3.8.0,<4.0a0']\n",
            "libcblas\n",
            "\n",
            "Package pcre conflicts for:\n",
            "pcre\n",
            "cairo -> glib[version='>=2.58.3,<3.0a0'] -> pcre[version='>=8.44,<9.0a0']\n",
            "glib -> pcre[version='>=8.44,<9.0a0']\n",
            "\n",
            "Package urllib3 conflicts for:\n",
            "urllib3==1.25.11=py_0\n",
            "conda==4.9.2=py38h06a4308_0 -> requests[version='>=2.18.4,<3'] -> urllib3[version='>=1.21.1,<1.26,!=1.25.0,!=1.25.1']\n",
            "requests==2.24.0=py_0 -> urllib3[version='>=1.21.1,<1.26,!=1.25.0,!=1.25.1']\n",
            "\n",
            "Package xorg-libsm conflicts for:\n",
            "rdkit -> cairo[version='>=1.16.0,<1.17.0a0'] -> xorg-libsm\n",
            "xorg-libsm\n",
            "pycairo -> cairo[version='>=1.16.0,<1.17.0a0'] -> xorg-libsm\n",
            "cairo -> xorg-libsm\n",
            "\n",
            "Package xorg-kbproto conflicts for:\n",
            "xorg-kbproto\n",
            "xorg-libxrender -> xorg-libx11=1.6 -> xorg-kbproto\n",
            "xorg-libx11 -> xorg-kbproto\n",
            "xorg-libxext -> xorg-libx11=1.6 -> xorg-kbproto\n",
            "cairo -> xorg-libx11 -> xorg-kbproto\n",
            "\n",
            "Package xorg-xproto conflicts for:\n",
            "xorg-xproto\n",
            "xorg-libx11 -> xorg-xproto\n",
            "xorg-libxrender -> xorg-libx11=1.6 -> xorg-xproto\n",
            "xorg-libxext -> xorg-libx11=1.6 -> xorg-xproto\n",
            "cairo -> xorg-libx11 -> xorg-xproto\n",
            "\n",
            "Package libedit conflicts for:\n",
            "python==3.8.5=h7579374_1 -> sqlite[version='>=3.33.0,<4.0a0'] -> libedit[version='>=3.1.20191231,<3.2.0a0']\n",
            "sqlite==3.33.0=h62c20be_0 -> libedit[version='>=3.1.20191231,<3.2.0a0']\n",
            "libedit==3.1.20191231=h14c3975_1\n",
            "\n",
            "Package zstd conflicts for:\n",
            "zstd\n",
            "lcms2 -> libtiff[version='>=4.1.0,<5.0a0'] -> zstd[version='>=1.4.5,<1.5.0a0']\n",
            "boost-cpp -> zstd[version='>=1.4.5,<1.5.0a0']\n",
            "libtiff -> zstd[version='>=1.4.5,<1.5.0a0']\n",
            "pillow -> libtiff[version='>=4.1.0,<5.0a0'] -> zstd[version='>=1.4.5,<1.5.0a0']\n",
            "boost -> boost-cpp=1.74.0 -> zstd[version='>=1.4.5,<1.5.0a0']\n",
            "\n",
            "Package jpeg conflicts for:\n",
            "libtiff -> jpeg[version='>=9d,<10a']\n",
            "lcms2 -> jpeg[version='>=9d,<10a']\n",
            "jpeg\n",
            "rdkit -> pillow -> jpeg[version='>=9d,<10a']\n",
            "pillow -> jpeg[version='>=9d,<10a']\n",
            "\n",
            "Package libgfortran4 conflicts for:\n",
            "libblas -> libopenblas[version='>=0.3.12,<0.3.13.0a0'] -> libgfortran4[version='>=7.5.0']\n",
            "libgfortran-ng -> libgfortran4=7.5.0\n",
            "libopenblas -> libgfortran-ng -> libgfortran4=7.5.0\n",
            "libgfortran4\n",
            "libopenblas -> libgfortran4[version='>=7.5.0']\n",
            "\n",
            "Package xorg-libice conflicts for:\n",
            "xorg-libice\n",
            "cairo -> xorg-libice\n",
            "rdkit -> cairo[version='>=1.16.0,<1.17.0a0'] -> xorg-libice\n",
            "pycairo -> cairo[version='>=1.16.0,<1.17.0a0'] -> xorg-libice\n",
            "xorg-libsm -> xorg-libice=1.0\n",
            "cairo -> xorg-libsm -> xorg-libice=1.0\n",
            "\n",
            "Package pycosat conflicts for:\n",
            "pycosat==0.6.3=py38h7b6447c_1\n",
            "conda==4.9.2=py38h06a4308_0 -> pycosat[version='>=0.6.3']\n",
            "\n",
            "Package ruamel_yaml conflicts for:\n",
            "ruamel_yaml==0.15.87=py38h7b6447c_1\n",
            "conda==4.9.2=py38h06a4308_0 -> ruamel_yaml[version='>=0.11.14,<0.16']\n",
            "\n",
            "Package xorg-xextproto conflicts for:\n",
            "xorg-xextproto\n",
            "cairo -> xorg-libxext -> xorg-xextproto\n",
            "xorg-libxext -> xorg-xextproto\n",
            "\n",
            "Package boost-cpp conflicts for:\n",
            "boost-cpp\n",
            "rdkit -> boost[version='>=1.74.0,<1.74.1.0a0'] -> boost-cpp=1.74.0\n",
            "boost -> boost-cpp=1.74.0\n",
            "\n",
            "Package numpy conflicts for:\n",
            "rdkit -> numpy[version='>=1.16.5,<2.0a0']\n",
            "boost -> numpy[version='>=1.16.5,<2.0a0']\n",
            "pandas -> numpy[version='>=1.16.5,<2.0a0']\n",
            "numpy\n",
            "\n",
            "Package idna conflicts for:\n",
            "requests==2.24.0=py_0 -> urllib3[version='>=1.21.1,<1.26,!=1.25.0,!=1.25.1'] -> idna[version='>=2.0.0']\n",
            "requests==2.24.0=py_0 -> idna[version='>=2.5,<3']\n",
            "conda==4.9.2=py38h06a4308_0 -> requests[version='>=2.18.4,<3'] -> idna[version='>=2.5,<3']\n",
            "urllib3==1.25.11=py_0 -> idna[version='>=2.0.0']\n",
            "idna==2.10=py_0\n",
            "\n",
            "Package xorg-libxrender conflicts for:\n",
            "cairo -> xorg-libxrender\n",
            "xorg-libxrender\n",
            "pycairo -> cairo[version='>=1.16.0,<1.17.0a0'] -> xorg-libxrender\n",
            "rdkit -> cairo[version='>=1.16.0,<1.17.0a0'] -> xorg-libxrender\n",
            "\n",
            "Package cryptography conflicts for:\n",
            "cryptography==3.2.1=py38h3c74f83_1\n",
            "conda==4.9.2=py38h06a4308_0 -> pyopenssl[version='>=16.2.0'] -> cryptography[version='>=2.8']\n",
            "urllib3==1.25.11=py_0 -> cryptography[version='>=1.3.4']\n",
            "urllib3==1.25.11=py_0 -> pyopenssl[version='>=0.14'] -> cryptography[version='>=2.8']\n",
            "pyopenssl==19.1.0=pyhd3eb1b0_1 -> cryptography[version='>=2.8']\n",
            "requests==2.24.0=py_0 -> urllib3[version='>=1.21.1,<1.26,!=1.25.0,!=1.25.1'] -> cryptography[version='>=1.3.4']\n",
            "\n",
            "Package xorg-libxdmcp conflicts for:\n",
            "cairo -> libxcb -> xorg-libxdmcp\n",
            "xorg-libxdmcp\n",
            "libxcb -> xorg-libxdmcp\n",
            "xorg-libx11 -> libxcb=1 -> xorg-libxdmcp\n",
            "\n",
            "Package xorg-renderproto conflicts for:\n",
            "cairo -> xorg-libxrender -> xorg-renderproto\n",
            "xorg-renderproto\n",
            "xorg-libxrender -> xorg-renderproto\n",
            "\n",
            "Package xorg-libx11 conflicts for:\n",
            "xorg-libxrender -> xorg-libx11=1.6\n",
            "pycairo -> cairo[version='>=1.16.0,<1.17.0a0'] -> xorg-libx11\n",
            "cairo -> xorg-libx11\n",
            "rdkit -> cairo[version='>=1.16.0,<1.17.0a0'] -> xorg-libx11\n",
            "cairo -> xorg-libxext -> xorg-libx11=1.6\n",
            "xorg-libxext -> xorg-libx11=1.6\n",
            "xorg-libx11\n",
            "\n",
            "Package libgfortran-ng conflicts for:\n",
            "libopenblas -> libgfortran-ng\n",
            "libblas -> libopenblas[version='>=0.3.12,<0.3.13.0a0'] -> libgfortran-ng\n",
            "libgfortran-ng\n",
            "\n",
            "Package glib conflicts for:\n",
            "rdkit -> cairo[version='>=1.16.0,<1.17.0a0'] -> glib[version='>=2.58.3,<3.0a0']\n",
            "glib\n",
            "pycairo -> cairo[version='>=1.16.0,<1.17.0a0'] -> glib[version='>=2.58.3,<3.0a0']\n",
            "cairo -> glib[version='>=2.58.3,<3.0a0']\n",
            "\n",
            "Package libwebp-base conflicts for:\n",
            "libtiff -> libwebp-base\n",
            "pillow -> libtiff[version='>=4.1.0,<5.0a0'] -> libwebp-base\n",
            "libwebp-base\n",
            "lcms2 -> libtiff[version='>=4.1.0,<5.0a0'] -> libwebp-base\n",
            "\n",
            "Package ca-certificates conflicts for:\n",
            "cryptography==3.2.1=py38h3c74f83_1 -> openssl[version='>=1.1.1h,<1.1.2a'] -> ca-certificates\n",
            "python==3.8.5=h7579374_1 -> openssl[version='>=1.1.1g,<1.1.2a'] -> ca-certificates\n",
            "ca-certificates==2020.10.14=0\n",
            "openssl==1.1.1h=h7b6447c_0 -> ca-certificates\n",
            "\n",
            "Package cairo conflicts for:\n",
            "cairo\n",
            "pycairo -> cairo[version='>=1.16.0,<1.17.0a0']\n",
            "rdkit -> cairo[version='>=1.16.0,<1.17.0a0']\n",
            "\n",
            "Package brotlipy conflicts for:\n",
            "brotlipy==0.7.0=py38h27cfd23_1003\n",
            "urllib3==1.25.11=py_0 -> brotlipy[version='>=0.6.0']\n",
            "requests==2.24.0=py_0 -> urllib3[version='>=1.21.1,<1.26,!=1.25.0,!=1.25.1'] -> brotlipy[version='>=0.6.0']\n",
            "\n",
            "Package libiconv conflicts for:\n",
            "libiconv\n",
            "fontconfig -> libxml2[version='>=2.9.10,<2.10.0a0'] -> libiconv[version='>=1.16,<1.17.0a0']\n",
            "libxml2 -> libiconv[version='>=1.16,<1.17.0a0']\n",
            "\n",
            "Package pytz conflicts for:\n",
            "pandas -> pytz[version='>=2017.2']\n",
            "rdkit -> pandas -> pytz[version='>=2017.2']\n",
            "pytz\n",
            "\n",
            "Package xorg-libxau conflicts for:\n",
            "xorg-libx11 -> libxcb=1 -> xorg-libxau\n",
            "libxcb -> xorg-libxau\n",
            "cairo -> libxcb -> xorg-libxau\n",
            "xorg-libxau\n",
            "\n",
            "Package pycairo conflicts for:\n",
            "pycairo\n",
            "rdkit -> pycairo\n",
            "\n",
            "Package requests conflicts for:\n",
            "conda==4.9.2=py38h06a4308_0 -> requests[version='>=2.18.4,<3']\n",
            "requests==2.24.0=py_0\n",
            "\n",
            "Package pandas conflicts for:\n",
            "rdkit -> pandas\n",
            "pandas\n",
            "\n",
            "Package conda-package-handling conflicts for:\n",
            "conda-package-handling==1.7.2=py38h03888b9_0\n",
            "conda==4.9.2=py38h06a4308_0 -> conda-package-handling[version='>=1.3.0']\n",
            "\n",
            "Package yaml conflicts for:\n",
            "conda==4.9.2=py38h06a4308_0 -> ruamel_yaml[version='>=0.11.14,<0.16'] -> yaml[version='>=0.2.5,<0.3.0a0']\n",
            "yaml==0.2.5=h7b6447c_0\n",
            "ruamel_yaml==0.15.87=py38h7b6447c_1 -> yaml[version='>=0.2.5,<0.3.0a0']\n",
            "\n"
          ],
          "name": "stderr"
        }
      ]
    },
    {
      "cell_type": "markdown",
      "metadata": {
        "id": "jQyFL3ahsq7b"
      },
      "source": [
        "# **WHAT WILL YOU LEARN ?**\n",
        "### **Goal**\n",
        "In this training session, you`re going to create your own graph representation of chemicals from stratch.\n",
        "### **Learning Objectives**\n",
        "1. Basic Graph Construction from stratch\n",
        "2. Compound to Graph Representation from stratch"
      ]
    },
    {
      "cell_type": "markdown",
      "metadata": {
        "id": "zYDicFlktHnX"
      },
      "source": [
        "\n",
        "<p align=\"center\">\n",
        "  <img src='https://drive.google.com/uc?id=1D1n_XNCGPlsx2ueh3Ubuh5OCG1HbV66V' />\n",
        "</p>\n"
      ]
    },
    {
      "cell_type": "markdown",
      "metadata": {
        "id": "5KL1VL0OyF5F"
      },
      "source": [
        "[Figure 1: Learning Objectives ](https://training.hermee.dev/#/1)"
      ]
    },
    {
      "cell_type": "markdown",
      "metadata": {
        "id": "aJg1LQSKr3bE"
      },
      "source": [
        "## COLAB LIBRARY SETTING\n",
        "<details>\n",
        "<summary>\n",
        "<font size=\"3\" color=\"green\">\n",
        "<b>Optional hint for <code><font size=\"4\">colab python path</font></code></b>\n",
        "</font>\n",
        "</summary>\n",
        "\n",
        "1. System python path: '/usr/local/lib/python3.6/dist-packages/' (every packages installed by using '*pip install*' will be installed here )\n",
        "2. Conda python path: '/usr/local/lib/python3.7/site-packages/' (every packages installed by using '*conda install*' will be installed here)"
      ]
    },
    {
      "cell_type": "code",
      "metadata": {
        "colab": {
          "base_uri": "https://localhost:8080/"
        },
        "id": "qiXbObeCr_i6",
        "outputId": "2429078f-51ac-40b5-8f69-2273198b1981"
      },
      "source": [
        "import sys\n",
        "sys.path"
      ],
      "execution_count": 5,
      "outputs": [
        {
          "output_type": "execute_result",
          "data": {
            "text/plain": [
              "['',\n",
              " '/env/python',\n",
              " '/usr/lib/python36.zip',\n",
              " '/usr/lib/python3.6',\n",
              " '/usr/lib/python3.6/lib-dynload',\n",
              " '/usr/local/lib/python3.6/dist-packages',\n",
              " '/usr/lib/python3/dist-packages',\n",
              " '/usr/local/lib/python3.6/dist-packages/IPython/extensions',\n",
              " '/root/.ipython']"
            ]
          },
          "metadata": {
            "tags": []
          },
          "execution_count": 5
        }
      ]
    },
    {
      "cell_type": "code",
      "metadata": {
        "id": "60r_LeSkxZHm"
      },
      "source": [
        "import sys\n",
        "sys.path.append('/usr/local/lib/python3.7/site-packages/')\n",
        "!export DGLBACKEND=pytorch"
      ],
      "execution_count": 6,
      "outputs": []
    },
    {
      "cell_type": "code",
      "metadata": {
        "colab": {
          "base_uri": "https://localhost:8080/"
        },
        "id": "o0q3egYOxf0O",
        "outputId": "5f6d3d58-f944-4964-943a-d5ba00708dfb"
      },
      "source": [
        "import torch\n",
        "import dgl\n",
        "import dgllife\n",
        "import rdkit\n",
        "\n",
        "print(f'Pytorch version: {torch.__version__}')\n",
        "print(f'DGL version: {dgl.__version__}')\n",
        "print(f'DGLlife version: {dgllife.__version__}')\n",
        "print(f'RDKIT version: {rdkit.__version__}')"
      ],
      "execution_count": 7,
      "outputs": [
        {
          "output_type": "stream",
          "text": [
            "DGL backend not selected or invalid.  Assuming PyTorch for now.\n",
            "Using backend: pytorch\n"
          ],
          "name": "stderr"
        },
        {
          "output_type": "stream",
          "text": [
            "Setting the default backend to \"pytorch\". You can change it in the ~/.dgl/config.json file or export the DGLBACKEND environment variable.  Valid options are: pytorch, mxnet, tensorflow (all lowercase)\n",
            "Pytorch version: 1.7.0+cu101\n",
            "DGL version: 0.5.2\n",
            "DGLlife version: 0.2.6\n",
            "RDKIT version: 2020.09.1\n"
          ],
          "name": "stdout"
        }
      ]
    },
    {
      "cell_type": "markdown",
      "metadata": {
        "id": "87qEf34eIwMA"
      },
      "source": [
        "#**1. Building Graph from Stratch (basic content)**\n",
        "\n"
      ]
    },
    {
      "cell_type": "markdown",
      "metadata": {
        "id": "-v4-Qi86orNS"
      },
      "source": [
        "## **1.1 Getting Started**\n"
      ]
    },
    {
      "cell_type": "markdown",
      "metadata": {
        "id": "0hgrMLPQ7Y0U"
      },
      "source": [
        "**Learning Objectives**\n",
        "\n",
        "You will begin by constructing graph from stratch and by using some useful packages (networkx, dgl). The example graph will help you create your graph. You are alos provided a vizualizer to help visualize the graph.\n",
        "* Building graph from stratch\n",
        "* Building graph using libraries (networkx, dgl)\n",
        "* Visualization\n",
        "\n",
        "---\n",
        "\n",
        "**A Graph**\n",
        "* Graph ($\\mathcal{G}$) is a type of data structure that models set of objects (nodes - $\\mathcal{V}$) and their relationships (edges - $\\mathcal{E}$)\n",
        "\n",
        "\\begin{align}\n",
        "\\mathcal{G} = (\\mathcal{V}, \\mathcal{E}),  \\text{where } \\mathcal{V}\\in  \\text{a set of vertices },  \\mathcal{E} \\subseteq (\\mathcal{u},\\mathcal{v}) \\tag{1}\n",
        "\\end{align}"
      ]
    },
    {
      "cell_type": "markdown",
      "metadata": {
        "id": "TikR_6zs1F9f"
      },
      "source": [
        "\n",
        "<!-- ![picture]() -->\n",
        "<p align=\"center\">\n",
        "  <img src='https://drive.google.com/uc?id=1diQ-q8gl5w8X-GtzQhIs5xVxPjhfhh6R' />\n",
        "</p>\n",
        "\n",
        "---\n",
        "**The Example Graph**\n",
        "* Nodes: {A, B, C, D, E, F, G}\n",
        "* Indices: {0, 1, 2, 3, 4, 5, 6}\n",
        "* Edges: [(0, 1), (1, 2), (1, 3), (1, 4),  (2, 5), (5, 6), (6, 3)]\n",
        "\n",
        "---\n",
        "\n",
        "Python has no built-in data type or class for graphs, but it is easy to implement them in Python. list and dictionary are ideal for representing graphs in Python.\n",
        "    \n",
        "\n",
        "1.   Graph Construction Using List Objects\n",
        "2.   Graph Construction Using Dictionary Objects\n",
        "\n"
      ]
    },
    {
      "cell_type": "markdown",
      "metadata": {
        "id": "NVZsvKc-29HN"
      },
      "source": [
        "## **1.2 Graph Construction Using List Objects**\n",
        "\n",
        "\n",
        "\n",
        "\n",
        "\n"
      ]
    },
    {
      "cell_type": "markdown",
      "metadata": {
        "id": "7hfVAl8_8vQA"
      },
      "source": [
        "To define graph from python list:\n",
        "\n",
        "1. Define nodes names\n",
        "2. Define indices list \n",
        "3. Define edge list\n",
        "4. Create First Graph Class\n",
        "\n",
        "<details>\n",
        "<summary>\n",
        "<font size=\"3\" color=\"green\">\n",
        "<b>Optional Hint for <code><font size=\"4\">node indices</font></code></b>\n",
        "</font>\n",
        "</summary>\n",
        "\n",
        "* Node indices usually used to represent node\n",
        "</details>"
      ]
    },
    {
      "cell_type": "code",
      "metadata": {
        "colab": {
          "base_uri": "https://localhost:8080/"
        },
        "id": "TaIKKCLM4w7x",
        "outputId": "774ce419-2a92-4de1-b01b-4ce01a21018d"
      },
      "source": [
        "# nodes\n",
        "node_names = ['A', 'B', 'C', 'D', 'E', 'F', 'G']\n",
        "\n",
        "# node indices to represent nodes\n",
        "nodes = []\n",
        "\n",
        "for index, name in enumerate(node_names):\n",
        "    nodes.append(index)\n",
        "    print(f'{index}: {name}')"
      ],
      "execution_count": 9,
      "outputs": [
        {
          "output_type": "stream",
          "text": [
            "0: A\n",
            "1: B\n",
            "2: C\n",
            "3: D\n",
            "4: E\n",
            "5: F\n",
            "6: G\n"
          ],
          "name": "stdout"
        }
      ]
    },
    {
      "cell_type": "code",
      "metadata": {
        "colab": {
          "base_uri": "https://localhost:8080/"
        },
        "id": "xSwI7pEU9Mzc",
        "outputId": "536dd337-5a47-49dd-8a02-215a1a248c68"
      },
      "source": [
        "nodes"
      ],
      "execution_count": 10,
      "outputs": [
        {
          "output_type": "execute_result",
          "data": {
            "text/plain": [
              "[0, 1, 2, 3, 4, 5, 6]"
            ]
          },
          "metadata": {
            "tags": []
          },
          "execution_count": 10
        }
      ]
    },
    {
      "cell_type": "code",
      "metadata": {
        "id": "wMuI9geg9QwV"
      },
      "source": [
        "# edges \n",
        "edges = [(0, 1), \n",
        "         (1, 2), (1, 3), (1, 4), \n",
        "         (2, 5),\n",
        "         (5, 6),\n",
        "         (6, 3)\n",
        "        ]"
      ],
      "execution_count": 11,
      "outputs": []
    },
    {
      "cell_type": "code",
      "metadata": {
        "colab": {
          "base_uri": "https://localhost:8080/"
        },
        "id": "Y5yscFg59a4L",
        "outputId": "171252ce-fb47-4f32-a619-0a266128f362"
      },
      "source": [
        "edges"
      ],
      "execution_count": 12,
      "outputs": [
        {
          "output_type": "execute_result",
          "data": {
            "text/plain": [
              "[(0, 1), (1, 2), (1, 3), (1, 4), (2, 5), (5, 6), (6, 3)]"
            ]
          },
          "metadata": {
            "tags": []
          },
          "execution_count": 12
        }
      ]
    },
    {
      "cell_type": "markdown",
      "metadata": {
        "id": "y1vZEysU9fw1"
      },
      "source": [
        "**Simple Graph Construction**\n",
        "---\n",
        "Let`s define a graph object from list\n",
        "*   Graph class with 2 input parameters\n",
        "*   Nodes: represents node indices (type: python list)\n",
        "*   Edges: represents edges (type: python list)\n",
        "\n",
        "---\n",
        "<details>\n",
        "<summary>\n",
        "<font size=\"3\" color=\"green\">\n",
        "<b>Optional hints for python <code><font size=\"4\">dataclass</font></code></b>\n",
        "</font>\n",
        "</summary>\n",
        "\n",
        "1. A data class is a class typically containing mainly data (**starting from python 3.7**). It is created using the new @dataclass decorator.\n",
        "2. It simplifies the process of creating classes (less coding)\n",
        "2. See python dataclasses [here](https://docs.python.org/3/library/dataclasses.html)\n",
        "</details>"
      ]
    },
    {
      "cell_type": "code",
      "metadata": {
        "id": "YLBc4xMR49xV"
      },
      "source": [
        "# lets define simple graph class\n",
        "# simple graph class\n",
        "from dataclasses import dataclass\n",
        "from typing import Any, List\n",
        "\n",
        "\n",
        "@dataclass\n",
        "class Graph:\n",
        "    \"\"\"\"\n",
        "    Simple graph object\n",
        "\n",
        "    Parameters\n",
        "    ----------\n",
        "    nodes: List\n",
        "        Nodes of graph\n",
        "    edges: List \n",
        "        Edges of graph\n",
        "    \"\"\"\n",
        "\n",
        "    nodes: List=None\n",
        "    edges: List=None \n",
        "\n",
        "    def num_nodes(self) -> int:\n",
        "        # getting the number of nodes\n",
        "        return len(nodes)\n",
        "\n",
        "    def num_edges(self) -> int:\n",
        "        # getting the number of edges\n",
        "        return len(edges)\n",
        "\n",
        "    def info(self) -> None:\n",
        "        # displaying the graph we have defined\n",
        "        print(f\"# of nodes: {self.num_nodes()}\\n# of edges: {self.num_edges()}\")\n",
        "\n",
        "    def to_nx(self) -> None:\n",
        "        NotImplemented\n",
        "\n",
        "    def to_dgl(self) -> None:\n",
        "        NotImplemented\n",
        "\n",
        "    def your_function(self):\n",
        "        NotImplemented \n"
      ],
      "execution_count": 14,
      "outputs": []
    },
    {
      "cell_type": "markdown",
      "metadata": {
        "id": "GzDFLMVa-OAF"
      },
      "source": [
        "<details>\n",
        "<summary>\n",
        "<font size=\"3\" color=\"green\">\n",
        "<b>Previously defined <code><font size=\"4\">nodes and edges</font></code></b>\n",
        "</font>\n",
        "</summary>\n",
        "\n",
        "1. nodes = [0,1,2,3,4,5,6]\n",
        "2. edges = [(0, 1), (1, 2), (1, 3), (1, 4), (2, 5), (5, 6), (6, 3)]\n",
        "</details>\n"
      ]
    },
    {
      "cell_type": "code",
      "metadata": {
        "colab": {
          "base_uri": "https://localhost:8080/"
        },
        "id": "ntDLKDJg-NVR",
        "outputId": "2c159fa1-8073-4311-b08c-16f9e7b30d78"
      },
      "source": [
        "# creating first graph instance\n",
        "my_graph = Graph()\n",
        "my_graph.info()"
      ],
      "execution_count": 16,
      "outputs": [
        {
          "output_type": "stream",
          "text": [
            "# of nodes: 7\n",
            "# of edges: 7\n"
          ],
          "name": "stdout"
        }
      ]
    },
    {
      "cell_type": "code",
      "metadata": {
        "colab": {
          "base_uri": "https://localhost:8080/"
        },
        "id": "R_kWLZU84h8z",
        "outputId": "ebfc2007-65ab-49cb-a56c-9a609f613d59"
      },
      "source": [
        "my_graph"
      ],
      "execution_count": 18,
      "outputs": [
        {
          "output_type": "execute_result",
          "data": {
            "text/plain": [
              "Graph(nodes=None, edges=None)"
            ]
          },
          "metadata": {
            "tags": []
          },
          "execution_count": 18
        }
      ]
    },
    {
      "cell_type": "markdown",
      "metadata": {
        "id": "iu-vDoKhpPgF"
      },
      "source": [
        "## **1.3 Graph Construction by Existing Libraries**\n",
        "---\n",
        "\n",
        "Two common libraries used by most data scientist\n",
        "* networkx (link: [Networkx website](https://networkx.org/))\n",
        "* dgl (link: [DGL website](https://docs.dgl.ai/en/latest/))"
      ]
    },
    {
      "cell_type": "markdown",
      "metadata": {
        "id": "CF98zFEXTCYl"
      },
      "source": [
        "### **1.3.1 Graph Construction by Networkx**\n",
        "\n",
        "---\n",
        "\n",
        "Networkx is good for graph visualization topological and linkage analysis.\n",
        "Creating graph in networkx:\n",
        "  \n",
        "\n",
        "1.   create network graph\n",
        "2.   add nodes from (list or scalar)\n",
        "3.   add edges from (list or scalar)\n",
        "\n"
      ]
    },
    {
      "cell_type": "code",
      "metadata": {
        "id": "fjx3W2iRTOAG"
      },
      "source": [
        "import networkx as nx\n",
        "\n",
        "# create empty networkx graph\n",
        "nx_g = nx.Graph()\n"
      ],
      "execution_count": 19,
      "outputs": []
    },
    {
      "cell_type": "code",
      "metadata": {
        "colab": {
          "base_uri": "https://localhost:8080/",
          "height": 35
        },
        "id": "9sHCG2ghY_KF",
        "outputId": "ae5a4499-1797-4b59-c5e7-0602fd80401f"
      },
      "source": [
        "nx.info(nx_g)"
      ],
      "execution_count": 22,
      "outputs": [
        {
          "output_type": "execute_result",
          "data": {
            "application/vnd.google.colaboratory.intrinsic+json": {
              "type": "string"
            },
            "text/plain": [
              "'Name: \\nType: Graph\\nNumber of nodes: 0\\nNumber of edges: 0\\n'"
            ]
          },
          "metadata": {
            "tags": []
          },
          "execution_count": 22
        }
      ]
    },
    {
      "cell_type": "code",
      "metadata": {
        "id": "FGQnzYsAY-S6"
      },
      "source": [
        "\"\"\"\n",
        "  Let`s use previously defined nodes and edges\n",
        "  1. nodes = [0,1,2,3,4,5,6]\n",
        "  2. edges = [(0, 1), (1, 2), (1, 3), (1, 4), (2, 5), (5, 6), (6, 3)]\n",
        "\"\"\"\n",
        "\n",
        "nx_g.add_nodes_from(nodes)\n",
        "nx_g.add_edges_from(edges)"
      ],
      "execution_count": 23,
      "outputs": []
    },
    {
      "cell_type": "code",
      "metadata": {
        "colab": {
          "base_uri": "https://localhost:8080/",
          "height": 35
        },
        "id": "X92LGS5OZZAz",
        "outputId": "41b8b594-56f3-47a5-cdd9-b2d484607683"
      },
      "source": [
        "# graph information display\n",
        "nx.info(nx_g)\n"
      ],
      "execution_count": 24,
      "outputs": [
        {
          "output_type": "execute_result",
          "data": {
            "application/vnd.google.colaboratory.intrinsic+json": {
              "type": "string"
            },
            "text/plain": [
              "'Name: \\nType: Graph\\nNumber of nodes: 7\\nNumber of edges: 7\\nAverage degree:   2.0000'"
            ]
          },
          "metadata": {
            "tags": []
          },
          "execution_count": 24
        }
      ]
    },
    {
      "cell_type": "markdown",
      "metadata": {
        "id": "07LFYtfxZ0A9"
      },
      "source": [
        "**Simple Visualization**"
      ]
    },
    {
      "cell_type": "code",
      "metadata": {
        "colab": {
          "base_uri": "https://localhost:8080/",
          "height": 248
        },
        "id": "8QowPFT5Zxql",
        "outputId": "04022af2-f39b-4712-f7a5-a3640ae8d4ed"
      },
      "source": [
        "%matplotlib inline\n",
        "import matplotlib.pylab as plt\n",
        "\n",
        "# predefiend position coordinates for each nodes\n",
        "pos = {0: (10, 10), 1: (15, 10), 2: (15, 20), 3: (20, 10), 4: (15, 0), 5: (20, 27), 6: (23, 19)}\n",
        "nx.draw_networkx(nx_g, pos)"
      ],
      "execution_count": 26,
      "outputs": [
        {
          "output_type": "display_data",
          "data": {
            "image/png": "[encoded data removed]",
            "text/plain": [
              "<Figure size 432x288 with 1 Axes>"
            ]
          },
          "metadata": {
            "tags": []
          }
        }
      ]
    },
    {
      "cell_type": "markdown",
      "metadata": {
        "id": "hkYK6gOmaHei"
      },
      "source": [
        "**Simple Linkage Analysis**\n",
        "\n",
        "\n",
        "*   PageRank\n",
        "\n",
        "\\begin{align}\n",
        "\\mathcal{r_j^{(n)}} = (1-\\alpha)\\times r_j^{(0)} + (\\alpha) \\times \\sum_{i=1}^{n} \\frac{w_{ij}\\times r_j^{(0)}}{deg_{i}} \\tag{2}\n",
        "\\end{align} \n",
        "\n",
        "\n",
        "\n"
      ]
    },
    {
      "cell_type": "code",
      "metadata": {
        "colab": {
          "base_uri": "https://localhost:8080/"
        },
        "id": "ebdta9hVZiL4",
        "outputId": "31ba4b6a-20c4-48ed-965e-6a7848a11025"
      },
      "source": [
        "# simple page rank\n",
        "rank = nx.pagerank(nx_g, alpha=0.85)\n",
        "rank"
      ],
      "execution_count": 31,
      "outputs": [
        {
          "output_type": "execute_result",
          "data": {
            "text/plain": [
              "{0: 0.13279950892857142,\n",
              " 1: 0.16912495535714284,\n",
              " 2: 0.13993466517857142,\n",
              " 3: 0.13993466517857142,\n",
              " 4: 0.13279950892857142,\n",
              " 5: 0.1427033482142857,\n",
              " 6: 0.1427033482142857}"
            ]
          },
          "metadata": {
            "tags": []
          },
          "execution_count": 31
        }
      ]
    },
    {
      "cell_type": "code",
      "metadata": {
        "colab": {
          "base_uri": "https://localhost:8080/"
        },
        "id": "THyW5E2TctvU",
        "outputId": "feaf6e48-5721-462e-decb-26111d129337"
      },
      "source": [
        "# sort ranking result \n",
        "sorted(rank.items(), key=lambda x: x[1], reverse=True)\n",
        "\n"
      ],
      "execution_count": 28,
      "outputs": [
        {
          "output_type": "execute_result",
          "data": {
            "text/plain": [
              "[(1, 0.2771509285521139),\n",
              " (5, 0.14089622813240193),\n",
              " (6, 0.14089622813240193),\n",
              " (2, 0.14020466399977227),\n",
              " (3, 0.14020466399977227),\n",
              " (0, 0.08032364359176883),\n",
              " (4, 0.08032364359176883)]"
            ]
          },
          "metadata": {
            "tags": []
          },
          "execution_count": 28
        }
      ]
    },
    {
      "cell_type": "markdown",
      "metadata": {
        "id": "Q7MqqI1KdHIO"
      },
      "source": [
        "\n",
        "\n",
        "*   Personalized PageRank\n",
        "\n"
      ]
    },
    {
      "cell_type": "code",
      "metadata": {
        "colab": {
          "base_uri": "https://localhost:8080/"
        },
        "id": "O4x9z2mdZvcx",
        "outputId": "8ac5a300-e850-45ce-cd2a-4bafacc368d7"
      },
      "source": [
        "prior_knowledge = {6:1}\n",
        "\n",
        "# page rank with initial knowledge\n",
        "rank_personalized = nx.pagerank(nx_g, alpha=0.85, personalization=prior_knowledge)\n",
        "\n",
        "sorted(rank_personalized.items(), key=lambda x: x[1], reverse=True)"
      ],
      "execution_count": null,
      "outputs": [
        {
          "output_type": "execute_result",
          "data": {
            "text/plain": [
              "[(6, 0.29235427899433736),\n",
              " (1, 0.18300575739512334),\n",
              " (5, 0.17181184250643114),\n",
              " (3, 0.16314002293541047),\n",
              " (2, 0.11190948273802326),\n",
              " (0, 0.03888930771533725),\n",
              " (4, 0.03888930771533725)]"
            ]
          },
          "metadata": {
            "tags": []
          },
          "execution_count": 70
        }
      ]
    },
    {
      "cell_type": "markdown",
      "metadata": {
        "id": "e8l2Epnchwko"
      },
      "source": [
        "**Simple Topological Analysis**\n",
        "\n",
        "\n",
        "*   Degree centrality\n",
        "*   Betweenness etc.\n",
        "\n"
      ]
    },
    {
      "cell_type": "code",
      "metadata": {
        "colab": {
          "base_uri": "https://localhost:8080/"
        },
        "id": "g-AAQYrtgFlY",
        "outputId": "f94ac690-e353-4e28-b01f-72b44d584c67"
      },
      "source": [
        "d_centrality = nx.degree_centrality(nx_g)\n",
        "sorted(d_centrality.items(), key=lambda x: x[1], reverse=True)"
      ],
      "execution_count": 56,
      "outputs": [
        {
          "output_type": "execute_result",
          "data": {
            "text/plain": [
              "[(1, 0.6666666666666666),\n",
              " (2, 0.3333333333333333),\n",
              " (3, 0.3333333333333333),\n",
              " (5, 0.3333333333333333),\n",
              " (6, 0.3333333333333333),\n",
              " (0, 0.16666666666666666),\n",
              " (4, 0.16666666666666666)]"
            ]
          },
          "metadata": {
            "tags": []
          },
          "execution_count": 56
        }
      ]
    },
    {
      "cell_type": "code",
      "metadata": {
        "id": "8-NdOXw17a81"
      },
      "source": [
        ""
      ],
      "execution_count": 56,
      "outputs": []
    },
    {
      "cell_type": "markdown",
      "metadata": {
        "id": "UM79wdoKiaLH"
      },
      "source": [
        "### **1.3.2 Graph Visualization**\n",
        "**Visualization of Graph with Labels and Weighted Edges**\n",
        "\n",
        "1.   Define initial labels\n",
        "2.   Define some weights\n",
        "3.   Add labels and weights to graph\n",
        "4.   Visualize labels and weights\n",
        "\n",
        "\n",
        "\n",
        "<!-- ![picture]() -->\n",
        "<p align=\"center\">\n",
        "  <img src=\"https://drive.google.com/uc?id=1ret2wNIt11XZRAr-jtKXpTFnMahYUEqT\" />\n",
        "</p>\n"
      ]
    },
    {
      "cell_type": "code",
      "metadata": {
        "id": "cFJjASoriV36"
      },
      "source": [
        "# initial labeles \n",
        "initial_knowledges = [1, 0, 0, 0, 0, -1, 0]\n",
        "# weights \n",
        "initial_weights = [0.4, 0.4, 0.4, 0.9, 0.1, 0.4, 0.1]\n"
      ],
      "execution_count": 57,
      "outputs": []
    },
    {
      "cell_type": "code",
      "metadata": {
        "colab": {
          "base_uri": "https://localhost:8080/"
        },
        "id": "FeP7UsNei2Y6",
        "outputId": "28c6f8dd-8fbe-4afe-f568-50a3de0d10e9"
      },
      "source": [
        "# let`s remember information about our graph\n",
        "nx_g.nodes(), nx_g.edges()"
      ],
      "execution_count": 58,
      "outputs": [
        {
          "output_type": "execute_result",
          "data": {
            "text/plain": [
              "(NodeView((0, 1, 2, 3, 4, 5, 6)),\n",
              " EdgeView([(0, 1), (1, 2), (1, 3), (1, 4), (2, 5), (3, 6), (5, 6)]))"
            ]
          },
          "metadata": {
            "tags": []
          },
          "execution_count": 58
        }
      ]
    },
    {
      "cell_type": "code",
      "metadata": {
        "id": "MevkOKARjCms"
      },
      "source": [
        "# assign initial nodel labels\n",
        "for (node,  init_h) in zip(nx_g.nodes(), initial_knowledges):\n",
        "    nx_g.nodes[node]['h'] = init_h\n",
        "\n",
        "# assign initial nodel labels\n",
        "for edge, init_w in zip(nx_g.edges(), initial_weights):\n",
        "    nx_g.edges[edge]['weights'] = init_w"
      ],
      "execution_count": 61,
      "outputs": []
    },
    {
      "cell_type": "code",
      "metadata": {
        "colab": {
          "base_uri": "https://localhost:8080/",
          "height": 331
        },
        "id": "m6rgQtwckMj5",
        "outputId": "744a2771-b11e-40e3-a7a2-e7d9c2b27213"
      },
      "source": [
        "import nx_altair as nxa\n",
        "\n",
        "viz = nxa.draw_networkx(\n",
        "    nx_g, pos=pos,\n",
        "    node_color='h',\n",
        "    cmap='viridis',\n",
        "    width='weights',\n",
        "    edge_color='black',\n",
        ")\n",
        "\n",
        "viz.interactive()"
      ],
      "execution_count": 62,
      "outputs": [
        {
          "output_type": "execute_result",
          "data": {
            "text/plain": [
              "alt.LayerChart(...)"
            ],
            "text/html": [
              "\n",
              "<div id=\"altair-viz-bc0ea6a7d78149698d22080b132d68bd\"></div>\n",
              "<script type=\"text/javascript\">\n",
              "  (function(spec, embedOpt){\n",
              "    let outputDiv = document.currentScript.previousElementSibling;\n",
              "    if (outputDiv.id !== \"altair-viz-bc0ea6a7d78149698d22080b132d68bd\") {\n",
              "      outputDiv = document.getElementById(\"altair-viz-bc0ea6a7d78149698d22080b132d68bd\");\n",
              "    }\n",
              "    const paths = {\n",
              "      \"vega\": \"https://cdn.jsdelivr.net/npm//vega@5?noext\",\n",
              "      \"vega-lib\": \"https://cdn.jsdelivr.net/npm//vega-lib?noext\",\n",
              "      \"vega-lite\": \"https://cdn.jsdelivr.net/npm//vega-lite@4.8.1?noext\",\n",
              "      \"vega-embed\": \"https://cdn.jsdelivr.net/npm//vega-embed@6?noext\",\n",
              "    };\n",
              "\n",
              "    function loadScript(lib) {\n",
              "      return new Promise(function(resolve, reject) {\n",
              "        var s = document.createElement('script');\n",
              "        s.src = paths[lib];\n",
              "        s.async = true;\n",
              "        s.onload = () => resolve(paths[lib]);\n",
              "        s.onerror = () => reject(`Error loading script: ${paths[lib]}`);\n",
              "        document.getElementsByTagName(\"head\")[0].appendChild(s);\n",
              "      });\n",
              "    }\n",
              "\n",
              "    function showError(err) {\n",
              "      outputDiv.innerHTML = `<div class=\"error\" style=\"color:red;\">${err}</div>`;\n",
              "      throw err;\n",
              "    }\n",
              "\n",
              "    function displayChart(vegaEmbed) {\n",
              "      vegaEmbed(outputDiv, spec, embedOpt)\n",
              "        .catch(err => showError(`Javascript Error: ${err.message}<br>This usually means there's a typo in your chart specification. See the javascript console for the full traceback.`));\n",
              "    }\n",
              "\n",
              "    if(typeof define === \"function\" && define.amd) {\n",
              "      requirejs.config({paths});\n",
              "      require([\"vega-embed\"], displayChart, err => showError(`Error loading script: ${err.message}`));\n",
              "    } else if (typeof vegaEmbed === \"function\") {\n",
              "      displayChart(vegaEmbed);\n",
              "    } else {\n",
              "      loadScript(\"vega\")\n",
              "        .then(() => loadScript(\"vega-lite\"))\n",
              "        .then(() => loadScript(\"vega-embed\"))\n",
              "        .catch(showError)\n",
              "        .then(() => displayChart(vegaEmbed));\n",
              "    }\n",
              "  })({\"config\": {\"view\": {\"continuousWidth\": 400, \"continuousHeight\": 300}}, \"layer\": [{\"data\": {\"name\": \"data-2764baf9c344498d4d7132f473c3ef70\"}, \"mark\": {\"type\": \"line\", \"color\": \"black\", \"opacity\": 1}, \"encoding\": {\"detail\": {\"type\": \"quantitative\", \"field\": \"edge\"}, \"size\": {\"type\": \"quantitative\", \"field\": \"weights\", \"legend\": null}, \"x\": {\"type\": \"quantitative\", \"axis\": {\"grid\": false, \"labels\": false, \"ticks\": false, \"title\": \"\"}, \"field\": \"x\"}, \"y\": {\"type\": \"quantitative\", \"axis\": {\"grid\": false, \"labels\": false, \"ticks\": false, \"title\": \"\"}, \"field\": \"y\"}}, \"selection\": {\"selector001\": {\"type\": \"interval\", \"bind\": \"scales\", \"encodings\": [\"x\", \"y\"]}}}, {\"data\": {\"name\": \"data-7c085e41a0ba696f971001950deb034f\"}, \"mark\": {\"type\": \"point\", \"opacity\": 1, \"size\": 300, \"strokeWidth\": 1.0}, \"encoding\": {\"fill\": {\"type\": \"quantitative\", \"field\": \"h\", \"scale\": {\"scheme\": \"viridis\"}}, \"x\": {\"type\": \"quantitative\", \"axis\": {\"grid\": false, \"labels\": false, \"ticks\": false}, \"field\": \"x\"}, \"y\": {\"type\": \"quantitative\", \"axis\": {\"grid\": false, \"labels\": false, \"ticks\": false}, \"field\": \"y\"}}}], \"$schema\": \"https://vega.github.io/schema/vega-lite/v4.8.1.json\", \"datasets\": {\"data-2764baf9c344498d4d7132f473c3ef70\": [{\"target\": 1, \"edge\": 0, \"pair\": [0, 1], \"x\": 10, \"y\": 10, \"weights\": 0.4, \"source\": 0}, {\"target\": 1, \"edge\": 0, \"pair\": [0, 1], \"x\": 15, \"y\": 10, \"weights\": 0.4, \"source\": 0}, {\"target\": 2, \"edge\": 1, \"pair\": [1, 2], \"x\": 15, \"y\": 10, \"weights\": 0.4, \"source\": 1}, {\"target\": 2, \"edge\": 1, \"pair\": [1, 2], \"x\": 15, \"y\": 20, \"weights\": 0.4, \"source\": 1}, {\"target\": 3, \"edge\": 2, \"pair\": [1, 3], \"x\": 15, \"y\": 10, \"weights\": 0.4, \"source\": 1}, {\"target\": 3, \"edge\": 2, \"pair\": [1, 3], \"x\": 20, \"y\": 10, \"weights\": 0.4, \"source\": 1}, {\"target\": 4, \"edge\": 3, \"pair\": [1, 4], \"x\": 15, \"y\": 10, \"weights\": 0.9, \"source\": 1}, {\"target\": 4, \"edge\": 3, \"pair\": [1, 4], \"x\": 15, \"y\": 0, \"weights\": 0.9, \"source\": 1}, {\"target\": 5, \"edge\": 4, \"pair\": [2, 5], \"x\": 15, \"y\": 20, \"weights\": 0.1, \"source\": 2}, {\"target\": 5, \"edge\": 4, \"pair\": [2, 5], \"x\": 20, \"y\": 27, \"weights\": 0.1, \"source\": 2}, {\"target\": 6, \"edge\": 5, \"pair\": [3, 6], \"x\": 20, \"y\": 10, \"weights\": 0.4, \"source\": 3}, {\"target\": 6, \"edge\": 5, \"pair\": [3, 6], \"x\": 23, \"y\": 19, \"weights\": 0.4, \"source\": 3}, {\"target\": 6, \"edge\": 6, \"pair\": [5, 6], \"x\": 20, \"y\": 27, \"weights\": 0.1, \"source\": 5}, {\"target\": 6, \"edge\": 6, \"pair\": [5, 6], \"x\": 23, \"y\": 19, \"weights\": 0.1, \"source\": 5}], \"data-7c085e41a0ba696f971001950deb034f\": [{\"x\": 10, \"y\": 10, \"h\": 1}, {\"x\": 15, \"y\": 10, \"h\": 0}, {\"x\": 15, \"y\": 20, \"h\": 0}, {\"x\": 20, \"y\": 10, \"h\": 0}, {\"x\": 15, \"y\": 0, \"h\": 0}, {\"x\": 20, \"y\": 27, \"h\": -1}, {\"x\": 23, \"y\": 19, \"h\": 0}]}}, {\"mode\": \"vega-lite\"});\n",
              "</script>"
            ]
          },
          "metadata": {
            "tags": []
          },
          "execution_count": 62
        }
      ]
    },
    {
      "cell_type": "markdown",
      "metadata": {
        "id": "2a7jH_Vxkia3"
      },
      "source": [
        "### **1.3.3 Graph Construction by DGL**\n",
        "DGL library mostly used for graph neural network\n",
        "---\n",
        " - pytorch, mxnet\n",
        " - GCN, GAT, GraphSage etc (~ over 30 graph paper models)\n",
        " - backed by amazon\n",
        "\n",
        "---\n",
        "\n"
      ]
    },
    {
      "cell_type": "markdown",
      "metadata": {
        "id": "-j4vqfUaq8N-"
      },
      "source": [
        "Let`s create simple dgl graph\n",
        "\n",
        "*   dgl represents each node by a unique number (index)\n",
        "*   dgl represents nodes with 1-D integer tensor (e.g: torch.tensor)\n",
        "*   edges are represented in a tuple of node-tensors (U, V)\n",
        "* edge from $U_i$ to $V_i$\n",
        "\n"
      ]
    },
    {
      "cell_type": "code",
      "metadata": {
        "colab": {
          "base_uri": "https://localhost:8080/"
        },
        "id": "otDot4Hyq7iK",
        "outputId": "d9da8dc1-6710-4150-aeec-00cb0baee943"
      },
      "source": [
        "nodes = [0, 1, 2, 3, 4, 5, 6]\n",
        "edges = [(0, 1), (1, 2), (1, 3), (1, 4), (2, 5), (5, 6), (6, 3)]\n",
        "nodes, edges"
      ],
      "execution_count": 65,
      "outputs": [
        {
          "output_type": "execute_result",
          "data": {
            "text/plain": [
              "([0, 1, 2, 3, 4, 5, 6],\n",
              " [(0, 1), (1, 2), (1, 3), (1, 4), (2, 5), (5, 6), (6, 3)])"
            ]
          },
          "metadata": {
            "tags": []
          },
          "execution_count": 65
        }
      ]
    },
    {
      "cell_type": "markdown",
      "metadata": {
        "id": "xYx6axo0tRHH"
      },
      "source": [
        "Example Graph\n",
        "<!-- ![picture]() -->\n",
        "<p align=\"center\">\n",
        "  <img src='https://drive.google.com/uc?id=13C_XlRls-pczgxqyrS_eodxS6R9kcH-W' />\n",
        "</p>\n",
        "\n"
      ]
    },
    {
      "cell_type": "code",
      "metadata": {
        "colab": {
          "base_uri": "https://localhost:8080/"
        },
        "id": "Wi4khGowsts5",
        "outputId": "8c956b71-8e99-41f0-ca35-ca7423c91826"
      },
      "source": [
        "u = [] # list contains source nodes\n",
        "v = [] # list contains destination nodes\n",
        "\n",
        "for edge in edges:\n",
        "    u.append(edge[0])\n",
        "    v.append(edge[1])\n",
        "\n",
        "print(f'U: {u}')\n",
        "print(f'V: {v}')"
      ],
      "execution_count": 66,
      "outputs": [
        {
          "output_type": "stream",
          "text": [
            "U: [0, 1, 1, 1, 2, 5, 6]\n",
            "V: [1, 2, 3, 4, 5, 6, 3]\n"
          ],
          "name": "stdout"
        }
      ]
    },
    {
      "cell_type": "markdown",
      "metadata": {
        "id": "_JzIe29Kuy46"
      },
      "source": [
        "\n",
        "DGL is good for graph deep learning (>30 paper methods) and has better node and edge feature representation.\n",
        "Creating graph in dgl:\n",
        "  \n",
        "\n",
        "1.   creating dgl graph from edge tuples (u, v)\n",
        "2.   creating dgl graph from networkx \n",
        "\n",
        "\n"
      ]
    },
    {
      "cell_type": "code",
      "metadata": {
        "id": "PJTxGAxpuyLV"
      },
      "source": [
        "import dgl \n",
        "import torch\n",
        "\n",
        "# creating from edge tuples\n",
        "dgl_g = dgl.graph((u, v))\n"
      ],
      "execution_count": 67,
      "outputs": []
    },
    {
      "cell_type": "code",
      "metadata": {
        "colab": {
          "base_uri": "https://localhost:8080/"
        },
        "id": "fQAqD_LJtXLU",
        "outputId": "a16a871e-66bb-41ea-936c-95982b65033d"
      },
      "source": [
        "dgl_g"
      ],
      "execution_count": null,
      "outputs": [
        {
          "output_type": "execute_result",
          "data": {
            "text/plain": [
              "Graph(num_nodes=7, num_edges=7,\n",
              "      ndata_schemes={}\n",
              "      edata_schemes={})"
            ]
          },
          "metadata": {
            "tags": []
          },
          "execution_count": 91
        }
      ]
    },
    {
      "cell_type": "code",
      "metadata": {
        "colab": {
          "base_uri": "https://localhost:8080/"
        },
        "id": "7xvBAkDmv_kf",
        "outputId": "12862812-b865-4638-9736-2e10aa9aad15"
      },
      "source": [
        "# creating from networkx\n",
        "\n",
        "dgl_from_nx = dgl.from_networkx(nx_g)\n",
        "dgl_from_nx"
      ],
      "execution_count": 77,
      "outputs": [
        {
          "output_type": "execute_result",
          "data": {
            "text/plain": [
              "Graph(num_nodes=7, num_edges=14,\n",
              "      ndata_schemes={}\n",
              "      edata_schemes={})"
            ]
          },
          "metadata": {
            "tags": []
          },
          "execution_count": 77
        }
      ]
    },
    {
      "cell_type": "code",
      "metadata": {
        "id": "qlaIpvlj952l"
      },
      "source": [
        ""
      ],
      "execution_count": null,
      "outputs": []
    },
    {
      "cell_type": "markdown",
      "metadata": {
        "id": "3Gdov3QivvZi"
      },
      "source": [
        "**Node and Edge Features**\n",
        "* DGLGraph has several used defined named features for storing graph-specific properties of **nodes** and **edges**\n",
        "* Node and edge features can be accessed via the <font color='red'>ndata</font> and <font color='red'>edata</font> interface.\n",
        "* <font color='red'>ndata</font>: node features\n",
        "* <font color='red'>edata</font>: edge features\n",
        "\n",
        "---\n",
        "<details>\n",
        "<summary>\n",
        "<font size=\"3\" color=\"green\">\n",
        "<b>Optional hint for <code><font size=\"4\">dgl features</font></code></b>\n",
        "</font>\n",
        "</summary>\n",
        "1. <font color='red'>DGL only accepts features in numerical types </font>\n",
        "</details>"
      ]
    },
    {
      "cell_type": "markdown",
      "metadata": {
        "id": "8wYTy_wPvyFg"
      },
      "source": [
        "<!-- ![picture]() -->\n",
        "<p align=\"center\">\n",
        "  <img src=\"https://drive.google.com/uc?id=1-XJPrpPIUdtgZcFoRdCp_S90tkpS0249\" />\n",
        "</p>"
      ]
    },
    {
      "cell_type": "markdown",
      "metadata": {
        "id": "YTA883HaxqZl"
      },
      "source": [
        "Let`s create toy set problem\n",
        "\n",
        "\n",
        "1.   lets assume each node represent a person \n",
        "2.   Each person has own features (e.g: ages, heights, weights) etc)\n",
        "3.   Each person have its own class label (e.g: basket player or not)\n",
        "4.   Let`s assume they have imaginary relationship defined by some weight\n",
        "\n"
      ]
    },
    {
      "cell_type": "code",
      "metadata": {
        "id": "HyrzXe7ZxibV"
      },
      "source": [
        "import pandas as pd\n",
        "\n",
        "# node features (person features)\n",
        "ages = [40, 30, 20, 45, 40, 20, 34]\n",
        "heights = [165, 175, 170, 165, 175, 200, 190]\n",
        "labels = ['A', 'Unknown', 'Unknown', 'Unknown', 'Unknown', 'B', 'Unknown']\n",
        "\n",
        "\n",
        "# edge features (friendship )\n",
        "edge_weights = [0.4, 0.4, 0.4, 0.9, 0.1, 0.4, 0.1]\n",
        "\n",
        "# let`s create dataframe holds node informations\n",
        "node_df = pd.DataFrame(list(zip(nodes, ages, heights, labels)), columns=['id', 'age', 'heights', 'labels'])\n",
        "\n",
        "# let`s create datafram holds edge informations\n",
        "edge_df = pd.DataFrame(list(zip(u, v, edge_weights)), columns=['src', 'dst', 'weights'])\n"
      ],
      "execution_count": 81,
      "outputs": []
    },
    {
      "cell_type": "code",
      "metadata": {
        "colab": {
          "base_uri": "https://localhost:8080/",
          "height": 266
        },
        "id": "3iNC02NuvxWd",
        "outputId": "b28fd111-e7d8-4c52-abb6-25a6049e0997"
      },
      "source": [
        "node_df"
      ],
      "execution_count": 82,
      "outputs": [
        {
          "output_type": "execute_result",
          "data": {
            "text/html": [
              "<div>\n",
              "<style scoped>\n",
              "    .dataframe tbody tr th:only-of-type {\n",
              "        vertical-align: middle;\n",
              "    }\n",
              "\n",
              "    .dataframe tbody tr th {\n",
              "        vertical-align: top;\n",
              "    }\n",
              "\n",
              "    .dataframe thead th {\n",
              "        text-align: right;\n",
              "    }\n",
              "</style>\n",
              "<table border=\"1\" class=\"dataframe\">\n",
              "  <thead>\n",
              "    <tr style=\"text-align: right;\">\n",
              "      <th></th>\n",
              "      <th>id</th>\n",
              "      <th>age</th>\n",
              "      <th>heights</th>\n",
              "      <th>labels</th>\n",
              "    </tr>\n",
              "  </thead>\n",
              "  <tbody>\n",
              "    <tr>\n",
              "      <th>0</th>\n",
              "      <td>0</td>\n",
              "      <td>40</td>\n",
              "      <td>165</td>\n",
              "      <td>A</td>\n",
              "    </tr>\n",
              "    <tr>\n",
              "      <th>1</th>\n",
              "      <td>1</td>\n",
              "      <td>30</td>\n",
              "      <td>175</td>\n",
              "      <td>Unknown</td>\n",
              "    </tr>\n",
              "    <tr>\n",
              "      <th>2</th>\n",
              "      <td>2</td>\n",
              "      <td>20</td>\n",
              "      <td>170</td>\n",
              "      <td>Unknown</td>\n",
              "    </tr>\n",
              "    <tr>\n",
              "      <th>3</th>\n",
              "      <td>3</td>\n",
              "      <td>45</td>\n",
              "      <td>165</td>\n",
              "      <td>Unknown</td>\n",
              "    </tr>\n",
              "    <tr>\n",
              "      <th>4</th>\n",
              "      <td>4</td>\n",
              "      <td>40</td>\n",
              "      <td>175</td>\n",
              "      <td>Unknown</td>\n",
              "    </tr>\n",
              "    <tr>\n",
              "      <th>5</th>\n",
              "      <td>5</td>\n",
              "      <td>20</td>\n",
              "      <td>200</td>\n",
              "      <td>B</td>\n",
              "    </tr>\n",
              "    <tr>\n",
              "      <th>6</th>\n",
              "      <td>6</td>\n",
              "      <td>34</td>\n",
              "      <td>190</td>\n",
              "      <td>Unknown</td>\n",
              "    </tr>\n",
              "  </tbody>\n",
              "</table>\n",
              "</div>"
            ],
            "text/plain": [
              "   id  age  heights   labels\n",
              "0   0   40      165        A\n",
              "1   1   30      175  Unknown\n",
              "2   2   20      170  Unknown\n",
              "3   3   45      165  Unknown\n",
              "4   4   40      175  Unknown\n",
              "5   5   20      200        B\n",
              "6   6   34      190  Unknown"
            ]
          },
          "metadata": {
            "tags": []
          },
          "execution_count": 82
        }
      ]
    },
    {
      "cell_type": "code",
      "metadata": {
        "colab": {
          "base_uri": "https://localhost:8080/",
          "height": 266
        },
        "id": "UGB9D9C8vutP",
        "outputId": "1c2d6398-4be7-4bfc-c613-33962ac635ce"
      },
      "source": [
        "edge_df"
      ],
      "execution_count": 83,
      "outputs": [
        {
          "output_type": "execute_result",
          "data": {
            "text/html": [
              "<div>\n",
              "<style scoped>\n",
              "    .dataframe tbody tr th:only-of-type {\n",
              "        vertical-align: middle;\n",
              "    }\n",
              "\n",
              "    .dataframe tbody tr th {\n",
              "        vertical-align: top;\n",
              "    }\n",
              "\n",
              "    .dataframe thead th {\n",
              "        text-align: right;\n",
              "    }\n",
              "</style>\n",
              "<table border=\"1\" class=\"dataframe\">\n",
              "  <thead>\n",
              "    <tr style=\"text-align: right;\">\n",
              "      <th></th>\n",
              "      <th>src</th>\n",
              "      <th>dst</th>\n",
              "      <th>weights</th>\n",
              "    </tr>\n",
              "  </thead>\n",
              "  <tbody>\n",
              "    <tr>\n",
              "      <th>0</th>\n",
              "      <td>0</td>\n",
              "      <td>1</td>\n",
              "      <td>0.4</td>\n",
              "    </tr>\n",
              "    <tr>\n",
              "      <th>1</th>\n",
              "      <td>1</td>\n",
              "      <td>2</td>\n",
              "      <td>0.4</td>\n",
              "    </tr>\n",
              "    <tr>\n",
              "      <th>2</th>\n",
              "      <td>1</td>\n",
              "      <td>3</td>\n",
              "      <td>0.4</td>\n",
              "    </tr>\n",
              "    <tr>\n",
              "      <th>3</th>\n",
              "      <td>1</td>\n",
              "      <td>4</td>\n",
              "      <td>0.9</td>\n",
              "    </tr>\n",
              "    <tr>\n",
              "      <th>4</th>\n",
              "      <td>2</td>\n",
              "      <td>5</td>\n",
              "      <td>0.1</td>\n",
              "    </tr>\n",
              "    <tr>\n",
              "      <th>5</th>\n",
              "      <td>5</td>\n",
              "      <td>6</td>\n",
              "      <td>0.4</td>\n",
              "    </tr>\n",
              "    <tr>\n",
              "      <th>6</th>\n",
              "      <td>6</td>\n",
              "      <td>3</td>\n",
              "      <td>0.1</td>\n",
              "    </tr>\n",
              "  </tbody>\n",
              "</table>\n",
              "</div>"
            ],
            "text/plain": [
              "   src  dst  weights\n",
              "0    0    1      0.4\n",
              "1    1    2      0.4\n",
              "2    1    3      0.4\n",
              "3    1    4      0.9\n",
              "4    2    5      0.1\n",
              "5    5    6      0.4\n",
              "6    6    3      0.1"
            ]
          },
          "metadata": {
            "tags": []
          },
          "execution_count": 83
        }
      ]
    },
    {
      "cell_type": "markdown",
      "metadata": {
        "id": "8CO7DiqTzoAa"
      },
      "source": [
        "**Adding node and edge features to graph**"
      ]
    },
    {
      "cell_type": "code",
      "metadata": {
        "colab": {
          "base_uri": "https://localhost:8080/"
        },
        "id": "wVzN6n7KzneJ",
        "outputId": "32621e1a-e7b6-4b86-f4ed-6041e2a958a7"
      },
      "source": [
        "dgl_g, dgl_g.nodes(), dgl_g.edges()"
      ],
      "execution_count": 84,
      "outputs": [
        {
          "output_type": "execute_result",
          "data": {
            "text/plain": [
              "(Graph(num_nodes=7, num_edges=7,\n",
              "       ndata_schemes={}\n",
              "       edata_schemes={}),\n",
              " tensor([0, 1, 2, 3, 4, 5, 6]),\n",
              " (tensor([0, 1, 1, 1, 2, 5, 6]), tensor([1, 2, 3, 4, 5, 6, 3])))"
            ]
          },
          "metadata": {
            "tags": []
          },
          "execution_count": 84
        }
      ]
    },
    {
      "cell_type": "code",
      "metadata": {
        "id": "DOng9LcdvtBr"
      },
      "source": [
        "import torch.nn.functional as F\n",
        "\n",
        "# adding node features\n",
        "dgl_g.ndata['ages'] = torch.tensor(ages,dtype=torch.float)/ 100\n",
        "dgl_g.ndata['heights'] = torch.tensor(heights, dtype=torch.float) / 100\n",
        "_classes = torch.tensor([label == 'B' for label in labels]).long()\n",
        "dgl_g.ndata['labels'] = _classes\n",
        "dgl_g.ndata['labels_one_hot'] = F.one_hot(_classes)\n",
        "\n",
        "# adding edge features\n",
        "dgl_g.edata['weights'] = torch.tensor(edge_weights)\n"
      ],
      "execution_count": 90,
      "outputs": []
    },
    {
      "cell_type": "code",
      "metadata": {
        "colab": {
          "base_uri": "https://localhost:8080/"
        },
        "id": "YPMTxDr605CH",
        "outputId": "1a77dea8-782b-4eb7-c540-6498cabd8853"
      },
      "source": [
        "# node features\n",
        "dgl_g.ndata"
      ],
      "execution_count": 91,
      "outputs": [
        {
          "output_type": "execute_result",
          "data": {
            "text/plain": [
              "{'ages': tensor([0.4000, 0.3000, 0.2000, 0.4500, 0.4000, 0.2000, 0.3400]), 'heights': tensor([1.6500, 1.7500, 1.7000, 1.6500, 1.7500, 2.0000, 1.9000]), 'labels': tensor([0, 0, 0, 0, 0, 1, 0]), 'labels_one_hot': tensor([[1, 0],\n",
              "        [1, 0],\n",
              "        [1, 0],\n",
              "        [1, 0],\n",
              "        [1, 0],\n",
              "        [0, 1],\n",
              "        [1, 0]])}"
            ]
          },
          "metadata": {
            "tags": []
          },
          "execution_count": 91
        }
      ]
    },
    {
      "cell_type": "code",
      "metadata": {
        "colab": {
          "base_uri": "https://localhost:8080/"
        },
        "id": "NKF4bviR1GtI",
        "outputId": "76bc0b98-d918-47e7-a80a-3e433a8567ab"
      },
      "source": [
        "# edge features\n",
        "dgl_g.edata['weights']\n"
      ],
      "execution_count": 87,
      "outputs": [
        {
          "output_type": "execute_result",
          "data": {
            "text/plain": [
              "tensor([0.4000, 0.4000, 0.4000, 0.9000, 0.1000, 0.4000, 0.1000])"
            ]
          },
          "metadata": {
            "tags": []
          },
          "execution_count": 87
        }
      ]
    },
    {
      "cell_type": "code",
      "metadata": {
        "id": "uppT2niY1S4A",
        "colab": {
          "base_uri": "https://localhost:8080/"
        },
        "outputId": "bf2a9419-f2da-4b33-eb86-74063465f7ce"
      },
      "source": [
        "# very dummy example of deep learning on graph\n",
        "# try it home\n",
        "# a semi-supervised node classification task.\n",
        "# use a GraphSAGE model [Hamilton et al.](https://arxiv.org/abs/1706.02216)\n",
        "from torch import nn\n",
        "from dgl.nn import SAGEConv\n",
        "\n",
        "node_embed = nn.Embedding(dgl_g.number_of_nodes(), 3)  # Every node has an embedding of size 3.\n",
        "inputs = node_embed.weight                             # Use the embedding weight as the node features.\n",
        "nn.init.xavier_uniform_(inputs)\n",
        "labels = dgl_g.ndata['labels']\n",
        "labeled_nodes = [0, 5]\n",
        "print('Labels', labels[labeled_nodes])\n",
        "\n",
        "\n",
        "class DummyGraphNN(nn.Module):\n",
        "    def __init__(self, in_feats, h_feats, num_classes):\n",
        "        super(DummyGraphNN, self).__init__()\n",
        "        self.conv1 = SAGEConv(in_feats, h_feats, 'mean')\n",
        "        self.conv2 = SAGEConv(h_feats, num_classes, 'mean')\n",
        "    \n",
        "    def forward(self, g, in_feat):\n",
        "        h = self.conv1(g, in_feat)\n",
        "        h = F.relu(h)\n",
        "        h = self.conv2(g, h)\n",
        "        return h\n",
        "net = DummyGraphNN(3, 24, 2)\n",
        "net"
      ],
      "execution_count": 95,
      "outputs": [
        {
          "output_type": "stream",
          "text": [
            "Labels tensor([0, 1])\n"
          ],
          "name": "stdout"
        },
        {
          "output_type": "execute_result",
          "data": {
            "text/plain": [
              "DummyGraphNN(\n",
              "  (conv1): SAGEConv(\n",
              "    (feat_drop): Dropout(p=0.0, inplace=False)\n",
              "    (fc_self): Linear(in_features=3, out_features=24, bias=True)\n",
              "    (fc_neigh): Linear(in_features=3, out_features=24, bias=True)\n",
              "  )\n",
              "  (conv2): SAGEConv(\n",
              "    (feat_drop): Dropout(p=0.0, inplace=False)\n",
              "    (fc_self): Linear(in_features=24, out_features=2, bias=True)\n",
              "    (fc_neigh): Linear(in_features=24, out_features=2, bias=True)\n",
              "  )\n",
              ")"
            ]
          },
          "metadata": {
            "tags": []
          },
          "execution_count": 95
        }
      ]
    },
    {
      "cell_type": "code",
      "metadata": {
        "colab": {
          "base_uri": "https://localhost:8080/"
        },
        "id": "lqMlj_v9EJJf",
        "outputId": "3bb6a93f-5c0e-4e42-a6f1-d7b2e0afa6a8"
      },
      "source": [
        "# do it at home change the data\n",
        "import dgl\n",
        "import torch\n",
        "import torch.nn as nn\n",
        "import torch.nn.functional as F\n",
        "import itertools\n",
        "\n",
        "optimizer = torch.optim.Adam(itertools.chain(net.parameters(), node_embed.parameters()), lr=0.01)\n",
        "\n",
        "all_logits = []\n",
        "for e in range(100):\n",
        "    # forward\n",
        "    logits = net(dgl_g, inputs)\n",
        "    \n",
        "    # compute loss\n",
        "    logp = F.log_softmax(logits, 1)\n",
        "    loss = F.nll_loss(logp[labeled_nodes], labels[labeled_nodes])\n",
        "    \n",
        "    # backward\n",
        "    optimizer.zero_grad()\n",
        "    loss.backward()\n",
        "    optimizer.step()\n",
        "    all_logits.append(logits.detach())\n",
        "    \n",
        "    if e % 5 == 0:\n",
        "        print('In epoch {}, loss: {}'.format(e, loss))\n",
        "\n",
        "pred = torch.argmax(logits, axis=1)\n",
        "print('Accuracy', (pred == labels).sum().item() / len(pred))"
      ],
      "execution_count": 101,
      "outputs": [
        {
          "output_type": "stream",
          "text": [
            "In epoch 0, loss: 0.0\n",
            "In epoch 5, loss: 0.0\n",
            "In epoch 10, loss: 0.0\n",
            "In epoch 15, loss: 0.0\n",
            "In epoch 20, loss: 0.0\n",
            "In epoch 25, loss: 0.0\n",
            "In epoch 30, loss: 0.0\n",
            "In epoch 35, loss: 0.0\n",
            "In epoch 40, loss: 0.0\n",
            "In epoch 45, loss: 0.0\n",
            "In epoch 50, loss: 0.0\n",
            "In epoch 55, loss: 0.0\n",
            "In epoch 60, loss: 0.0\n",
            "In epoch 65, loss: 0.0\n",
            "In epoch 70, loss: 0.0\n",
            "In epoch 75, loss: 0.0\n",
            "In epoch 80, loss: 0.0\n",
            "In epoch 85, loss: 0.0\n",
            "In epoch 90, loss: 0.0\n",
            "In epoch 95, loss: 0.0\n",
            "Accuracy 0.7142857142857143\n"
          ],
          "name": "stdout"
        }
      ]
    },
    {
      "cell_type": "markdown",
      "metadata": {
        "id": "DtZjxB5tnPzk"
      },
      "source": [
        "#**2. Compound to Graph (advanced content)**\n",
        "\n",
        "\n"
      ]
    },
    {
      "cell_type": "markdown",
      "metadata": {
        "id": "DuVJvKFC3EUp"
      },
      "source": [
        "## **2.1 Getting Started**\n",
        "\n",
        "**Learning Objectives**\n",
        "\n",
        "You will learn to construct graph from compound.\n",
        "* Compound Representation by libraries\n",
        "* Node Featurization from stratch\n",
        "* Edge Featurization from stratch\n",
        "* Compound to Graph\n",
        "* Downstream analysis by using your own representation you learnt\n",
        "\n",
        "---\n",
        "\n",
        "### GOAL: Compound to Graph (Data Augmentation)\n",
        "<p align=\"center\">\n",
        "  <img src=\"https://drive.google.com/uc?id=1GY5rH8STQqRprA-SYFnGw1o7aWsrsUt7\" />\n",
        "</p>\n"
      ]
    },
    {
      "cell_type": "markdown",
      "metadata": {
        "id": "nwjKHyZ1nEyB"
      },
      "source": [
        "Let`s start with simple chemical\n",
        "\n",
        "\n",
        "*   Read and visualization with RDKIT \n",
        "\n",
        "\n",
        "\n"
      ]
    },
    {
      "cell_type": "code",
      "metadata": {
        "colab": {
          "base_uri": "https://localhost:8080/",
          "height": 171
        },
        "id": "osaPsQE_4dml",
        "outputId": "1e674369-db1b-487d-a1ea-0f498a48248c"
      },
      "source": [
        "from rdkit import Chem\n",
        "from rdkit.Chem.Draw import IPythonConsole\n",
        "from rdkit.Chem import Draw\n",
        "IPythonConsole.ipython_useSVG=True\n",
        "\n",
        "\n",
        "smile = 'C(=O)O' # formic \n",
        "mol = Chem.MolFromSmiles(smile)\n",
        "mol"
      ],
      "execution_count": 103,
      "outputs": [
        {
          "output_type": "execute_result",
          "data": {
            "image/png": "[encoded data removed]",
            "text/plain": [
              "<rdkit.Chem.rdchem.Mol at 0x7f9e452bf440>"
            ],
            "image/svg+xml": "<?xml version='1.0' encoding='iso-8859-1'?>\n<svg version='1.1' baseProfile='full'\n              xmlns='http://www.w3.org/2000/svg'\n                      xmlns:rdkit='http://www.rdkit.org/xml'\n                      xmlns:xlink='http://www.w3.org/1999/xlink'\n                  xml:space='preserve'\nwidth='450px' height='150px' viewBox='0 0 450 150'>\n<!-- END OF HEADER -->\n<rect style='opacity:1.0;fill:#FFFFFF;stroke:none' width='450' height='150' x='0' y='0'> </rect>\n<path class='bond-0' d='M 223.84,115.68 L 142.398,68.6589' style='fill:none;fill-rule:evenodd;stroke:#000000;stroke-width:2.0px;stroke-linecap:butt;stroke-linejoin:miter;stroke-opacity:1' />\n<path class='bond-0' d='M 142.398,68.6589 L 60.9557,21.6382' style='fill:none;fill-rule:evenodd;stroke:#FF0000;stroke-width:2.0px;stroke-linecap:butt;stroke-linejoin:miter;stroke-opacity:1' />\n<path class='bond-0' d='M 202.927,151.902 L 121.485,104.881' style='fill:none;fill-rule:evenodd;stroke:#000000;stroke-width:2.0px;stroke-linecap:butt;stroke-linejoin:miter;stroke-opacity:1' />\n<path class='bond-0' d='M 121.485,104.881 L 40.0427,57.8607' style='fill:none;fill-rule:evenodd;stroke:#FF0000;stroke-width:2.0px;stroke-linecap:butt;stroke-linejoin:miter;stroke-opacity:1' />\n<path class='bond-1' d='M 213.384,133.791 L 294.826,86.7701' style='fill:none;fill-rule:evenodd;stroke:#000000;stroke-width:2.0px;stroke-linecap:butt;stroke-linejoin:miter;stroke-opacity:1' />\n<path class='bond-1' d='M 294.826,86.7701 L 376.268,39.7495' style='fill:none;fill-rule:evenodd;stroke:#FF0000;stroke-width:2.0px;stroke-linecap:butt;stroke-linejoin:miter;stroke-opacity:1' />\n<path  class='atom-1' d='M 19.2709 29.3054\nQ 19.2709 22.5054, 22.6309 18.7054\nQ 25.9909 14.9054, 32.2709 14.9054\nQ 38.5509 14.9054, 41.9109 18.7054\nQ 45.2709 22.5054, 45.2709 29.3054\nQ 45.2709 36.1854, 41.8709 40.1054\nQ 38.4709 43.9854, 32.2709 43.9854\nQ 26.0309 43.9854, 22.6309 40.1054\nQ 19.2709 36.2254, 19.2709 29.3054\nM 32.2709 40.7854\nQ 36.5909 40.7854, 38.9109 37.9054\nQ 41.2709 34.9854, 41.2709 29.3054\nQ 41.2709 23.7454, 38.9109 20.9454\nQ 36.5909 18.1054, 32.2709 18.1054\nQ 27.9509 18.1054, 25.5909 20.9054\nQ 23.2709 23.7054, 23.2709 29.3054\nQ 23.2709 35.0254, 25.5909 37.9054\nQ 27.9509 40.7854, 32.2709 40.7854\n' fill='#FF0000'/>\n<path  class='atom-2' d='M 381.496 29.3054\nQ 381.496 22.5054, 384.856 18.7054\nQ 388.216 14.9054, 394.496 14.9054\nQ 400.776 14.9054, 404.136 18.7054\nQ 407.496 22.5054, 407.496 29.3054\nQ 407.496 36.1854, 404.096 40.1054\nQ 400.696 43.9854, 394.496 43.9854\nQ 388.256 43.9854, 384.856 40.1054\nQ 381.496 36.2254, 381.496 29.3054\nM 394.496 40.7854\nQ 398.816 40.7854, 401.136 37.9054\nQ 403.496 34.9854, 403.496 29.3054\nQ 403.496 23.7454, 401.136 20.9454\nQ 398.816 18.1054, 394.496 18.1054\nQ 390.176 18.1054, 387.816 20.9054\nQ 385.496 23.7054, 385.496 29.3054\nQ 385.496 35.0254, 387.816 37.9054\nQ 390.176 40.7854, 394.496 40.7854\n' fill='#FF0000'/>\n<path  class='atom-2' d='M 410.896 15.2254\nL 414.736 15.2254\nL 414.736 27.2654\nL 429.216 27.2654\nL 429.216 15.2254\nL 433.056 15.2254\nL 433.056 43.5454\nL 429.216 43.5454\nL 429.216 30.4654\nL 414.736 30.4654\nL 414.736 43.5454\nL 410.896 43.5454\nL 410.896 15.2254\n' fill='#FF0000'/>\n</svg>\n"
          },
          "metadata": {
            "tags": []
          },
          "execution_count": 103
        }
      ]
    },
    {
      "cell_type": "markdown",
      "metadata": {
        "id": "91VDwwGX6p9R"
      },
      "source": [
        "Mostly when we representing compounds to graph, we represent atoms as nodes and chemical bonds as edges.\n",
        "\n",
        "\n",
        "*   Atom features\n",
        "\n",
        "|    Node Features  |   Elements|\n",
        "|------|------|\n",
        "|   atom  | C, O, N, S, F, Cl, Br, ..,  etc| \n",
        "|   Formal Charge  | -1, 0, +1| \n",
        "|   Implicit H  | 0, 1, 2 ,3 , 4, 5, 6|\n",
        "|   Chirality  | None, S, R| \n",
        "|   Degree of Atom  | topological feature|\n",
        "|   etc.  | etc. |\n",
        "\n",
        "*   Edge features\n",
        "\n",
        "\n",
        "|    Bond Features  |   Elements|\n",
        "|------|------|\n",
        "|   Bond Types  | Single, Double, Triple, Aromatic, ..,  etc| \n",
        "|   etc.  | etc. |\n",
        "\n",
        "\n",
        "---\n",
        "<p align=\"center\">\n",
        "  <img src=\"https://drive.google.com/uc?id=10iiTNDL9CyCP1Nnq_S4cWr5AEJPehShZ\" />\n",
        "</p>"
      ]
    },
    {
      "cell_type": "markdown",
      "metadata": {
        "id": "gDoO0KL2nE01"
      },
      "source": [
        "## **2.2 Compound to Graph by using external libraries**\n",
        "\n"
      ]
    },
    {
      "cell_type": "markdown",
      "metadata": {
        "id": "1Z4fq6RY5mE9"
      },
      "source": [
        "**External Libraries**\n",
        "\n",
        "---\n",
        "\n",
        "\n",
        "1.   [DGL - pytorch, mxnet](https://github.com/dmlc/dgl) - **dgllife**\n",
        "2.   [Geometric - pytorch](https://pytorch-geometric.readthedocs.io/en/latest/)\n",
        "3.   [Spektral - tensorflow](https://github.com/danielegrattarola/spektral)\n",
        "\n",
        "Most of external libraries uses built-in node and edge featurizer functions to represent atom and edge features of compounds. To represent compounds to graph following steps are usually followed.\n",
        "\n",
        "\n",
        "1.   Atom Representation by built-in NodeFeaturizer function \n",
        "2.   Bond Representation by built-in EdgeFeaturizer function\n",
        "3.   Built-in Graph construction with node and edge representation\n",
        "\n",
        "\n",
        "\n",
        "\n"
      ]
    },
    {
      "cell_type": "code",
      "metadata": {
        "id": "WHd4a00I5Wzo"
      },
      "source": [
        "# let`s start with dgl-life library\n",
        "from dgllife.utils import CanonicalAtomFeaturizer, CanonicalBondFeaturizer\n",
        "\n",
        "\"\"\"\n",
        "dgllife library provides built-in featurization package for chemicals\n",
        "    BaseAtomFeaturizer, BaseBondFeaturizer\n",
        "    CanonicalAtomFeaturizer, CanonicalBondFeaturizer -> default \n",
        "    WeaveAtomFeaturizer, WeaveBondFeaturizer -> Steven et. al. 2016\n",
        "    PreTrainAtomFeaturizer, PreTrain -> Weihua Hu et. al. 2019\n",
        "    AttentiveFPAtomFeaturizer, AttentiveFPBondFeaturizer -> Zhaoping Xiong et. al. 2019\n",
        "\"\"\"\n",
        "\n",
        "# calling built-ing node and bond representation\n",
        "atom_featurizer = CanonicalAtomFeaturizer('atom_feat')\n",
        "edge_featurizer = CanonicalBondFeaturizer('edge_feat')"
      ],
      "execution_count": 104,
      "outputs": []
    },
    {
      "cell_type": "code",
      "metadata": {
        "colab": {
          "base_uri": "https://localhost:8080/",
          "height": 171
        },
        "id": "p1kObyqe85xh",
        "outputId": "58dc670e-6e17-475e-bffe-e83f71027777"
      },
      "source": [
        "mol"
      ],
      "execution_count": 105,
      "outputs": [
        {
          "output_type": "execute_result",
          "data": {
            "image/png": "[encoded data removed]",
            "text/plain": [
              "<rdkit.Chem.rdchem.Mol at 0x7f9e452bf440>"
            ],
            "image/svg+xml": "<?xml version='1.0' encoding='iso-8859-1'?>\n<svg version='1.1' baseProfile='full'\n              xmlns='http://www.w3.org/2000/svg'\n                      xmlns:rdkit='http://www.rdkit.org/xml'\n                      xmlns:xlink='http://www.w3.org/1999/xlink'\n                  xml:space='preserve'\nwidth='450px' height='150px' viewBox='0 0 450 150'>\n<!-- END OF HEADER -->\n<rect style='opacity:1.0;fill:#FFFFFF;stroke:none' width='450' height='150' x='0' y='0'> </rect>\n<path class='bond-0' d='M 223.84,115.68 L 142.398,68.6589' style='fill:none;fill-rule:evenodd;stroke:#000000;stroke-width:2.0px;stroke-linecap:butt;stroke-linejoin:miter;stroke-opacity:1' />\n<path class='bond-0' d='M 142.398,68.6589 L 60.9557,21.6382' style='fill:none;fill-rule:evenodd;stroke:#FF0000;stroke-width:2.0px;stroke-linecap:butt;stroke-linejoin:miter;stroke-opacity:1' />\n<path class='bond-0' d='M 202.927,151.902 L 121.485,104.881' style='fill:none;fill-rule:evenodd;stroke:#000000;stroke-width:2.0px;stroke-linecap:butt;stroke-linejoin:miter;stroke-opacity:1' />\n<path class='bond-0' d='M 121.485,104.881 L 40.0427,57.8607' style='fill:none;fill-rule:evenodd;stroke:#FF0000;stroke-width:2.0px;stroke-linecap:butt;stroke-linejoin:miter;stroke-opacity:1' />\n<path class='bond-1' d='M 213.384,133.791 L 294.826,86.7701' style='fill:none;fill-rule:evenodd;stroke:#000000;stroke-width:2.0px;stroke-linecap:butt;stroke-linejoin:miter;stroke-opacity:1' />\n<path class='bond-1' d='M 294.826,86.7701 L 376.268,39.7495' style='fill:none;fill-rule:evenodd;stroke:#FF0000;stroke-width:2.0px;stroke-linecap:butt;stroke-linejoin:miter;stroke-opacity:1' />\n<path  class='atom-1' d='M 19.2709 29.3054\nQ 19.2709 22.5054, 22.6309 18.7054\nQ 25.9909 14.9054, 32.2709 14.9054\nQ 38.5509 14.9054, 41.9109 18.7054\nQ 45.2709 22.5054, 45.2709 29.3054\nQ 45.2709 36.1854, 41.8709 40.1054\nQ 38.4709 43.9854, 32.2709 43.9854\nQ 26.0309 43.9854, 22.6309 40.1054\nQ 19.2709 36.2254, 19.2709 29.3054\nM 32.2709 40.7854\nQ 36.5909 40.7854, 38.9109 37.9054\nQ 41.2709 34.9854, 41.2709 29.3054\nQ 41.2709 23.7454, 38.9109 20.9454\nQ 36.5909 18.1054, 32.2709 18.1054\nQ 27.9509 18.1054, 25.5909 20.9054\nQ 23.2709 23.7054, 23.2709 29.3054\nQ 23.2709 35.0254, 25.5909 37.9054\nQ 27.9509 40.7854, 32.2709 40.7854\n' fill='#FF0000'/>\n<path  class='atom-2' d='M 381.496 29.3054\nQ 381.496 22.5054, 384.856 18.7054\nQ 388.216 14.9054, 394.496 14.9054\nQ 400.776 14.9054, 404.136 18.7054\nQ 407.496 22.5054, 407.496 29.3054\nQ 407.496 36.1854, 404.096 40.1054\nQ 400.696 43.9854, 394.496 43.9854\nQ 388.256 43.9854, 384.856 40.1054\nQ 381.496 36.2254, 381.496 29.3054\nM 394.496 40.7854\nQ 398.816 40.7854, 401.136 37.9054\nQ 403.496 34.9854, 403.496 29.3054\nQ 403.496 23.7454, 401.136 20.9454\nQ 398.816 18.1054, 394.496 18.1054\nQ 390.176 18.1054, 387.816 20.9054\nQ 385.496 23.7054, 385.496 29.3054\nQ 385.496 35.0254, 387.816 37.9054\nQ 390.176 40.7854, 394.496 40.7854\n' fill='#FF0000'/>\n<path  class='atom-2' d='M 410.896 15.2254\nL 414.736 15.2254\nL 414.736 27.2654\nL 429.216 27.2654\nL 429.216 15.2254\nL 433.056 15.2254\nL 433.056 43.5454\nL 429.216 43.5454\nL 429.216 30.4654\nL 414.736 30.4654\nL 414.736 43.5454\nL 410.896 43.5454\nL 410.896 15.2254\n' fill='#FF0000'/>\n</svg>\n"
          },
          "metadata": {
            "tags": []
          },
          "execution_count": 105
        }
      ]
    },
    {
      "cell_type": "markdown",
      "metadata": {
        "id": "WV5N1Yg095QX"
      },
      "source": [
        "### **2.2.1 Atom Representation**"
      ]
    },
    {
      "cell_type": "code",
      "metadata": {
        "colab": {
          "base_uri": "https://localhost:8080/"
        },
        "id": "RH8ldZRz8yKG",
        "outputId": "d56eb530-d5b1-49e5-f441-6d5a49ae69ef"
      },
      "source": [
        "atom_representation = atom_featurizer(mol)\n",
        "atom_representation\n"
      ],
      "execution_count": 106,
      "outputs": [
        {
          "output_type": "execute_result",
          "data": {
            "text/plain": [
              "{'atom_feat': tensor([[1., 0., 0., 0., 0., 0., 0., 0., 0., 0., 0., 0., 0., 0., 0., 0., 0., 0.,\n",
              "          0., 0., 0., 0., 0., 0., 0., 0., 0., 0., 0., 0., 0., 0., 0., 0., 0., 0.,\n",
              "          0., 0., 0., 0., 0., 0., 0., 0., 0., 1., 0., 0., 0., 0., 0., 0., 0., 0.,\n",
              "          0., 1., 0., 0., 0., 0., 0., 0., 0., 0., 1., 0., 0., 0., 0., 0., 1., 0.,\n",
              "          0., 0.],\n",
              "         [0., 0., 1., 0., 0., 0., 0., 0., 0., 0., 0., 0., 0., 0., 0., 0., 0., 0.,\n",
              "          0., 0., 0., 0., 0., 0., 0., 0., 0., 0., 0., 0., 0., 0., 0., 0., 0., 0.,\n",
              "          0., 0., 0., 0., 0., 0., 0., 0., 1., 0., 0., 0., 0., 0., 0., 0., 0., 0.,\n",
              "          1., 0., 0., 0., 0., 0., 0., 0., 0., 0., 1., 0., 0., 0., 0., 1., 0., 0.,\n",
              "          0., 0.],\n",
              "         [0., 0., 1., 0., 0., 0., 0., 0., 0., 0., 0., 0., 0., 0., 0., 0., 0., 0.,\n",
              "          0., 0., 0., 0., 0., 0., 0., 0., 0., 0., 0., 0., 0., 0., 0., 0., 0., 0.,\n",
              "          0., 0., 0., 0., 0., 0., 0., 0., 1., 0., 0., 0., 0., 0., 0., 0., 0., 0.,\n",
              "          0., 1., 0., 0., 0., 0., 0., 0., 0., 0., 1., 0., 0., 0., 0., 0., 1., 0.,\n",
              "          0., 0.]])}"
            ]
          },
          "metadata": {
            "tags": []
          },
          "execution_count": 106
        }
      ]
    },
    {
      "cell_type": "code",
      "metadata": {
        "colab": {
          "base_uri": "https://localhost:8080/"
        },
        "id": "pTetIZRU8222",
        "outputId": "1f1a03a1-f61f-4fe9-9f2b-78a2bccc4af4"
      },
      "source": [
        "atom_representation['atom_feat'].size()"
      ],
      "execution_count": 107,
      "outputs": [
        {
          "output_type": "execute_result",
          "data": {
            "text/plain": [
              "torch.Size([3, 74])"
            ]
          },
          "metadata": {
            "tags": []
          },
          "execution_count": 107
        }
      ]
    },
    {
      "cell_type": "markdown",
      "metadata": {
        "id": "SgPLnzUVS3B7"
      },
      "source": [
        "### **2.2.2 Edge Representation**"
      ]
    },
    {
      "cell_type": "code",
      "metadata": {
        "colab": {
          "base_uri": "https://localhost:8080/"
        },
        "id": "AAnLD1Fw9Udw",
        "outputId": "7a3d2afb-59de-4abf-8603-b10b67410389"
      },
      "source": [
        "edge_representation = edge_featurizer(mol)\n",
        "edge_representation"
      ],
      "execution_count": 109,
      "outputs": [
        {
          "output_type": "execute_result",
          "data": {
            "text/plain": [
              "{'edge_feat': tensor([[0., 1., 0., 0., 1., 0., 1., 0., 0., 0., 0., 0.],\n",
              "         [0., 1., 0., 0., 1., 0., 1., 0., 0., 0., 0., 0.],\n",
              "         [1., 0., 0., 0., 1., 0., 1., 0., 0., 0., 0., 0.],\n",
              "         [1., 0., 0., 0., 1., 0., 1., 0., 0., 0., 0., 0.]])}"
            ]
          },
          "metadata": {
            "tags": []
          },
          "execution_count": 109
        }
      ]
    },
    {
      "cell_type": "code",
      "metadata": {
        "colab": {
          "base_uri": "https://localhost:8080/"
        },
        "id": "Jlai6Sgs9rmY",
        "outputId": "88048c12-1b7b-495b-d284-8b0f44c8ed2e"
      },
      "source": [
        "edge_representation['edge_feat'].size()"
      ],
      "execution_count": 110,
      "outputs": [
        {
          "output_type": "execute_result",
          "data": {
            "text/plain": [
              "torch.Size([4, 12])"
            ]
          },
          "metadata": {
            "tags": []
          },
          "execution_count": 110
        }
      ]
    },
    {
      "cell_type": "markdown",
      "metadata": {
        "id": "lYWaS8KkTgg6"
      },
      "source": [
        "### **2.2.3 Compound to Graph**\n",
        "\n",
        "\n",
        "\n",
        "*   Graph from SMILE with pre-defined node and edge featurizer\n",
        "*   Graph from MOL (rdkit) with pre-defined node and edge featurizer\n",
        "\n"
      ]
    },
    {
      "cell_type": "code",
      "metadata": {
        "id": "CXQUdoxGTfsB"
      },
      "source": [
        "# let`s start with dgl-life library\n",
        "from dgllife.utils import smiles_to_bigraph, mol_to_bigraph\n",
        "\n",
        "smile = 'C(=O)O' # formic \n",
        "mol = Chem.MolFromSmiles(smile)\n",
        "\n"
      ],
      "execution_count": 111,
      "outputs": []
    },
    {
      "cell_type": "code",
      "metadata": {
        "id": "heo3sRRMUk-Z"
      },
      "source": [
        "# graph from smiles\n",
        "g_from_smiles = smiles_to_bigraph(smile, \n",
        "                                  node_featurizer=atom_featurizer,\n",
        "                                  edge_featurizer=edge_featurizer,\n",
        "                                  )"
      ],
      "execution_count": 112,
      "outputs": []
    },
    {
      "cell_type": "code",
      "metadata": {
        "colab": {
          "base_uri": "https://localhost:8080/"
        },
        "id": "3Hy5iEDQUn_Q",
        "outputId": "72a30c6d-bd7c-4a58-e747-67fc1e1e4ca8"
      },
      "source": [
        "g_from_smiles"
      ],
      "execution_count": 113,
      "outputs": [
        {
          "output_type": "execute_result",
          "data": {
            "text/plain": [
              "Graph(num_nodes=3, num_edges=4,\n",
              "      ndata_schemes={'atom_feat': Scheme(shape=(74,), dtype=torch.float32)}\n",
              "      edata_schemes={'edge_feat': Scheme(shape=(12,), dtype=torch.float32)})"
            ]
          },
          "metadata": {
            "tags": []
          },
          "execution_count": 113
        }
      ]
    },
    {
      "cell_type": "code",
      "metadata": {
        "id": "LaM631qfWHCy"
      },
      "source": [
        "# graph from mol\n",
        "g_from_mol = mol_to_bigraph(mol, \n",
        "                            node_featurizer=atom_featurizer,\n",
        "                            edge_featurizer=edge_featurizer,\n",
        "                            )"
      ],
      "execution_count": 114,
      "outputs": []
    },
    {
      "cell_type": "code",
      "metadata": {
        "colab": {
          "base_uri": "https://localhost:8080/"
        },
        "id": "qVldbETYWZv6",
        "outputId": "c092efa8-2d2e-43b0-c363-2cbf71d996ef"
      },
      "source": [
        "g_from_mol"
      ],
      "execution_count": 115,
      "outputs": [
        {
          "output_type": "execute_result",
          "data": {
            "text/plain": [
              "Graph(num_nodes=3, num_edges=4,\n",
              "      ndata_schemes={'atom_feat': Scheme(shape=(74,), dtype=torch.float32)}\n",
              "      edata_schemes={'edge_feat': Scheme(shape=(12,), dtype=torch.float32)})"
            ]
          },
          "metadata": {
            "tags": []
          },
          "execution_count": 115
        }
      ]
    },
    {
      "cell_type": "code",
      "metadata": {
        "colab": {
          "base_uri": "https://localhost:8080/"
        },
        "id": "amDD-yfzWdal",
        "outputId": "e6bd5b9a-dfb1-4347-b1cf-431e678b6097"
      },
      "source": [
        "g_from_mol.ndata['atom_feat'], g_from_mol.ndata['atom_feat'].size()"
      ],
      "execution_count": 117,
      "outputs": [
        {
          "output_type": "execute_result",
          "data": {
            "text/plain": [
              "(tensor([[0., 0., 1., 0., 0., 0., 0., 0., 0., 0., 0., 0., 0., 0., 0., 0., 0., 0.,\n",
              "          0., 0., 0., 0., 0., 0., 0., 0., 0., 0., 0., 0., 0., 0., 0., 0., 0., 0.,\n",
              "          0., 0., 0., 0., 0., 0., 0., 0., 1., 0., 0., 0., 0., 0., 0., 0., 0., 0.,\n",
              "          0., 1., 0., 0., 0., 0., 0., 0., 0., 0., 1., 0., 0., 0., 0., 0., 1., 0.,\n",
              "          0., 0.],\n",
              "         [1., 0., 0., 0., 0., 0., 0., 0., 0., 0., 0., 0., 0., 0., 0., 0., 0., 0.,\n",
              "          0., 0., 0., 0., 0., 0., 0., 0., 0., 0., 0., 0., 0., 0., 0., 0., 0., 0.,\n",
              "          0., 0., 0., 0., 0., 0., 0., 0., 0., 1., 0., 0., 0., 0., 0., 0., 0., 0.,\n",
              "          0., 1., 0., 0., 0., 0., 0., 0., 0., 0., 1., 0., 0., 0., 0., 0., 1., 0.,\n",
              "          0., 0.],\n",
              "         [0., 0., 1., 0., 0., 0., 0., 0., 0., 0., 0., 0., 0., 0., 0., 0., 0., 0.,\n",
              "          0., 0., 0., 0., 0., 0., 0., 0., 0., 0., 0., 0., 0., 0., 0., 0., 0., 0.,\n",
              "          0., 0., 0., 0., 0., 0., 0., 0., 1., 0., 0., 0., 0., 0., 0., 0., 0., 0.,\n",
              "          1., 0., 0., 0., 0., 0., 0., 0., 0., 0., 1., 0., 0., 0., 0., 1., 0., 0.,\n",
              "          0., 0.]]), torch.Size([3, 74]))"
            ]
          },
          "metadata": {
            "tags": []
          },
          "execution_count": 117
        }
      ]
    },
    {
      "cell_type": "code",
      "metadata": {
        "colab": {
          "base_uri": "https://localhost:8080/"
        },
        "id": "KrjRzZP2WqbF",
        "outputId": "33867295-17a1-4381-8f32-427e33cffcc0"
      },
      "source": [
        "g_from_mol.edata['edge_feat'], g_from_mol.edata['edge_feat'].size()"
      ],
      "execution_count": 116,
      "outputs": [
        {
          "output_type": "execute_result",
          "data": {
            "text/plain": [
              "(tensor([[0., 1., 0., 0., 1., 0., 1., 0., 0., 0., 0., 0.],\n",
              "         [0., 1., 0., 0., 1., 0., 1., 0., 0., 0., 0., 0.],\n",
              "         [1., 0., 0., 0., 1., 0., 1., 0., 0., 0., 0., 0.],\n",
              "         [1., 0., 0., 0., 1., 0., 1., 0., 0., 0., 0., 0.]]),\n",
              " torch.Size([4, 12]))"
            ]
          },
          "metadata": {
            "tags": []
          },
          "execution_count": 116
        }
      ]
    },
    {
      "cell_type": "markdown",
      "metadata": {
        "id": "5Gg1l5apMSd-"
      },
      "source": [
        " ## **2.3 Understanding Featurization**\n",
        "\n",
        ">  The CanonicalAtomFeaturizer function includes following features:\n",
        "\n",
        "*   Atom_features: **43 types**\n",
        "    * [\"C\", \"N\", \"O\", \"S\", \"F\", \"Si\", \"P\", \"Cl\", \"Br\", \"Mg\",\n",
        "     \"Na\", \"Ca\", \"Fe\", \"As\", \"Al\", \"I\", \"B\", \"V\", \"K\", \"Tl\",\n",
        "     \"Yb\", \"Sb\", \"Sn\", \"Ag\", \"Pd\", \"Co\", \"Se\", \"Ti\", \"Zn\",\n",
        "     \"H\", \"Li\", \"Ge\", \"Cu\", \"Au\", \"Ni\", \"Cd\", \"In\", \"Mn\", \"Zr\",\n",
        "     \"Cr\", \"Pt\", \"Hg\", \"Pb\"]\n",
        "*   Atom degree: **10 types**\n",
        "    * 0-10\n",
        "*   ImplicitH: **6 types**\n",
        "    * 0-6\n",
        "*   Formal Charges: **4 types**\n",
        "*   Atom hybridization: **5 types**\n",
        "    * \"SP\", \"SP2\", \"SP3\", \"SP3D\", \"SP3D2\".\n",
        "*   Is Aromatic (boolean): **2 types**\n",
        "    * True, False\n",
        "*   Total Hs on the atom: **4 types**\n",
        "    * 0-4\n",
        "\n",
        "<font color='red'>TOTAL NODE FEATURES = 43 + 10 + 6 + 4 + 5 + 2 + 4 = 74</font>\n",
        "---\n",
        "\n",
        "> The CanonicalEdgeFeaturizer includes following features:\n",
        "\n",
        "*   Bond type: **4 types**\n",
        "    * Single, Double, Triple, Aromatic\n",
        "*   Whether bond is in a ring of any size: **2 types**\n",
        "    * boolean (True, False)\n",
        "*   Stereo configuration of bond: **6 types**\n",
        "    * 'STEREONONE', 'STEREOANY', 'STEREOZ', 'STEREOE',\n",
        "      'STEREOCIS', 'STEREOTRANS'\n",
        "\n",
        "\n",
        "<font color='red'>TOTAL EDGE FEATURES = 4 + 2 + 6 = 12</font>\n",
        "---\n",
        "\n",
        "**Featurization is different for each papers.**\n",
        "> AttentiveFP Featurizer  (Zhaoping Xiong et. al. 2019):\n",
        "\n",
        "* `B``, ``C``, ``N``, ``O``, ``F``, ``Si``, ``P``, ``S``, ``Cl``, ``As``, ``Se``, ``Br``, ``Te``, ``I``, ``At``, and ``other``.\n",
        "* atom degree: 0-5\n",
        "* etc (mostly same with above).\n",
        "----\n",
        "\n"
      ]
    },
    {
      "cell_type": "markdown",
      "metadata": {
        "id": "EcmzHArzMULq"
      },
      "source": [
        "**Most of time you will use external libraries, however sometimes there are some issues**\n",
        "\n",
        "\n",
        "*   it is over engineered and hard to understand\n",
        "*   based on your objectives and infrastructure, sometimes you do not need sparse feature representation (e.g: de novo drug design)\n",
        "*   in data science (ML), you need to fully understand what you doing (no black box)\n",
        "\n",
        "> **WHAT I CAN NOT CREATE, I DO NOT UNDERSTAND**\n",
        ">> Richard Feynman\n",
        "\n",
        "**SO it is better to write your own featurizers**\n"
      ]
    },
    {
      "cell_type": "markdown",
      "metadata": {
        "id": "g2OkwC4HW324"
      },
      "source": [
        "## **2.4 Writing Your Own Representation from Stratch**\n",
        "\n",
        "### **Goal**\n",
        "To create your own graph representation of chemicals from stratch.\n",
        "### **Learning Objectives**\n",
        "1. Node Representation from stratch\n",
        "2. Edge Representation from stratch\n",
        "3. Creating graph with your own node and edge featurizers"
      ]
    },
    {
      "cell_type": "markdown",
      "metadata": {
        "id": "z0vHRKS-XU1J"
      },
      "source": [
        "### **2.4.1 Node Representation from Stratch**\n",
        "\n",
        "Let`s start with simple atom features\n",
        "\n",
        "## Seleted Atom Features\n",
        "---\n",
        "\n",
        "|    Node Features  |   Elements|\n",
        "|------|------|\n",
        "|   atom  | C, O, N, S, F, Cl, Br, ..,  etc| \n",
        "|   Formal Charge  | -1, 0, +1| \n",
        "|   Implicit H  | 0, 1, 2 ,3 , 4, 5, 6|\n",
        "|   Chirality  | None, S, R| \n",
        "|   Degree of Atom  | topological feature|\n",
        "|   etc.  | etc. |\n"
      ]
    },
    {
      "cell_type": "markdown",
      "metadata": {
        "id": "v1dvdH4Wsm2f"
      },
      "source": [
        "\n",
        "You will begin by constructing graph from stratch and by defining atom features into .\n",
        "* Define atom level features\n",
        "* Define encoder that encodes features into one-hot-feature vector\n",
        "* Define featurizer class\n",
        "\n",
        "\n",
        "---\n",
        "<details>\n",
        "<summary>\n",
        "<font size=\"3\" color=\"green\">\n",
        "<b>Optional hints for python <code><font size=\"4\">enum class</font></code></b>\n",
        "</font>\n",
        "</summary>\n",
        "\n",
        "1. An enumeration is a set of symbolic names (members) bound to unique, constant values.\n",
        "2. More readable and easy to get value by name\n",
        "3. Easier deployment and microservices communcation\n",
        "4. See more about python enum class [here](https://docs.python.org/3/library/enum.html)\n",
        "</details>"
      ]
    },
    {
      "cell_type": "code",
      "metadata": {
        "id": "U8KfAsBSXBjX"
      },
      "source": [
        "from enum import Enum, unique\n",
        "\n",
        "\n",
        "# creating atom types class\n",
        "@unique\n",
        "class Atoms(Enum):\n",
        "    CARBON = 'C'\n",
        "    OXYGEN = 'O'\n",
        "    NITROGEN = 'N'\n",
        "    SULFUR = 'S'\n",
        "    FLOURINE = 'F'\n",
        "    CHLORINE = 'Cl'\n",
        "    BROMINE = 'Br'\n",
        "    # you can add based on your research\n",
        "    # SODIUM = 'Na'\n",
        "\n",
        "# creating atom charges\n",
        "@unique\n",
        "class Charges(Enum):\n",
        "    MINUS = -1\n",
        "    ZERO = 0\n",
        "    PLUS = 1\n",
        "\n",
        "# creating atom chirality\n",
        "@unique\n",
        "class Chirality(Enum):\n",
        "    NONE = 'None'\n",
        "    S = 'S'\n",
        "    R = 'R'\n",
        "\n",
        "# creating atom charges\n",
        "@unique\n",
        "class ImplicitH(Enum):\n",
        "    SINGLE = 0\n",
        "    DOUBLE = 1\n",
        "    TRIPLE = 2\n",
        "\n",
        "# creating own atom features\n",
        "@unique\n",
        "class YourOwnFeatures(Enum):\n",
        "    NotImplemented\n",
        "\n",
        "\n",
        "# chosen list\n",
        "atom_list = [atom.value for atom in Atoms]\n",
        "charge_list = [charge.value for charge in Charges]\n",
        "chiralirty_list = [c.value for c in Chirality]\n",
        "impH_list = [impH.value for impH in ImplicitH]\n",
        "\n"
      ],
      "execution_count": 162,
      "outputs": []
    },
    {
      "cell_type": "code",
      "metadata": {
        "colab": {
          "base_uri": "https://localhost:8080/"
        },
        "id": "Z1XNMwxGuScc",
        "outputId": "4c110301-86fe-4961-c1a7-b38217d1c802"
      },
      "source": [
        "atom_list, charge_list, chiralirty_list, impH_list"
      ],
      "execution_count": 163,
      "outputs": [
        {
          "output_type": "execute_result",
          "data": {
            "text/plain": [
              "(['C', 'O', 'N', 'S', 'F', 'Cl', 'Br'],\n",
              " [-1, 0, 1],\n",
              " ['None', 'S', 'R'],\n",
              " [0, 1, 2])"
            ]
          },
          "metadata": {
            "tags": []
          },
          "execution_count": 163
        }
      ]
    },
    {
      "cell_type": "markdown",
      "metadata": {
        "id": "qkpOwbFPuh6e"
      },
      "source": [
        "**OHE ENCODER**"
      ]
    },
    {
      "cell_type": "code",
      "metadata": {
        "id": "33gVNC2xuWE-"
      },
      "source": [
        "from typing import Any, List\n",
        "## one hot encoder function\n",
        "def to_ohe(x: Any, _list: List) -> List:\n",
        "    \"\"\"\n",
        "        Atom feature encoder\n",
        "\n",
        "        Parameters:\n",
        "        -----------\n",
        "        x: Any \n",
        "            any atom feature type\n",
        "        _list: List\n",
        "            atom feature types \n",
        "\n",
        "        return: List\n",
        "        ------\n",
        "            one hot feature boolean vector\n",
        "    \"\"\"\n",
        "    return list(map(lambda s: x ==s, _list))"
      ],
      "execution_count": 164,
      "outputs": []
    },
    {
      "cell_type": "code",
      "metadata": {
        "colab": {
          "base_uri": "https://localhost:8080/"
        },
        "id": "WSBL-UEJu9Ve",
        "outputId": "88bc797a-05ba-4aac-9c45-39e479166823"
      },
      "source": [
        "print(atom_list)\n",
        "to_ohe('C', atom_list)"
      ],
      "execution_count": 165,
      "outputs": [
        {
          "output_type": "stream",
          "text": [
            "['C', 'O', 'N', 'S', 'F', 'Cl', 'Br']\n"
          ],
          "name": "stdout"
        },
        {
          "output_type": "execute_result",
          "data": {
            "text/plain": [
              "[True, False, False, False, False, False, False]"
            ]
          },
          "metadata": {
            "tags": []
          },
          "execution_count": 165
        }
      ]
    },
    {
      "cell_type": "markdown",
      "metadata": {
        "id": "vfoOfRxovoMO"
      },
      "source": [
        "#### **Version 1**\n",
        "**BASE NODE REPRESENTATION CLASS**\n",
        "\n",
        "*   4 arguments with default values\n",
        "\n",
        "    * atom = ['C', 'O', 'N', 'S', 'F', 'Cl', 'Br']\n",
        "    * charges = [-1, 0, 1]\n",
        "    * implicit_h = \n",
        "\n",
        "*   self __call__ function\n",
        "*   4 different atom feature encoder function\n",
        "\n"
      ]
    },
    {
      "cell_type": "code",
      "metadata": {
        "id": "4-7RkWgdvbiY"
      },
      "source": [
        "from dataclasses import dataclass, field\n",
        "from typing import List\n",
        "from rdkit import Chem\n",
        "\n",
        "# define new type (rdkit library mol type) and lets name it as MOLTYPE\n",
        "MOLTYPE = Chem.rdchem.Mol\n",
        "\n",
        "\n",
        "# defining node representation class\n",
        "@dataclass\n",
        "class NodeFeaturizer_V1:\n",
        "    \"\"\"\n",
        "    Tutorial NodeFeaturizer Class (version 1)\n",
        "\n",
        "    Arguments:\n",
        "    ---------\n",
        "    atoms: List\n",
        "        list contains atom types specifically chosen for this tutorial\n",
        "    charges: List\n",
        "        list contains formal charges values\n",
        "    implicit_h: List\n",
        "        list contains implicit_h values\n",
        "    chirality: List\n",
        "        list contains chirality\n",
        "    \"\"\"\n",
        "\n",
        "    atoms: List = field(default_factory=lambda: atom_list)\n",
        "    charges: List = field(default_factory=lambda: charge_list)\n",
        "    implicit_h: List = field(default_factory=lambda: impH_list)\n",
        "    chirality: List = field(default_factory=lambda: chiralirty_list) \n",
        "\n",
        "    def __call__(self, mol: MOLTYPE):\n",
        "        # instance self calling function\n",
        "\n",
        "        if mol:\n",
        "            nodes = mol.GetNumAtoms()\n",
        "\n",
        "            return nodes\n",
        "        else:\n",
        "            print(\"You need to enter some mol\")\n",
        "\n",
        "    def node_features_from_atom_type(self, node: Chem.rdchem.Atom) -> List:\n",
        "        # converting atom type features to one hot vector\n",
        "        NotImplemented\n",
        "\n",
        "    def node_features_from_formal_charge(self, node: Chem.rdchem.Atom) -> List:\n",
        "        # converting atom formal charge one hot vector\n",
        "        NotImplemented\n",
        "\n",
        "    def node_features_from_implicit_h(self, node: Chem.rdchem.Atom) -> List:\n",
        "        # converting atom implicit_h to one hot vector\n",
        "        NotImplemented\n",
        "\n",
        "    def node_features_from_chirality(self, node: Chem.rdchem.Atom) -> List:\n",
        "        NotImplemented\n"
      ],
      "execution_count": 166,
      "outputs": []
    },
    {
      "cell_type": "code",
      "metadata": {
        "colab": {
          "base_uri": "https://localhost:8080/"
        },
        "id": "XmzZSmq0yZYn",
        "outputId": "4764dcce-df69-4136-fdd6-79a2bd100f37"
      },
      "source": [
        "# instance initialization\n",
        "foo = NodeFeaturizer_V1()\n",
        "foo"
      ],
      "execution_count": 167,
      "outputs": [
        {
          "output_type": "execute_result",
          "data": {
            "text/plain": [
              "NodeFeaturizer_V1(atoms=['C', 'O', 'N', 'S', 'F', 'Cl', 'Br'], charges=[-1, 0, 1], implicit_h=[0, 1, 2], chirality=['None', 'S', 'R'])"
            ]
          },
          "metadata": {
            "tags": []
          },
          "execution_count": 167
        }
      ]
    },
    {
      "cell_type": "code",
      "metadata": {
        "colab": {
          "base_uri": "https://localhost:8080/"
        },
        "id": "qsNf4FuYycqi",
        "outputId": "6382dd99-eec0-43de-eac2-5470c3723fe5"
      },
      "source": [
        "foo(mol)"
      ],
      "execution_count": 168,
      "outputs": [
        {
          "output_type": "execute_result",
          "data": {
            "text/plain": [
              "3"
            ]
          },
          "metadata": {
            "tags": []
          },
          "execution_count": 168
        }
      ]
    },
    {
      "cell_type": "markdown",
      "metadata": {
        "id": "2ARthfLszNy4"
      },
      "source": [
        "#### **Version 2**\n",
        "IMPROVMENT ON CLASS (Node Features to OHE - one-hot-encoding)\n",
        "let`s improve basic class \n",
        "\n",
        "\n",
        "*   let`s add function to get atom features\n",
        "*   let`s improve '__call__' function \n",
        "\n",
        "\n"
      ]
    },
    {
      "cell_type": "code",
      "metadata": {
        "id": "Ddy5i2k1y8oe"
      },
      "source": [
        "from dataclasses import dataclass, field\n",
        "from typing import List\n",
        "from rdkit import Chem\n",
        "from collections import defaultdict\n",
        "import itertools\n",
        "import numpy as np\n",
        "import dgl.backend as F\n",
        "\n",
        "\n",
        "MOLTYPE = Chem.rdchem.Mol\n",
        "\n",
        "@dataclass\n",
        "class NodeFeaturizer_V2:\n",
        "    \"\"\"\n",
        "    Tutorial NodeFeaturizer Class (version 2)\n",
        "\n",
        "    Arguments:\n",
        "    ---------\n",
        "    atoms: \n",
        "        list contains atom types specifically chosen for this tutorial\n",
        "    charges:\n",
        "        list contains formal charges values\n",
        "    impliciti_h: \n",
        "        list contains implicit_h values\n",
        "    chirality:\n",
        "        list contains chirality\n",
        "    \"\"\"\n",
        "\n",
        "    atoms: List = field(default_factory=lambda: atom_list)\n",
        "    charges: List = field(default_factory=lambda: charge_list)\n",
        "    implicit_h: List = field(default_factory=lambda: impH_list)\n",
        "    chirality: List = field(default_factory=lambda: chiralirty_list)\n",
        "\n",
        "\n",
        "    def __call__(self, mol: MOLTYPE):\n",
        "\n",
        "        if mol:\n",
        "\n",
        "            # nodes = mol.GetNumAtoms()\n",
        "\n",
        "            # return nodes\n",
        "            \n",
        "            features = defaultdict(list)\n",
        "\n",
        "            for node in mol.GetAtoms():\n",
        "                \n",
        "                _iter = itertools.chain(\n",
        "                    self.node_features_from_atom_type(node),\n",
        "                    self.node_features_from_formal_charge(node),\n",
        "                    self.node_features_from_implicit_h(node),\n",
        "                    self.node_features_from_chirality(node)\n",
        "                )\n",
        "                \n",
        "                feature_vector = np.fromiter(_iter, int)\n",
        "\n",
        "                features['node_feats'].append(feature_vector)\n",
        "            \n",
        "            return features\n",
        "\n",
        "        else:\n",
        "            print(\"You need to enter some mol\")\n",
        "\n",
        "\n",
        "    def node_features_from_atom_type(self, node: Chem.rdchem.Atom) -> List:\n",
        "\n",
        "        # converting atom type features to one hot vector\n",
        "\n",
        "        return to_ohe(node.GetSymbol(), self.atoms)\n",
        "\n",
        "    def node_features_from_formal_charge(self, node: Chem.rdchem.Atom) -> List:\n",
        "\n",
        "        # converting atom formal charge feature to one hot vector\n",
        "        return to_ohe(node.GetFormalCharge(), self.charges)\n",
        "\n",
        "    def node_features_from_implicit_h(self, node: Chem.rdchem.Atom) -> List:\n",
        "\n",
        "        # converting implicith feature to one hot vector\n",
        "        return to_ohe(node.GetTotalNumHs(), self.implicit_h)\n",
        "\n",
        "    def node_features_from_chirality(self, node: Chem.rdchem.Atom) -> List:\n",
        "        try:\n",
        "            chiral_state = node.GetProp(\"_CIPCode\")\n",
        "        except KeyError:\n",
        "            chiral_state = self.chirality[0]  # \"None\"\n",
        "\n",
        "        return to_ohe(chiral_state, self.chirality)\n",
        "\n",
        "    ## at home try only one function to encode atom features with NAME\n",
        "    # def node_features_to_ohe(self, node:Chem.rdchem.Atom, name:str) -> List:\n",
        "\n",
        "    #     if name == 'atom_type':\n",
        "    #         return to_ohe(node.GetSymbol(), self.atoms)\n",
        "    #     elif name == 'charge':\n",
        "    #         return to_ohe(node.GetFormalCharge(), self.charge)\n",
        "    #     elif name == 'impH':\n",
        "    #         return to_ohe(node.GetTotalNumberHs(), self.implicit_h)\n",
        "    #     elif name == 'chirality'\n",
        "    #         try:\n",
        "    #             chiral_state = node.GetProp(\"_CIPCode\")\n",
        "    #         except KeyError:\n",
        "    #                 chiral_state = self._chirality[0]  # \"None\"\n",
        "\n",
        "    #         return to_ohe(chiral_state, self.chirality)\n",
        "    #     else:\n",
        "    #         raise ValueError('Not supported type name')\n",
        "     \n",
        "\n",
        "\n",
        "\n"
      ],
      "execution_count": 169,
      "outputs": []
    },
    {
      "cell_type": "code",
      "metadata": {
        "colab": {
          "base_uri": "https://localhost:8080/"
        },
        "id": "lSwkEVSHzADA",
        "outputId": "e4ea6125-fe7f-4a7a-96b2-467387706984"
      },
      "source": [
        "# creating instance from version 2\n",
        "bar = NodeFeaturizer_V2()\n",
        "bar(mol)"
      ],
      "execution_count": 170,
      "outputs": [
        {
          "output_type": "execute_result",
          "data": {
            "text/plain": [
              "defaultdict(list,\n",
              "            {'node_feats': [array([1, 0, 0, 0, 0, 0, 0, 0, 1, 0, 0, 1, 0, 1, 0, 0]),\n",
              "              array([0, 1, 0, 0, 0, 0, 0, 0, 1, 0, 1, 0, 0, 1, 0, 0]),\n",
              "              array([0, 1, 0, 0, 0, 0, 0, 0, 1, 0, 0, 1, 0, 1, 0, 0])]})"
            ]
          },
          "metadata": {
            "tags": []
          },
          "execution_count": 170
        }
      ]
    },
    {
      "cell_type": "code",
      "metadata": {
        "colab": {
          "base_uri": "https://localhost:8080/",
          "height": 171
        },
        "id": "sIfqXAjp1Gp4",
        "outputId": "d6c9a724-b632-478c-ce15-c0471793336e"
      },
      "source": [
        "mol"
      ],
      "execution_count": 171,
      "outputs": [
        {
          "output_type": "execute_result",
          "data": {
            "image/png": "[encoded data removed]",
            "text/plain": [
              "<rdkit.Chem.rdchem.Mol at 0x7f9e44740710>"
            ],
            "image/svg+xml": "<?xml version='1.0' encoding='iso-8859-1'?>\n<svg version='1.1' baseProfile='full'\n              xmlns='http://www.w3.org/2000/svg'\n                      xmlns:rdkit='http://www.rdkit.org/xml'\n                      xmlns:xlink='http://www.w3.org/1999/xlink'\n                  xml:space='preserve'\nwidth='450px' height='150px' viewBox='0 0 450 150'>\n<!-- END OF HEADER -->\n<rect style='opacity:1.0;fill:#FFFFFF;stroke:none' width='450' height='150' x='0' y='0'> </rect>\n<path class='bond-0' d='M 223.84,115.68 L 142.398,68.6589' style='fill:none;fill-rule:evenodd;stroke:#000000;stroke-width:2.0px;stroke-linecap:butt;stroke-linejoin:miter;stroke-opacity:1' />\n<path class='bond-0' d='M 142.398,68.6589 L 60.9557,21.6382' style='fill:none;fill-rule:evenodd;stroke:#FF0000;stroke-width:2.0px;stroke-linecap:butt;stroke-linejoin:miter;stroke-opacity:1' />\n<path class='bond-0' d='M 202.927,151.902 L 121.485,104.881' style='fill:none;fill-rule:evenodd;stroke:#000000;stroke-width:2.0px;stroke-linecap:butt;stroke-linejoin:miter;stroke-opacity:1' />\n<path class='bond-0' d='M 121.485,104.881 L 40.0427,57.8607' style='fill:none;fill-rule:evenodd;stroke:#FF0000;stroke-width:2.0px;stroke-linecap:butt;stroke-linejoin:miter;stroke-opacity:1' />\n<path class='bond-1' d='M 213.384,133.791 L 294.826,86.7701' style='fill:none;fill-rule:evenodd;stroke:#000000;stroke-width:2.0px;stroke-linecap:butt;stroke-linejoin:miter;stroke-opacity:1' />\n<path class='bond-1' d='M 294.826,86.7701 L 376.268,39.7495' style='fill:none;fill-rule:evenodd;stroke:#FF0000;stroke-width:2.0px;stroke-linecap:butt;stroke-linejoin:miter;stroke-opacity:1' />\n<path  class='atom-1' d='M 19.2709 29.3054\nQ 19.2709 22.5054, 22.6309 18.7054\nQ 25.9909 14.9054, 32.2709 14.9054\nQ 38.5509 14.9054, 41.9109 18.7054\nQ 45.2709 22.5054, 45.2709 29.3054\nQ 45.2709 36.1854, 41.8709 40.1054\nQ 38.4709 43.9854, 32.2709 43.9854\nQ 26.0309 43.9854, 22.6309 40.1054\nQ 19.2709 36.2254, 19.2709 29.3054\nM 32.2709 40.7854\nQ 36.5909 40.7854, 38.9109 37.9054\nQ 41.2709 34.9854, 41.2709 29.3054\nQ 41.2709 23.7454, 38.9109 20.9454\nQ 36.5909 18.1054, 32.2709 18.1054\nQ 27.9509 18.1054, 25.5909 20.9054\nQ 23.2709 23.7054, 23.2709 29.3054\nQ 23.2709 35.0254, 25.5909 37.9054\nQ 27.9509 40.7854, 32.2709 40.7854\n' fill='#FF0000'/>\n<path  class='atom-2' d='M 381.496 29.3054\nQ 381.496 22.5054, 384.856 18.7054\nQ 388.216 14.9054, 394.496 14.9054\nQ 400.776 14.9054, 404.136 18.7054\nQ 407.496 22.5054, 407.496 29.3054\nQ 407.496 36.1854, 404.096 40.1054\nQ 400.696 43.9854, 394.496 43.9854\nQ 388.256 43.9854, 384.856 40.1054\nQ 381.496 36.2254, 381.496 29.3054\nM 394.496 40.7854\nQ 398.816 40.7854, 401.136 37.9054\nQ 403.496 34.9854, 403.496 29.3054\nQ 403.496 23.7454, 401.136 20.9454\nQ 398.816 18.1054, 394.496 18.1054\nQ 390.176 18.1054, 387.816 20.9054\nQ 385.496 23.7054, 385.496 29.3054\nQ 385.496 35.0254, 387.816 37.9054\nQ 390.176 40.7854, 394.496 40.7854\n' fill='#FF0000'/>\n<path  class='atom-2' d='M 410.896 15.2254\nL 414.736 15.2254\nL 414.736 27.2654\nL 429.216 27.2654\nL 429.216 15.2254\nL 433.056 15.2254\nL 433.056 43.5454\nL 429.216 43.5454\nL 429.216 30.4654\nL 414.736 30.4654\nL 414.736 43.5454\nL 410.896 43.5454\nL 410.896 15.2254\n' fill='#FF0000'/>\n</svg>\n"
          },
          "metadata": {
            "tags": []
          },
          "execution_count": 171
        }
      ]
    },
    {
      "cell_type": "code",
      "metadata": {
        "colab": {
          "base_uri": "https://localhost:8080/"
        },
        "id": "lpQqWxtQ1c11",
        "outputId": "54869530-428f-468f-f5b9-8648c1006136"
      },
      "source": [
        "print(bar.atoms)\n",
        "print(bar.charges)\n",
        "print(bar.chirality)\n",
        "print(bar.implicit_h)\n",
        "print('------------\\n')\n",
        "print('iteration for each atoms')\n",
        "\n",
        "for node in mol.GetAtoms():\n",
        "    _atom_symbol = node.GetSymbol()\n",
        "    print(_atom_symbol)\n",
        "    features_from_atom = bar.node_features_from_atom_type(node)\n",
        "    print(features_from_atom)\n",
        "    print(np.array(features_from_atom, dtype=np.int))"
      ],
      "execution_count": 172,
      "outputs": [
        {
          "output_type": "stream",
          "text": [
            "['C', 'O', 'N', 'S', 'F', 'Cl', 'Br']\n",
            "[-1, 0, 1]\n",
            "['None', 'S', 'R']\n",
            "[0, 1, 2]\n",
            "------------\n",
            "\n",
            "iteration for each atoms\n",
            "C\n",
            "[True, False, False, False, False, False, False]\n",
            "[1 0 0 0 0 0 0]\n",
            "O\n",
            "[False, True, False, False, False, False, False]\n",
            "[0 1 0 0 0 0 0]\n",
            "O\n",
            "[False, True, False, False, False, False, False]\n",
            "[0 1 0 0 0 0 0]\n"
          ],
          "name": "stdout"
        }
      ]
    },
    {
      "cell_type": "code",
      "metadata": {
        "colab": {
          "base_uri": "https://localhost:8080/",
          "height": 283
        },
        "id": "Le0Uqsm16VVH",
        "outputId": "3e4fc9bd-3f08-4102-e161-98f0fe2dd47e"
      },
      "source": [
        "bar('asdf')"
      ],
      "execution_count": 173,
      "outputs": [
        {
          "output_type": "error",
          "ename": "AttributeError",
          "evalue": "ignored",
          "traceback": [
            "\u001b[0;31m---------------------------------------------------------------------------\u001b[0m",
            "\u001b[0;31mAttributeError\u001b[0m                            Traceback (most recent call last)",
            "\u001b[0;32m<ipython-input-173-333a18e2ed26>\u001b[0m in \u001b[0;36m<module>\u001b[0;34m()\u001b[0m\n\u001b[0;32m----> 1\u001b[0;31m \u001b[0mbar\u001b[0m\u001b[0;34m(\u001b[0m\u001b[0;34m'asdf'\u001b[0m\u001b[0;34m)\u001b[0m\u001b[0;34m\u001b[0m\u001b[0;34m\u001b[0m\u001b[0m\n\u001b[0m",
            "\u001b[0;32m<ipython-input-169-5097d2b996bf>\u001b[0m in \u001b[0;36m__call__\u001b[0;34m(self, mol)\u001b[0m\n\u001b[1;32m     43\u001b[0m             \u001b[0mfeatures\u001b[0m \u001b[0;34m=\u001b[0m \u001b[0mdefaultdict\u001b[0m\u001b[0;34m(\u001b[0m\u001b[0mlist\u001b[0m\u001b[0;34m)\u001b[0m\u001b[0;34m\u001b[0m\u001b[0;34m\u001b[0m\u001b[0m\n\u001b[1;32m     44\u001b[0m \u001b[0;34m\u001b[0m\u001b[0m\n\u001b[0;32m---> 45\u001b[0;31m             \u001b[0;32mfor\u001b[0m \u001b[0mnode\u001b[0m \u001b[0;32min\u001b[0m \u001b[0mmol\u001b[0m\u001b[0;34m.\u001b[0m\u001b[0mGetAtoms\u001b[0m\u001b[0;34m(\u001b[0m\u001b[0;34m)\u001b[0m\u001b[0;34m:\u001b[0m\u001b[0;34m\u001b[0m\u001b[0;34m\u001b[0m\u001b[0m\n\u001b[0m\u001b[1;32m     46\u001b[0m \u001b[0;34m\u001b[0m\u001b[0m\n\u001b[1;32m     47\u001b[0m                 _iter = itertools.chain(\n",
            "\u001b[0;31mAttributeError\u001b[0m: 'str' object has no attribute 'GetAtoms'"
          ]
        }
      ]
    },
    {
      "cell_type": "markdown",
      "metadata": {
        "id": "ux7TE7gN5PP0"
      },
      "source": [
        "#### **Final Version** \n",
        "\n",
        "*   default name attribute\n",
        "*   type checking in call function\n",
        "*   node features to pytorch tensor"
      ]
    },
    {
      "cell_type": "code",
      "metadata": {
        "id": "1bC0uz1V5Oop"
      },
      "source": [
        "from dataclasses import dataclass, field\n",
        "from typing import List\n",
        "from rdkit import Chem\n",
        "from collections import defaultdict\n",
        "import itertools\n",
        "import numpy as np\n",
        "import dgl.backend as F\n",
        "\n",
        "MOLTYPE = Chem.rdchem.Mol\n",
        "\n",
        "## Final NodeFeaturizer\n",
        "@dataclass\n",
        "class NodeFeaturizer:\n",
        "    \"\"\"\n",
        "    Tutorial NodeFeaturizer Class (final version)\n",
        "\n",
        "    Arguments:\n",
        "    ---------\n",
        "    atoms: \n",
        "        list contains atom types specifically chosen for this tutorial\n",
        "    charges:\n",
        "        list contains formal charges values\n",
        "    impliciti_h: \n",
        "        list contains implicit_h values\n",
        "    chirality:\n",
        "        list contains chirality\n",
        "    \"\"\"\n",
        "\n",
        "    name: str = 'node_features'\n",
        "    atoms: List = field(default_factory=lambda: atom_list)\n",
        "    charges: List = field(default_factory=lambda: charge_list)\n",
        "    implicit_h: List = field(default_factory=lambda: impH_list)\n",
        "    chirality: List = field(default_factory=lambda: chiralirty_list)\n",
        "\n",
        "\n",
        "    def __call__(self, mol: MOLTYPE):\n",
        "\n",
        "        if isinstance(mol, MOLTYPE):\n",
        "            \n",
        "            features = defaultdict(list)\n",
        "\n",
        "            for node in mol.GetAtoms():\n",
        "                _iter = itertools.chain(\n",
        "                    self.node_features_from_atom_type(node),\n",
        "                    self.node_features_from_formal_charge(node),\n",
        "                    self.node_features_from_implicit_h(node),\n",
        "                    self.node_features_from_chirality(node)\n",
        "                )\n",
        "\n",
        "                feature_vector = np.fromiter(_iter, int)\n",
        "                features[self.name].append(feature_vector)\n",
        "\n",
        "            last_features = defaultdict(list)\n",
        "\n",
        "            # converting numpy array to pytorch tensors\n",
        "            for key, items in features.items():\n",
        "                values = np.stack(items)\n",
        "                last_features[key] = F.zerocopy_from_numpy(values.astype(np.float32))\n",
        "\n",
        "            return last_features\n",
        "\n",
        "        else:\n",
        "            raise ValueError('You can only input rdkit mol type')\n",
        "\n",
        "\n",
        "    def node_features_from_atom_type(self, node: Chem.rdchem.Atom) -> List:\n",
        "\n",
        "        # converting atom type features to one hot vector\n",
        "        return to_ohe(node.GetSymbol(), self.atoms)\n",
        "\n",
        "    def node_features_from_formal_charge(self, node: Chem.rdchem.Atom) -> List:\n",
        "\n",
        "        # converting atom formal charge feature to one hot vector\n",
        "        return to_ohe(node.GetFormalCharge(), self.charges)\n",
        "\n",
        "    def node_features_from_implicit_h(self, node: Chem.rdchem.Atom) -> List:\n",
        "\n",
        "        # converting implicith feature to one hot vector\n",
        "        return to_ohe(node.GetTotalNumHs(), self.implicit_h)\n",
        "\n",
        "    def node_features_from_chirality(self, node: Chem.rdchem.Atom) -> List:\n",
        "        try:\n",
        "            chiral_state = node.GetProp(\"_CIPCode\")\n",
        "        except KeyError:\n",
        "            chiral_state = self.chirality[0]  # \"None\"\n",
        "\n",
        "        return to_ohe(chiral_state, self.chirality)\n",
        "\n"
      ],
      "execution_count": 174,
      "outputs": []
    },
    {
      "cell_type": "code",
      "metadata": {
        "id": "5T5RN8BA1hYP"
      },
      "source": [
        "# let`s check type error\n",
        "zoo = NodeFeaturizer()\n",
        "# zoo(3)"
      ],
      "execution_count": 175,
      "outputs": []
    },
    {
      "cell_type": "code",
      "metadata": {
        "colab": {
          "base_uri": "https://localhost:8080/"
        },
        "id": "YH2zhFVX61Ae",
        "outputId": "c94fade5-69a4-413e-91a0-1036927562c2"
      },
      "source": [
        "# let`s call with mol type\n",
        "zoo = NodeFeaturizer()\n",
        "zoo(mol)"
      ],
      "execution_count": 176,
      "outputs": [
        {
          "output_type": "execute_result",
          "data": {
            "text/plain": [
              "defaultdict(list,\n",
              "            {'node_features': tensor([[1., 0., 0., 0., 0., 0., 0., 0., 1., 0., 0., 1., 0., 1., 0., 0.],\n",
              "                     [0., 1., 0., 0., 0., 0., 0., 0., 1., 0., 1., 0., 0., 1., 0., 0.],\n",
              "                     [0., 1., 0., 0., 0., 0., 0., 0., 1., 0., 0., 1., 0., 1., 0., 0.]])})"
            ]
          },
          "metadata": {
            "tags": []
          },
          "execution_count": 176
        }
      ]
    },
    {
      "cell_type": "code",
      "metadata": {
        "colab": {
          "base_uri": "https://localhost:8080/"
        },
        "id": "UCsjpWTk7HaE",
        "outputId": "eccce34c-6458-4a0b-ecd6-d1352bb2f435"
      },
      "source": [
        "# let`s check size\n",
        "zoo(mol)['node_features'].size()"
      ],
      "execution_count": 177,
      "outputs": [
        {
          "output_type": "execute_result",
          "data": {
            "text/plain": [
              "torch.Size([3, 16])"
            ]
          },
          "metadata": {
            "tags": []
          },
          "execution_count": 177
        }
      ]
    },
    {
      "cell_type": "markdown",
      "metadata": {
        "id": "o4TOQsN_7U17"
      },
      "source": [
        "FINAL VERSION of YOUR PRESENTATION\n",
        "\n",
        "<p align=\"center\">\n",
        "  <img src=\"https://drive.google.com/uc?id=1yzszhfwOuZWxpEvTWdYpVIynjyYu-ZTH\" />\n",
        "</p>\n",
        "\n"
      ]
    },
    {
      "cell_type": "markdown",
      "metadata": {
        "id": "GZyvdZmO7vUO"
      },
      "source": [
        "### **2.4.2 Edge Representation from Stratch**\n",
        "\n",
        "Let`s start with simple edge features\n",
        "\n",
        "## Seleted Bond Features\n",
        "---\n",
        "\n",
        "\n",
        "|    Bond Features  |   Elements|\n",
        "|------|------|\n",
        "|   Bond Types  | Single, Double, Triple, Aromatic, ..,  etc| \n",
        "|   etc.  | etc. |"
      ]
    },
    {
      "cell_type": "code",
      "metadata": {
        "id": "_zst5xkN7une"
      },
      "source": [
        "from enum import Enum, unique\n",
        "from rdkit.Chem import BondType\n",
        "\n",
        "\n",
        "BONDTYPE = Chem.BondType\n",
        "\n",
        "@unique\n",
        "class Bonds(Enum):\n",
        "    SINGLE = BondType.SINGLE\n",
        "    DOUBLE = BondType.DOUBLE\n",
        "    TRIPLE = BondType.TRIPLE\n",
        "    AROMATIC = BondType.AROMATIC\n",
        "\n",
        "\n",
        "bond_types = [bond.value for bond in Bonds]\n"
      ],
      "execution_count": 178,
      "outputs": []
    },
    {
      "cell_type": "code",
      "metadata": {
        "colab": {
          "base_uri": "https://localhost:8080/"
        },
        "id": "PqwRssCp756d",
        "outputId": "2caab3e7-f818-4555-8650-b76f5caa5c97"
      },
      "source": [
        "bond_types"
      ],
      "execution_count": 179,
      "outputs": [
        {
          "output_type": "execute_result",
          "data": {
            "text/plain": [
              "[rdkit.Chem.rdchem.BondType.SINGLE,\n",
              " rdkit.Chem.rdchem.BondType.DOUBLE,\n",
              " rdkit.Chem.rdchem.BondType.TRIPLE,\n",
              " rdkit.Chem.rdchem.BondType.AROMATIC]"
            ]
          },
          "metadata": {
            "tags": []
          },
          "execution_count": 179
        }
      ]
    },
    {
      "cell_type": "code",
      "metadata": {
        "id": "Zj-66Vgj768u"
      },
      "source": [
        "@dataclass\n",
        "class EdgeFeaturizer:\n",
        "    \"\"\"\n",
        "    Tutorial NodeFeaturizer Class\n",
        "\n",
        "    Arguments:\n",
        "    ---------\n",
        "    name: str\n",
        "        name in feature dictionary\n",
        "    bonds: List[BondType]\n",
        "        list contains bondtype types specifically chosen for this tutorial\n",
        "   \n",
        "    \"\"\"\n",
        "    name: str = 'edge_features'\n",
        "    bonds: List = field(default_factory=lambda: bond_types)\n",
        "\n",
        "    def __call__(self, mol:MOLTYPE):\n",
        "\n",
        "        if isinstance(mol, MOLTYPE):\n",
        "            features = defaultdict(list)\n",
        "            for bond in mol.GetBonds():\n",
        "                # \n",
        "                btype = bond_types.index(bond.GetBondType())\n",
        "                \n",
        "                _iter = itertools.chain(\n",
        "                    self.edge_features_from_bond_type(bond)\n",
        "                )\n",
        "\n",
        "                feature_vector = np.fromiter(_iter, int)\n",
        "\n",
        "                # One bond between atom u and v corresponds to two edges (u, v) and (v, u)\n",
        "                features[self.name].extend([feature_vector, feature_vector.copy()])\n",
        "\n",
        "            last_features = defaultdict(list)\n",
        "\n",
        "            for key, items in features.items():\n",
        "                values = np.stack(items)\n",
        "                last_features[key] = F.zerocopy_from_numpy(values.astype(np.float32))\n",
        "            return last_features\n",
        "\n",
        "\n",
        "        else:\n",
        "            raise ValueError('You can only input rdkit mol type')\n",
        "    \n",
        "    def edge_features_from_bond_type(self, edge):\n",
        "        \n",
        "        return to_ohe(edge.GetBondType(), self.bonds)"
      ],
      "execution_count": 180,
      "outputs": []
    },
    {
      "cell_type": "code",
      "metadata": {
        "colab": {
          "base_uri": "https://localhost:8080/"
        },
        "id": "7MT5UNyp8WYU",
        "outputId": "38f01239-66d2-496f-80ac-f7822553ddf5"
      },
      "source": [
        "for bond in mol.GetBonds():\n",
        "    btype = bond_types.index(bond.GetBondType())\n",
        "    print(btype)"
      ],
      "execution_count": 181,
      "outputs": [
        {
          "output_type": "stream",
          "text": [
            "1\n",
            "0\n"
          ],
          "name": "stdout"
        }
      ]
    },
    {
      "cell_type": "code",
      "metadata": {
        "colab": {
          "base_uri": "https://localhost:8080/"
        },
        "id": "sJn_EyDe8X0y",
        "outputId": "63aa41d0-ce07-438d-ca2e-88e0d13f1bda"
      },
      "source": [
        "e = EdgeFeaturizer()\n",
        "e(mol)"
      ],
      "execution_count": 182,
      "outputs": [
        {
          "output_type": "execute_result",
          "data": {
            "text/plain": [
              "defaultdict(list, {'edge_features': tensor([[0., 1., 0., 0.],\n",
              "                     [0., 1., 0., 0.],\n",
              "                     [1., 0., 0., 0.],\n",
              "                     [1., 0., 0., 0.]])})"
            ]
          },
          "metadata": {
            "tags": []
          },
          "execution_count": 182
        }
      ]
    },
    {
      "cell_type": "markdown",
      "metadata": {
        "id": "jbzOchh78z0o"
      },
      "source": [
        "<p align=\"center\">\n",
        "  <img src=\"https://drive.google.com/uc?id=1g1RWRnLaSi0qjWfcOZ5xL1tkYaC5iyyb\" />\n",
        "</p>\n"
      ]
    },
    {
      "cell_type": "code",
      "metadata": {
        "colab": {
          "base_uri": "https://localhost:8080/"
        },
        "id": "gDPJ06y0_pS9",
        "outputId": "544a5361-5d7a-4559-f83c-e6e6161ac1ea"
      },
      "source": [
        "my_node_featurizer = NodeFeaturizer()\n",
        "my_edge_featurizer = EdgeFeaturizer()\n",
        "\n",
        "my_node_featurizer(mol), my_edge_featurizer(mol)"
      ],
      "execution_count": 184,
      "outputs": [
        {
          "output_type": "execute_result",
          "data": {
            "text/plain": [
              "(defaultdict(list,\n",
              "             {'node_features': tensor([[1., 0., 0., 0., 0., 0., 0., 0., 1., 0., 0., 1., 0., 1., 0., 0.],\n",
              "                      [0., 1., 0., 0., 0., 0., 0., 0., 1., 0., 1., 0., 0., 1., 0., 0.],\n",
              "                      [0., 1., 0., 0., 0., 0., 0., 0., 1., 0., 0., 1., 0., 1., 0., 0.]])}),\n",
              " defaultdict(list, {'edge_features': tensor([[0., 1., 0., 0.],\n",
              "                      [0., 1., 0., 0.],\n",
              "                      [1., 0., 0., 0.],\n",
              "                      [1., 0., 0., 0.]])}))"
            ]
          },
          "metadata": {
            "tags": []
          },
          "execution_count": 184
        }
      ]
    },
    {
      "cell_type": "markdown",
      "metadata": {
        "id": "fyx68xQx9JI0"
      },
      "source": [
        "## **2.5 Creating graph with your own node and edge featurizers**"
      ]
    },
    {
      "cell_type": "markdown",
      "metadata": {
        "id": "3y2rRpGN9yF6"
      },
      "source": [
        "let`s how we created graph using external libraries\n"
      ]
    },
    {
      "cell_type": "code",
      "metadata": {
        "colab": {
          "base_uri": "https://localhost:8080/",
          "height": 171
        },
        "id": "ADeT1FaT9xOY",
        "outputId": "414cc831-34b6-4cb6-f481-a622a8a14192"
      },
      "source": [
        "mol"
      ],
      "execution_count": 185,
      "outputs": [
        {
          "output_type": "execute_result",
          "data": {
            "image/png": "[encoded data removed]",
            "text/plain": [
              "<rdkit.Chem.rdchem.Mol at 0x7f9e44740710>"
            ],
            "image/svg+xml": "<?xml version='1.0' encoding='iso-8859-1'?>\n<svg version='1.1' baseProfile='full'\n              xmlns='http://www.w3.org/2000/svg'\n                      xmlns:rdkit='http://www.rdkit.org/xml'\n                      xmlns:xlink='http://www.w3.org/1999/xlink'\n                  xml:space='preserve'\nwidth='450px' height='150px' viewBox='0 0 450 150'>\n<!-- END OF HEADER -->\n<rect style='opacity:1.0;fill:#FFFFFF;stroke:none' width='450' height='150' x='0' y='0'> </rect>\n<path class='bond-0' d='M 223.84,115.68 L 142.398,68.6589' style='fill:none;fill-rule:evenodd;stroke:#000000;stroke-width:2.0px;stroke-linecap:butt;stroke-linejoin:miter;stroke-opacity:1' />\n<path class='bond-0' d='M 142.398,68.6589 L 60.9557,21.6382' style='fill:none;fill-rule:evenodd;stroke:#FF0000;stroke-width:2.0px;stroke-linecap:butt;stroke-linejoin:miter;stroke-opacity:1' />\n<path class='bond-0' d='M 202.927,151.902 L 121.485,104.881' style='fill:none;fill-rule:evenodd;stroke:#000000;stroke-width:2.0px;stroke-linecap:butt;stroke-linejoin:miter;stroke-opacity:1' />\n<path class='bond-0' d='M 121.485,104.881 L 40.0427,57.8607' style='fill:none;fill-rule:evenodd;stroke:#FF0000;stroke-width:2.0px;stroke-linecap:butt;stroke-linejoin:miter;stroke-opacity:1' />\n<path class='bond-1' d='M 213.384,133.791 L 294.826,86.7701' style='fill:none;fill-rule:evenodd;stroke:#000000;stroke-width:2.0px;stroke-linecap:butt;stroke-linejoin:miter;stroke-opacity:1' />\n<path class='bond-1' d='M 294.826,86.7701 L 376.268,39.7495' style='fill:none;fill-rule:evenodd;stroke:#FF0000;stroke-width:2.0px;stroke-linecap:butt;stroke-linejoin:miter;stroke-opacity:1' />\n<path  class='atom-1' d='M 19.2709 29.3054\nQ 19.2709 22.5054, 22.6309 18.7054\nQ 25.9909 14.9054, 32.2709 14.9054\nQ 38.5509 14.9054, 41.9109 18.7054\nQ 45.2709 22.5054, 45.2709 29.3054\nQ 45.2709 36.1854, 41.8709 40.1054\nQ 38.4709 43.9854, 32.2709 43.9854\nQ 26.0309 43.9854, 22.6309 40.1054\nQ 19.2709 36.2254, 19.2709 29.3054\nM 32.2709 40.7854\nQ 36.5909 40.7854, 38.9109 37.9054\nQ 41.2709 34.9854, 41.2709 29.3054\nQ 41.2709 23.7454, 38.9109 20.9454\nQ 36.5909 18.1054, 32.2709 18.1054\nQ 27.9509 18.1054, 25.5909 20.9054\nQ 23.2709 23.7054, 23.2709 29.3054\nQ 23.2709 35.0254, 25.5909 37.9054\nQ 27.9509 40.7854, 32.2709 40.7854\n' fill='#FF0000'/>\n<path  class='atom-2' d='M 381.496 29.3054\nQ 381.496 22.5054, 384.856 18.7054\nQ 388.216 14.9054, 394.496 14.9054\nQ 400.776 14.9054, 404.136 18.7054\nQ 407.496 22.5054, 407.496 29.3054\nQ 407.496 36.1854, 404.096 40.1054\nQ 400.696 43.9854, 394.496 43.9854\nQ 388.256 43.9854, 384.856 40.1054\nQ 381.496 36.2254, 381.496 29.3054\nM 394.496 40.7854\nQ 398.816 40.7854, 401.136 37.9054\nQ 403.496 34.9854, 403.496 29.3054\nQ 403.496 23.7454, 401.136 20.9454\nQ 398.816 18.1054, 394.496 18.1054\nQ 390.176 18.1054, 387.816 20.9054\nQ 385.496 23.7054, 385.496 29.3054\nQ 385.496 35.0254, 387.816 37.9054\nQ 390.176 40.7854, 394.496 40.7854\n' fill='#FF0000'/>\n<path  class='atom-2' d='M 410.896 15.2254\nL 414.736 15.2254\nL 414.736 27.2654\nL 429.216 27.2654\nL 429.216 15.2254\nL 433.056 15.2254\nL 433.056 43.5454\nL 429.216 43.5454\nL 429.216 30.4654\nL 414.736 30.4654\nL 414.736 43.5454\nL 410.896 43.5454\nL 410.896 15.2254\n' fill='#FF0000'/>\n</svg>\n"
          },
          "metadata": {
            "tags": []
          },
          "execution_count": 185
        }
      ]
    },
    {
      "cell_type": "code",
      "metadata": {
        "colab": {
          "base_uri": "https://localhost:8080/",
          "height": 35
        },
        "id": "-U1yiFpe-S1f",
        "outputId": "c07a6494-c2ab-449e-d40d-f8480a0b1720"
      },
      "source": [
        "smile"
      ],
      "execution_count": 186,
      "outputs": [
        {
          "output_type": "execute_result",
          "data": {
            "application/vnd.google.colaboratory.intrinsic+json": {
              "type": "string"
            },
            "text/plain": [
              "'C(=O)O'"
            ]
          },
          "metadata": {
            "tags": []
          },
          "execution_count": 186
        }
      ]
    },
    {
      "cell_type": "code",
      "metadata": {
        "id": "Oq1WIUgY9ISK"
      },
      "source": [
        "from dgllife.utils import CanonicalAtomFeaturizer, CanonicalBondFeaturizer, smiles_to_bigraph, mol_to_bigraph\n",
        "\n",
        "\n",
        "\n",
        "# calling built-ing node and bond representation\n",
        "atom_featurizer = CanonicalAtomFeaturizer('atom_feat')\n",
        "edge_featurizer = CanonicalBondFeaturizer('edge_feat')\n",
        "\n",
        "# graph from smiles\n",
        "g_from_smiles = smiles_to_bigraph(smile, \n",
        "                                  node_featurizer=atom_featurizer,\n",
        "                                  edge_featurizer=edge_featurizer,\n",
        "                                  )\n",
        "# graph from mol\n",
        "g_from_mol = mol_to_bigraph(mol, \n",
        "                            node_featurizer=atom_featurizer,\n",
        "                            edge_featurizer=edge_featurizer,\n",
        "                            )\n"
      ],
      "execution_count": 187,
      "outputs": []
    },
    {
      "cell_type": "code",
      "metadata": {
        "colab": {
          "base_uri": "https://localhost:8080/"
        },
        "id": "GGrkOG7V-ctq",
        "outputId": "9cd7de8c-35f8-41be-a8dd-2fc94c186a18"
      },
      "source": [
        "g_from_mol"
      ],
      "execution_count": 188,
      "outputs": [
        {
          "output_type": "execute_result",
          "data": {
            "text/plain": [
              "Graph(num_nodes=3, num_edges=4,\n",
              "      ndata_schemes={'atom_feat': Scheme(shape=(74,), dtype=torch.float32)}\n",
              "      edata_schemes={'edge_feat': Scheme(shape=(12,), dtype=torch.float32)})"
            ]
          },
          "metadata": {
            "tags": []
          },
          "execution_count": 188
        }
      ]
    },
    {
      "cell_type": "markdown",
      "metadata": {
        "id": "KKpLKMRc-rL7"
      },
      "source": [
        "**Let`s define compound to graph function from stratch**\n",
        "    - define to_dgl_graph function\n",
        "    - with predefined featurizers"
      ]
    },
    {
      "cell_type": "code",
      "metadata": {
        "id": "_unBfag7-qgV"
      },
      "source": [
        "# simple graph from mol rdkit mol object\n",
        "def to_dgl_graph(mol: MOLTYPE, node_featurizer=None, edge_featurizer=None) -> dgl.DGLGraph:\n",
        "    \n",
        "\n",
        "    # graph with empty (u, v)\n",
        "    g = dgl.graph(([], []), idtype=torch.int32)\n",
        "\n",
        "     # Add nodes\n",
        "    num_atoms = mol.GetNumAtoms()\n",
        "    g.add_nodes(num_atoms)\n",
        "\n",
        "    # Add edges\n",
        "    src_list = []\n",
        "    dst_list = []\n",
        "    num_bonds = mol.GetNumBonds()\n",
        "    for i in range(num_bonds):\n",
        "        bond = mol.GetBondWithIdx(i)\n",
        "        u = bond.GetBeginAtomIdx()\n",
        "        v = bond.GetEndAtomIdx()\n",
        "        src_list.extend([u, v])\n",
        "        dst_list.extend([v, u])\n",
        "\n",
        "    g.add_edges(torch.IntTensor(src_list), torch.IntTensor(dst_list))\n",
        "\n",
        "\n",
        "    ## IMPORTANT\n",
        "    # add node featurizer\n",
        "    g.ndata.update(node_featurizer(mol))\n",
        "    # add edge featurizer\n",
        "    g.edata.update(edge_featurizer(mol))\n",
        "\n",
        "    return g"
      ],
      "execution_count": 189,
      "outputs": []
    },
    {
      "cell_type": "code",
      "metadata": {
        "id": "w3qUT3RN8wNs"
      },
      "source": [
        "my_node_featurizer = NodeFeaturizer() # the node featurizer you have just created\n",
        "my_edge_featurizer = EdgeFeaturizer() # the edge featurizer you have just created\n",
        "\n",
        "\n",
        "# lets check if it works\n",
        "my_graph = to_dgl_graph(mol,\n",
        "                        # your own featurizers that you have just created\n",
        "                        node_featurizer=my_node_featurizer,\n",
        "                        edge_featurizer=my_edge_featurizer,\n",
        "                        )\n",
        "\n"
      ],
      "execution_count": 190,
      "outputs": []
    },
    {
      "cell_type": "code",
      "metadata": {
        "colab": {
          "base_uri": "https://localhost:8080/"
        },
        "id": "PMgnq-P2_nke",
        "outputId": "a65295c7-eee4-44ce-9097-227f2e3cdd81"
      },
      "source": [
        "my_graph"
      ],
      "execution_count": 191,
      "outputs": [
        {
          "output_type": "execute_result",
          "data": {
            "text/plain": [
              "Graph(num_nodes=3, num_edges=4,\n",
              "      ndata_schemes={'node_features': Scheme(shape=(16,), dtype=torch.float32)}\n",
              "      edata_schemes={'edge_features': Scheme(shape=(4,), dtype=torch.float32)})"
            ]
          },
          "metadata": {
            "tags": []
          },
          "execution_count": 191
        }
      ]
    },
    {
      "cell_type": "code",
      "metadata": {
        "colab": {
          "base_uri": "https://localhost:8080/"
        },
        "id": "4iMaRTif_T2Q",
        "outputId": "6f27cbd0-abef-4c42-83e5-7b310f4c2ec5"
      },
      "source": [
        "my_graph.ndata"
      ],
      "execution_count": 192,
      "outputs": [
        {
          "output_type": "execute_result",
          "data": {
            "text/plain": [
              "{'node_features': tensor([[1., 0., 0., 0., 0., 0., 0., 0., 1., 0., 0., 1., 0., 1., 0., 0.],\n",
              "        [0., 1., 0., 0., 0., 0., 0., 0., 1., 0., 1., 0., 0., 1., 0., 0.],\n",
              "        [0., 1., 0., 0., 0., 0., 0., 0., 1., 0., 0., 1., 0., 1., 0., 0.]])}"
            ]
          },
          "metadata": {
            "tags": []
          },
          "execution_count": 192
        }
      ]
    },
    {
      "cell_type": "code",
      "metadata": {
        "colab": {
          "base_uri": "https://localhost:8080/"
        },
        "id": "Y3C-Gi0t_3Ks",
        "outputId": "50146f5e-cf0e-4725-c615-f0df4ceb0186"
      },
      "source": [
        "my_graph.edata"
      ],
      "execution_count": 193,
      "outputs": [
        {
          "output_type": "execute_result",
          "data": {
            "text/plain": [
              "{'edge_features': tensor([[0., 1., 0., 0.],\n",
              "        [0., 1., 0., 0.],\n",
              "        [1., 0., 0., 0.],\n",
              "        [1., 0., 0., 0.]])}"
            ]
          },
          "metadata": {
            "tags": []
          },
          "execution_count": 193
        }
      ]
    },
    {
      "cell_type": "markdown",
      "metadata": {
        "id": "LnvXENcc_6fg"
      },
      "source": [
        "\n",
        "## **2.6 Optional: Creating universal to graph function with your own node and edge featurizers**\n",
        "\n",
        "\n",
        "*   The to_graph function with can take both smiles and mol type and create graph\n",
        "\n"
      ]
    },
    {
      "cell_type": "code",
      "metadata": {
        "id": "J82KhsMy_4qs"
      },
      "source": [
        "\n",
        "from typing import Union, Optional, Callable\n",
        "\n",
        "\n",
        "# decorator function that checks input types\n",
        "def check(f):\n",
        "  \n",
        "    def decorator(*args, **kwargs):\n",
        "        if isinstance(args[0], str):\n",
        "            mol = read_smi(args[0])\n",
        "            return f(mol, **kwargs)\n",
        "\n",
        "        return f(*args, **kwargs)\n",
        "\n",
        "    return decorator\n",
        "\n",
        "# smiles reading function\n",
        "def read_smi(smi: str) -> Union[MOLTYPE, None]:\n",
        "    \"\"\"\n",
        "    Reads SMILE into RDKIT mol object\n",
        "    :param\n",
        "        smi:\n",
        "            The string molecule for which to read.\n",
        "    :return:\n",
        "        moltype:\n",
        "            RDKit mol object\n",
        "    \"\"\"\n",
        "\n",
        "    if len(smi) == 0:\n",
        "        return None\n",
        "\n",
        "    mol = Chem.MolFromSmiles(smi)\n",
        "\n",
        "    if mol is None:\n",
        "        return None\n",
        "\n",
        "    return mol\n",
        "\n",
        "\n",
        "\n",
        "## function that can take both smile and mol type at same time\n",
        "@check\n",
        "def to_graph(compound: Optional[str] = MOLTYPE, node_featurizer=None, edge_featurizer=None) -> dgl.DGLGraph:\n",
        "\n",
        "    # graph with empty (u, v)\n",
        "    g = dgl.graph(([], []), idtype=torch.int32)\n",
        "\n",
        "    num_atoms = compound.GetNumAtoms()\n",
        "    g.add_nodes(num_atoms)\n",
        "\n",
        "    # Add edges\n",
        "    src_list = []\n",
        "    dst_list = []\n",
        "    num_bonds = compound.GetNumBonds()\n",
        "    for i in range(num_bonds):\n",
        "        bond = compound.GetBondWithIdx(i)\n",
        "        u = bond.GetBeginAtomIdx()\n",
        "        v = bond.GetEndAtomIdx()\n",
        "        src_list.extend([u, v])\n",
        "        dst_list.extend([v, u])\n",
        "\n",
        "    g.add_edges(torch.IntTensor(src_list), torch.IntTensor(dst_list))\n",
        "\n",
        "    # add node featurizer\n",
        "    g.ndata.update(node_featurizer(compound))\n",
        "    # add edge featurizer\n",
        "    g.edata.update(edge_featurizer(compound))\n",
        "\n",
        "    return g\n",
        "\n"
      ],
      "execution_count": 194,
      "outputs": []
    },
    {
      "cell_type": "code",
      "metadata": {
        "id": "VCR7F3yw_yl2"
      },
      "source": [
        "smile = 'C(=O)O' # formic \n",
        "mol = Chem.MolFromSmiles(smile)\n",
        "\n",
        "\n",
        "last_graph_from_mol = to_graph(mol,  \n",
        "                               node_featurizer=my_node_featurizer,\n",
        "                               edge_featurizer=my_edge_featurizer)\n",
        "\n",
        "last_graph_from_smile = to_graph(smile,\n",
        "                                 node_featurizer=my_node_featurizer,\n",
        "                                 edge_featurizer=my_edge_featurizer)\n",
        "\n"
      ],
      "execution_count": 195,
      "outputs": []
    },
    {
      "cell_type": "code",
      "metadata": {
        "colab": {
          "base_uri": "https://localhost:8080/"
        },
        "id": "xvZoAlilAo9l",
        "outputId": "eaf5eb9a-b3a2-4903-eb74-06e0e429c21c"
      },
      "source": [
        "last_graph_from_smile"
      ],
      "execution_count": 196,
      "outputs": [
        {
          "output_type": "execute_result",
          "data": {
            "text/plain": [
              "Graph(num_nodes=3, num_edges=4,\n",
              "      ndata_schemes={'node_features': Scheme(shape=(16,), dtype=torch.float32)}\n",
              "      edata_schemes={'edge_features': Scheme(shape=(4,), dtype=torch.float32)})"
            ]
          },
          "metadata": {
            "tags": []
          },
          "execution_count": 196
        }
      ]
    },
    {
      "cell_type": "code",
      "metadata": {
        "colab": {
          "base_uri": "https://localhost:8080/"
        },
        "id": "MivsSo-pAqmv",
        "outputId": "c8f83600-132c-4444-eecf-92948e225ffd"
      },
      "source": [
        "last_graph_from_mol"
      ],
      "execution_count": 197,
      "outputs": [
        {
          "output_type": "execute_result",
          "data": {
            "text/plain": [
              "Graph(num_nodes=3, num_edges=4,\n",
              "      ndata_schemes={'node_features': Scheme(shape=(16,), dtype=torch.float32)}\n",
              "      edata_schemes={'edge_features': Scheme(shape=(4,), dtype=torch.float32)})"
            ]
          },
          "metadata": {
            "tags": []
          },
          "execution_count": 197
        }
      ]
    },
    {
      "cell_type": "markdown",
      "metadata": {
        "id": "fxWCyWBYbs5y"
      },
      "source": [
        "Now you can use your own featurizer for your downstream analysis\n",
        "<p align=\"center\">\n",
        "  <img src=\"https://drive.google.com/uc?id=1Ex1OT99TpIs8FHKa3P20ND1gvHMi7Oa_\" />\n",
        "</p>\n",
        "\n"
      ]
    },
    {
      "cell_type": "markdown",
      "metadata": {
        "id": "KUJwgmWKy1bX"
      },
      "source": [
        "\n",
        "## **2.7 Optional: Use decorator dont worry about your input type**\n"
      ]
    },
    {
      "cell_type": "code",
      "metadata": {
        "colab": {
          "base_uri": "https://localhost:8080/"
        },
        "id": "ExlNP-5WygpD",
        "outputId": "b77daaa6-9dd2-4e5e-fc1e-3546929bc037"
      },
      "source": [
        "\n",
        "# using decorator function for simple descriptor calculation\n",
        "from rdkit import Chem\n",
        "from rdkit.Chem import QED\n",
        "\n",
        "@check\n",
        "def hba(compound: Optional[str] = MOLTYPE):\n",
        "   \n",
        "    return Chem.rdMolDescriptors.CalcNumHBA(compound)\n",
        "\n",
        "@check \n",
        "def qed(compound: Optional[str] = MOLTYPE):\n",
        "    return QED.properties(compound)\n",
        "\n",
        "smile = 'C(=O)O' # formic \n",
        "mol = Chem.MolFromSmiles(smile)\n",
        "\n",
        "hba_from_smile = hba(smile)\n",
        "hba_from_mol = hba(mol)\n",
        "\n",
        "qed_from_smile = qed(smile)\n",
        "qed_from_mol = qed(mol)\n",
        "\n",
        "\n",
        "print(f'HBA from smile: {hba_from_smile}')\n",
        "print(f'HBA from mol: {hba_from_mol}')\n",
        "\n",
        "print(f'QED from smile: {qed_from_smile}')\n",
        "print(f'QED from mol: {qed_from_mol}')"
      ],
      "execution_count": 217,
      "outputs": [
        {
          "output_type": "stream",
          "text": [
            "HBA from smile: 1\n",
            "HBA from mol: 1\n",
            "QED from smile: QEDproperties(MW=46.025000000000006, ALOGP=-0.29919999999999997, HBA=2, HBD=1, PSA=37.3, ROTB=0, AROM=0, ALERTS=1)\n",
            "QED from mol: QEDproperties(MW=46.025000000000006, ALOGP=-0.29919999999999997, HBA=2, HBD=1, PSA=37.3, ROTB=0, AROM=0, ALERTS=1)\n"
          ],
          "name": "stdout"
        }
      ]
    },
    {
      "cell_type": "markdown",
      "metadata": {
        "id": "Dnm7XthaslH5"
      },
      "source": [
        ""
      ]
    },
    {
      "cell_type": "markdown",
      "metadata": {
        "id": "6NAVK-JMA0gU"
      },
      "source": [
        "# **3. HOMEWORK**\n",
        "Solubility Prediction by Using Your Own Graph Representation\n",
        "\n",
        "<u>**Contents**</u>\n",
        "- Loading a data from rdkit and creating train/test splits\n",
        "- Represent traing and test compounds in smiles and mols \n",
        "- Create graph training/test dataset\n",
        "   - Use  **to_graph, NodeFeaturizer and EdgeFeaturizer** (that you have just learnt)\n",
        "- Create Graph Attention Model (Attentive FingerPrint paper).\n",
        "- Collate graphs into training batches\n",
        "- Train your models\n",
        "\n"
      ]
    },
    {
      "cell_type": "markdown",
      "metadata": {
        "id": "WEkOx1U0BmRI"
      },
      "source": [
        "### **3.1 Data Loading**"
      ]
    },
    {
      "cell_type": "code",
      "metadata": {
        "id": "lWZpymTDA1G7"
      },
      "source": [
        "\n",
        "## HOMEWORK CODE is originated from https://bit.ly/3khbBI6 (https://iwatobipen.wordpress.com/)\n",
        "## ALL CREDITS GO to seritaka@gmail.com, https://github.com/iwatobipen \n",
        "## CAUTION original codes uses dgl 0.4\n",
        "## in original code, CanonicalAtomFeaturizer and CanonicalEdgeFeaturizer are used\n",
        "## in homework section, try to use NodeFeaturizer and EdgeFeaturizer (that you have just learnt)\n",
        "## homework code uses dgl>0.5 where (i changed all code to 0.5)\n",
        "\n",
        "import os\n",
        "from rdkit import RDPaths\n",
        "\n",
        "train_data = os.path.join(RDPaths.RDDocsDir, 'Book/data/solubility.train.sdf')\n",
        "test_data = os.path.join(RDPaths.RDDocsDir, 'Book/data/solubility.test.sdf')"
      ],
      "execution_count": null,
      "outputs": []
    },
    {
      "cell_type": "markdown",
      "metadata": {
        "id": "WeqC8VmIsuG4"
      },
      "source": [
        "### **3.2 Preparing traing and test compounds in smiles, mols and graph**"
      ]
    },
    {
      "cell_type": "code",
      "metadata": {
        "id": "XAPrDRu8Ccew"
      },
      "source": [
        "# converting all to mol type\n",
        "train = [mol for mol in Chem.SDMolSupplier(train_data)]\n",
        "test = [mol for mol in Chem.SDMolSupplier(test_data)]"
      ],
      "execution_count": null,
      "outputs": []
    },
    {
      "cell_type": "code",
      "metadata": {
        "id": "hBWyxzYOCpwH"
      },
      "source": [
        "# use your to_graph augmentation for training\n",
        "\n",
        "train_mols = Chem.SDMolSupplier(train_data)\n",
        "train_smi =[Chem.MolToSmiles(m) for m in train_mols]\n",
        "train_y = torch.tensor([float(mol.GetProp('SOL')) for mol in train_mols]).reshape(-1,1)\n",
        " \n",
        "test_mols =  Chem.SDMolSupplier(test_data)\n",
        "test_smi = [Chem.MolToSmiles(m) for m in test_mols]\n",
        "test_y = torch.tensor([float(mol.GetProp('SOL')) for mol in test_mols]).reshape(-1,1)\n",
        " \n",
        "train_graph = [to_graph(mol,  \n",
        "                        node_featurizer=my_node_featurizer,\n",
        "                        edge_featurizer=my_edge_featurizer) for mol in train_mols]\n",
        "\n",
        "test_graph = [to_graph(mol,  \n",
        "                       node_featurizer=my_node_featurizer,\n",
        "                       edge_featurizer=my_edge_featurizer) for mol in test_mols]\n"
      ],
      "execution_count": null,
      "outputs": []
    },
    {
      "cell_type": "code",
      "metadata": {
        "colab": {
          "base_uri": "https://localhost:8080/"
        },
        "id": "kq2u_xP-C2bY",
        "outputId": "54a2c4c8-3e64-4c43-a5f8-cfa5d444dd9a"
      },
      "source": [
        "train_smi[:10]"
      ],
      "execution_count": null,
      "outputs": [
        {
          "output_type": "execute_result",
          "data": {
            "text/plain": [
              "['CCCCC',\n",
              " 'C1CCCC1',\n",
              " 'CCCCCC',\n",
              " 'CCCC(C)C',\n",
              " 'CCC(C)(C)C',\n",
              " 'C1CCCCC1',\n",
              " 'CC1CCCC1',\n",
              " 'CCCCCCC',\n",
              " 'CC1CCCCC1',\n",
              " 'CCCCCCCC']"
            ]
          },
          "metadata": {
            "tags": []
          },
          "execution_count": 233
        }
      ]
    },
    {
      "cell_type": "code",
      "metadata": {
        "colab": {
          "base_uri": "https://localhost:8080/"
        },
        "id": "Dz9chnAlC66m",
        "outputId": "4df0c6e4-8eee-455f-a520-8640755084b3"
      },
      "source": [
        "train_graph[:10]"
      ],
      "execution_count": null,
      "outputs": [
        {
          "output_type": "execute_result",
          "data": {
            "text/plain": [
              "[Graph(num_nodes=5, num_edges=8,\n",
              "       ndata_schemes={'node_features': Scheme(shape=(16,), dtype=torch.float32)}\n",
              "       edata_schemes={'edge_features': Scheme(shape=(4,), dtype=torch.float32)}),\n",
              " Graph(num_nodes=5, num_edges=10,\n",
              "       ndata_schemes={'node_features': Scheme(shape=(16,), dtype=torch.float32)}\n",
              "       edata_schemes={'edge_features': Scheme(shape=(4,), dtype=torch.float32)}),\n",
              " Graph(num_nodes=6, num_edges=10,\n",
              "       ndata_schemes={'node_features': Scheme(shape=(16,), dtype=torch.float32)}\n",
              "       edata_schemes={'edge_features': Scheme(shape=(4,), dtype=torch.float32)}),\n",
              " Graph(num_nodes=6, num_edges=10,\n",
              "       ndata_schemes={'node_features': Scheme(shape=(16,), dtype=torch.float32)}\n",
              "       edata_schemes={'edge_features': Scheme(shape=(4,), dtype=torch.float32)}),\n",
              " Graph(num_nodes=6, num_edges=10,\n",
              "       ndata_schemes={'node_features': Scheme(shape=(16,), dtype=torch.float32)}\n",
              "       edata_schemes={'edge_features': Scheme(shape=(4,), dtype=torch.float32)}),\n",
              " Graph(num_nodes=6, num_edges=12,\n",
              "       ndata_schemes={'node_features': Scheme(shape=(16,), dtype=torch.float32)}\n",
              "       edata_schemes={'edge_features': Scheme(shape=(4,), dtype=torch.float32)}),\n",
              " Graph(num_nodes=6, num_edges=12,\n",
              "       ndata_schemes={'node_features': Scheme(shape=(16,), dtype=torch.float32)}\n",
              "       edata_schemes={'edge_features': Scheme(shape=(4,), dtype=torch.float32)}),\n",
              " Graph(num_nodes=7, num_edges=12,\n",
              "       ndata_schemes={'node_features': Scheme(shape=(16,), dtype=torch.float32)}\n",
              "       edata_schemes={'edge_features': Scheme(shape=(4,), dtype=torch.float32)}),\n",
              " Graph(num_nodes=7, num_edges=14,\n",
              "       ndata_schemes={'node_features': Scheme(shape=(16,), dtype=torch.float32)}\n",
              "       edata_schemes={'edge_features': Scheme(shape=(4,), dtype=torch.float32)}),\n",
              " Graph(num_nodes=8, num_edges=14,\n",
              "       ndata_schemes={'node_features': Scheme(shape=(16,), dtype=torch.float32)}\n",
              "       edata_schemes={'edge_features': Scheme(shape=(4,), dtype=torch.float32)})]"
            ]
          },
          "metadata": {
            "tags": []
          },
          "execution_count": 234
        }
      ]
    },
    {
      "cell_type": "code",
      "metadata": {
        "colab": {
          "base_uri": "https://localhost:8080/"
        },
        "id": "nrQyDDinC7lr",
        "outputId": "81109fa3-994f-45d5-c743-bc415d4b562a"
      },
      "source": [
        "from dgllife.model import AttentiveFPPredictor\n",
        "\n",
        "\"\"\"\n",
        "    AttentiveFP is introduced in\n",
        "    `Pushing the Boundaries of Molecular Representation for Drug Discovery with the Graph\n",
        "    Attention Mechanism. <https://www.ncbi.nlm.nih.gov/pubmed/31408336>`__\n",
        "\n",
        "\"\"\"\n",
        "\n",
        "model = AttentiveFPPredictor(node_feat_size=16,\n",
        "                            edge_feat_size=4,\n",
        "                            num_layers=2,\n",
        "                            num_timesteps=2,\n",
        "                            graph_feat_size=200,\n",
        "                            # output_size=1,\n",
        "                            dropout=0.2)\n",
        "# model = model.to('cuda:0')\n",
        "model"
      ],
      "execution_count": null,
      "outputs": [
        {
          "output_type": "execute_result",
          "data": {
            "text/plain": [
              "AttentiveFPPredictor(\n",
              "  (gnn): AttentiveFPGNN(\n",
              "    (init_context): GetContext(\n",
              "      (project_node): Sequential(\n",
              "        (0): Linear(in_features=16, out_features=200, bias=True)\n",
              "        (1): LeakyReLU(negative_slope=0.01)\n",
              "      )\n",
              "      (project_edge1): Sequential(\n",
              "        (0): Linear(in_features=20, out_features=200, bias=True)\n",
              "        (1): LeakyReLU(negative_slope=0.01)\n",
              "      )\n",
              "      (project_edge2): Sequential(\n",
              "        (0): Dropout(p=0.2, inplace=False)\n",
              "        (1): Linear(in_features=400, out_features=1, bias=True)\n",
              "        (2): LeakyReLU(negative_slope=0.01)\n",
              "      )\n",
              "      (attentive_gru): AttentiveGRU1(\n",
              "        (edge_transform): Sequential(\n",
              "          (0): Dropout(p=0.2, inplace=False)\n",
              "          (1): Linear(in_features=200, out_features=200, bias=True)\n",
              "        )\n",
              "        (gru): GRUCell(200, 200)\n",
              "      )\n",
              "    )\n",
              "    (gnn_layers): ModuleList(\n",
              "      (0): GNNLayer(\n",
              "        (project_edge): Sequential(\n",
              "          (0): Dropout(p=0.2, inplace=False)\n",
              "          (1): Linear(in_features=400, out_features=1, bias=True)\n",
              "          (2): LeakyReLU(negative_slope=0.01)\n",
              "        )\n",
              "        (attentive_gru): AttentiveGRU2(\n",
              "          (project_node): Sequential(\n",
              "            (0): Dropout(p=0.2, inplace=False)\n",
              "            (1): Linear(in_features=200, out_features=200, bias=True)\n",
              "          )\n",
              "          (gru): GRUCell(200, 200)\n",
              "        )\n",
              "      )\n",
              "    )\n",
              "  )\n",
              "  (readout): AttentiveFPReadout(\n",
              "    (readouts): ModuleList(\n",
              "      (0): GlobalPool(\n",
              "        (compute_logits): Sequential(\n",
              "          (0): Linear(in_features=400, out_features=1, bias=True)\n",
              "          (1): LeakyReLU(negative_slope=0.01)\n",
              "        )\n",
              "        (project_nodes): Sequential(\n",
              "          (0): Dropout(p=0.2, inplace=False)\n",
              "          (1): Linear(in_features=200, out_features=200, bias=True)\n",
              "        )\n",
              "        (gru): GRUCell(200, 200)\n",
              "      )\n",
              "      (1): GlobalPool(\n",
              "        (compute_logits): Sequential(\n",
              "          (0): Linear(in_features=400, out_features=1, bias=True)\n",
              "          (1): LeakyReLU(negative_slope=0.01)\n",
              "        )\n",
              "        (project_nodes): Sequential(\n",
              "          (0): Dropout(p=0.2, inplace=False)\n",
              "          (1): Linear(in_features=200, out_features=200, bias=True)\n",
              "        )\n",
              "        (gru): GRUCell(200, 200)\n",
              "      )\n",
              "    )\n",
              "  )\n",
              "  (predict): Sequential(\n",
              "    (0): Dropout(p=0.2, inplace=False)\n",
              "    (1): Linear(in_features=200, out_features=1, bias=True)\n",
              "  )\n",
              ")"
            ]
          },
          "metadata": {
            "tags": []
          },
          "execution_count": 235
        }
      ]
    },
    {
      "cell_type": "code",
      "metadata": {
        "id": "_txkvsLIDhpL"
      },
      "source": [
        "# put data into graph batches\n",
        "def collate_molgraphs(data):\n",
        "    \n",
        "\n",
        "    assert len(data[0]) in [3, 4], \\\n",
        "        'Expect the tuple to be of length 3 or 4, got {:d}'.format(len(data[0]))\n",
        "    if len(data[0]) == 3:\n",
        "        smiles, graphs, labels = map(list, zip(*data))\n",
        "        masks = None\n",
        "    else:\n",
        "        smiles, graphs, labels, masks = map(list, zip(*data))\n",
        " \n",
        "    bg = dgl.batch(graphs)\n",
        "    bg.set_n_initializer(dgl.init.zero_initializer)\n",
        "    bg.set_e_initializer(dgl.init.zero_initializer)\n",
        "    labels = torch.stack(labels, dim=0)\n",
        "     \n",
        "    if masks is None:\n",
        "        masks = torch.ones(labels.shape)\n",
        "    else:\n",
        "        masks = torch.stack(masks, dim=0)\n",
        "    return smiles, bg, labels, masks\n"
      ],
      "execution_count": null,
      "outputs": []
    },
    {
      "cell_type": "code",
      "metadata": {
        "id": "X_3SGil6DypB"
      },
      "source": [
        "\n",
        "from dgllife.utils import Meter\n",
        "from torch.utils.data import DataLoader\n",
        "\n",
        "train_loader = DataLoader(dataset=list(zip(train_smi, train_graph, train_y)),\n",
        "                          batch_size=128,\n",
        "                          shuffle=True,\n",
        "                          collate_fn=collate_molgraphs,\n",
        "                          )\n",
        "test_loader = DataLoader(dataset=list(zip(test_smi, test_graph, test_y)),\n",
        "                          batch_size=128,\n",
        "                          shuffle=True,\n",
        "                          collate_fn=collate_molgraphs,\n",
        "                          )\n",
        "\n",
        "# training\n",
        "def run_a_train_epoch(n_epochs, epoch, model, data_loader,loss_criterion, optimizer):\n",
        "    model.train()\n",
        "    total_loss = 0\n",
        "    losses = []\n",
        "    \n",
        "    for batch_id, batch_data in enumerate(data_loader):\n",
        "        batch_data\n",
        "        smiles, bg, labels, masks = batch_data\n",
        "        if torch.cuda.is_available():\n",
        "            bg.to(torch.device('cuda:0'))\n",
        "            labels = labels.to('cuda:0')\n",
        "            masks = masks.to('cuda:0')\n",
        "        \n",
        "        prediction = model(bg, bg.ndata['node_features'], bg.edata['edge_features'])\n",
        "        loss = (loss_criterion(prediction, labels)*(masks != 0).float()).mean()\n",
        "       \n",
        "        optimizer.zero_grad()\n",
        "        loss.backward()\n",
        "        optimizer.step()\n",
        "        \n",
        "        losses.append(loss.data.item())\n",
        "        \n",
        "    total_score = np.mean(losses)\n",
        "    print('epoch {:d}/{:d}, training {:.4f}'.format( epoch + 1, n_epochs,  total_score))\n",
        "    return total_score\n"
      ],
      "execution_count": null,
      "outputs": []
    },
    {
      "cell_type": "code",
      "metadata": {
        "colab": {
          "base_uri": "https://localhost:8080/"
        },
        "id": "g2X0vRfxD29O",
        "outputId": "c3668d9d-12b0-480f-e5d5-fcefc9d1976e"
      },
      "source": [
        "from torch import nn\n",
        "loss_fn = nn.MSELoss(reduction='none')\n",
        "optimizer = torch.optim.Adam(model.parameters(), lr=10 ** (-2.5), weight_decay=10 ** (-5.0),)\n",
        "n_epochs = 10 # change it to 100\n",
        "epochs = []\n",
        "scores = []\n",
        "for e in range(n_epochs):\n",
        "    score = run_a_train_epoch(n_epochs, e, model, train_loader, loss_fn, optimizer)\n",
        "    epochs.append(e)\n",
        "    scores.append(score)"
      ],
      "execution_count": null,
      "outputs": [
        {
          "output_type": "stream",
          "text": [
            "epoch 1/10, training 3.8873\n",
            "epoch 2/10, training 2.2685\n",
            "epoch 3/10, training 2.0305\n",
            "epoch 4/10, training 2.5311\n",
            "epoch 5/10, training 1.8013\n",
            "epoch 6/10, training 1.1806\n",
            "epoch 7/10, training 0.8381\n",
            "epoch 8/10, training 0.8493\n",
            "epoch 9/10, training 0.7900\n",
            "epoch 10/10, training 0.8279\n"
          ],
          "name": "stdout"
        }
      ]
    },
    {
      "cell_type": "markdown",
      "metadata": {
        "id": "wxizQ38nEAjI"
      },
      "source": [
        "\n",
        "THANK YOU VERY MUCH FOR YOUR ATTENTION\n",
        "\n",
        "\n"
      ]
    }
  ]
}